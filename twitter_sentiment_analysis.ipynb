{
  "nbformat": 4,
  "nbformat_minor": 0,
  "metadata": {
    "colab": {
      "name": "twitter_sentiment_analysis.ipynb",
      "provenance": []
    },
    "kernelspec": {
      "name": "python3",
      "display_name": "Python 3"
    }
  },
  "cells": [
    {
      "cell_type": "markdown",
      "metadata": {
        "id": "RT6B_tROG3Ii"
      },
      "source": [
        ""
      ]
    },
    {
      "cell_type": "code",
      "metadata": {
        "id": "UutbjZEVFX3-"
      },
      "source": [
        "# python client for official twiiter API\n",
        "import tweepy\n",
        "from tweepy import OAuthHandler\n",
        "# regular expression\n",
        "import re\n",
        "# for preprocessing of textual data and sentiment analysis\n",
        "from textblob import TextBlob"
      ],
      "execution_count": null,
      "outputs": []
    },
    {
      "cell_type": "code",
      "metadata": {
        "id": "yg_FLXa4G5E2"
      },
      "source": [
        "class TwitterClient(object):\n",
        "  def __init__(self):\n",
        "    #keys and tokens from Twitter Dev Console\n",
        "    consumer_key=\"p04j9bOCPHmi3X74wmwKHYETw\"\n",
        "    consumer_secret=\"JGpyS8h7vDeq9R6o0HlbUFKz5Z54TQJiP95JoSgAad6wVOX7Hp\"\n",
        "    access_token=\"1294181443950665729-aSeFe0FZHLxtFt9cfOipAQHpjAsQCs\"\n",
        "    access_token_secret=\"fvtqdoyaQh26BFQh17409lqHVSg3M3H6viYiXvHHZBojM\"\n",
        "    # attempt authentication\n",
        "    try:\n",
        "      #create OAuthhandler object\n",
        "      self.auth=OAuthHandler(consumer_key,consumer_secret)\n",
        "      # set access token and secret\n",
        "      self.auth.set_access_token(access_token,access_token_secret)\n",
        "      #create tweepy API object to fetch tweets\n",
        "      self.api=tweepy.API(self.auth)\n",
        "    except:\n",
        "      print(\"Error: Authentication failed\")\n",
        "  def clean_tweet(self,tweet):\n",
        "    \"claen tweets using regex by removing links,handles\"\n",
        "    return ' '.join(re.sub(\"@[A-Za-z0-9]+|([^0-9A-Za-z \\t])|(\\w+:\\/\\/\\S+)\",\" \",tweet).split())\n",
        "  def get_tweet_sentiment(self,tweet):\n",
        "    analysis=TextBlob(self.clean_tweet(tweet))\n",
        "    \"function to classify sentiment using textblob's sentiment method\"\n",
        "    if analysis.sentiment.polarity>0:\n",
        "      return 'positive'\n",
        "    elif analysis.sentiment.polarity==0:\n",
        "      return 'neutral'\n",
        "    else:\n",
        "      return 'negative'\n",
        "  def get_tweets(self,query,count=10):\n",
        "    \"function to fetch words and parse them\"\n",
        "    #empty list to parse tweets\n",
        "    tweets=[]\n",
        "    try:\n",
        "      #call twitter api to fetch tweets\n",
        "      fetched_tweets=self.api.search(q=query,count=count)\n",
        "      #parsing tweets one by one\n",
        "      for tweet in fetched_tweets:\n",
        "        #empty dictionary to store required params of tweet\n",
        "        parsed_tweet={}\n",
        "        #saving text of tweet\n",
        "        parsed_tweet['text']=tweet.text\n",
        "        parsed_tweet['sentiment']=self.get_tweet_sentiment(tweet.text)\n",
        "        # appending parsed tweet to tweets list\n",
        "        if tweet.retweet_count>0:\n",
        "          # if tweet has retweets, ensure that it is appended only once\n",
        "          if parsed_tweet not in tweets:\n",
        "            tweets.append(parsed_tweet)\n",
        "        else:\n",
        "          tweets.append(parsed_tweet)\n",
        "\n",
        "      #return parsed tweets\n",
        "      return tweets\n",
        "    except tweepy.TweepError as e:\n",
        "      # print error (if any)\n",
        "      print(\"Error:\"+str(e))"
      ],
      "execution_count": null,
      "outputs": []
    },
    {
      "cell_type": "code",
      "metadata": {
        "id": "FF8oqivHG5H7"
      },
      "source": [
        "def main():\n",
        "  #creating object of TwitterClient class\n",
        "  api=TwitterClient()\n",
        "  #calling function to get tweets\n",
        "  tweets=api.get_tweets(query='$AAPL',count=200)\n",
        "  #picking positive tweets from tweets\n",
        "  pos_tweets=[tweet for tweet in tweets if tweet['sentiment']=='positive']\n",
        "  #percentage of positive tweets\n",
        "  print(\"positive tweets percentage : {}%\".format(100*len(pos_tweets)/len(tweets)))\n",
        "  neg_tweets=[tweet for tweet in tweets if tweet['sentiment']=='negative']\n",
        "  #percentage of negative tweets\n",
        "  print(\"negative tweets percentage : {}%\".format(100*len(neg_tweets)/len(tweets)))\n",
        "  #percenatge of neutal tweets\n",
        "  print(\"neutral tweets percentage:{}%\".format(100-((len(tweets)-len(pos_tweets)-len(neg_tweets))/len(tweets))))\n",
        "  #printing first 5 positive tweets\n",
        "  print(\"\\n \\n Positive Tweets:\")\n",
        "  for tweet in pos_tweets[:10]:\n",
        "    print(tweet['text'])\n",
        "  #printing first 5 negative tweets\n",
        "  for tweet in neg_tweets[:10]:\n",
        "    print(tweet['text'])\n"
      ],
      "execution_count": null,
      "outputs": []
    },
    {
      "cell_type": "code",
      "metadata": {
        "id": "eQ0NnrWOG5LA",
        "colab": {
          "base_uri": "https://localhost:8080/",
          "height": 853
        },
        "outputId": "1595c7a4-3529-419d-8eab-58c4adbefeaf"
      },
      "source": [
        "if __name__==\"__main__\":\n",
        "  #calling main function\n",
        "  main()"
      ],
      "execution_count": null,
      "outputs": [
        {
          "output_type": "stream",
          "text": [
            "positive tweets percentage : 28.735632183908045%\n",
            "negative tweets percentage : 11.494252873563218%\n",
            "neutral tweets percentage:99.40229885057471%\n",
            "\n",
            " \n",
            " Positive Tweets:\n",
            "$NDX daily chart compared to NDX Stocks Above 50 Day EMA. Notable divergence w/in the last few months between the N… https://t.co/BwbfUXXSGf\n",
            "I would suggest losing the 50DMA in $AAPL would not be a good look.\n",
            "RT @jeremymday: I keep telling you guys over and over get out of $AAPL and $MSFT \n",
            "\n",
            "The only mega cap I own is $AMZN and thats only because…\n",
            "Drop to 105 $AAPL.  Thanks in advance.\n",
            "RT @stockspastor: $AAPL is back to $110.  Incredible! @OptionsPastor\n",
            "$AAPL put buyer realizes 14% same-day gains - Notable profits for the buyer\n",
            "who lifted the $5.55 offer for Oct-20 1… https://t.co/XwWDvxLIkB\n",
            "RT @KentsBrokerage: $TSLA $AAPL $AMZN lots off trapped bulls all around these stocks should see a good cleansing in the next couple of days.\n",
            "$aapl dipping below it’s 50-day moving average 😬...bulls better buy today\n",
            "Fun facts for today...\n",
            "\n",
            "$AAPL hit $400bil market cap 2012\n",
            "$MSFT 2015\n",
            "$AMZN 2017\n",
            "$GOOG 2015\n",
            "$FB 2017\n",
            "\n",
            "$TSLA hits $40… https://t.co/Kf0kTA8kNF\n",
            "RT @TopStockAlerts1: Stocks making the biggest moves in the premarket: Snowflake, Carnival, Tesla, Moderna &amp; more\n",
            "\n",
            "$KODK $TSLA $AAPL $CVS $…\n",
            "@avigilanttrader In on $AAPL and $TSLA. On the fence with $AMZN - might still be overpriced?? I know it’s down a bi… https://t.co/nlJ5oQ5xKl\n",
            "$AAPL pivoted from 110, then FAILED 118 ¾ (high of 118.83🎯)\n",
            "\n",
            "now opening sub 110\n",
            "if fails to close above today, ver… https://t.co/9Ff63MiC0X\n",
            "$AAPL is broke down down (in pre-mkt) EMA50 for the first time since April.. https://t.co/Xkfsu7Gp8q\n",
            "Too many bad News today $TSLA and $AAPL what I sold them before now take time to load back wall Street. Told u I li… https://t.co/TIyl8Ibvox\n",
            "and thats why all the big boys we're red and looked super weak yesterday\n",
            "\n",
            "They we're looking to dump this\n",
            "\n",
            "$QQQ… https://t.co/2Y0efI0rrQ\n",
            "@r3dpepsi How does #thestrat feel about $aapl today as an entry point? I like it, but curious to see what you all think 👍🏻\n",
            "RT @TraderJ95886811: Don’t know about you.  But all I see is green when everyone else’s panties get tight👌🏽\n",
            "$BA $CCL $MGM $WYNN $NCLH $HCAC…\n",
            "#NQ_F biggest losers this am  $NDX $AAPL $AMD $TSLA $NVDA $ZM https://t.co/tzRZzRjULE\n",
            "$spy $gspc $aapl $nflx $goog $tsla New-home construction slows slightly in August, driven by pullback in multifamil… https://t.co/jpetHrA3PF\n",
            "Don’t know about you.  But all I see is green when everyone else’s panties get tight👌🏽\n",
            "$BA $CCL $MGM $WYNN $NCLH… https://t.co/lFDN4QJf0O\n"
          ],
          "name": "stdout"
        }
      ]
    },
    {
      "cell_type": "code",
      "metadata": {
        "id": "UTEF_akuG5OV"
      },
      "source": [
        ""
      ],
      "execution_count": null,
      "outputs": []
    }
  ]
}