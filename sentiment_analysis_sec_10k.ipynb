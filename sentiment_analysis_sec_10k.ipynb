{
  "nbformat": 4,
  "nbformat_minor": 0,
  "metadata": {
    "colab": {
      "name": "sentiment_analysis_sec_10k.ipynb",
      "provenance": [],
      "collapsed_sections": []
    },
    "kernelspec": {
      "name": "python3",
      "display_name": "Python 3"
    }
  },
  "cells": [
    {
      "cell_type": "code",
      "metadata": {
        "id": "ePd7gzuBJM6_",
        "colab": {
          "base_uri": "https://localhost:8080/",
          "height": 411
        },
        "outputId": "89a39833-d116-46bb-fb0a-01a6ee976fd3"
      },
      "source": [
        "!pip install edgar"
      ],
      "execution_count": null,
      "outputs": [
        {
          "output_type": "stream",
          "text": [
            "Collecting edgar\n",
            "  Downloading https://files.pythonhosted.org/packages/92/30/158d50df1081c0dd59f3c0563ae7f2a2c61ae1b924b0bbef43c8b8c96fd5/edgar-5.3.8-py3-none-any.whl\n",
            "Requirement already satisfied: requests in /usr/local/lib/python3.6/dist-packages (from edgar) (2.23.0)\n",
            "Requirement already satisfied: lxml in /usr/local/lib/python3.6/dist-packages (from edgar) (4.2.6)\n",
            "Collecting fuzzywuzzy[speedup]\n",
            "  Downloading https://files.pythonhosted.org/packages/43/ff/74f23998ad2f93b945c0309f825be92e04e0348e062026998b5eefef4c33/fuzzywuzzy-0.18.0-py2.py3-none-any.whl\n",
            "Requirement already satisfied: tqdm in /usr/local/lib/python3.6/dist-packages (from edgar) (4.41.1)\n",
            "Requirement already satisfied: urllib3!=1.25.0,!=1.25.1,<1.26,>=1.21.1 in /usr/local/lib/python3.6/dist-packages (from requests->edgar) (1.24.3)\n",
            "Requirement already satisfied: chardet<4,>=3.0.2 in /usr/local/lib/python3.6/dist-packages (from requests->edgar) (3.0.4)\n",
            "Requirement already satisfied: certifi>=2017.4.17 in /usr/local/lib/python3.6/dist-packages (from requests->edgar) (2020.6.20)\n",
            "Requirement already satisfied: idna<3,>=2.5 in /usr/local/lib/python3.6/dist-packages (from requests->edgar) (2.10)\n",
            "Collecting python-levenshtein>=0.12; extra == \"speedup\"\n",
            "\u001b[?25l  Downloading https://files.pythonhosted.org/packages/42/a9/d1785c85ebf9b7dfacd08938dd028209c34a0ea3b1bcdb895208bd40a67d/python-Levenshtein-0.12.0.tar.gz (48kB)\n",
            "\u001b[K     |████████████████████████████████| 51kB 2.9MB/s \n",
            "\u001b[?25hRequirement already satisfied: setuptools in /usr/local/lib/python3.6/dist-packages (from python-levenshtein>=0.12; extra == \"speedup\"->fuzzywuzzy[speedup]->edgar) (49.2.0)\n",
            "Building wheels for collected packages: python-levenshtein\n",
            "  Building wheel for python-levenshtein (setup.py) ... \u001b[?25l\u001b[?25hdone\n",
            "  Created wheel for python-levenshtein: filename=python_Levenshtein-0.12.0-cp36-cp36m-linux_x86_64.whl size=144792 sha256=063ef837b1bf8cb689e00059c9c76935cbfa89c0bfa08c928bc4ade7d5891429\n",
            "  Stored in directory: /root/.cache/pip/wheels/de/c2/93/660fd5f7559049268ad2dc6d81c4e39e9e36518766eaf7e342\n",
            "Successfully built python-levenshtein\n",
            "Installing collected packages: python-levenshtein, fuzzywuzzy, edgar\n",
            "Successfully installed edgar-5.3.8 fuzzywuzzy-0.18.0 python-levenshtein-0.12.0\n"
          ],
          "name": "stdout"
        }
      ]
    },
    {
      "cell_type": "code",
      "metadata": {
        "id": "dtOO3tbZFzSL"
      },
      "source": [
        "import numpy as np\n",
        "import pandas as pd\n",
        "import re\n",
        "import nltk\n",
        "import matplotlib.pyplot as plt\n",
        "%matplotlib inline\n",
        "plt.style.use('dark_background')"
      ],
      "execution_count": null,
      "outputs": []
    },
    {
      "cell_type": "code",
      "metadata": {
        "id": "57Vl2HUjyIT9"
      },
      "source": [
        "from edgar import Company\n",
        "company = Company(\"Oracle Corp\", \"0001341439\")\n",
        "tree = company.get_all_filings(filing_type = \"10-K\")\n",
        "docs = Company.get_documents(tree, no_of_documents=5)"
      ],
      "execution_count": null,
      "outputs": []
    },
    {
      "cell_type": "code",
      "metadata": {
        "id": "PMQWxFfotgFZ",
        "colab": {
          "base_uri": "https://localhost:8080/",
          "height": 34
        },
        "outputId": "c5aa8d76-cf35-4a55-a223-e7f68a07bc04"
      },
      "source": [
        "type(docs[0])"
      ],
      "execution_count": null,
      "outputs": [
        {
          "output_type": "execute_result",
          "data": {
            "text/plain": [
              "lxml.html.HtmlElement"
            ]
          },
          "metadata": {
            "tags": []
          },
          "execution_count": 4
        }
      ]
    },
    {
      "cell_type": "code",
      "metadata": {
        "id": "BRmcSDkcLKnT",
        "colab": {
          "base_uri": "https://localhost:8080/",
          "height": 85
        },
        "outputId": "ac624a81-ad92-4c5b-d460-8e3cfe273153"
      },
      "source": [
        "documents=docs[0]\n",
        "print(documents.text_content()[0:100])"
      ],
      "execution_count": null,
      "outputs": [
        {
          "output_type": "stream",
          "text": [
            "0001564590-20-030125.txt : 20200622\n",
            "0001564590-20-030125.hdr.sgml : 20200622\n",
            "20200622162549\n",
            "ACCESSIO\n"
          ],
          "name": "stdout"
        }
      ]
    },
    {
      "cell_type": "code",
      "metadata": {
        "id": "M_eDIb5C7kaO",
        "colab": {
          "base_uri": "https://localhost:8080/",
          "height": 34
        },
        "outputId": "bba05cd9-a036-40a8-f2eb-2a591eddd628"
      },
      "source": [
        "len(docs[0].text_content())"
      ],
      "execution_count": null,
      "outputs": [
        {
          "output_type": "execute_result",
          "data": {
            "text/plain": [
              "1130745"
            ]
          },
          "metadata": {
            "tags": []
          },
          "execution_count": 9
        }
      ]
    },
    {
      "cell_type": "code",
      "metadata": {
        "id": "MA7eie9h7tN5",
        "colab": {
          "base_uri": "https://localhost:8080/",
          "height": 137
        },
        "outputId": "992c334b-d875-4250-d608-43f2878f7465"
      },
      "source": [
        "docs[0].text_content()[0:1000]"
      ],
      "execution_count": null,
      "outputs": [
        {
          "output_type": "execute_result",
          "data": {
            "application/vnd.google.colaboratory.intrinsic+json": {
              "type": "string"
            },
            "text/plain": [
              "'0001564590-20-030125.txt : 20200622\\n0001564590-20-030125.hdr.sgml : 20200622\\n20200622162549\\nACCESSION NUMBER:\\t\\t0001564590-20-030125\\nCONFORMED SUBMISSION TYPE:\\t10-K\\nPUBLIC DOCUMENT COUNT:\\t\\t106\\nCONFORMED PERIOD OF REPORT:\\t20200531\\nFILED AS OF DATE:\\t\\t20200622\\nDATE AS OF CHANGE:\\t\\t20200622\\n\\nFILER:\\n\\n\\tCOMPANY DATA:\\t\\n\\t\\tCOMPANY CONFORMED NAME:\\t\\t\\tORACLE CORP\\n\\t\\tCENTRAL INDEX KEY:\\t\\t\\t0001341439\\n\\t\\tSTANDARD INDUSTRIAL CLASSIFICATION:\\tSERVICES-PREPACKAGED SOFTWARE [7372]\\n\\t\\tIRS NUMBER:\\t\\t\\t\\t542185193\\n\\t\\tFISCAL YEAR END:\\t\\t\\t0531\\n\\n\\tFILING VALUES:\\n\\t\\tFORM TYPE:\\t\\t10-K\\n\\t\\tSEC ACT:\\t\\t1934 Act\\n\\t\\tSEC FILE NUMBER:\\t001-35992\\n\\t\\tFILM NUMBER:\\t\\t20979119\\n\\n\\tBUSINESS ADDRESS:\\t\\n\\t\\tSTREET 1:\\t\\t500 ORACLE PARKWAY\\n\\t\\tSTREET 2:\\t\\tMAIL STOP 5 OP 7\\n\\t\\tCITY:\\t\\t\\tREDWOOD CITY\\n\\t\\tSTATE:\\t\\t\\tCA\\n\\t\\tZIP:\\t\\t\\t94065\\n\\t\\tBUSINESS PHONE:\\t\\t6505067000\\n\\n\\tMAIL ADDRESS:\\t\\n\\t\\tSTREET 1:\\t\\t500 ORACLE PARKWAY\\n\\t\\tSTREET 2:\\t\\tMAIL STOP 5 OP 7\\n\\t\\tCITY:\\t\\t\\tREDWOOD CITY\\n\\t\\tSTATE:\\t\\t\\tCA\\n\\t\\tZIP:\\t\\t\\t94065\\n\\n\\tFORMER COMPANY:\\t\\n\\t\\tFORMER CONFORMED NAME:\\tOzark Holding Inc.\\n\\t\\tDATE OF NAME CH'"
            ]
          },
          "metadata": {
            "tags": []
          },
          "execution_count": 10
        }
      ]
    },
    {
      "cell_type": "code",
      "metadata": {
        "id": "01fKtH-lNBpN"
      },
      "source": [
        "import unicodedata"
      ],
      "execution_count": null,
      "outputs": []
    },
    {
      "cell_type": "code",
      "metadata": {
        "id": "ITQcNspL74MS",
        "colab": {
          "base_uri": "https://localhost:8080/",
          "height": 197
        },
        "outputId": "1c79d44f-d77e-41f3-b107-6f6b2e419851"
      },
      "source": [
        "text=docs[0].text_content()\n",
        "sample_text=text.replace('\\xa0', ' ')\n",
        "sample_text = unicodedata.normalize(\"NFKD\",sample_text)"
      ],
      "execution_count": null,
      "outputs": [
        {
          "output_type": "error",
          "ename": "NameError",
          "evalue": "ignored",
          "traceback": [
            "\u001b[0;31m---------------------------------------------------------------------------\u001b[0m",
            "\u001b[0;31mNameError\u001b[0m                                 Traceback (most recent call last)",
            "\u001b[0;32m<ipython-input-193-54daaa85aa88>\u001b[0m in \u001b[0;36m<module>\u001b[0;34m()\u001b[0m\n\u001b[1;32m      1\u001b[0m \u001b[0mtext\u001b[0m\u001b[0;34m=\u001b[0m\u001b[0mdocs\u001b[0m\u001b[0;34m[\u001b[0m\u001b[0;36m0\u001b[0m\u001b[0;34m]\u001b[0m\u001b[0;34m.\u001b[0m\u001b[0mtext_content\u001b[0m\u001b[0;34m(\u001b[0m\u001b[0;34m)\u001b[0m\u001b[0;34m\u001b[0m\u001b[0;34m\u001b[0m\u001b[0m\n\u001b[1;32m      2\u001b[0m \u001b[0msample_text\u001b[0m\u001b[0;34m=\u001b[0m\u001b[0mtext\u001b[0m\u001b[0;34m.\u001b[0m\u001b[0mreplace\u001b[0m\u001b[0;34m(\u001b[0m\u001b[0;34m'\\xa0'\u001b[0m\u001b[0;34m,\u001b[0m \u001b[0;34m' '\u001b[0m\u001b[0;34m)\u001b[0m\u001b[0;34m\u001b[0m\u001b[0;34m\u001b[0m\u001b[0m\n\u001b[0;32m----> 3\u001b[0;31m \u001b[0msample_text\u001b[0m \u001b[0;34m=\u001b[0m \u001b[0municodedata\u001b[0m\u001b[0;34m.\u001b[0m\u001b[0mnormalize\u001b[0m\u001b[0;34m(\u001b[0m\u001b[0;34m\"NFKD\"\u001b[0m\u001b[0;34m,\u001b[0m\u001b[0msample_text\u001b[0m\u001b[0;34m)\u001b[0m\u001b[0;34m\u001b[0m\u001b[0;34m\u001b[0m\u001b[0m\n\u001b[0m",
            "\u001b[0;31mNameError\u001b[0m: name 'unicodedata' is not defined"
          ]
        }
      ]
    },
    {
      "cell_type": "code",
      "metadata": {
        "id": "DKTYlA4R87AI",
        "colab": {
          "base_uri": "https://localhost:8080/",
          "height": 34
        },
        "outputId": "2447887b-e1ab-415d-e2b1-c4cd30f01a82"
      },
      "source": [
        "print(re.findall(re.compile(\"Item 1A\\.\"),sample_text))"
      ],
      "execution_count": null,
      "outputs": [
        {
          "output_type": "stream",
          "text": [
            "['Item 1A.', 'Item 1A.']\n"
          ],
          "name": "stdout"
        }
      ]
    },
    {
      "cell_type": "code",
      "metadata": {
        "id": "ysV4Yw29Kdrh",
        "colab": {
          "base_uri": "https://localhost:8080/",
          "height": 51
        },
        "outputId": "af8c0adb-479b-45a0-f995-9f13fa2e99c9"
      },
      "source": [
        "for match in re.finditer(\"Item 1A\\.\",sample_text):\n",
        "  print(match)"
      ],
      "execution_count": null,
      "outputs": [
        {
          "output_type": "stream",
          "text": [
            "<_sre.SRE_Match object; span=(74087, 74095), match='Item 1A.'>\n",
            "<_sre.SRE_Match object; span=(143313, 143321), match='Item 1A.'>\n"
          ],
          "name": "stdout"
        }
      ]
    },
    {
      "cell_type": "code",
      "metadata": {
        "id": "Am_ECC7aK28T",
        "colab": {
          "base_uri": "https://localhost:8080/",
          "height": 34
        },
        "outputId": "20402446-3ff5-4f17-f736-0d2404f03ba7"
      },
      "source": [
        "print(match.span())"
      ],
      "execution_count": null,
      "outputs": [
        {
          "output_type": "stream",
          "text": [
            "(143313, 143321)\n"
          ],
          "name": "stdout"
        }
      ]
    },
    {
      "cell_type": "code",
      "metadata": {
        "id": "6Yc-HYFqLbGe",
        "colab": {
          "base_uri": "https://localhost:8080/",
          "height": 71
        },
        "outputId": "44cea405-45da-453e-9334-289e12a26239"
      },
      "source": [
        "#match for all sections\n",
        "matches=list(re.finditer(re.compile('Item [0-9][A-Z]*\\.'),sample_text))\n",
        "print(matches)\n",
        "print(len(matches))"
      ],
      "execution_count": null,
      "outputs": [
        {
          "output_type": "stream",
          "text": [
            "[<_sre.SRE_Match object; span=(74040, 74047), match='Item 1.'>, <_sre.SRE_Match object; span=(74087, 74095), match='Item 1A.'>, <_sre.SRE_Match object; span=(74140, 74148), match='Item 1B.'>, <_sre.SRE_Match object; span=(74206, 74213), match='Item 2.'>, <_sre.SRE_Match object; span=(74256, 74263), match='Item 3.'>, <_sre.SRE_Match object; span=(74313, 74320), match='Item 4.'>, <_sre.SRE_Match object; span=(74417, 74424), match='Item 5.'>, <_sre.SRE_Match object; span=(74565, 74572), match='Item 6.'>, <_sre.SRE_Match object; span=(74628, 74635), match='Item 7.'>, <_sre.SRE_Match object; span=(74753, 74761), match='Item 7A.'>, <_sre.SRE_Match object; span=(74852, 74859), match='Item 8.'>, <_sre.SRE_Match object; span=(74935, 74942), match='Item 9.'>, <_sre.SRE_Match object; span=(75059, 75067), match='Item 9A.'>, <_sre.SRE_Match object; span=(75123, 75131), match='Item 9B.'>, <_sre.SRE_Match object; span=(83473, 83480), match='Item 1.'>, <_sre.SRE_Match object; span=(143313, 143321), match='Item 1A.'>, <_sre.SRE_Match object; span=(223213, 223221), match='Item 1B.'>, <_sre.SRE_Match object; span=(223260, 223267), match='Item 2.'>, <_sre.SRE_Match object; span=(224316, 224323), match='Item 3.'>, <_sre.SRE_Match object; span=(224660, 224667), match='Item 4.'>, <_sre.SRE_Match object; span=(224778, 224785), match='Item 5.'>, <_sre.SRE_Match object; span=(228203, 228210), match='Item 6.'>, <_sre.SRE_Match object; span=(233533, 233540), match='Item 7.'>, <_sre.SRE_Match object; span=(236060, 236067), match='Item 7.'>, <_sre.SRE_Match object; span=(330437, 330445), match='Item 7A.'>, <_sre.SRE_Match object; span=(341264, 341271), match='Item 8.'>, <_sre.SRE_Match object; span=(341427, 341434), match='Item 9.'>, <_sre.SRE_Match object; span=(341532, 341540), match='Item 9A.'>, <_sre.SRE_Match object; span=(346625, 346633), match='Item 9B.'>]\n",
            "29\n"
          ],
          "name": "stdout"
        }
      ]
    },
    {
      "cell_type": "code",
      "metadata": {
        "id": "n1tBI49kMEP5",
        "colab": {
          "base_uri": "https://localhost:8080/",
          "height": 34
        },
        "outputId": "4ed94ca7-a24d-4eb4-f679-818be8c3d644"
      },
      "source": [
        "print(matches[0])"
      ],
      "execution_count": null,
      "outputs": [
        {
          "output_type": "stream",
          "text": [
            "<_sre.SRE_Match object; span=(74040, 74047), match='Item 1.'>\n"
          ],
          "name": "stdout"
        }
      ]
    },
    {
      "cell_type": "code",
      "metadata": {
        "id": "8Sid9rrtM0wg",
        "colab": {
          "base_uri": "https://localhost:8080/",
          "height": 34
        },
        "outputId": "ef188bba-0992-4e1d-e48d-748ebd6c7fbf"
      },
      "source": [
        "print(matches[0][0])"
      ],
      "execution_count": null,
      "outputs": [
        {
          "output_type": "stream",
          "text": [
            "Item 1.\n"
          ],
          "name": "stdout"
        }
      ]
    },
    {
      "cell_type": "code",
      "metadata": {
        "id": "i2kKKPnlM8TJ",
        "colab": {
          "base_uri": "https://localhost:8080/",
          "height": 34
        },
        "outputId": "1bfb3787-86d7-47fb-9911-6662719270d1"
      },
      "source": [
        "# find all matches for Item 1A. first match will be in  table of contents and second match is in main document\n",
        "item_matches=[index for index in range(len(matches)) if matches[index][0]==\"Item 1.\"]\n",
        "item_matches"
      ],
      "execution_count": null,
      "outputs": [
        {
          "output_type": "execute_result",
          "data": {
            "text/plain": [
              "[0, 14]"
            ]
          },
          "metadata": {
            "tags": []
          },
          "execution_count": 19
        }
      ]
    },
    {
      "cell_type": "code",
      "metadata": {
        "id": "n7BWp9NJNguc"
      },
      "source": [
        "#section start index\n",
        "start=max(item_matches)\n",
        "end=start+1"
      ],
      "execution_count": null,
      "outputs": []
    },
    {
      "cell_type": "code",
      "metadata": {
        "id": "t4gA1_XdOca9"
      },
      "source": [
        "#use span to get section text\n",
        "start=matches[start].span()[1]\n",
        "end=matches[end].span()[0]"
      ],
      "execution_count": null,
      "outputs": []
    },
    {
      "cell_type": "code",
      "metadata": {
        "id": "fk5rdbR3PMwq",
        "colab": {
          "base_uri": "https://localhost:8080/",
          "height": 34
        },
        "outputId": "b3c9c9ae-9f8d-454f-f316-f6ffb61f4849"
      },
      "source": [
        "print(start,end)"
      ],
      "execution_count": null,
      "outputs": [
        {
          "output_type": "stream",
          "text": [
            "83480 143313\n"
          ],
          "name": "stdout"
        }
      ]
    },
    {
      "cell_type": "code",
      "metadata": {
        "id": "OM3OrkRIPSUX",
        "colab": {
          "base_uri": "https://localhost:8080/",
          "height": 1000
        },
        "outputId": "1f6ce51c-2e1a-4757-c791-0aae45398429"
      },
      "source": [
        "print(sample_text[start:end])"
      ],
      "execution_count": null,
      "outputs": [
        {
          "output_type": "stream",
          "text": [
            "\n",
            "\n",
            "Business\n",
            "Oracle provides products and services that address enterprise information technology (IT) environments. Our products and services include applications and infrastructure offerings that are delivered worldwide through a variety of flexible and interoperable IT deployment models. These models include on-premise deployments, cloud-based deployments, and hybrid deployments (an approach that combines both on-premise and cloud-based deployment) such as our Oracle Cloud at Customer offering (an instance of Oracle Cloud in a customer’s own data center). Accordingly, we offer choice and flexibility to our customers and facilitate the product, service and deployment combinations that best suit our customers’ needs. Our customers include businesses of many sizes, government agencies, educational institutions and resellers that we market and sell to directly through our worldwide sales force and indirectly through the Oracle Partner Network.\n",
            "Oracle Cloud Software-as-a-Service and Infrastructure-as-a-Service (SaaS and IaaS, respectively, and collectively, Oracle Cloud Services) offerings provide a comprehensive and integrated stack of applications and infrastructure services delivered via a cloud-based deployment model. Oracle Cloud Services integrate the software, hardware and services on a customer’s behalf in a cloud-based IT environment that Oracle deploys, upgrades, supports and manages for the customer. Oracle Cloud Services are designed to be rapidly deployable to enable customers shorter time to innovation; intuitive for casual and experienced users; easily maintainable to reduce upgrade, integration and testing work; connectable among differing deployment models to enable interchangeability and extendibility between IT environments; compatible to easily move workloads between the Oracle Cloud and other IT environments; cost-effective by requiring lower upfront customer investment; and secure, standards-based and reliable. \n",
            "Oracle cloud license and on-premise license deployment offerings include Oracle Applications, Oracle Database and Oracle Middleware software offerings, among others, which customers deploy using IT infrastructure from the Oracle Cloud or their own cloud-based or on-premise IT environments. Substantially all customers, at their option, purchase license support contracts when they purchase an Oracle license. \n",
            "Oracle hardware product offerings include Oracle Engineered Systems, servers, storage and industry-specific products, among others. Customers generally opt to purchase hardware support contracts when they purchase Oracle hardware. \n",
            "Oracle also offers services to assist our customers and partners to maximize the performance of their Oracle purchases. \n",
            "Providing choice and flexibility to Oracle customers as to when and how they deploy Oracle applications and infrastructure technologies is an important element of our corporate strategy. We believe that offering customers broad, comprehensive, flexible and interoperable deployment models for Oracle applications and infrastructure technologies is important to our growth strategy and better addresses customer needs relative to our competitors, many of whom provide fewer offerings, more restrictive deployment models and less flexibility for a customer’s transition to cloud-based IT environments.\n",
            "Our investments in, and innovation with respect to, Oracle products and services that we offer through our cloud and license, hardware and services businesses (described further below) are another important element of our corporate strategy. In fiscal 2020, 2019 and 2018, we invested $6.1 billion, $6.0 billion and $6.1 billion, respectively, in research and development to enhance our existing portfolio of offerings and products and to develop new technologies and services. We have a deep understanding as to how applications and infrastructure technologies interact and function with one another. We focus our development efforts on improving the performance, security, operation, integration and cost-effectiveness of our offerings relative to our competitors; making it easier for organizations to deploy, use, manage and maintain our offerings; and incorporating emerging technologies within our offerings to enable leaner business processes, automation and innovation. For example, the Oracle Autonomous Database is designed to deliver transformational infrastructure through an Oracle Cloud IaaS offering that utilizes Oracle’s Generation 2 Cloud Infrastructure’s machine learning capabilities. After an initial purchase of Oracle products and services, our customers can continue to benefit from our research and development efforts and deep IT expertise by electing to purchase and renew Oracle support offerings for their \n",
            "3\n",
            "\n",
            "Table of Contents\n",
            "Index to Financial Statements\n",
            " \n",
            "license and hardware deployments, which may include product enhancements that we periodically deliver to our products, and by renewing their Oracle Cloud Services contracts with us. \n",
            "Our selective and active acquisition program is another important element of our corporate strategy. We believe that our acquisitions enhance the products and services that we can offer to customers, expand our customer base, provide greater scale to accelerate innovation, grow our revenues and earnings, and increase stockholder value. We have invested billions of dollars over time to acquire a number of companies, products, services and technologies that add to, are complementary to, or have otherwise enhanced our existing offerings. We expect to continue to acquire companies, products, services and technologies to further our corporate strategy.\n",
            "We have three businesses: \n",
            "\n",
            "\n",
            "\n",
            "\n",
            " \n",
            "\n",
            "•\n",
            "\n",
            "our cloud and license business, which is comprised of a single operating segment and includes our Oracle Cloud Services offerings, cloud license and on-premise license offerings, and license support offerings, represented 83% of our total revenues in each of fiscal 2020 and 2019, and 81% of our total revenues in fiscal 2018; \n",
            "\n",
            "\n",
            "\n",
            "\n",
            " \n",
            "\n",
            "•\n",
            "\n",
            "our hardware business, which is comprised of a single operating segment and includes our hardware products and related hardware support services offerings, represented 9% of our total revenues in each of fiscal 2020 and 2019, and 10% of our total revenues in fiscal 2018; and\n",
            "\n",
            "\n",
            "\n",
            "\n",
            " \n",
            "\n",
            "•\n",
            "\n",
            "our services business, which is comprised of a single operating segment, represented 8% of our total revenues in each of fiscal 2020 and 2019, and 9% of our total revenues in fiscal 2018. \n",
            "Management’s Discussion and Analysis of Financial Condition and Results of Operations and Note 15 of Notes to Consolidated Financial Statements, both included elsewhere in this Annual Report, provide additional information related to our businesses and operating segments.\n",
            "Oracle Corporation was incorporated in 2005 as a Delaware corporation and is the successor to operations originally begun in June 1977. \n",
            "Impacts of the COVID-19 Pandemic on Oracle’s Business\n",
            "Oracle is committed to the health, safety and welfare of our employees, customers, suppliers, communities, stockholders and other stakeholders. While the world continues to navigate the risks and uncertainties associated with the COVID-19 pandemic, we are committed to providing critical technologies, programs and support to individuals and organizations to navigate, adjust and continue their operations in light of the unique demands and constraints imposed by the pandemic. For decades, we have developed, delivered and supported products and services that enable telecommunication companies to keep people connected; retailers to provide food and other necessities; researchers to identify solutions; hospitals to provide care; airlines to ensure travel; banks to help people access funds; insurers to provide benefits; governments to keep people safe and informed; utilities to supply power and water; and many other critical functions. \n",
            "We have proactively sought, supported, donated to, partnered and engaged with organizations globally that provide critical medicines, research, goods and services to combat the COVID-19 pandemic, including:\n",
            "\n",
            "\n",
            "\n",
            "\n",
            " \n",
            "\n",
            "•\n",
            "\n",
            "medical research organizations, which power COVID-19 simulation and modeling projects using Oracle Cloud IaaS;  \n",
            "\n",
            "\n",
            "\n",
            "\n",
            " \n",
            "\n",
            "•\n",
            "\n",
            "the U.S. federal government, which received an Oracle system to collect and distribute information as to how COVID-19 patients respond to potential therapies; \n",
            "\n",
            "\n",
            "\n",
            "\n",
            " \n",
            "\n",
            "•\n",
            "\n",
            "hospitals, which have utilized Oracle infrastructure technologies to rapidly develop and deploy applications that collect, analyze and manage characteristics of COVID-19 patients;\n",
            "\n",
            "\n",
            "\n",
            "\n",
            " \n",
            "\n",
            "•\n",
            "\n",
            "enterprises, which have the ability to complimentarily access Oracle Human Capital Management (HCM) Cloud options for employee health and safety programs in order to proactively manage and respond to COVID-19 implications on their workforces;\n",
            "4\n",
            "\n",
            "Table of Contents\n",
            "Index to Financial Statements\n",
            " \n",
            "\n",
            "\n",
            "\n",
            "\n",
            " \n",
            "\n",
            "•\n",
            "\n",
            "state and local government agencies, which have utilized Oracle Cloud SaaS solutions to develop and target constituent outreach related to COVID-19, and to assess, research and respond to COVID-19 incident management on a unified platform; and\n",
            "\n",
            "\n",
            "\n",
            "\n",
            " \n",
            "\n",
            "•\n",
            "\n",
            "pharmaceutical companies, which power their research and clinical trials using Oracle Health Sciences solutions; \n",
            "among dozens of other specific use cases, programs and partnerships that Oracle has donated to, partnered with, developed and supported in response to the COVID-19 pandemic.\n",
            "Oracle applications and infrastructure technologies are critical to the business operations of our customers, which number in the hundreds of thousands across a broad geographic and industry base. We are profitable and generate a large amount of positive cash flow from our operations and we do not believe the COVID-19 pandemic will jeopardize either of these characteristics of our business. Other impacts due to COVID-19 on our business are currently unknown. \n",
            "For additional details regarding the impacts and risks to our business from the COVID-19 pandemic, refer to Item 1A Risk Factors and Item 7 Management’s Discussion and Analysis of Financial Condition and Results of Operations included elsewhere in this Annual Report on Form 10-K.\n",
            "Applications and Infrastructure Technologies\n",
            "Oracle’s comprehensive portfolio of applications and infrastructure technologies is designed to address an organization’s IT environment needs including business process, infrastructure and applications development requirements, among others. Oracle technologies are based upon industry standards and are designed to be enterprise-grade, reliable, scalable and secure. Oracle applications and infrastructure technologies including database and middleware software as well as enterprise applications, virtualization, clustering, large-scale systems management and related infrastructure products and services are the building blocks of Oracle Cloud Services, our partners’ cloud services, and our customers’ cloud IT environments. Oracle applications and infrastructure offerings are marketed and sold through our cloud and license, hardware, and services businesses and are delivered through the Oracle Cloud, or through other IT deployment models including cloud-based, hybrid and on-premise deployments. We believe Oracle applications and infrastructure offerings enable flexibility, interoperability and choice to best meet customer IT needs. \n",
            "We believe that our Oracle Cloud Services offerings are opportunities for us to expand our cloud and license business. We believe that our customers increasingly recognize the value of access to cloud-based applications and infrastructure capabilities via a lower cost, rapidly deployable, flexible and interoperable services model that Oracle manages, upgrades and maintains on the customer’s behalf. We believe that we can market and sell our SaaS and IaaS offerings together to help customers migrate their extensive installed base of on-premise applications and infrastructure technologies to the Oracle Cloud while at the same time reaching a broader ecosystem of developers and partners. We also believe we can market our SaaS and IaaS services to small and medium-sized businesses and non-IT lines of business purchasers due to the highly available, intuitive design, low touch and low cost characteristics of the Oracle Cloud. \n",
            "In recent periods, customer demand for our applications and infrastructure technologies delivered through our Oracle Cloud Services deployment models has increased. To address customer demand and enable customer choice, we have introduced certain programs for customers to pivot their applications and infrastructure licenses and license support contracts to the Oracle Cloud for new deployments and to migrate to and expand with the Oracle Cloud for their existing workloads. We expect these trends to continue.\n",
            "Applications Technologies\n",
            "Oracle applications technologies are marketed, sold, delivered and supported through our cloud and license business. Our applications cloud services and license support revenues represented 40%, 40% and 38% of our total cloud services and license support revenues during fiscal 2020, 2019 and 2018, respectively. Oracle applications technologies include our Oracle Cloud SaaS offerings, which are available for customers as a subscription, and \n",
            "5\n",
            "\n",
            "Table of Contents\n",
            "Index to Financial Statements\n",
            " \n",
            "Oracle Applications license offerings, which are available for customers to purchase for use within the Oracle Cloud, and other cloud-based and on-premise IT environments, with the option to purchase related license support. Regardless of the deployment model selected, our applications technologies are designed to reduce the risk, cost and complexity of our customers’ IT infrastructures, while supporting customer choice with flexible deployment models that readily enable performance, agility, compatibility and extendibility. Our applications technologies are generally designed using industry standard architectures to manage and automate core business functions across the enterprise, as well as to help customers differentiate and innovate in those processes unique to their industries or organizations. We offer applications that are deployable to meet a number of business automation requirements across a broad range of industries. We also offer industry-specific applications, which provide solutions to customers in the communications, construction and engineering, financial services, health sciences, hospitality, manufacturing, public sector, retail and utilities industries, among others.\n",
            "Oracle Cloud Software as a Service (SaaS)\n",
            "Oracle’s broad spectrum of Oracle Cloud SaaS offerings provides customers a choice of software applications that are delivered via a cloud-based IT environment that we host, manage, upgrade and support, and that customers purchase by entering into a subscription agreement with us for a stated period. Customers access Oracle Cloud SaaS offerings utilizing common web browsers via a broad spectrum of devices. Our SaaS offerings are built upon open industry standards such as SQL, Java and HTML5 for easier application accessibility, integration and development. Our SaaS offerings represent an industry leading business innovation platform, leveraging our Generation 2 Cloud Infrastructure, and include a broad suite of modular, next generation cloud software applications spanning all core business functions including, among others:\n",
            "\n",
            "\n",
            "\n",
            "\n",
            " \n",
            "\n",
            "•\n",
            "\n",
            "Oracle Enterprise Resource Planning (ERP) Cloud, which is designed to be a complete, global and integrated ERP solution to help organizations improve decision making and workforce productivity, and to optimize back-office operations by utilizing a single data and security model with a common user interface; \n",
            "\n",
            "\n",
            "\n",
            "\n",
            " \n",
            "\n",
            "•\n",
            "\n",
            "Oracle Enterprise and Performance Management (EPM) Cloud, which is designed to analyze financial performance, drive accurate and agile financial plans, optimize the financial close and consolidation process, streamline account reconciliation and satisfy an organization’s reporting requirements;\n",
            "\n",
            "\n",
            "\n",
            "\n",
            " \n",
            "\n",
            "•\n",
            "\n",
            "Oracle Supply Chain Management (SCM) Cloud, which is designed to help organizations create, optimize and digitize their supply chains and innovate products quickly; \n",
            "\n",
            "\n",
            "\n",
            "\n",
            " \n",
            "\n",
            "•\n",
            "\n",
            "Oracle Human Capital Management (HCM) Cloud, which is designed to help organizations find, develop and retain their talent, enable collaboration, provide complete workforce insights, improve business process efficiency, and enable users to connect to an integrated suite of HCM applications from any device;\n",
            "\n",
            "\n",
            "\n",
            "\n",
            " \n",
            "\n",
            "•\n",
            "\n",
            "Oracle Customer Experience Cloud including Sales, Service, Marketing and Data Cloud, which is designed to be a complete and integrated solution to help organizations deliver consistent and personalized customer experiences across their customer channels, touch points and interactions. It also enables organizations to leverage their own data and consumer data to inform and measure marketing strategies and programs; and\n",
            "\n",
            "\n",
            "\n",
            "\n",
            " \n",
            "\n",
            "•\n",
            "\n",
            "NetSuite Application Suite, which is a cloud-based ERP solution that is generally marketed to small to medium-sized organizations and is designed to run back-office operations and financial processes, and includes financial management, revenue management and billing, inventory, supply chain and warehouse management capabilities, among others.\n",
            "We also offer a number of cloud-based industry solutions to address specific customer needs within certain industries.\n",
            "We believe that the comprehensiveness and breadth of our SaaS offerings as a business innovation platform differentiate us from many of our competitors that offer more limited or specialized applications. Our SaaS \n",
            "6\n",
            "\n",
            "Table of Contents\n",
            "Index to Financial Statements\n",
            " \n",
            "offerings are designed to support connected business processes in the cloud and are centered on an intuitive interface, a responsive and flexible business core, and a common data model. We believe Oracle ERP Cloud is a strategic suite of applications that is foundational to facilitate and extract more business value out of the adoption of other Oracle SaaS offerings, such as Oracle HCM Cloud and Oracle EPM Cloud, as customers realize the value of a common data model that spans across core business applications. Our SaaS offerings are designed to deliver a secure data isolation architecture and flexible upgrades; self-service access controls for users; a Service-Oriented Architecture (SOA); built-in social, mobile and business insight capabilities (analytics); and a high performance, high availability infrastructure based on our infrastructure technologies, including Oracle’s Generation 2 Cloud Infrastructure. These SaaS capabilities are designed to simplify IT environments, reduce time to implementation and risk, provide an intuitive user experience for casual and experienced users, and enable customers to focus resources on business growth opportunities. Our SaaS offerings are also designed to natively incorporate emerging technologies such as Internet-of-Things (IoT), artificial intelligence, machine learning, blockchain, digital assistants and advances in the “human interface” and how users interact with Oracle Cloud SaaS offerings within a business context or to augment human capabilities to enhance productivity. \n",
            "Oracle Applications Licenses\n",
            "Customers have the ability to license Oracle Applications for use within the Oracle Cloud or within their own cloud-based or on-premise IT environments. Oracle Applications are designed to manage and automate core business functions across the enterprise, including HCM; ERP; financial management and governance, risk and compliance; procurement; project portfolio management; SCM; business analytics and enterprise performance management; Oracle Customer Experience Cloud and customer relationship management; and industry-specific applications, among others. \n",
            "As described below, we provide customers the option to purchase license support contracts in connection with the purchase of Oracle Applications licenses.\n",
            "Oracle License Support\n",
            "Oracle license support offerings are marketed and sold as a part of our cloud and license business. Substantially all of our customers opt to purchase license support contracts when they purchase Oracle applications and infrastructure licenses to run within the Oracle Cloud or other cloud-based and on-premise IT environments. We believe our license support offerings protect and enhance our customers’ investments in Oracle applications and infrastructure technologies because they provide proactive and personalized support services including Oracle Lifetime Support and unspecified license enhancements and upgrades during the term of the support period. Substantially all license support customers renew their support contracts with us upon expiration in order to continue to benefit from technical support services and the periodic issuance of unspecified updates and enhancements, which current license support customers are entitled to receive. Our license support contracts are generally priced as a percentage of the net fees paid by the customer to access the license and are typically one year in duration.\n",
            "Infrastructure Technologies\n",
            "Oracle infrastructure technologies are marketed, sold and delivered through our cloud and license business and through our hardware business. Our infrastructure technologies are designed to be flexible, cost-effective, standards-based and high-performance in order to facilitate the development, running, integration, management and extension across an organization’s cloud-based, on-premise and hybrid IT environments. \n",
            "Our cloud and license business’ infrastructure technologies include the Oracle Database, which is the world’s most popular enterprise database; Java, which is the computer industry’s most widely-used software development language; and middleware including development tools, among others. These technologies are available through a subscription to our Oracle Cloud IaaS offerings or through the purchase of a license and related license support, at the customer’s option, to run within the Oracle Cloud or other IT environments. Our cloud and license business’ infrastructure technologies also include cloud-based compute, storage and networking capabilities through our \n",
            "7\n",
            "\n",
            "Table of Contents\n",
            "Index to Financial Statements\n",
            " \n",
            "Oracle Cloud IaaS offerings. Our infrastructure offerings also include new and innovative services such as the Oracle Autonomous Data Warehouse Cloud Service, Oracle Autonomous Transaction Processing Cloud Service and emerging technologies such as IoT, digital assistant, and Blockchain. \n",
            "Our hardware business’ infrastructure technologies consist of hardware products and certain unique hardware-related software offerings including Oracle Engineered Systems, enterprise servers, storage solutions, industry-specific hardware, virtualization software, operating systems, management software, and related hardware services, including hardware support at the customer’s option. \n",
            "We design our infrastructure technologies to work in customer environments that may include other Oracle or non-Oracle hardware or software components. Our flexible and open approach provides Oracle customers a choice as to how they can utilize and deploy Oracle infrastructure technologies: through the use of Oracle Cloud offerings; on-premise in our customers’ data centers; or a hybrid combination of these two deployment models, such as in the Oracle Cloud at Customer deployment model (described further below). We focus on the operation and integration of Oracle infrastructure technologies to make them easier to deploy, extend, interconnect, manage and maintain for our customers and to improve computing performance relative to our competitors’ offerings. For example, the Oracle Exadata Database Machine integrates multiple Oracle technology components to work together to deliver improved performance, availability, security and operational efficiency of Oracle Database workloads relative to our competitors’ products.\n",
            "Oracle Infrastructure Technologies – Cloud and License Business Offerings\n",
            "Oracle infrastructure technologies are marketed, sold and delivered through our cloud and license business. Our infrastructure cloud services and license support revenues represented 60% of our total cloud services and license support revenues during each of fiscal 2020 and 2019 and 62% in fiscal 2018.\n",
            "Oracle Cloud Infrastructure as a Service (IaaS)\n",
            "Oracle Cloud IaaS is based upon Oracle’s Generation 2 Cloud Infrastructure technology and is designed to deliver platform, compute, storage and networking services, among others, that Oracle runs, manages, upgrades and supports on behalf of the customer for a fee for a stated time period, or for certain of our IaaS services, on a “pay-as-you-go” basis at a specified rate for services consumed. By utilizing Oracle Cloud IaaS, customers leverage the Oracle Cloud for enterprise-grade, scalable, cost-effective and secure infrastructure technologies that are designed to be rapidly deployable while reducing the amount of time and resources normally consumed by IT processes within on-premise environments. Oracle Generation 2 Cloud infrastructure technology is designed to be differentiated from other cloud vendors to provide better security by separating control code from customer data on separate computers with a different architecture. Customers use Oracle Cloud IaaS offerings to build and operate new cloud-native applications, to run new workloads and to move their existing Oracle or non-Oracle workloads to the Oracle Cloud from their on-premise data centers or from other cloud-based IT environments, among other uses. We continue to invest in Oracle Cloud IaaS to improve features and performance; to expand the catalog of cloud-based infrastructure tools and services we provide; to simplify the processes for migrating workloads to the Oracle Cloud; and to provide customers with the ability to run workloads across different IT environments and the Oracle Cloud in a hybrid deployment model. \n",
            "Oracle customers and partners utilize Oracle’s open, standards-based IaaS offerings for platform related services that are based upon the Oracle Database, Java and Oracle Middleware including open source and other tools for a variety of use cases across data management, applications development, integration, content and experience, business analytics, IT operations management, security, and emerging technologies. \n",
            "Oracle customers and partners also utilize Oracle Cloud IaaS for enterprise-grade compute, storage and networking services. Our Oracle Cloud IaaS offerings’ cloud-based compute services range from virtual machines to graphics processing unit-based offerings to bare metal servers and include options for dense I/O workloads and high performance computing. Oracle Cloud IaaS also includes a range of cloud-based storage offerings including block, object and archive storage services. In addition, Oracle Cloud IaaS offers networking, connectivity, and edge \n",
            "8\n",
            "\n",
            "Table of Contents\n",
            "Index to Financial Statements\n",
            " \n",
            "services that help connect customer datacenters and third-party clouds such as Microsoft Azure with Oracle Cloud Services. \n",
            "Oracle Cloud at Customer offerings are a direct response to restrictions imposed upon cloud-based IT environment adoption by businesses that operate within certain regulated industries or jurisdictions and enable customer choice in deployment models. Oracle Cloud at Customer enables customers to access certain IaaS capabilities of the Oracle Cloud in their own data centers behind their firewalls while having the services managed by Oracle. Oracle Cloud at Customer offerings allow customers to take advantage of the agility, innovation and subscription-based pricing of Oracle Cloud Services while meeting data sovereignty, data residency, data protection and regulatory business policy requirements. \n",
            "Oracle also offers Oracle Managed Cloud Services, which are designed to provide comprehensive software and hardware hosting, management, maintenance and security services for an organization’s cloud-based, hybrid or other infrastructure for a fee for a stated term.\n",
            "Oracle Database Licenses\n",
            "The Oracle Database is the world’s most popular enterprise database and is designed to enable reliable and secure storage, retrieval and manipulation of all forms of data. The Oracle Database is licensed throughout the world by businesses and organizations of different sizes for a multitude of purposes, including, among others: for use within the Oracle Cloud to deliver our Cloud SaaS and Cloud IaaS offerings; for use by a number of cloud-based vendors in offering their cloud services; for packaged and custom applications for transaction processing; and for data warehousing and business intelligence. The Oracle Database may be deployed in various IT environments including Oracle Cloud and Oracle Cloud at Customer environments, other cloud-based IT environments, and on-premise data centers, among others. As described above, customers may elect to purchase license support for Oracle Database licenses.\n",
            "Oracle Database Enterprise Edition is available with a number of optional add-on products to address specific customer requirements. In addition to the Oracle Database, we offer a portfolio of specialized database products to address particular customer requirements including MySQL, Oracle TimesTen In-Memory Database, Oracle Berkeley DB and Oracle NoSQL Database.\n",
            "Oracle Autonomous Database\n",
            "Oracle Autonomous Database offerings are designed to deliver performance and scale with automated database operations and policy-driven optimization by combining certain Oracle infrastructure technologies including the Oracle Database, Oracle’s Generation 2 Cloud infrastructure, and native machine learning capabilities, among others. Oracle Autonomous Database offerings are designed to lower labor costs and reduce human error for routine database administration tasks including maintenance, tuning, patching, security and backup. Oracle Autonomous Database offerings use self-driving diagnostics for fault prediction and error handling. We believe the Oracle Autonomous Database offerings deliver rapid insights and innovation by enabling organizations to quickly provision a data warehouse that automatically and elastically scales to millions of transactions per second while enabling a flexible payment model for only the capacity used. Oracle Autonomous Database offerings include: \n",
            "\n",
            "\n",
            "\n",
            "\n",
            " \n",
            "\n",
            "•\n",
            "\n",
            "Oracle Autonomous Data Warehouse Cloud Service (ADW), which is designed to be a fully managed, high-performance and elastic service optimized for data warehouse workloads. ADW’s self-patching and self-tuning capabilities are designed to enable upgrades while the database is running, eliminating human error. Oracle ADW automates manual IT tasks such as storing, securing, scaling and backing-up data. In addition, the machine learning based technology of ADW is designed to enable customers to deploy new or move existing data marts and data warehouses to the cloud; and\n",
            "\n",
            "\n",
            "\n",
            "\n",
            " \n",
            "\n",
            "•\n",
            "\n",
            "Oracle Autonomous Transaction Processing Cloud Service (ATP), which is designed to enable businesses to safely run a complex mix of high-performance transactions, reporting and batch processing using instant, elastic compute and storage through an Oracle Database running on an Oracle Exadata cloud-based instance. Oracle ATP is designed to enable organizations to conduct real-time transactional data analysis \n",
            "9\n",
            "\n",
            "Table of Contents\n",
            "Index to Financial Statements\n",
            " \n",
            "\n",
            "\n",
            "\n",
            "\n",
            " \n",
            "\n",
            "\n",
            "for faster results and lower administration costs, and to eliminate cyber-attacks on unpatched or unencrypted databases. Oracle ATP is designed to be simple and agile to develop and deploy new applications because complex management and tuning is not required. The integration of Oracle ATP with other Oracle Cloud Services, such as Java Cloud and Oracle APEX, and the open interfaces and integrations of Oracle ATP provide developers with a modern, open platform to develop new and innovative applications.\n",
            "Oracle ADW and Oracle ATP both offer the following options, among others:\n",
            "\n",
            "\n",
            "\n",
            "\n",
            " \n",
            "\n",
            "•\n",
            "\n",
            "Shared Exadata Infrastructure, which is a simple and elastic deployment choice Oracle autonomously operates all aspects of the database lifecycle, including database placement, backup and updates; and\n",
            "\n",
            "\n",
            "\n",
            "\n",
            " \n",
            "\n",
            "•\n",
            "\n",
            "Dedicated Exadata Infrastructure, which is designed to provide the characteristics of a private cloud in a public cloud deployment, including dedicated compute, storage, network and database service for a single tenant. Dedicated Exadata Infrastructure deployment is also designed to provide high levels of security isolation and governance with customizable operational policies for autonomous operations for workload placement, workload optimization, schedule updating, availability, over-provisioning and peak usage. \n",
            "Oracle Big Data and Analytics\n",
            "Big data generally refers to a massive amount of unstructured, streaming and structured data that is so large that it is difficult to process using traditional IT techniques. We offer big data and analytics solutions to complement and extend our applications and infrastructure technologies. We believe that most businesses view big data as a potentially high-value source of analytics that can be used to gain new insights into their customers’ behaviors, to anticipate future demand more accurately, to align workforce deployment with business activity forecasts and to accelerate the pace of operations, among other benefits. We offer a broad portfolio of offerings to address an organization’s big data requirements including, among others, cloud-based services for data integration, data management, data science, analytics and integrated machine learning.\n",
            "Oracle Middleware Licenses\n",
            "We license our Oracle Middleware, which is a broad family of integrated application infrastructure software, for use in the Oracle Cloud, other cloud-based environments, on-premise data centers and related IT environments. Oracle Middleware is designed to enable customers to design and integrate Oracle and non-Oracle business applications, automate business processes, scale applications to meet customer demand, simplify security and compliance, manage lifecycles of documents and get actionable, targeted business intelligence. Built with Oracle’s Java technology platform, Oracle Middleware products are designed to be flexible across different deployment environments—cloud, on-premise or hybrid—as a foundation for custom, packaged and composite applications, thereby simplifying and reducing time to deployment. Oracle Middleware is designed to protect customers’ IT investments and work with both Oracle and non-Oracle database, middleware and applications software through an open architecture and adherence to industry standards. In addition, Oracle Middleware supports multiple development languages and tools, which enables developers to flexibly build and deploy web services, websites, portals and web-based applications globally across different IT environments. \n",
            "Among our other middleware license offerings, we license a wide range of development tools, such as Oracle WebLogic Server for Java application development and Oracle Mobile Hub, which is designed to address the needs of businesses that are increasingly focused on delivering mobile device applications to their customers. Customers may elect to purchase license support, as described above, for Oracle Middleware licenses at their option. We also offer certain of our middleware capabilities as a cloud service. \n",
            "Java Licenses\n",
            "Java is the computer industry’s most widely-used software development language and is viewed as a global standard. We believe the Java programming language and platform together represent one of the most popular and powerful development environments in the world, one that is used by millions of developers globally to develop embedded applications, web content, enterprise software and games. Oracle Middleware software \n",
            "10\n",
            "\n",
            "Table of Contents\n",
            "Index to Financial Statements\n",
            " \n",
            "products and certain of our Oracle Applications are built using the Oracle Java technology platform, which we believe is a key advantage for our business. Customers may license the use of Java or access Java Enterprise Edition through Oracle WebLogic Cloud.\n",
            "Java is designed to enable developers to write software on a single platform and run it on many other different platforms, independent of operating system and hardware architecture. Java has been adopted by both independent software vendors (ISVs) that have built their products on Java and by enterprise organizations building custom applications or consuming Java-based ISV products.\n",
            "Oracle Infrastructure Technologies – Hardware Business Offerings\n",
            "Oracle infrastructure technologies are also marketed, sold and delivered through our hardware business, including a broad selection of hardware products and related hardware support services for cloud-based IT environments, data centers and related IT environments.\n",
            "Oracle Engineered Systems\n",
            "Oracle Engineered Systems are core to our cloud-based and on-premise data center infrastructure offerings. Oracle Engineered Systems are pre-integrated products, combining multiple unique Oracle technology components, including database, storage, operating system or middleware software with server, storage and networking hardware and other technologies. Oracle Engineered Systems are designed to work together to deliver improved performance, scalability, availability, security and operational efficiency relative to our competitors’ products; to be upgraded effectively and efficiently; and to simplify maintenance cycles by providing a single solution for software patching. For example, Oracle Exadata Database Machine is a computing platform that is designed to be optimized for running Oracle Database to achieve higher performance and availability at a lower cost by combining Oracle Database, storage and operating system software with Oracle server, storage and networking hardware. We offer certain of our Oracle Engineered Systems, including the Oracle Exadata Database Machine, among others, through flexible deployment options, including on-premise, as an infrastructure cloud service, and as a cloud at customer service. \n",
            "Servers \n",
            "We offer a wide range of server products that are designed for mission-critical enterprise environments and that are key components of our engineered systems offerings and cloud offerings. We have two families of server products: those based on the Oracle SPARC microprocessor, which are designed to be differentiated by their reliability, security and scalability for UNIX environments; and those using microprocessors from Intel Corporation. By offering a range of server sizes and microprocessors, customers are offered the flexibility to choose the types of servers that they believe will be most appropriate and valuable for their particular IT environments. We believe the combination of Oracle server systems with Oracle software enhances our customers’ ability to shift data and workloads between data center and cloud deployments based on an organization’s business requirements.\n",
            "Storage\n",
            "Oracle storage products are engineered for the cloud and designed to securely store, manage, protect and archive customers’ mission-critical data assets generated by any database or application. Oracle storage products combine flash, disk, tape and server technologies with optimized software and unique integrations with the Oracle Database and are designed to offer greater performance and efficiency, and lower total cost relative to our competitors’ storage products. Certain of our storage products are also offered as Oracle Cloud Services for backup and archiving.  Our storage offerings include, among others, Oracle’s Zero Data Loss Recovery Appliance that provides unique, recovery-focused data protection for the Oracle Database; Oracle ZFS Storage Appliance, a unified storage system that combines network attached storage, storage area network and object storage capabilities; and Oracle’s StorageTek tape storage and automation product line, which includes tape drives, tape libraries, media and software packages that provide lifecycle data management and security for enterprise backup and archive requirements.\n",
            "11\n",
            "\n",
            "Table of Contents\n",
            "Index to Financial Statements\n",
            " \n",
            "Industry-Specific Hardware Offerings \n",
            "We offer hardware products and services designed for certain specific industries including, among others, our point-of-sale terminals and related hardware that are designed for managing businesses within the food and beverage, hotel and retail industries; and hardware products and services for communications networks including network signaling, policy control and subscriber data management solutions, and session border control technology.\n",
            "Operating Systems, Virtualization, Management and Other Hardware-Related Software\n",
            "We offer a portfolio of operating systems, including Oracle Linux and Oracle Solaris, virtualization software including Oracle VM, and other hardware-related software including development, management and file systems tools that are designed to optimize the performance, efficiency, and security of hardware products while providing customers with high levels of flexibility, reliability and availability. We also offer a range of management technologies and products, including Oracle Enterprise Manager, designed to help customers efficiently operate complex IT environments, including both end users’ and service providers’ cloud environments. \n",
            "Hardware Support \n",
            "Our hardware support offerings provide customers with unspecified software updates for software components that are essential to the functionality of our hardware products and associated software products such as Oracle Solaris. These offerings can also include product repairs, maintenance services and technical support services. We continue to evolve hardware support processes that are intended to proactively identify and solve quality issues and to increase the amount of new and renewed hardware support contracts sold in connection with the sales of our hardware products. Hardware support contracts are generally priced as a percentage of the net hardware products fees. \n",
            "Services \n",
            "We offer services to help customers and partners maximize the performance of their investments in Oracle applications and infrastructure technologies. We believe that our services are differentiated based on our focus on Oracle technologies, extensive experience and broad sets of intellectual property and best practices. Our services offerings include, among others:\n",
            "\n",
            "\n",
            "\n",
            "\n",
            " \n",
            "\n",
            "•\n",
            "\n",
            "consulting services, which are designed to help our customers and global system integrator partners more successfully architect and deploy our cloud and license offerings, including IT strategy alignment, enterprise architecture planning and design, implementation, integration, application development, security assessments and ongoing software enhancements and upgrades. We utilize a global, blended delivery model to optimize value for our customers and partners, consisting of consultants from local geographies, industry specialists and consultants from our global delivery and solution centers;\n",
            "\n",
            "\n",
            "\n",
            "\n",
            " \n",
            "\n",
            "•\n",
            "\n",
            "advanced customer services, which are support services provided by Oracle to a customer on-site or remote to enable increased performance and higher availability of a customer’s Oracle products and services; and\n",
            "\n",
            "\n",
            "\n",
            "\n",
            " \n",
            "\n",
            "•\n",
            "\n",
            "education services for Oracle’s cloud and license offerings, including training and certification programs that are offered to customers, partners and employees through a variety of formats including instructor-led classes, live virtual training, in-application guided learning, video-based training on demand, online learning subscriptions, private events and custom training.\n",
            "Oracle Cloud Operations\n",
            "Oracle Cloud Operations deliver our Oracle Cloud Services to customers through a secure, reliable, scalable, enterprise grade cloud infrastructure platform managed by Oracle employees within a global network of data centers, which we refer to as the Oracle Cloud. The Oracle Cloud enables secure and isolated cloud-based instances for each of our customers to access the functionality of Oracle Cloud Services via a broad spectrum of \n",
            "12\n",
            "\n",
            "Table of Contents\n",
            "Index to Financial Statements\n",
            " \n",
            "devices. Oracle Cloud Operations leverage automated software tools to enable the rapid delivery of the latest cloud technology capabilities to the Oracle Cloud as they become available, providing Oracle customers access to the latest Oracle technologies generally on a quarterly cadence. \n",
            "Manufacturing \n",
            "To produce our hardware products that we market and sell to third-party customers and that Oracle Cloud Operations utilize internally to deliver Oracle Cloud Services, we rely on both our internal manufacturing operations as well as third-party manufacturing partners. Our internal manufacturing operations consist primarily of materials procurement, assembly, testing and quality control of our Oracle Engineered Systems and certain of our enterprise and data center servers and storage products. For all other manufacturing, we generally rely on third-party manufacturing partners to produce our hardware-related components and hardware products and we may involve our internal manufacturing operations in the final assembly, testing and quality control processes for these components and products. We distribute most of our hardware products from either our facilities or partner facilities. Our manufacturing processes are substantially based on standardization of components across product types, centralization of assembly and distribution centers and a “build-to-order” methodology in which products generally are built only after customers have placed firm orders. Production of our hardware products requires that we purchase materials, supplies, product subassemblies and full assemblies from a number of vendors. For most of our hardware products, we have existing alternate sources of supply or such sources are readily available. However, we do rely on sole sources for certain of our hardware products. As a result, we monitor and evaluate potential risks of disruption to our supply chain operations. Refer to “Risk Factors” included in Item 1A within this Annual Report for additional discussion of the challenges we encounter with respect to the sources and availability of supplies for our products and the related risks to our business. \n",
            "Sales and Marketing\n",
            "We directly market and sell our cloud, license, hardware, support and services offerings to businesses of many sizes and in many industries, government agencies and educational institutions. We also market and sell our offerings through indirect channels. No single customer accounted for 10% or more of our total revenues in fiscal 2020, 2019 or 2018. \n",
            "In the United States (U.S.), our sales and services employees are based in our headquarters and in field offices throughout the country. Outside the U.S., our international subsidiaries sell, support and service our offerings in their local countries as well as within other foreign countries where we do not operate through a direct sales subsidiary. Our geographic coverage allows us to draw on business and technical expertise from a global workforce, provides stability to our operations and revenue streams to offset geography specific economic trends, and offers us an opportunity to take advantage of new markets for our offerings. Our international operations subject us to certain risks, which are more fully described in “Risk Factors” included in Item 1A of this Annual Report. A summary of our domestic and international revenues and long-lived assets is set forth in Note 15 of Notes to Consolidated Financial Statements included elsewhere in this Annual Report.\n",
            "We also market our product offerings worldwide through indirect channels. The companies that comprise our indirect channel network are members of the Oracle Partner Network. The Oracle Partner Network is a global program that manages our business relationships with a large, broad-based network of companies, including independent software and hardware vendors, system integrators and resellers that deliver innovative solutions and services based upon our product offerings. By offering our partners access to our product offerings, educational information, technical services, marketing and sales support, the Oracle Partner Network program extends our market reach by providing our partners with the resources they need to be successful in delivering solutions to customers globally. The majority of our hardware products are sold through indirect channels including independent distributors and value-added resellers.\n",
            "13\n",
            "\n",
            "Table of Contents\n",
            "Index to Financial Statements\n",
            " \n",
            "Research and Development\n",
            "We develop the substantial majority of our product offerings internally. In addition, we have extended our product offerings and intellectual property through acquisitions of businesses and technologies. We also purchase or license intellectual property rights in certain circumstances. Internal development allows us to maintain technical control over the design and development of our products. We have a number of U.S. and foreign patents and pending applications that relate to various aspects of our products and technology. While we believe that our patents have value, no single patent is essential to us or to any of our principal businesses. Rapid technological advances in cloud, software and hardware development, evolving standards in computer hardware and software technology, changing customer needs and frequent new product introductions, offerings and enhancements characterize the markets in which we compete. We plan to continue to dedicate a significant amount of resources to research and development efforts to maintain and improve our current products and services offerings. \n",
            "Employees\n",
            "As of May 31, 2020, we employed approximately 135,000 full-time employees, including approximately 36,000 in sales and marketing, approximately 19,000 in our cloud services and license support operations, approximately 3,000 in hardware, approximately 25,000 in services, approximately 39,000 in research and development and approximately 13,000 in general and administrative positions. Of these employees, approximately 47,000 were employed in the U.S. and approximately 88,000 were employed internationally. None of our employees in the U.S. is represented by a labor union; however, in certain foreign subsidiaries, labor unions or workers’ councils represent some of our employees.\n",
            "Seasonality and Cyclicality\n",
            "Our quarterly revenues have historically been affected by a variety of seasonal factors, including the structure of our sales force incentive compensation plans, which are common in the technology industry. In each fiscal year, our total revenues and operating margins are typically highest in our fourth fiscal quarter and lowest in our first fiscal quarter. The operating margins of our businesses (in particular, our cloud and license business and hardware business) are generally affected by seasonal factors in a similar manner as our revenues because certain expenses within our cost structure are relatively fixed in the short term. See “Cloud and License Business” and “Selected Quarterly Financial Data” in Item 7 of this Annual Report for more information regarding the seasonality and cyclicality of our revenues, expenses and margins.\n",
            "Competition\n",
            "We face intense competition in all aspects of our business. The nature of the IT industry creates a competitive landscape that is constantly evolving as firms emerge, expand or are acquired, as technology evolves and as customer demands and competitive pressures otherwise change.\n",
            "Our customers are demanding less complexity and lower total cost in the implementation, sourcing, integration and ongoing maintenance of their IT environments. Our enterprise cloud, license and hardware offerings compete directly with certain offerings from some of the largest and most competitive companies in the world, including Amazon.com, Inc., Microsoft Corporation, International Business Machines Corporation (IBM), Intel Corporation, Cisco Systems, Inc., Adobe Systems Incorporated, Alphabet Inc. and SAP SE, as well as other companies like Hewlett-Packard Enterprise, salesforce.com, inc. and Workday, Inc. In addition, due to the low barriers to entry in many of our market segments, new technologies and new and growing competitors frequently emerge to challenge our offerings. Our competitors range from companies offering broad IT solutions across many of our lines of business to vendors providing point solutions, or offerings focused on a specific functionality, product area or industry. In addition, as we expand into new market segments, we face increased competition as we compete with existing competitors, as well as firms that may be partners in other areas of our business and other firms with whom we have not previously competed. Moreover, we or our competitors may take certain strategic actions—including acquisitions, partnerships and joint ventures, or repositioning of product lines—which invite even greater competition in one or more product offering categories. \n",
            "14\n",
            "\n",
            "Table of Contents\n",
            "Index to Financial Statements\n",
            " \n",
            "Key competitive factors in each of the segments in which we currently compete and may compete in the future include: total cost of ownership, performance, scalability, reliability, security, functionality, efficiency, ease of use, speed to production and quality of technical support. Our product and service sales (and the relative strength of our products and services versus those of our competitors) are also directly and indirectly affected by the following, among other factors:\n",
            "\n",
            "\n",
            "\n",
            "\n",
            " \n",
            "\n",
            "•\n",
            "\n",
            "market adoption of cloud-based IT offerings including SaaS and IaaS offerings; \n",
            "\n",
            "\n",
            "\n",
            "\n",
            " \n",
            "\n",
            "•\n",
            "\n",
            "the ease of deployment, use, transacting for and maintenance of our products and services offerings;\n",
            "\n",
            "\n",
            "\n",
            "\n",
            " \n",
            "\n",
            "•\n",
            "\n",
            "compatibility between Oracle products and services deployed within local IT environments and public cloud IT environments, including our Oracle Cloud environments;\n",
            "\n",
            "\n",
            "\n",
            "\n",
            " \n",
            "\n",
            "•\n",
            "\n",
            "the adoption of commodity servers and microprocessors;\n",
            "\n",
            "\n",
            "\n",
            "\n",
            " \n",
            "\n",
            "•\n",
            "\n",
            "the broader “platform” competition between our industry standard Java technology platform and the .NET programming environment of Microsoft;\n",
            "\n",
            "\n",
            "\n",
            "\n",
            " \n",
            "\n",
            "•\n",
            "\n",
            "operating system competition among our Oracle Solaris and Linux operating systems, with alternatives including Microsoft’s Windows Server, and other UNIX and Linux operating systems;\n",
            "\n",
            "\n",
            "\n",
            "\n",
            " \n",
            "\n",
            "•\n",
            "\n",
            "the adoption of open source alternatives to commercial software by enterprise software customers;\n",
            "\n",
            "\n",
            "\n",
            "\n",
            " \n",
            "\n",
            "•\n",
            "\n",
            "products, features and functionality developed internally by customers and their IT staff; \n",
            "\n",
            "\n",
            "\n",
            "\n",
            " \n",
            "\n",
            "•\n",
            "\n",
            "products, features and functionality customized and implemented for customers by consultants, systems integrators or other third parties; and\n",
            "\n",
            "\n",
            "\n",
            "\n",
            " \n",
            "\n",
            "•\n",
            "\n",
            "the attractiveness of offerings from business processing outsourcers.\n",
            "For more information about the competitive risks we face, refer to Item 1A “Risk Factors” included elsewhere in this Annual Report. \n",
            "Available Information\n",
            "Our Annual Report on Form 10-K, Quarterly Reports on Form 10-Q, Current Reports on Form 8-K and amendments to those reports filed pursuant to Sections 13(a) and 15(d) of the Securities Exchange Act of 1934, as amended, are available, free of charge, on the SEC’s website at www.sec.gov and our Investor Relations website at www.oracle.com/investor as soon as reasonably practicable after we electronically file such materials with, or furnish it to, the SEC. We use our Investor Relations website as a means of disclosing material non-public information. Accordingly, investors should monitor our Investor Relations website, in addition to following our press releases, SEC filings and public conference calls and webcasts. In addition, information regarding our environmental policy and global sustainability initiatives and solutions are also available on our website www.oracle.com/corporate/citizenship. The information posted on or accessible through our website is not incorporated into this Annual Report.\n",
            "Information about our Executive Officers\n",
            "Our executive officers are listed below.\n",
            " \n",
            "\n",
            "\n",
            "\n",
            "\n",
            "Name\n",
            "\n",
            " \n",
            "\n",
            "Office(s)\n",
            "\n",
            "\n",
            "\n",
            "Lawrence J. Ellison\n",
            "\n",
            " \n",
            "\n",
            "Chairman of the Board of Directors and Chief Technology Officer\n",
            "\n",
            "\n",
            "\n",
            "Safra A. Catz\n",
            "\n",
            " \n",
            "\n",
            "Chief Executive Officer and Director\n",
            "\n",
            "\n",
            "\n",
            "Jeffrey O. Henley\n",
            "\n",
            " \n",
            "\n",
            "Vice Chairman of the Board of Directors\n",
            "\n",
            "\n",
            "\n",
            "Edward Screven\n",
            "\n",
            " \n",
            "\n",
            "Executive Vice President, Chief Corporate Architect\n",
            "\n",
            "\n",
            "\n",
            "Dorian E. Daley\n",
            "\n",
            " \n",
            "\n",
            "Executive Vice President and General Counsel\n",
            "\n",
            "\n",
            "\n",
            "William Corey West\n",
            "\n",
            " \n",
            "\n",
            "Executive Vice President, Corporate Controller and Chief Accounting Officer\n",
            "\n",
            "\n",
            "15\n",
            "\n",
            "Table of Contents\n",
            "Index to Financial Statements\n",
            " \n",
            "Mr. Ellison, 75, has been our Chairman of the Board and Chief Technology Officer since September 2014. He served as our Chief Executive Officer from June 1977, when he founded Oracle, until September 2014. He has served as a Director since June 1977. He previously served as our Chairman of the Board from May 1995 to January 2004. He currently serves as a director of Tesla, Inc.\n",
            "Ms. Catz, 58, has been our Chief Executive Officer since September 2014. She served as our President from January 2004 to September 2014, our Chief Financial Officer most recently from April 2011 until September 2014 and a Director since October 2001. She was previously our Chief Financial Officer from November 2005 until September 2008 and our Interim Chief Financial Officer from April 2005 until July 2005. Prior to being named our President, she held various other positions with us since joining Oracle in 1999. She currently serves as a director of The Walt Disney Company and she previously served as a director of HSBC Holdings plc.\n",
            "Mr. Henley, 75, has served as our Vice Chairman of the Board since September 2014. He previously served as our Chairman of the Board from January 2004 to September 2014 and has served as a Director since June 1995. He served as our Executive Vice President and Chief Financial Officer from March 1991 to July 2004.\n",
            "Mr. Screven, 55, has been Executive Vice President, Chief Corporate Architect since May 2015. He served as our Senior Vice President, Chief Corporate Architect from November 2006 to April 2015 and as Vice President, Chief Corporate Architect from January 2003 to November 2006. He held various other positions with us since joining Oracle in 1986.\n",
            "Ms. Daley, 61, has been our Executive Vice President and General Counsel since April 2015. She served as our Secretary from October 2007 until October 2017 and she was our Senior Vice President, General Counsel from October 2007 to April 2015. She served as our Vice President, Legal, Associate General Counsel and Assistant Secretary from June 2004 to October 2007, as Associate General Counsel and Assistant Secretary from October 2001 to June 2004 and as Associate General Counsel from February 2001 to October 2001. She held various other positions with us since joining Oracle’s Legal Department in 1992.\n",
            "Mr. West, 58, has been our Executive Vice President, Corporate Controller and Chief Accounting Officer since April 2015. He served as our Senior Vice President, Corporate Controller and Chief Accounting Officer from February 2008 to April 2015 and served as our Vice President, Corporate Controller and Chief Accounting Officer from April 2007 to February 2008. His previous experience includes 14 years with Arthur Andersen LLP, most recently as a partner.\n",
            "16\n",
            "\n",
            "Table of Contents\n",
            "Index to Financial Statements\n",
            " \n",
            "\n",
            "\n",
            "\n",
            "\n",
            "\n"
          ],
          "name": "stdout"
        }
      ]
    },
    {
      "cell_type": "code",
      "metadata": {
        "id": "wMEpf4gQPWwf"
      },
      "source": [
        "#Make a function to return Risk factors\n",
        "def get_risk_factors_section(sample_text):\n",
        "  matches=list(re.finditer(re.compile('Item [0-9][A-Z]*\\.'),sample_text))\n",
        "  item_matches=[index for index in range(len(matches)) if matches[index][0]==\"Item 1A.\"]\n",
        "  start=max(item_matches)\n",
        "  end=start+1\n",
        "  #use span to get section text\n",
        "  start=matches[start].span()[1]\n",
        "  end=matches[end].span()[0]\n",
        "  print(sample_text[start:end])\n",
        "  text=sample_text[start:end]\n",
        "  #return text\n",
        "\n"
      ],
      "execution_count": null,
      "outputs": []
    },
    {
      "cell_type": "code",
      "metadata": {
        "id": "ub4HpZ8BVfjw",
        "colab": {
          "base_uri": "https://localhost:8080/",
          "height": 1000
        },
        "outputId": "667822fa-a3ef-4c25-c061-0ebbf01bbf01"
      },
      "source": [
        "get_risk_factors_section(sample_text)"
      ],
      "execution_count": null,
      "outputs": [
        {
          "output_type": "stream",
          "text": [
            "\n",
            "\n",
            "Risk Factors\n",
            "We operate in rapidly changing economic and technological environments that present numerous risks, many of which are driven by factors that we cannot control or predict. The following discussion, as well as our “Critical Accounting Policies and Estimates” discussion in Management’s Discussion and Analysis of Financial Condition and Results of Operations (Item 7), highlights some of these risks. The risks described below are not exhaustive and you should carefully consider these risks and uncertainties before investing in our securities.\n",
            "The COVID-19 pandemic has affected how we and our customers are operating our respective businesses, and the duration and extent to which this will impact our future results of operations and our overall financial performance remains uncertain.  A novel strain of coronavirus (COVID-19) was first identified in late calendar year 2019 and subsequently declared a pandemic by the World Health Organization in March 2020. The long-term impacts, if any, of the global COVID-19 pandemic on our business are currently unknown. We are conducting business as usual with modifications to employee travel, employee work locations, and cancellation of certain marketing events, among other modifications. We will continue to actively monitor the situation and may take further actions that alter our business operations as may be required by federal, state or local authorities or that we determine are in the best interests of our employees, customers, partners, suppliers and stockholders. It is not clear what the potential long-term effects of any such alterations or modifications may have on our business, including the effects on our customers and prospects.\n",
            "We have observed other companies, including customers and partners, taking precautionary and preemptive actions to address the COVID-19 pandemic. Such companies may take further actions that alter their normal business operations if there are future spikes of COVID-19 infections resulting in additional government mandated shutdowns. The conditions caused by the COVID-19 pandemic have adversely affected our customers’ willingness to purchase our products and delayed prospective customers’ purchasing decisions.  The impacts of the global COVID-19 pandemic on the broader global economy have been swift, dramatic and unpredictable. The latency and duration of these impacts are diverse across geographies and jurisdictions in which we market, sell and develop our offerings. The depth and duration of the current economic declines attributable to the COVID-19 pandemic, and any potential economic recoveries, are not currently known. In the fourth quarter of fiscal 2020 we experienced revenue declines compared to the fourth quarter of fiscal 2019 and delayed payments from customers. The effect of the pandemic for fiscal 2021 and future periods is unknown. If we are not able to respond to and manage the impact of the COVID-19 pandemic effectively, our business will be harmed.\n",
            "Our success depends upon our ability to develop new products and services, integrate acquired products and services and enhance our existing products and services.     Rapid technological advances, intense competition, changing delivery models and evolving standards in computer hardware and software development and communications infrastructure, changing and increasingly sophisticated customer needs and frequent new product introductions and enhancements characterize the industries in which we compete. If we are unable to develop new or sufficiently differentiated products and services, enhance and improve our product offerings and support services in a timely manner or position and price our products and services to meet demand, customers may not purchase or subscribe to our license, hardware or cloud offerings or renew license support, hardware support or cloud subscriptions contracts. Renewals of these contracts are important to the growth of our business. In addition, we cannot provide any assurance that the standards on which we choose to develop new products will allow us to compete effectively for business opportunities in emerging areas.\n",
            "We have continued to refresh and release new offerings of our cloud products and services. Machine learning and artificial intelligence are increasingly driving innovations in technology but if they fail to operate as anticipated or our other products do not perform as promised, our business and reputation may be harmed.\n",
            "17\n",
            "\n",
            "Table of Contents\n",
            "Index to Financial Statements\n",
            " \n",
            "In addition, our business may be adversely affected if:\n",
            "\n",
            "\n",
            "\n",
            "\n",
            " \n",
            "\n",
            "•\n",
            "\n",
            "we do not continue to develop and release new or enhanced products and services within the anticipated time frames;\n",
            "\n",
            "\n",
            "\n",
            "\n",
            " \n",
            "\n",
            "•\n",
            "\n",
            "infrastructure costs to deliver new or enhanced products and services take longer or result in greater costs than anticipated; \n",
            "\n",
            "\n",
            "\n",
            "\n",
            " \n",
            "\n",
            "•\n",
            "\n",
            "there is a delay in market acceptance of and difficulty in transitioning new and existing customers to new, enhanced or acquired product lines or services;\n",
            "\n",
            "\n",
            "\n",
            "\n",
            " \n",
            "\n",
            "•\n",
            "\n",
            "there are changes in information technology (IT) trends that we do not adequately anticipate or address with our product development efforts;\n",
            "\n",
            "\n",
            "\n",
            "\n",
            " \n",
            "\n",
            "•\n",
            "\n",
            "we do not optimize complementary product lines and services in a timely manner; or\n",
            "\n",
            "\n",
            "\n",
            "\n",
            " \n",
            "\n",
            "•\n",
            "\n",
            "we fail to adequately integrate, support or enhance acquired product lines or services.\n",
            "Our Oracle Cloud strategy, including our Oracle Cloud Software-as-a-Service and Infrastructure-as-a-Service (SaaS and IaaS, respectively, and collectively, Oracle Cloud Services) offerings, may adversely affect our revenues and profitability.     We provide our cloud and other offerings to customers worldwide via deployment models that best suit their needs, including via our cloud-based SaaS and IaaS offerings. As these business models continue to evolve, we may not be able to compete effectively, generate significant revenues or maintain the profitability of our cloud offerings. Additionally, the increasing prevalence of cloud and SaaS delivery models offered by us and our competitors may unfavorably impact the pricing of our cloud and license offerings. If we do not successfully execute our cloud computing strategy or anticipate the cloud computing needs of our customers, our reputation as a cloud services provider could be harmed and our revenues and profitability could decline.\n",
            "As customer demand for our cloud offerings increases, we experience volatility in our reported revenues and operating results due to the differences in timing of revenue recognition between our cloud license and on-premise license, and hardware product arrangements relative to our cloud offering arrangements. Customers generally purchase our cloud offerings on a subscription basis and revenues from these offerings are generally recognized ratably over the terms of the subscriptions. Consequently, any deterioration in sales activity associated with our cloud offerings may not be immediately observable in our consolidated statement of operations. This is in contrast to revenues associated with our license and hardware product arrangements, which are generally recognized in full at the time of delivery of the related licenses and hardware products. In addition, we may not be able to accurately anticipate customer transition from or be able to sufficiently backfill reduced customer demand for our license, hardware and support offerings relative to the expected increase in customer adoption of and demand for our Oracle Cloud Services, which could adversely affect our revenues and profitability.\n",
            "We might experience significant coding, manufacturing or configuration errors in our cloud, license and hardware offerings.     Despite testing prior to the release and throughout the lifecycle of a product or service, our cloud, license and hardware offerings sometimes contain coding, manufacturing or configuration errors that can impact their function, performance and security, and result in other negative consequences. The detection and correction of any errors in released cloud, license or hardware offerings can be time consuming and costly. Errors in our cloud, license or hardware offerings could affect their ability to properly function, integrate or operate with other cloud, license or hardware offerings, could delay the development or release of new products or services or new versions of products or services, could create security vulnerabilities in our products or services, and could adversely affect market acceptance of our products or services. This includes third-party software products or services incorporated into our own. If we experience errors or delays in releasing our cloud, license or hardware offerings or new versions of these offerings, our sales could be affected and revenues could decline. In addition, we run Oracle’s business operations as well as cloud and other services that we offer to our customers on our products and networks. Therefore, any flaws could affect our and our customers’ abilities to conduct business operations and to ensure accuracy in financial processes and reporting, and may result in unanticipated costs. Enterprise customers rely on our cloud, license and hardware offerings and related services to run their businesses and errors in our cloud, license and hardware offerings and related services could expose us to product liability, \n",
            "18\n",
            "\n",
            "Table of Contents\n",
            "Index to Financial Statements\n",
            " \n",
            "performance and warranty claims as well as significant harm to our brand and reputation, which could impact our future sales.\n",
            "If our security measures for our products and services are compromised and as a result, our data, our customers’ data or our IT systems are accessed improperly, made unavailable, or improperly modified, our products and services may be perceived as vulnerable, our brand and reputation could be damaged, the IT services we provide to our customers could be disrupted, and customers may stop using our products and services, all of which could reduce our revenue and earnings, increase our expenses and expose us to legal claims and regulatory actions.     We are in the IT business, and our products and services, including our Oracle Cloud Services, store, retrieve, manipulate and manage our customers’ information and data, external data, as well as our own data. We have a reputation for secure and reliable product offerings and related services, and we have invested a great deal of time and resources in protecting the integrity and security of our products, services and the internal and external data that we manage. At times, we encounter attempts by third parties (which may include individuals or groups of hackers and sophisticated organizations, such as state-sponsored organizations, nation states and individuals sponsored by them) to identify and exploit product and service vulnerabilities, penetrate or bypass our security measures, and gain unauthorized access to our or our customers’, partners’ and suppliers’ software, hardware and cloud offerings, networks and systems, any of which could lead to the compromise of personal information or the confidential information or data of Oracle or our customers. Computer hackers and others may be able to develop and deploy IT related viruses, worms, and other malicious software programs that could attack our networks, systems, products and services, exploit potential security vulnerabilities of our networks, systems, products and services, create system disruptions and cause shutdowns or denials of service. This is also true for third-party data, products or services incorporated into our own. Our products and services, including our Oracle Cloud Services, may also be accessed or modified improperly as a result of customer, partner, employee or supplier error or malfeasance and third parties may attempt to fraudulently induce customers, partners, employees or suppliers into disclosing sensitive information such as user names, passwords or other information in order to gain access to our data, our customers’, suppliers’ or partners’ data or the IT systems of Oracle, our customers, suppliers or partners.\n",
            "Security industry experts and government officials have warned about the risks of hackers and cyber-attacks targeting IT products and businesses. Although this is an industry-wide problem that affects software and hardware companies generally, it affects Oracle in particular because computer hackers tend to focus their efforts on the most prominent IT companies, and they may focus on Oracle because of our reputation for, and marketing efforts associated with, having secure products and services. These risks will increase as we continue to grow our cloud offerings and store and process increasingly large amounts of data, including personal information and our customers’ confidential information and data, and host or manage parts of our customers’ businesses in cloud-based IT environments, especially in customer sectors involving particularly sensitive data such as health sciences, financial services, retail, hospitality and the government. We also have an active acquisition program and have acquired a number of companies, products, services and technologies over the years. While we make significant efforts to address any IT security issues with respect to our acquired companies, we may still inherit such risks when we integrate these companies within Oracle.\n",
            "Because the techniques used to obtain unauthorized access to, or sabotage IT systems change frequently, grow more complex over time, and often are not recognized until launched against a target, we may be unable to anticipate or implement adequate measures to prevent such techniques. Our internal IT systems continue to evolve and we are often early adopters of new technologies. However, our business policies and internal security controls may not keep pace with these changes as new threats emerge. In addition, we often experience increased activity of this nature during times of instability, including during the COVID-19 pandemic, when our operations may be more susceptible to malfeasance due to operational changes instituted to comply with safety, health and regulatory requirements, among others. We may not discover any security breach and loss of information for a significant period of time after the security breach.\n",
            "We could suffer significant damage to our brand and reputation if a cyber-attack or other security incident were to allow unauthorized access to or modification of our customers’ or suppliers’ data, other external data, or our own data or our IT systems or if the services we provide to our customers were disrupted, or if our products or services are reported to have or are perceived as having security vulnerabilities. Customers could lose confidence in the security and reliability of our products and services, including our cloud offerings, and perceive them to not be \n",
            "19\n",
            "\n",
            "Table of Contents\n",
            "Index to Financial Statements\n",
            " \n",
            "secure. This could lead to fewer customers using our products and services and result in reduced revenues and earnings. The costs we would incur to address and fix these security incidents would increase our expenses. These types of security incidents could also lead to loss or destruction of information, inappropriate use of proprietary and sensitive data, lawsuits, indemnity obligations, regulatory investigations and financial penalties, and claims and increased legal liability, including in some cases contractual costs related to customer notification and fraud monitoring.\n",
            "Our products operate in conjunction with and are dependent on products and components across a broad ecosystem. If there is a security vulnerability in one of these components, and if there is a security exploit targeting it, we could face increased costs, liability claims, customer dissatisfaction, reduced revenue, or harm to our reputation or competitive position.\n",
            "Our business practices with respect to data could give rise to operational interruption, liabilities or reputational harm as a result of governmental regulation, legal requirements or industry standards relating to privacy and data protection.     As regulatory focus on privacy issues continues to increase and worldwide laws and regulations concerning the handling of personal information expand and become more complex, potential risks related to data collection and use within our business will intensify. In addition, U.S. and foreign governments have enacted or are considering enacting legislation or regulations, or may in the near future interpret existing legislation or regulations, in a manner that could significantly impact our ability, as well as the ability of our customers, partners and data providers, to collect, augment, analyze, use, transfer and share personal and other information that is integral to certain services we provide.\n",
            "In the wake of the European Union General Data Protection Regulation (GDPR), the rate of global consideration and adoption of privacy laws has increased, giving rise to more global jurisdictions in which regulatory inquiries and audits may be requested of Oracle, and if we are not deemed to be in compliance, could result in enforcement actions and/or fines. This is true in the U.S., where the California Consumer Privacy Act (CCPA) became effective in January 2020, the U.S. Congress is considering several privacy bills at the federal level, and other state legislatures are considering privacy laws. Regulators globally are also imposing greater monetary fines for privacy violations. The GDPR, which became effective in May 2018, provides for monetary penalties of up to 4% of an organization’s worldwide revenue. These penalties can be significant. For example, one European data protection regulator has fined a major U.S. technology company EUR 50 million for its data handling practices. The U.S. Federal Trade Commission continues to fine companies on a regular basis for unfair and deceptive data protection practices, and these fines may increase in size. The CCPA provides for statutory damages on a per violation basis that could be very large in the event of a significant data security breach or other CCPA violation. Taken together, the changes in laws or regulations associated with the enhanced protection of personal and other types of data could greatly increase the size of potential fines related to data protection, and our cost of providing our products and services could result in changes to our business practices or even prevent us from offering certain services in jurisdictions in which we operate. Although we have implemented contracts, policies and procedures designed to ensure compliance with applicable laws and regulations, there can be no assurance that our employees, contractors, partners, data providers or agents will not violate such laws and regulations or our contracts, policies and procedures. Additionally, public perception and standards related to the privacy of personal information can shift rapidly, in ways that may affect our reputation or influence regulators to enact regulations and laws that may limit our ability to provide certain products and services.\n",
            "We make statements about our use and disclosure of personal information through our privacy policy, information provided on our website and press statements. Any failure, or perceived failure, by us to comply with these public statements or with U.S. federal, state, or foreign laws and regulations, including laws and regulations regulating privacy, data security, or consumer protection, public perception, standards, self-regulatory requirements or legal obligations, could result in lost or restricted business, proceedings, actions or fines brought against us or levied by governmental entities or others, or could adversely affect our business and harm our reputation.\n",
            "Economic, political and market conditions can adversely affect our business, results of operations and financial condition, including our revenue growth and profitability, which in turn could adversely affect our stock price.      Our business is influenced by a range of factors that are beyond our control and that we have no comparative advantage in forecasting. These include:\n",
            "20\n",
            "\n",
            "Table of Contents\n",
            "Index to Financial Statements\n",
            " \n",
            "\n",
            "\n",
            "\n",
            "\n",
            " \n",
            "\n",
            "•\n",
            "\n",
            "general economic and business conditions;\n",
            "\n",
            "\n",
            "\n",
            "\n",
            " \n",
            "\n",
            "•\n",
            "\n",
            "overall demand for enterprise cloud, license and hardware products and services;\n",
            "\n",
            "\n",
            "\n",
            "\n",
            " \n",
            "\n",
            "•\n",
            "\n",
            "governmental budgetary constraints or shifts in government spending priorities; and\n",
            "\n",
            "\n",
            "\n",
            "\n",
            " \n",
            "\n",
            "•\n",
            "\n",
            "general legal, regulatory and political developments.\n",
            "Macroeconomic developments like the United Kingdom leaving the EU (Brexit), evolving trade policies between the U.S. and international trade partners, or the occurrence of similar events in other countries that lead to uncertainty or instability in economic, political or market conditions could negatively affect our business, operating results, financial condition and outlook, which, in turn, could adversely affect our stock price. Any general weakening of, and related declining corporate confidence in, the global economy or the curtailment of government or corporate spending could cause current or potential customers to reduce or eliminate their IT budgets and spending, which could cause customers to delay, decrease or cancel purchases of our products and services or cause customers not to pay us or to delay paying us for previously purchased products and services.\n",
            "In addition, international, regional or domestic political unrest and the related potential impact on global stability, terrorist attacks and the potential for other hostilities in various parts of the world, public health crises such as the outbreak of the novel coronavirus COVID-19, and natural disasters continue to contribute to a climate of economic and political uncertainty that could adversely affect our results of operations and financial condition, including our revenue growth and profitability. These factors generally have the strongest effect on our sales of cloud license and on-premise license, hardware and related services and, to a lesser extent, also may affect our renewal rates for license support and our subscription-based cloud offerings.\n",
            "If we are unable to compete effectively, the results of operations and prospects for our business could be harmed.      We face intense competition in all aspects of our business. The nature of the IT industry creates a competitive landscape that is constantly evolving as firms emerge, expand or are acquired, as technology evolves and as delivery models change. Many vendors spend amounts in excess of what Oracle spends to develop and market applications and infrastructure technologies including databases, middleware products, application development tools, business applications, collaboration products and business intelligence, compute, storage and networking products, among others, which compete with Oracle applications and infrastructure offerings. Use of our competitors’ technologies influences a customer’s purchasing decision or creates an environment that makes it less efficient to utilize or migrate to Oracle products and services. Our competitors may also adopt business practices that provide customers access to competing products and services at a risk profile that we may not generally find acceptable, which may convince customers to purchase competitor products and services. We could lose customers if our competitors introduce new competitive products, add new functionality, acquire competitive products, reduce prices, better execute on their sales and marketing strategies, offer more flexible business practices or form strategic alliances with other companies. We may also face increasing competition from open source software initiatives in which competitors may provide software and intellectual property for free. Existing or new competitors could gain sales opportunities or customers at our expense.\n",
            "We may need to change our pricing models to compete successfully.     The intense competition we face in the sales of our products and services and general economic and business conditions can put pressure on us to change our prices. If our competitors offer deep discounts on certain products or services or develop products that the marketplace considers more valuable, we may need to lower prices, introduce pricing models and offerings that are less favorable to us, or offer other favorable terms in order to compete successfully. Any such changes may reduce revenues and margins and could adversely affect operating results. Additionally, the increasing prevalence of cloud delivery models offered by us and our competitors may unfavorably impact the pricing of our other cloud and license, hardware and services offerings, and we may also incur increased cloud delivery expenses as we expand our cloud operations and update our infrastructure, all of which could reduce our revenues and/or profitability. Our license support fees and hardware support fees are generally priced as a percentage of our net license fees and net new hardware products fees, respectively. Our competitors may offer lower pricing on their support offerings, which could put pressure on us to further discount our offerings. \n",
            "21\n",
            "\n",
            "Table of Contents\n",
            "Index to Financial Statements\n",
            " \n",
            "We introduced Oracle Bring Your Own License (BYOL) and Universal Credit Pricing to simplify the way customers purchase and consume our cloud services. Oracle BYOL enables customers to maintain their existing software licenses for Oracle Infrastructure while expanding their IaaS footprint at a discounted price. Oracle Universal Credit Pricing provides a flexible model for customers to access Oracle Infrastructure services on demand via a single contract. Any future changes to our prices and pricing policies could cause our revenues to decline or be delayed as our sales force implements and our customers adjust to the new pricing policies. Some of our competitors may bundle products for promotional purposes or as a long-term pricing strategy, commit to large customer deployments at prices that are unprofitable, or provide guarantees of prices and product implementations. These practices could, over time, significantly constrain the prices that we can charge for certain of our products. If we do not adapt our pricing models to reflect changes in customer use of our products or changes in customer demand, our revenues could decrease. The increase in open source software distribution may also cause us to change our pricing models.\n",
            "Our international sales and operations subject us to additional risks that can adversely affect our operating results.     We derive a substantial portion of our revenues from, and have significant operations, outside of the U.S. Our international operations include cloud operations, cloud, software and hardware development, manufacturing, assembly, sales, customer support, consulting and other services and shared administrative service centers.\n",
            "Compliance with international and U.S. laws and regulations that apply to our international operations increases our cost of doing business in foreign jurisdictions. These laws and regulations include U.S. laws and local laws which include data privacy requirements, labor relations laws, tax laws, foreign currency-related regulations, anti-competition regulations, anti-bribery laws and other laws prohibiting payments to governmental officials such as the U.S. Foreign Corrupt Practices Act (FCPA), market access regulations, tariffs, and import, export and general trade regulations, including but not limited to economic sanctions and embargos. Violations of these laws and regulations could result in fines and penalties, criminal sanctions against us, our officers or our employees, and prohibitions on the conduct of our business, including the loss of trade privileges. Any such violations could result in prohibitions on our ability to offer our products and services in one or more countries, could delay or prevent potential acquisitions and could also materially damage our reputation, our brand, our international expansion efforts, our ability to attract and retain employees, our business and our operating results. Compliance with these laws requires a significant amount of management attention and effort, which may divert management’s attention from running our business operations and could harm our ability to grow our business, or may increase our expenses as we engage specialized or other additional resources to assist us with our compliance efforts. Our success depends, in part, on our ability to anticipate these risks and manage these difficulties. We monitor our operations and investigate allegations of improprieties relating to transactions and the way in which such transactions are recorded. Where circumstances warrant, we provide information and report our findings to government authorities, and in some circumstances such authorities conduct their own investigations and we respond to their requests or demands for information. No assurance can be given that action will not be taken by such authorities or that our compliance program will prove effective.\n",
            "We are also subject to a variety of other risks and challenges in managing an organization operating globally, including those related to:\n",
            "\n",
            "\n",
            "\n",
            "\n",
            " \n",
            "\n",
            "•\n",
            "\n",
            "general economic conditions, including the latency in economic impacts and associated economic recoveries, if any, in each country or region;\n",
            "\n",
            "\n",
            "\n",
            "\n",
            " \n",
            "\n",
            "•\n",
            "\n",
            "public health risks, social risks and supporting infrastructure stability risks, particularly in areas in which we have significant operations;\n",
            "\n",
            "\n",
            "\n",
            "\n",
            " \n",
            "\n",
            "•\n",
            "\n",
            "fluctuations in currency exchange rates and related impacts on customer demand and our operating results;\n",
            "\n",
            "\n",
            "\n",
            "\n",
            " \n",
            "\n",
            "•\n",
            "\n",
            "difficulties in transferring funds from or converting currencies in certain countries that could lead to a devaluation of our net assets, in particular our cash assets, in that country’s currency;\n",
            "22\n",
            "\n",
            "Table of Contents\n",
            "Index to Financial Statements\n",
            " \n",
            "\n",
            "\n",
            "\n",
            "\n",
            " \n",
            "\n",
            "•\n",
            "\n",
            "regulatory changes, including government austerity measures in certain countries that we may not be able to sufficiently plan for or avoid that may unexpectedly impair bank deposits or other cash assets that we hold in these countries or that impose additional taxes that we may be required to pay in these countries;\n",
            "\n",
            "\n",
            "\n",
            "\n",
            " \n",
            "\n",
            "•\n",
            "\n",
            "political unrest, terrorism and the potential for other hostilities;\n",
            "\n",
            "\n",
            "\n",
            "\n",
            " \n",
            "\n",
            "•\n",
            "\n",
            "common local business behaviors that are in direct conflict with our business ethics, practices and conduct policies;\n",
            "\n",
            "\n",
            "\n",
            "\n",
            " \n",
            "\n",
            "•\n",
            "\n",
            "natural disasters;\n",
            "\n",
            "\n",
            "\n",
            "\n",
            " \n",
            "\n",
            "•\n",
            "\n",
            "the effects of climate change (such as sea level rise, drought, flooding, wildfires and increased storm sensitivity);\n",
            "\n",
            "\n",
            "\n",
            "\n",
            " \n",
            "\n",
            "•\n",
            "\n",
            "longer payment cycles and difficulties in collecting accounts receivable;\n",
            "\n",
            "\n",
            "\n",
            "\n",
            " \n",
            "\n",
            "•\n",
            "\n",
            "overlapping tax regimes; and\n",
            "\n",
            "\n",
            "\n",
            "\n",
            " \n",
            "\n",
            "•\n",
            "\n",
            "reduced protection for intellectual property rights in some countries.\n",
            "The variety of risks and challenges listed above could also disrupt or otherwise negatively impact the supply chain operations for our hardware business and the sales of our products and services in affected countries or regions.\n",
            "As the majority shareholder of Oracle Financial Services Software Limited, a publicly traded company in India, and Oracle Corporation Japan, a publicly traded company in Japan, we are faced with several additional risks, including being subject to local securities regulations and being unable to exert full control that we would otherwise have if these entities were wholly-owned subsidiaries.\n",
            "Any failure to offer high-quality technical support services may adversely affect our relationships with our customers and our financial results.  Our customers depend on our support organization to resolve technical issues relating to our applications and infrastructure offerings. We may be unable to respond quickly enough to accommodate short-term increases in customer demand for support services or may be inefficient in our resolution of customer support issues. Increased customer demand for these services, without corresponding revenues, could increase costs and adversely affect our operating results. Any failure to maintain high-quality technical support, or a market perception that we do not maintain high-quality technical support, could adversely affect our reputation, our ability to sell our applications and infrastructure offerings to existing and prospective customers, and our business, operating results, and financial position.\n",
            "We may fail to achieve our financial forecasts due to inaccurate sales forecasts or other factors.   Our revenues, particularly certain of our cloud license and on-premise license revenues and hardware revenues, can be difficult to forecast. As a result, our quarterly operating results can fluctuate.\n",
            "For our Oracle Cloud Services, our actual conversion or renewal rates may differ from those used in our forecasts because this business is continuing to evolve and such rates may be unpredictable which could have an adverse effect on our long-term results. For our license business, we use a “pipeline” system, a common industry practice, to forecast sales and trends in that business. Our sales personnel monitor the status of all proposals and estimate when a customer will make a purchase decision and the dollar amount of the sale. These estimates are aggregated periodically to generate a sales pipeline. Our pipeline estimates can be unreliable both in a particular quarter and over a longer period of time, in part because the conversion rate or closure rate of the pipeline into contracts can be very difficult to estimate. A reduction in the conversion rates, renewal rates, or in the pipeline itself, could adversely affect our business or results of operations. In particular, sudden shifts in regional or global economic activity such as those being experienced with the COVID-19 pandemic, a slowdown in IT spending or economic conditions generally can unexpectedly reduce the conversion rates and renewal rates in particular periods as purchasing decisions are delayed, reduced in amount or cancelled. The conversion rates can also be affected by the tendency of some of our customers to wait until the end of a fiscal period in the hope of obtaining more favorable terms, which can also impede our ability to negotiate, execute and deliver upon these contracts in a timely manner. In addition, for newly acquired companies, we have limited ability to predict how their pipelines \n",
            "23\n",
            "\n",
            "Table of Contents\n",
            "Index to Financial Statements\n",
            " \n",
            "will convert into sales or revenues for a number of quarters following the acquisition. Conversion rates and renewal rates post-acquisition may be quite different from the acquired companies’ historical conversion rates. Differences in conversion rates and renewal rates can also be affected by changes in business practices that we implement in our newly acquired companies. These changes may negatively affect customer behavior.\n",
            "A substantial portion of the revenue value of our cloud license and on-premise license, and hardware contracts is completed in the latter part of a quarter and a significant percentage of these are larger value orders. Because a significant portion of our cost structure is largely fixed in the short term, sales and revenue shortfalls tend to have a disproportionately negative impact on our profitability. The number of large license transactions and, to a lesser extent, hardware products transactions increases the risk of fluctuations in our quarterly results because a delay in even a small number of these transactions could cause our quarterly sales, revenues and profitability to fall significantly short of our predictions.\n",
            "We may experience foreign currency gains and losses. Changes in currency exchange rates can adversely affect customer demand and our revenue and profitability.     We conduct a significant number of transactions and hold cash in currencies other than the U.S. Dollar. Changes in the values of major foreign currencies, particularly the Euro, Japanese Yen and British Pound, relative to the U.S. Dollar can significantly affect our total assets, revenues, operating results and cash flows, which are reported in U.S. Dollars. In particular, the economic uncertainties relating to Brexit, and European sovereign and other debt obligations may cause the value of the British Pound and Euro to fluctuate relative to the U.S. Dollar. Fluctuations in foreign currency rates, including the strengthening of the U.S. Dollar against the Euro and most other major international currencies, adversely affects our revenue growth in terms of the amounts that we report in U.S. Dollars after converting our foreign currency results into U.S. Dollars and in terms of actual demand for our products and services as certain of these products may become relatively more expensive for foreign currency-based enterprises to purchase. In addition, currency variations can adversely affect margins on sales of our products in countries outside of the U.S. Generally, our reported revenues and operating results are adversely affected when the dollar strengthens relative to other currencies and are positively affected when the dollar weakens. In addition, our reported assets generally are adversely affected when the dollar strengthens relative to other currencies as a portion of our consolidated cash and bank deposits, among other assets, are held in foreign currencies and reported in U.S. Dollars.\n",
            "In addition, we incur foreign currency transaction gains and losses, primarily related to sublicense fees and other intercompany agreements among us and our subsidiaries that we expect to cash settle in the near term, which are charged to earnings in the period incurred. We have a program which primarily utilizes foreign currency forward contracts designed to offset the risks associated with certain foreign currency exposures. We may suspend the program from time to time. As part of this program, we enter into foreign currency forward contracts so that increases or decreases in our foreign currency exposures are offset at least in part by gains or losses on the foreign currency forward contracts in an effort to mitigate the risks and volatility associated with our foreign currency transaction gains or losses. A large portion of our consolidated operations are international, and we expect that we will continue to realize gains or losses with respect to our foreign currency exposures, net of gains or losses from our foreign currency forward contracts. For example, we will experience foreign currency gains and losses in certain instances if it is not possible or cost-effective to hedge our foreign currency exposures, if our hedging efforts are ineffective, or should we suspend our foreign currency forward contract program. Our ultimate realized loss or gain with respect to currency fluctuations will generally depend on the size and type of cross-currency exposures that we enter into, the currency exchange rates associated with these exposures and changes in those rates, whether we have entered into foreign currency forward contracts to offset these exposures and other factors. All of these factors could materially impact our results of operations, financial position and cash flows.\n",
            "We have incurred foreign currency losses associated with the devaluation of currencies in certain highly inflationary economies relative to the U.S. Dollar. We could incur future losses in emerging market countries where we do business should their currencies become designated as highly inflationary.\n",
            "Our periodic workforce restructurings and reorganizations can be disruptive.     We are currently restructuring our workforce and in the past we have restructured or made other adjustments to our workforce in response to management changes, product changes, performance issues, change in strategies, acquisitions and other internal \n",
            "24\n",
            "\n",
            "Table of Contents\n",
            "Index to Financial Statements\n",
            " \n",
            "and external considerations. These types of restructurings have resulted in increased restructuring costs and temporary reduced productivity while the employees adjusted to their new roles and responsibilities. In addition, we may not achieve or sustain the expected growth, resource redeployment or cost savings benefits of these restructurings, or may not do so within the expected timeframe. These effects could recur in connection with future acquisitions and other restructurings and our revenues and other results of operations could be negatively affected.\n",
            "We may lose key employees or may be unable to hire enough qualified employees.     We rely on hiring qualified employees and the continued service of our senior management, including our Chairman of the Board of Directors, Chief Technology Officer and founder; our Chief Executive Officer; other members of our executive team; and other key employees. In the technology industry, there is substantial and continuous competition for highly skilled business, product development, technical and other personnel. We may also experience increased compensation costs that are not offset by either improved productivity or higher sales. We may not be successful in recruiting new personnel and in retaining and motivating existing personnel. With rare exceptions, we do not have long-term employment or non-competition agreements with our employees. Members of our senior management team have left Oracle over the years for a variety of reasons, and we cannot guarantee that there will not be additional departures, which may be disruptive to our operations. \n",
            "We continually focus on improving our cost structure by hiring personnel in countries where advanced technical expertise and other expertise are available at lower costs. When we make adjustments to our workforce, we may incur expenses associated with workforce reductions that delay the benefit of a more efficient workforce structure. We may also experience increased competition for employees in these countries as the trend toward globalization continues, which may affect our employee retention efforts and increase our expenses in an effort to offer a competitive compensation program. In addition, changes to immigration and labor law policies may adversely impact our access to technical and professional talent.\n",
            "Our general compensation program includes restricted stock units and performance-based equity, which are important tools in attracting and retaining employees in our industry. If our stock price performs poorly, it may adversely affect our ability to retain or attract employees. We continually evaluate our compensation practices and consider changes from time to time, such as reducing the number of employees granted equity awards or the number of equity awards granted per employee and granting alternative forms of stock-based compensation, which may have an impact on our ability to retain employees and the amount of stock-based compensation expense that we record. Any changes in our compensation practices or those of our competitors could affect our ability to retain and motivate existing personnel and recruit new personnel.\n",
            "Our sales to government clients expose us to business volatility and risks, including government budgeting cycles and appropriations, procurement regulations, governmental policy shifts, early termination of contracts, audits, investigations, sanctions and penalties.     We derive revenues from contracts with the U.S. government, state and local governments, and foreign governments and are subject to procurement laws and regulations relating to the award, administration and performance of those contracts.\n",
            "Governmental entities are variously pursuing policies that affect our ability to sell our products and services. Changes in government procurement policy, priorities, regulations, technology initiatives and requirements, and/or contract award criteria may negatively impact our potential for growth in the government sector. For example, the U.S. Department of Defense (DoD) has issued cybersecurity requirements for contractors’ internal systems through a mandatory cybersecurity contract clause referred to as “DFARS 7012” and will be implementing a new third-party accreditation program known as the Cybersecurity Maturity Model Certification (CMMC).  The DFARS 7012 and CMMC requirements may impact our lines of business in the U.S. federal government market. Compliance with these cybersecurity requirements is complex and costly, and failure to meet the required security controls could limit our ability to sell products and services, directly or indirectly, to the DoD and other federal government entities that implement similar cybersecurity requirements.\n",
            "We are also subject to early termination of our contracts. Many governmental entities have the right to terminate contracts at any time, without cause. For example, the U.S. federal government may terminate any of our government contracts and subcontracts at its convenience, or for default based on our performance.\n",
            "25\n",
            "\n",
            "Table of Contents\n",
            "Index to Financial Statements\n",
            " \n",
            "U.S. federal contracts are subject to the congressional approval of appropriations to fund the expenditures under these contracts. Similarly, our contracts with U.S. state and local governments, foreign governments and their agencies are generally subject to government funding authorizations. Contracts may be terminated based upon a lack of appropriated funds.\n",
            "There is increased pressure on governments and their agencies, both domestically and internationally, to reduce spending as governments continue to face significant deficit reduction pressures. This may adversely impact spending on government programs.\n",
            "Government contracts laws and regulations impose certain risks, and contracts are generally subject to audits and investigations. If violations of law are found, they could result in civil and criminal penalties and administrative sanctions, including termination of contracts, refund of a portion of fees received, forfeiture of profits, suspension of payments, fines and suspensions or debarment from future government business.\n",
            "Acquisitions present many risks and we may not achieve the financial and strategic goals that were contemplated at the time of a transaction.     We continue to review and consider strategic acquisitions of companies, products, services and technologies. We have a selective and active acquisition program and we expect to continue to make acquisitions in the future because acquisitions are an important element of our overall corporate strategy. Risks we may face in connection with our acquisition program include:\n",
            "\n",
            "\n",
            "\n",
            "\n",
            " \n",
            "\n",
            "•\n",
            "\n",
            "our ongoing business may be disrupted and our management’s attention may be diverted by acquisition, transition or integration activities;\n",
            "\n",
            "\n",
            "\n",
            "\n",
            " \n",
            "\n",
            "•\n",
            "\n",
            "we may have difficulties (1) managing an acquired company’s technologies or lines of business; (2) entering new markets where we have no, or limited, direct prior experience or where competitors may have stronger market positions; or (3) retaining key personnel from the acquired companies;\n",
            "\n",
            "\n",
            "\n",
            "\n",
            " \n",
            "\n",
            "•\n",
            "\n",
            "an acquisition may not further our business strategy as we expected, we may not integrate an acquired company or technology as successfully as we expected, we may impose our business practices or alter go-to-market strategies that adversely impact the acquired business or we may overpay for, or otherwise not realize the expected return on our investments, which could adversely affect our business or operating results and potentially cause impairment to assets that we recorded as a part of an acquisition including intangible assets and goodwill;\n",
            "\n",
            "\n",
            "\n",
            "\n",
            " \n",
            "\n",
            "•\n",
            "\n",
            "our operating results or financial condition may be adversely impacted by (1) claims or liabilities that we assume from an acquired company or technology or that are otherwise related to an acquisition, including, among others, claims from government agencies, terminated employees, current or former customers, former stockholders or other third parties; (2) pre-existing contractual relationships that we assume from an acquired company that we would not have otherwise entered into, the termination or modification of which may be costly or disruptive to our business; (3) unfavorable revenue recognition or other accounting treatment as a result of an acquired company’s practices; and (4) intellectual property claims or disputes;\n",
            "\n",
            "\n",
            "\n",
            "\n",
            " \n",
            "\n",
            "•\n",
            "\n",
            "we may fail to identify or assess the magnitude of certain liabilities, shortcomings or other circumstances prior to acquiring a company or technology, which could result in (1) unexpected litigation or regulatory exposure, (2) unfavorable accounting treatment, (3) unexpected increases in taxes due or the loss of anticipated tax benefits or (4) other adverse effects on our business, operating results or financial condition;\n",
            "\n",
            "\n",
            "\n",
            "\n",
            " \n",
            "\n",
            "•\n",
            "\n",
            "we may not realize any anticipated increase in our revenues from an acquisition for a number of reasons, including (1) if a larger than predicted number of customers decline to renew cloud-based subscription contracts or license support or hardware support contracts, (2) if we are unable to sell the acquired products or service offerings to our customer base, (3) if acquired customers do not elect to purchase our technologies due to differing business practices or (4) if contract models utilized by an acquired company do not allow us to recognize revenues on a timely basis;\n",
            "26\n",
            "\n",
            "Table of Contents\n",
            "Index to Financial Statements\n",
            " \n",
            "\n",
            "\n",
            "\n",
            "\n",
            " \n",
            "\n",
            "•\n",
            "\n",
            "we may have difficulty incorporating acquired technologies, products, services and their related supply chain operations with our existing lines of business and supply chain infrastructure and maintaining uniform standards, architecture, controls, procedures and policies;\n",
            "\n",
            "\n",
            "\n",
            "\n",
            " \n",
            "\n",
            "•\n",
            "\n",
            "we may have multiple product lines or services offerings as a result of our acquisitions that are offered, priced, delivered and supported differently, which could cause customer confusion and delays;\n",
            "\n",
            "\n",
            "\n",
            "\n",
            " \n",
            "\n",
            "•\n",
            "\n",
            "we may incur higher than anticipated costs (1) to support, develop and deliver acquired products or services, (2) for general and administrative functions that support new business models, or (3) to comply with regulations applicable to an acquired business that are more complicated than we had anticipated;\n",
            "\n",
            "\n",
            "\n",
            "\n",
            " \n",
            "\n",
            "•\n",
            "\n",
            "we may be unable to obtain timely approvals from, or may otherwise have certain limitations, restrictions, penalties or other sanctions imposed on us by worker councils or similar bodies under applicable employment laws as a result of an acquisition, which could adversely affect our integration plans in certain jurisdictions and potentially increase our integration and restructuring expenses;\n",
            "\n",
            "\n",
            "\n",
            "\n",
            " \n",
            "\n",
            "•\n",
            "\n",
            "we may be unable to obtain required approvals from governmental authorities under competition and antitrust laws on a timely basis, if at all, which could, among other things, (1) delay or prevent us from completing a transaction, (2) adversely affect our integration plans in certain jurisdictions, (3) restrict our ability to realize the expected financial or strategic goals of an acquisition, or (4) have other adverse effects on our current business and operations;\n",
            "\n",
            "\n",
            "\n",
            "\n",
            " \n",
            "\n",
            "•\n",
            "\n",
            "our use of cash to pay for acquisitions may limit other potential uses of our cash, including (1) stock repurchases, (2) dividend payments and (3) retirement of outstanding indebtedness, among others;\n",
            "\n",
            "\n",
            "\n",
            "\n",
            " \n",
            "\n",
            "•\n",
            "\n",
            "we may significantly increase our interest expense, leverage and debt service requirements if we incur additional debt to pay for an acquisition and we may have to delay or not proceed with a substantial acquisition if we cannot obtain the necessary funding to complete the acquisition in a timely manner or on favorable terms;\n",
            "\n",
            "\n",
            "\n",
            "\n",
            " \n",
            "\n",
            "•\n",
            "\n",
            "to the extent that we issue a significant amount of equity securities in connection with future acquisitions, existing stockholders may be diluted and earnings per share may decrease; and\n",
            "\n",
            "\n",
            "\n",
            "\n",
            " \n",
            "\n",
            "•\n",
            "\n",
            "we may experience additional or unexpected changes in how we are required to account for our acquisitions pursuant to U.S. generally accepted accounting principles, including arrangements that we may assume in an acquisition.\n",
            "The occurrence of any of these risks could have a material adverse effect on our business, results of operations, financial condition or cash flows, particularly in the case of a larger acquisition or several concurrent acquisitions.\n",
            "Our hardware revenues and profitability have declined and could continue to decline.     Our hardware business may adversely affect our total revenues and overall profitability and related growth rates. We may not achieve our estimated revenue, profit or other financial projections with respect to our hardware business in a timely manner or at all due to a number of factors, including:\n",
            "\n",
            "\n",
            "\n",
            "\n",
            " \n",
            "\n",
            "•\n",
            "\n",
            "our changes in hardware offerings, technologies and strategies, including shifting factory locations, which could adversely affect supply and demand for our hardware products;\n",
            "\n",
            "\n",
            "\n",
            "\n",
            " \n",
            "\n",
            "•\n",
            "\n",
            "our hardware business has higher expenses as a percentage of revenues, and thus has been less profitable, than our cloud and license business;\n",
            "\n",
            "\n",
            "\n",
            "\n",
            " \n",
            "\n",
            "•\n",
            "\n",
            "our focus on certain of our more profitable Oracle Engineered Systems and certain other hardware products we consider strategic and the de-emphasis of certain of our lower profit margin commodity hardware products could adversely affect our hardware revenues; \n",
            "\n",
            "\n",
            "\n",
            "\n",
            " \n",
            "\n",
            "•\n",
            "\n",
            "changes in strategies and frequency for the development and introduction of new versions or next generations of our hardware products could adversely affect our hardware revenues;\n",
            "27\n",
            "\n",
            "Table of Contents\n",
            "Index to Financial Statements\n",
            " \n",
            "\n",
            "\n",
            "\n",
            "\n",
            " \n",
            "\n",
            "•\n",
            "\n",
            "general supply chain material shortages worldwide prior to the outbreak of COVID-19, which we expect will be further exacerbated globally as a result of the virus pandemic;\n",
            "\n",
            "\n",
            "\n",
            "\n",
            " \n",
            "\n",
            "•\n",
            "\n",
            "a greater risk of material charges that could adversely affect our operating results, such as potential write-downs and impairments of our inventories; higher warranty expenses than what we experience in our cloud and license and services businesses; and amortization and potential impairment of intangible assets associated with our hardware business;\n",
            "\n",
            "\n",
            "\n",
            "\n",
            " \n",
            "\n",
            "•\n",
            "\n",
            "decreased customer demand for related hardware support as hardware products approach the end of their useful lives, which could adversely affect our hardware revenues; and\n",
            "\n",
            "\n",
            "\n",
            "\n",
            " \n",
            "\n",
            "•\n",
            "\n",
            "we may acquire hardware companies that are strategically important to us but (1) operate in hardware businesses with historically lower operating margins than our own; (2) have different legacy business practices and go-to-market strategies than our own that we may alter as a part of our integration efforts, which may significantly impact our estimated revenues and profits from the acquired company; (3) leverage different platforms or competing technologies that we may encounter difficulties in integrating; or (4) utilize unique manufacturing processes that affect our ability to scale these acquired products within our own manufacturing operations.\n",
            "Our hardware offerings are complex products, and if we cannot successfully manage this complexity, the results of our hardware business will suffer.     We depend on suppliers to develop, manufacture and deliver on a timely basis the necessary technologies and components for our hardware products, and there are some technologies and components that can only be purchased from a single vendor due to price, quality, technology, availability or other business constraints. As a result, our supply chain operations could be disrupted or negatively impacted by industry consolidation and component constraints or shortages, natural disasters, political unrest, public health crises such as the outbreak of the novel coronavirus COVID-19, changes to trade policies, port stoppages or other transportation disruptions or slowdowns, or other factors affecting the countries or regions where these single source component vendors are located or where the products are being shipped. We may be unable to purchase these items from the respective single vendors on acceptable terms or may experience significant shortages, delays or quality issues in the delivery of necessary technologies, parts or components from a particular vendor. If one or more of the risks described above occurs, our hardware business and related operating results could be materially and adversely affected.\n",
            "We are susceptible to third-party manufacturing and logistics delays, which could result in the loss of sales and customers.     We outsource the manufacturing, assembly, delivery and technology or component design of certain of our hardware products to a variety of companies, many of which are located outside the U.S. From time to time, these partners experience production problems or delays or cannot meet our demand for products. To reduce this risk, we continue to explore additional third-party manufacturing partners to drive supply chain continuity, but finding additional manufacturing sources in a timely and cost-effective manner is difficult. Third-party manufacturing and logistics delays attributable to the effects of COVID-19 caused a loss of sales during our fourth quarter of fiscal 2020. Ongoing or future delays in manufacturing could cause the loss of additional sales, delayed revenue recognition or an increase in our hardware products expenses, all of which could adversely affect the margins of our hardware business. These challenges and risks also exist when we acquire companies with hardware products and related supply chain operations and could arise if we alter our manufacturing strategies, suppliers or locations. In some cases, we may be dependent, at least initially, on these acquired companies’ supply chain operations or other manufacturing operations that we are less familiar with and thus we may be slower to adjust or react to these challenges and risks.\n",
            "Our cloud and license, and hardware indirect sales channels could affect our future operating results.     Our cloud and license, and hardware indirect channel network is comprised primarily of resellers, system integrators/implementers, consultants, education providers, internet service providers, network integrators and independent software vendors. Our relationships with these channel participants are important elements of our cloud, software and hardware marketing and sales efforts. Our financial results could be adversely affected if our contracts with channel participants were terminated, if our relationships with channel participants were to deteriorate, if any of our competitors enter into strategic relationships with or acquire a significant channel \n",
            "28\n",
            "\n",
            "Table of Contents\n",
            "Index to Financial Statements\n",
            " \n",
            "participant, if the financial condition or operations of our channel participants were to weaken or if the level of demand for our channel participants’ products and services were to decrease. There can be no assurance that we will be successful in maintaining, expanding or developing our relationships with channel participants. If we are not successful, we may lose sales opportunities, customers and revenues.\n",
            "We may not be able to protect our intellectual property rights.     We rely on copyright, trademark, patent and trade secret laws, confidentiality procedures, controls and contractual commitments to protect our intellectual property rights. Despite our efforts, these protections may be limited. Unauthorized third parties may try to copy or reverse engineer portions of our products or otherwise obtain and use our intellectual property. Any patents owned by us may be invalidated, circumvented or challenged. Any of our pending or future patent applications, whether or not being currently challenged, may not be issued with the scope of the claims we seek, if at all. In addition, the laws of some countries do not provide the same level of protection of our intellectual property rights as do the laws and courts of the U.S. If we cannot protect our intellectual property rights against unauthorized copying or use, or other misappropriation, we may not remain competitive.\n",
            "Third parties have claimed, and in the future may claim, infringement or misuse of intellectual property rights and/or breach of license agreement provisions.     We periodically receive notices from, or have lawsuits filed against us by, others claiming infringement or other misuse of their intellectual property rights and/or breach of our agreements with them. These third parties include entities that do not have the capabilities to design, manufacture, or distribute products or services or that acquire intellectual property like patents for the sole purpose of monetizing their acquired intellectual property through asserting claims of infringement and misuse. We expect to continue to receive such claims as:\n",
            "\n",
            "\n",
            "\n",
            "\n",
            " \n",
            "\n",
            "•\n",
            "\n",
            "we continue to expand into new businesses and acquire companies;\n",
            "\n",
            "\n",
            "\n",
            "\n",
            " \n",
            "\n",
            "•\n",
            "\n",
            "the number of products and competitors in our industry segments grows;\n",
            "\n",
            "\n",
            "\n",
            "\n",
            " \n",
            "\n",
            "•\n",
            "\n",
            "the use and support of third-party code (including open source code) becomes more prevalent in the industry;\n",
            "\n",
            "\n",
            "\n",
            "\n",
            " \n",
            "\n",
            "•\n",
            "\n",
            "the volume of issued patents continues to increase; and\n",
            "\n",
            "\n",
            "\n",
            "\n",
            " \n",
            "\n",
            "•\n",
            "\n",
            "non-practicing entities continue to assert intellectual property infringement in our industry segments.\n",
            "Responding to any such claim, regardless of its validity, could:\n",
            "\n",
            "\n",
            "\n",
            "\n",
            " \n",
            "\n",
            "•\n",
            "\n",
            "be time consuming, costly and result in litigation;\n",
            "\n",
            "\n",
            "\n",
            "\n",
            " \n",
            "\n",
            "•\n",
            "\n",
            "divert management’s time and attention from developing our business;\n",
            "\n",
            "\n",
            "\n",
            "\n",
            " \n",
            "\n",
            "•\n",
            "\n",
            "require us to pay monetary damages or enter into royalty and licensing agreements that we would not normally find acceptable;\n",
            "\n",
            "\n",
            "\n",
            "\n",
            " \n",
            "\n",
            "•\n",
            "\n",
            "require us to stop selling or to redesign certain of our products;\n",
            "\n",
            "\n",
            "\n",
            "\n",
            " \n",
            "\n",
            "•\n",
            "\n",
            "require us to release source code to third parties, possibly under open source license terms;\n",
            "\n",
            "\n",
            "\n",
            "\n",
            " \n",
            "\n",
            "•\n",
            "\n",
            "require us to satisfy indemnification obligations to our customers; or\n",
            "\n",
            "\n",
            "\n",
            "\n",
            " \n",
            "\n",
            "•\n",
            "\n",
            "otherwise adversely affect our business, results of operations, financial condition or cash flows.\n",
            "We may not receive significant revenues from our current research and development efforts for several years, if at all.     Developing our various product offerings is expensive and the investment in the development of these offerings often involves a long return on investment cycle. An important element of our corporate strategy is to continue to dedicate a significant amount of resources to research and development and related product and service opportunities both through internal investments and the acquisition of intellectual property from companies that we have acquired. Accelerated product and service introductions and short lifecycles require high levels of expenditures for research and development that could adversely affect our operating results if not offset by revenue increases. We believe that we must continue to dedicate a significant amount of resources to our \n",
            "29\n",
            "\n",
            "Table of Contents\n",
            "Index to Financial Statements\n",
            " \n",
            "research and development efforts to maintain our competitive position. However, we do not expect to receive significant revenues from these investments for several years, if at all.\n",
            "Business disruptions could adversely affect our operating results.     A significant portion of our critical business operations are concentrated in a few geographic areas, some of which include emerging market international locations that may be less stable relative to running such business operations solely within the U.S. We are a highly automated business and a disruption or failure of our systems, supply chains and processes could cause delays in completing sales, providing services, including some of our cloud offerings, and enabling a seamless customer experience with respect to our customer facing back office processes. A major earthquake or fire, political, social or other disruption to infrastructure that supports our operations or other catastrophic event or the effects of climate change (such as increased storm severity, drought and pandemics) that results in the destruction or disruption of any of our critical business, supply chains or IT systems could severely affect our ability to conduct normal business operations and, as a result, our future operating results could be materially and adversely affected.\n",
            "Adverse litigation results could affect our business.     We are subject to various legal proceedings. Litigation can be lengthy, expensive and disruptive to our operations, and can divert our management’s attention away from running our core business. The results of our litigation also cannot be predicted with certainty. An adverse decision could result in monetary damages or injunctive relief that could affect our business, operating results or financial condition. Additional information regarding certain of the lawsuits we are involved in is discussed under Note 17 of Notes to Consolidated Financial Statements included elsewhere in this Annual Report.\n",
            "We may have exposure to additional tax liabilities.     As a multinational corporation, we are subject to income taxes as well as non-income based taxes, in both the U.S. and various foreign jurisdictions. Significant uncertainties exist with respect to the amount of our tax liabilities, including those arising from potential changes in laws in the countries in which we do business and the possibility of adverse determinations with respect to the application of existing laws. Many judgments are required in determining our worldwide provision for income taxes and other tax liabilities, and we are regularly under audit by tax authorities, which often do not agree with positions taken by us on our tax returns. Any unfavorable resolution of these uncertainties may have a significant adverse impact on our tax rate.\n",
            "Increasingly, countries around the world are actively considering or have enacted changes in relevant tax, accounting and other laws, regulations and interpretations. In particular, the U.S. Tax Cuts and Jobs Act of 2017 (the Tax Act) significantly changed how corporations are taxed in the U.S., which has an ongoing impact on our provision for income taxes. The U.S. Treasury Department and the Internal Revenue Service (IRS), and other standards-setting bodies are continuing to issue guidance on how the provisions of the Tax Act will be applied and it is possible that the guidance may differ from our interpretation of the legislation. The Tax Act requires complex computations not previously required or produced, and necessitates that we make significant judgments and assumptions in the interpretation of the law where there is a lack of guidance.   \n",
            "Such uncertainty in the application of the Tax Act to our ongoing operations as well as possible adverse future law changes attributable to changes in the U.S. political landscape create the potential for added volatility in our quarterly provision for income taxes and could have an adverse impact on our future tax rate. Various Democratic proposals would partially or wholly reverse beneficial features of the Tax Act, such as by raising the U.S. corporate tax rate and increasing the tax on non-U.S. income.  A change in party control of the White House and U.S. Senate thus could lead to dramatic changes in the tax law and result in an increase in our provision for income taxes.  Increased federal and state fiscal spending to fund COVID-19 relief measures, coupled with a drop in tax revenue from pandemic-related reductions in economic activity, will add to the pressure to raise more tax revenue from federal and state corporate income and other taxes or to enact new types of taxes on businesses and their customers. \n",
            "Other countries also continue to consider enacting changes to their tax laws that could adversely affect us by increasing taxes imposed on our revenue streams and foreign subsidiaries, including changes in withholding tax regimes and the imposition of taxes targeted at certain technology businesses. More fundamentally, longstanding international tax principles that determine each country’s right to tax cross-border transactions are being \n",
            "30\n",
            "\n",
            "Table of Contents\n",
            "Index to Financial Statements\n",
            " \n",
            "reconsidered, creating significant uncertainty as to the future level of corporate income tax on our international operations. This re-examination is driven by a perceived need to provide greater taxing rights to market jurisdictions where customers or users are located. Various measures are being discussed, including adjustments to transfer pricing rules, limitations on deductions, and imposition of additional withholding taxes. The foregoing changes brought about by the Tax Act in combination with the uncertain international tax environment have upended expectations and the predictability and reliability of the global tax system, leading to the ongoing re-evaluation of our global legal and tax operating structure.  The resulting potential modifications to our structure could adversely impact our provision for income taxes. \n",
            "Inherent in our global business operations and legal entity structure are many intercompany transactions and calculations made in the ordinary course of business where the ultimate tax determination is uncertain. Our intercompany transfer pricing has been and is currently being reviewed by the IRS and by foreign tax jurisdictions and will likely be subject to additional audits in the future. Although we have negotiated a number of agreements with certain taxing jurisdictions, these agreements do not cover substantial elements of our transfer pricing. In recent periods, transfer pricing audits in many foreign jurisdictions have become increasingly contentious. Similarly, certain jurisdictions are increasingly raising concerns about certain withholding tax matters under current law. In addition, our provision for income taxes could be adversely affected by shifts of earnings from jurisdictions or regimes that have relatively lower statutory tax rates to those in which the rates are relatively higher.\n",
            "We are also subject to non-income based taxes, such as payroll, sales, use, value-added, net worth, property and goods and services taxes, in both the U.S. and various foreign jurisdictions that have uncertain applicability to the businesses in which we are engaged. Although we believe that our income and non-income based tax estimates are reasonable, there is no assurance that the final determination of tax audits or tax disputes will not be different from what is reflected in our historical income tax provisions and accruals.\n",
            "There are risks associated with our outstanding and future indebtedness.     As of May 31, 2020, we had an aggregate of $71.6 billion of outstanding indebtedness that will mature between calendar year 2020 and calendar year 2060, and we may incur additional indebtedness in the future. Our ability to pay interest and repay the principal for our indebtedness is dependent upon our ability to manage our business operations, generate sufficient cash flows to service such debt and the other factors discussed in this section. There can be no assurance that we will be able to manage any of these risks successfully.\n",
            "We may also need to refinance a portion of our outstanding debt as it matures. There is a risk that we may not be able to refinance existing debt or that the terms of any refinancing may not be as favorable as the terms of our existing debt. Furthermore, if prevailing interest rates or other factors at the time of refinancing result in higher interest rates upon refinancing, then the interest expense relating to that refinanced indebtedness would increase. \n",
            "Should we incur future increases in interest expense, our ability to utilize certain of our foreign tax credits to reduce our U.S. federal income tax could be limited, which could unfavorably affect our provision for income taxes and effective tax rate. In addition, changes by any rating agency to our outlook or credit rating could negatively affect the value of both our debt and equity securities and increase the interest amounts we pay on certain outstanding or future debt. These risks could adversely affect our financial condition and results of operations.\n",
            "Environmental and other related laws and regulations subject us to a number of risks and could result in significant liabilities and costs.     Some of our cloud and hardware operations are subject to state, federal and international laws governing protection of the environment, proper handling and disposal of materials used for these products, human health and safety, the use of certain chemical substances and the labor practices of suppliers, as well as local testing and labelling requirements. Compliance with these ever-changing environmental and other laws in a timely manner could increase our product design, development, procurement, manufacturing, delivery, cloud operations and administration costs, limit our ability to manage excess and obsolete non-compliant inventory, change our sales activities, or otherwise impact future financial results of our cloud and hardware businesses. Any violation of these laws can subject us to significant liability, including fines, penalties and possible prohibition of sales of our products and services into one or more states or countries and result in a material adverse effect on the financial condition or results of operations of our cloud and hardware businesses. \n",
            "31\n",
            "\n",
            "Table of Contents\n",
            "Index to Financial Statements\n",
            " \n",
            "Regulatory, market, and competitive pressures regarding the greenhouse gas emissions and energy mix for our data center operations may also grow.\n",
            "The SEC has adopted disclosure requirements for companies that use certain “conflict minerals” (tantalum, tin, tungsten and gold) in their products. Our supply chain is multi-tiered, global and highly complex. As a provider of hardware end-products, we are several steps removed from the mining and smelting or refining of any conflict minerals in our supply chain. Accordingly, our ability to determine with certainty the origin and chain of custody of conflict minerals is limited. Our relationships with customers and suppliers could suffer if we are unable to describe our products as “conflict-free.” We may also face increased costs in complying with conflict minerals disclosure requirements.\n",
            "A significant portion of our hardware revenues come from international sales. Environmental legislation, such as the EU Directive on Restriction of Hazardous Substances (RoHS), the EU Waste Electrical and Electronic Equipment Directive (WEEE Directive) and China’s regulation on Management Methods for Controlling Pollution Caused by Electronic Information Products, may increase our cost of doing business internationally and impact our hardware revenues from the EU, China and other countries with similar environmental legislation as we endeavor to comply with and implement these requirements. The UK Government has announced a procurement policy that includes environmental, social and economic sustainability measures. \n",
            "Our stock price could become more volatile and your investment could lose value.    All of the factors discussed in this section could affect our stock price. The timing of announcements in the public market by us or by our competitors regarding new products, product enhancements, technological advances, acquisitions or major transactions could also affect our stock price. Changes in the amounts and frequency of share repurchases or dividends could affect our stock price. Our stock price could also be affected by factors, some of which are beyond our control, including, among others: speculation in the press and the analyst community, changes in recommendations or earnings estimates by financial analysts, changes in investors’ or analysts’ valuation measures for our stock, negative analyst surveys or channel check surveys, earnings announcements where our financial results differ from our guidance or investors’ expectations, our credit ratings and market trends unrelated to our performance. A significant drop in our stock price could also expose us to the risk of securities class action lawsuits, which could result in substantial costs and divert management’s attention and resources, which could adversely affect our business.\n",
            "We cannot guarantee that our stock repurchase program will be fully implemented or that it will enhance long-term stockholder value.    In fiscal 2020, our Board of Directors approved expansions of our stock repurchase program totaling $30.0 billion. The repurchase program does not have an expiration date and we are not obligated to repurchase a specified number or dollar value of shares. Our repurchase program may be suspended or terminated at any time and, even if fully implemented, may not enhance long-term stockholder value.\n",
            "Charges to earnings resulting from acquisitions may adversely affect our operating results.     Under business combination accounting standards pursuant to Accounting Standards Codification (ASC) 805, Business Combinations, we recognize the identifiable assets acquired, the liabilities assumed and any non-controlling interests in acquired companies generally at their acquisition date fair values and, in each case, separately from goodwill. Goodwill as of the acquisition date is measured as the excess amount of consideration transferred, which is also generally measured at fair value, and the net of the acquisition date amounts of the identifiable assets acquired and the liabilities assumed. Our estimates of fair value are based upon assumptions believed to be reasonable but which are inherently uncertain. After we complete an acquisition, the following factors could result in material charges and adversely affect our operating results and may adversely affect our cash flows:\n",
            "\n",
            "\n",
            "\n",
            "\n",
            " \n",
            "\n",
            "•\n",
            "\n",
            "costs incurred to combine the operations of companies we acquire, such as transitional employee expenses and employee retention, redeployment or relocation expenses;\n",
            "\n",
            "\n",
            "\n",
            "\n",
            " \n",
            "\n",
            "•\n",
            "\n",
            "impairment of goodwill or impairment of intangible assets;\n",
            "\n",
            "\n",
            "\n",
            "\n",
            " \n",
            "\n",
            "•\n",
            "\n",
            "amortization of intangible assets acquired;\n",
            "\n",
            "\n",
            "\n",
            "\n",
            " \n",
            "\n",
            "•\n",
            "\n",
            "a reduction in the useful lives of intangible assets acquired;\n",
            "32\n",
            "\n",
            "Table of Contents\n",
            "Index to Financial Statements\n",
            " \n",
            "\n",
            "\n",
            "\n",
            "\n",
            " \n",
            "\n",
            "•\n",
            "\n",
            "identification of, or changes to, assumed contingent liabilities, both income tax and non-income tax related, after our final determination of the amounts for these contingencies or the conclusion of the measurement period (generally up to one year from the acquisition date), whichever comes first;\n",
            "\n",
            "\n",
            "\n",
            "\n",
            " \n",
            "\n",
            "•\n",
            "\n",
            "charges to our operating results to maintain certain duplicative pre-merger activities for an extended period of time or to maintain these activities for a period of time that is longer than we had anticipated, charges to eliminate certain duplicative pre-merger activities, and charges to restructure our operations or to reduce our cost structure;\n",
            "\n",
            "\n",
            "\n",
            "\n",
            " \n",
            "\n",
            "•\n",
            "\n",
            "charges to our operating results due to expenses incurred to effect the acquisition; and\n",
            "\n",
            "\n",
            "\n",
            "\n",
            " \n",
            "\n",
            "•\n",
            "\n",
            "charges to our operating results due to the expensing of certain stock awards assumed in an acquisition.\n",
            "Substantially all of these costs will be accounted for as expenses that will adversely impact our operating results for the periods in which those costs are incurred. Charges to our operating results in any given period could differ substantially from other periods based on the timing and size of our future acquisitions and the extent of integration activities. A more detailed discussion of our accounting for business combinations and other items is presented in the “Critical Accounting Policies and Estimates” section of Management’s Discussion and Analysis of Financial Condition and Results of Operations (Item 7) included elsewhere in this Annual Report.\n",
            "\n",
            "\n",
            "\n",
            "\n",
            "\n"
          ],
          "name": "stdout"
        }
      ]
    },
    {
      "cell_type": "code",
      "metadata": {
        "id": "ZrZ1TB_jVjwo"
      },
      "source": [
        "#Make a function to return Risk factors\n",
        "def get_risk_factors_section(sample_text):\n",
        "  #sample_text=sample_text.replace('\\xa0', '')\n",
        "  sample_text = unicodedata.normalize(\"NFKD\",sample_text)\n",
        "  matches=list(re.finditer(re.compile('Item [0-9][A-Z]*\\.'),sample_text))\n",
        "  #matches=list(re.finditer(re.compile('Item [0-9][A-Z]*\\.'),sample_text.replace('\\\\xa0', ' ')))\n",
        "  item_matches=[index for index in range(len(matches)) if matches[index][0]==\"Item 1A.\"]\n",
        "  start=max(item_matches)\n",
        "  end=start+1\n",
        "  #use span to get section text\n",
        "  start=matches[start].span()[1]\n",
        "  end=matches[end].span()[0]\n",
        "  #print(sample_text[start:end])\n",
        "  text=sample_text[start:end]\n",
        "  return text"
      ],
      "execution_count": null,
      "outputs": []
    },
    {
      "cell_type": "code",
      "metadata": {
        "id": "gqhxj7H1ehKf"
      },
      "source": [
        "def pull_10k(company_name,company_id):\n",
        "  company = Company(company_name, company_id)\n",
        "  tree = company.get_all_filings(filing_type = \"10-K\")\n",
        "  docs = Company.get_documents(tree, no_of_documents=5)\n",
        "  return docs"
      ],
      "execution_count": null,
      "outputs": []
    },
    {
      "cell_type": "code",
      "metadata": {
        "id": "lwkFhG_8fvns",
        "colab": {
          "base_uri": "https://localhost:8080/",
          "height": 52
        },
        "outputId": "1f36a29e-34d6-4b0b-fc50-6db62e830d21"
      },
      "source": [
        "documents = pull_10k(\"Oracle Corp\", \"0001341439\")\n",
        "print(documents[0])\n",
        "documents[0].text_content()[0:100]"
      ],
      "execution_count": null,
      "outputs": [
        {
          "output_type": "stream",
          "text": [
            "<Element sec-document at 0x7f7fce68b6d8>\n"
          ],
          "name": "stdout"
        },
        {
          "output_type": "execute_result",
          "data": {
            "application/vnd.google.colaboratory.intrinsic+json": {
              "type": "string"
            },
            "text/plain": [
              "'0001564590-20-030125.txt : 20200622\\n0001564590-20-030125.hdr.sgml : 20200622\\n20200622162549\\nACCESSIO'"
            ]
          },
          "metadata": {
            "tags": []
          },
          "execution_count": 198
        }
      ]
    },
    {
      "cell_type": "code",
      "metadata": {
        "id": "hpDNQ4Sfg7Fs"
      },
      "source": [
        "risk_sections=[]\n",
        "for document in documents:\n",
        "  risk_sections.append(get_risk_factors_section(document.text_content()))\n"
      ],
      "execution_count": null,
      "outputs": []
    },
    {
      "cell_type": "code",
      "metadata": {
        "id": "wgLrXd1Rhtp2",
        "colab": {
          "base_uri": "https://localhost:8080/",
          "height": 34
        },
        "outputId": "98992f5a-d675-4b80-e288-e08b2027edf7"
      },
      "source": [
        "print(len(risk_sections))"
      ],
      "execution_count": null,
      "outputs": [
        {
          "output_type": "stream",
          "text": [
            "5\n"
          ],
          "name": "stdout"
        }
      ]
    },
    {
      "cell_type": "code",
      "metadata": {
        "id": "uZypv9qWiFle",
        "colab": {
          "base_uri": "https://localhost:8080/",
          "height": 85
        },
        "outputId": "3003ea01-3811-43c4-efbb-ef2bfc68fa31"
      },
      "source": [
        "print(risk_sections[0][0:100])"
      ],
      "execution_count": null,
      "outputs": [
        {
          "output_type": "stream",
          "text": [
            "\n",
            "\n",
            "Risk Factors\n",
            "We operate in rapidly changing economic and technological environments that present n\n"
          ],
          "name": "stdout"
        }
      ]
    },
    {
      "cell_type": "code",
      "metadata": {
        "id": "5q2zo2GSjIuH"
      },
      "source": [
        "import nltk\n",
        "from sklearn.feature_extraction.text import CountVectorizer\n",
        "import pandas as pd"
      ],
      "execution_count": null,
      "outputs": []
    },
    {
      "cell_type": "code",
      "metadata": {
        "id": "tNJnRhLLjdnh"
      },
      "source": [
        "stemmer=nltk.stem.SnowballStemmer('english')"
      ],
      "execution_count": null,
      "outputs": []
    },
    {
      "cell_type": "code",
      "metadata": {
        "id": "dRV0gwrDjor0"
      },
      "source": [
        "risk_sections= [stemmer.stem(risk_section) for risk_section in risk_sections]"
      ],
      "execution_count": null,
      "outputs": []
    },
    {
      "cell_type": "code",
      "metadata": {
        "id": "D8tyylfPkJCh"
      },
      "source": [
        "vectorizer=CountVectorizer(stop_words='english')\n",
        "counts=vectorizer.fit_transform(risk_sections)\n",
        "counts=pd.DataFrame(counts.toarray(),columns=vectorizer.get_feature_names()).transpose()\n",
        "counts.columns=[2020,2019,2018,2017,2016]"
      ],
      "execution_count": null,
      "outputs": []
    },
    {
      "cell_type": "code",
      "metadata": {
        "id": "UVa3Xrnslk9E",
        "colab": {
          "base_uri": "https://localhost:8080/",
          "height": 255
        },
        "outputId": "8ab45a0b-b7b1-4ea0-e989-9cade9d4b464"
      },
      "source": [
        "print(counts)"
      ],
      "execution_count": null,
      "outputs": [
        {
          "output_type": "stream",
          "text": [
            "       2020  2019  2018  2017  2016\n",
            "12        0     0     0     1     0\n",
            "14        0     0     1     0     0\n",
            "15        0     0     1     0     0\n",
            "16        0     1     1     0     0\n",
            "17        2     2     2     0     0\n",
            "...     ...   ...   ...   ...   ...\n",
            "worth     1     1     1     1     1\n",
            "write     1     1     4     4     4\n",
            "year      4     6     5     3     3\n",
            "years     4     4     4     5     6\n",
            "yen       1     1     1     1     1\n",
            "\n",
            "[1941 rows x 5 columns]\n"
          ],
          "name": "stdout"
        }
      ]
    },
    {
      "cell_type": "code",
      "metadata": {
        "id": "LH2sGSJEm6P5",
        "colab": {
          "base_uri": "https://localhost:8080/",
          "height": 374
        },
        "outputId": "f42ac2d3-d019-4a1a-bdca-650cda0dce2f"
      },
      "source": [
        "print(counts.head(20))"
      ],
      "execution_count": null,
      "outputs": [
        {
          "output_type": "stream",
          "text": [
            "      2020  2019  2018  2017  2016\n",
            "12       0     0     0     1     0\n",
            "14       0     0     1     0     0\n",
            "15       0     0     1     0     0\n",
            "16       0     1     1     0     0\n",
            "17       2     2     2     0     0\n",
            "18       1     1     1     1     1\n",
            "19      17     1     1     0     0\n",
            "20       1     1     1     0     0\n",
            "2015     0     0     1     2     2\n",
            "2016     0     0     2     2     3\n",
            "2017     1     1     1     3     0\n",
            "2018     1     2     7     1     0\n",
            "2019     2     4     0     0     0\n",
            "2020     7     1     0     0     0\n",
            "2021     1     0     0     0     0\n",
            "2055     0     1     1     1     1\n",
            "2060     1     0     0     0     0\n",
            "21       1     1     1     0     1\n",
            "22       1     1     1     1     1\n",
            "23       1     1     1     1     1\n"
          ],
          "name": "stdout"
        }
      ]
    },
    {
      "cell_type": "code",
      "metadata": {
        "id": "Jqz2xhOGm-H5",
        "colab": {
          "base_uri": "https://localhost:8080/",
          "height": 34
        },
        "outputId": "85b594c8-aa0a-4725-dac8-c99e5e2b0b2c"
      },
      "source": [
        "# calculate distance\n",
        "print(sum((counts[2020]-counts[2019])**2)**0.5)"
      ],
      "execution_count": null,
      "outputs": [
        {
          "output_type": "stream",
          "text": [
            "47.67598976424087\n"
          ],
          "name": "stdout"
        }
      ]
    },
    {
      "cell_type": "code",
      "metadata": {
        "id": "Fg5UUtXLhtrZ",
        "colab": {
          "base_uri": "https://localhost:8080/",
          "height": 255
        },
        "outputId": "440a7bc4-ce7e-4722-b7d1-5e399477bbd3"
      },
      "source": [
        "# calculate diff in dataframe\n",
        "print(counts.diff(axis=1).dropna(axis=1))"
      ],
      "execution_count": null,
      "outputs": [
        {
          "output_type": "stream",
          "text": [
            "       2019  2018  2017  2016\n",
            "12      0.0   0.0   1.0  -1.0\n",
            "14      0.0   1.0  -1.0   0.0\n",
            "15      0.0   1.0  -1.0   0.0\n",
            "16      1.0   0.0  -1.0   0.0\n",
            "17      0.0   0.0  -2.0   0.0\n",
            "...     ...   ...   ...   ...\n",
            "worth   0.0   0.0   0.0   0.0\n",
            "write   0.0   3.0   0.0   0.0\n",
            "year    2.0  -1.0  -2.0   0.0\n",
            "years   0.0   0.0   1.0   1.0\n",
            "yen     0.0   0.0   0.0   0.0\n",
            "\n",
            "[1941 rows x 4 columns]\n"
          ],
          "name": "stdout"
        }
      ]
    },
    {
      "cell_type": "code",
      "metadata": {
        "id": "On6i_T81kne-",
        "colab": {
          "base_uri": "https://localhost:8080/",
          "height": 102
        },
        "outputId": "86445850-669a-4250-f511-379b56267a1a"
      },
      "source": [
        "\n",
        "# calculate distance in dataframe\n",
        "print((counts.diff(axis=1).dropna(axis=1)**2).sum()**0.5)"
      ],
      "execution_count": null,
      "outputs": [
        {
          "output_type": "stream",
          "text": [
            "2019    47.675990\n",
            "2018    57.227616\n",
            "2017    74.926631\n",
            "2016    26.981475\n",
            "dtype: float64\n"
          ],
          "name": "stdout"
        }
      ]
    },
    {
      "cell_type": "code",
      "metadata": {
        "id": "Cyh52sq4l-9R"
      },
      "source": [
        "# create function for distance\n",
        "risk_sections=[]\n",
        "def find_distance(risk_sections):\n",
        "  stemmer=nltk.stem.SnowballStemmer('english')\n",
        "  for document in documents:\n",
        "    risk_sections.append(get_risk_factors_section(document.text_content()))\n",
        "  vectorizer=CountVectorizer(stop_words='english')\n",
        "  counts=vectorizer.fit_transform(risk_sections)\n",
        "  counts=pd.DataFrame(counts.toarray(),columns=vectorizer.get_feature_names()).transpose()\n",
        "  counts.columns=[2020,2019,2018,2017,2016]\n",
        "  return (counts.diff(axis=1).dropna(axis=1)**2).sum()**.5\n"
      ],
      "execution_count": null,
      "outputs": []
    },
    {
      "cell_type": "code",
      "metadata": {
        "id": "HxFbISsbDmSP",
        "colab": {
          "base_uri": "https://localhost:8080/",
          "height": 102
        },
        "outputId": "a8ca07c0-5359-4d08-9ad4-285405fcd972"
      },
      "source": [
        "print(find_distance(risk_sections))"
      ],
      "execution_count": null,
      "outputs": [
        {
          "output_type": "stream",
          "text": [
            "2019    47.675990\n",
            "2018    57.227616\n",
            "2017    74.926631\n",
            "2016    26.981475\n",
            "dtype: float64\n"
          ],
          "name": "stdout"
        }
      ]
    },
    {
      "cell_type": "markdown",
      "metadata": {
        "id": "VJ0sPm0KFlPQ"
      },
      "source": [
        "# Application of TFIDF"
      ]
    },
    {
      "cell_type": "code",
      "metadata": {
        "id": "oV77R3hAFcWh"
      },
      "source": [
        "\n",
        "# term frequency -take log of dataframe term count"
      ],
      "execution_count": null,
      "outputs": []
    },
    {
      "cell_type": "code",
      "metadata": {
        "id": "kxCgwUuEGFim",
        "colab": {
          "base_uri": "https://localhost:8080/",
          "height": 255
        },
        "outputId": "e4b85a1d-c039-4500-a409-1d00c3cace8f"
      },
      "source": [
        "tf_log=np.log(1+counts)\n",
        "print(tf_log)"
      ],
      "execution_count": null,
      "outputs": [
        {
          "output_type": "stream",
          "text": [
            "           2020      2019      2018      2017      2016\n",
            "12     0.000000  0.000000  0.000000  0.693147  0.000000\n",
            "14     0.000000  0.000000  0.693147  0.000000  0.000000\n",
            "15     0.000000  0.000000  0.693147  0.000000  0.000000\n",
            "16     0.000000  0.693147  0.693147  0.000000  0.000000\n",
            "17     1.098612  1.098612  1.098612  0.000000  0.000000\n",
            "...         ...       ...       ...       ...       ...\n",
            "worth  0.693147  0.693147  0.693147  0.693147  0.693147\n",
            "write  0.693147  0.693147  1.609438  1.609438  1.609438\n",
            "year   1.609438  1.945910  1.791759  1.386294  1.386294\n",
            "years  1.609438  1.609438  1.609438  1.791759  1.945910\n",
            "yen    0.693147  0.693147  0.693147  0.693147  0.693147\n",
            "\n",
            "[1941 rows x 5 columns]\n"
          ],
          "name": "stdout"
        }
      ]
    },
    {
      "cell_type": "code",
      "metadata": {
        "id": "8ZXThiQWGSRW"
      },
      "source": [
        "\n",
        "#inverse documents frequency\n",
        "no_of_docs=len(risk_sections)\n",
        "#number of documents with each term\n",
        "n=(counts>0).sum(axis=1)\n",
        "idf=np.log(no_of_docs/n)"
      ],
      "execution_count": null,
      "outputs": []
    },
    {
      "cell_type": "code",
      "metadata": {
        "id": "MlubI4KUHjxq",
        "colab": {
          "base_uri": "https://localhost:8080/",
          "height": 221
        },
        "outputId": "0f1d8f38-224f-46ba-d1f8-475005deec51"
      },
      "source": [
        "print(idf)"
      ],
      "execution_count": null,
      "outputs": [
        {
          "output_type": "stream",
          "text": [
            "12       1.609438\n",
            "14       1.609438\n",
            "15       1.609438\n",
            "16       0.916291\n",
            "17       0.510826\n",
            "           ...   \n",
            "worth    0.000000\n",
            "write    0.000000\n",
            "year     0.000000\n",
            "years    0.000000\n",
            "yen      0.000000\n",
            "Length: 1941, dtype: float64\n"
          ],
          "name": "stdout"
        }
      ]
    },
    {
      "cell_type": "code",
      "metadata": {
        "id": "Nkrf-EGEHo2_",
        "colab": {
          "base_uri": "https://localhost:8080/",
          "height": 255
        },
        "outputId": "a98734af-8115-4461-d3e2-ca07c30bb77b"
      },
      "source": [
        "tf_idf=tf_log.multiply(idf,axis=0)\n",
        "print(tf_idf)"
      ],
      "execution_count": null,
      "outputs": [
        {
          "output_type": "stream",
          "text": [
            "           2020      2019      2018      2017  2016\n",
            "12     0.000000  0.000000  0.000000  1.115577   0.0\n",
            "14     0.000000  0.000000  1.115577  0.000000   0.0\n",
            "15     0.000000  0.000000  1.115577  0.000000   0.0\n",
            "16     0.000000  0.635124  0.635124  0.000000   0.0\n",
            "17     0.561199  0.561199  0.561199  0.000000   0.0\n",
            "...         ...       ...       ...       ...   ...\n",
            "worth  0.000000  0.000000  0.000000  0.000000   0.0\n",
            "write  0.000000  0.000000  0.000000  0.000000   0.0\n",
            "year   0.000000  0.000000  0.000000  0.000000   0.0\n",
            "years  0.000000  0.000000  0.000000  0.000000   0.0\n",
            "yen    0.000000  0.000000  0.000000  0.000000   0.0\n",
            "\n",
            "[1941 rows x 5 columns]\n"
          ],
          "name": "stdout"
        }
      ]
    },
    {
      "cell_type": "code",
      "metadata": {
        "id": "6VFvhKGgJudu"
      },
      "source": [
        "# cosine similarity\n",
        "from sklearn.metrics.pairwise import cosine_similarity"
      ],
      "execution_count": null,
      "outputs": []
    },
    {
      "cell_type": "code",
      "metadata": {
        "id": "0e046sWKKKvq"
      },
      "source": [
        "similarity=cosine_similarity(tf_idf.transpose())"
      ],
      "execution_count": null,
      "outputs": []
    },
    {
      "cell_type": "code",
      "metadata": {
        "id": "ggAaoIurLD6u",
        "colab": {
          "base_uri": "https://localhost:8080/",
          "height": 204
        },
        "outputId": "5621b130-49c4-4f0d-9248-2eefe88852e4"
      },
      "source": [
        "similarity=pd.DataFrame(similarity,index=[2020,2019,2018,2017,2016],columns=[2020,2019,2018,2017,2016])\n",
        "similarity"
      ],
      "execution_count": null,
      "outputs": [
        {
          "output_type": "execute_result",
          "data": {
            "text/html": [
              "<div>\n",
              "<style scoped>\n",
              "    .dataframe tbody tr th:only-of-type {\n",
              "        vertical-align: middle;\n",
              "    }\n",
              "\n",
              "    .dataframe tbody tr th {\n",
              "        vertical-align: top;\n",
              "    }\n",
              "\n",
              "    .dataframe thead th {\n",
              "        text-align: right;\n",
              "    }\n",
              "</style>\n",
              "<table border=\"1\" class=\"dataframe\">\n",
              "  <thead>\n",
              "    <tr style=\"text-align: right;\">\n",
              "      <th></th>\n",
              "      <th>2020</th>\n",
              "      <th>2019</th>\n",
              "      <th>2018</th>\n",
              "      <th>2017</th>\n",
              "      <th>2016</th>\n",
              "    </tr>\n",
              "  </thead>\n",
              "  <tbody>\n",
              "    <tr>\n",
              "      <th>2020</th>\n",
              "      <td>1.000000</td>\n",
              "      <td>0.369889</td>\n",
              "      <td>0.197853</td>\n",
              "      <td>0.009785</td>\n",
              "      <td>0.008916</td>\n",
              "    </tr>\n",
              "    <tr>\n",
              "      <th>2019</th>\n",
              "      <td>0.369889</td>\n",
              "      <td>1.000000</td>\n",
              "      <td>0.597477</td>\n",
              "      <td>0.036435</td>\n",
              "      <td>0.011265</td>\n",
              "    </tr>\n",
              "    <tr>\n",
              "      <th>2018</th>\n",
              "      <td>0.197853</td>\n",
              "      <td>0.597477</td>\n",
              "      <td>1.000000</td>\n",
              "      <td>0.302979</td>\n",
              "      <td>0.186117</td>\n",
              "    </tr>\n",
              "    <tr>\n",
              "      <th>2017</th>\n",
              "      <td>0.009785</td>\n",
              "      <td>0.036435</td>\n",
              "      <td>0.302979</td>\n",
              "      <td>1.000000</td>\n",
              "      <td>0.517903</td>\n",
              "    </tr>\n",
              "    <tr>\n",
              "      <th>2016</th>\n",
              "      <td>0.008916</td>\n",
              "      <td>0.011265</td>\n",
              "      <td>0.186117</td>\n",
              "      <td>0.517903</td>\n",
              "      <td>1.000000</td>\n",
              "    </tr>\n",
              "  </tbody>\n",
              "</table>\n",
              "</div>"
            ],
            "text/plain": [
              "          2020      2019      2018      2017      2016\n",
              "2020  1.000000  0.369889  0.197853  0.009785  0.008916\n",
              "2019  0.369889  1.000000  0.597477  0.036435  0.011265\n",
              "2018  0.197853  0.597477  1.000000  0.302979  0.186117\n",
              "2017  0.009785  0.036435  0.302979  1.000000  0.517903\n",
              "2016  0.008916  0.011265  0.186117  0.517903  1.000000"
            ]
          },
          "metadata": {
            "tags": []
          },
          "execution_count": 220
        }
      ]
    },
    {
      "cell_type": "code",
      "metadata": {
        "id": "EKcOowhwLf5v",
        "colab": {
          "base_uri": "https://localhost:8080/",
          "height": 260
        },
        "outputId": "e0ff5b03-f986-454a-f73d-7d4724ba0397"
      },
      "source": [
        "i=1\n",
        "plt.figure(figsize=(20,4))\n",
        "for year in similarity.index:\n",
        "  plt.subplot(1,5,i)\n",
        "  i=i+1\n",
        "  plt.bar(similarity.index,similarity.loc[year])\n",
        "  plt.title('cosine_similarity_wrt_'+str(year))\n",
        "  #plt.ylabel('cosine_similarity')\n",
        "  plt.tight_layout()"
      ],
      "execution_count": null,
      "outputs": [
        {
          "output_type": "display_data",
          "data": {
            "image/png": "[encoded data removed]",
            "text/plain": [
              "<Figure size 1440x288 with 5 Axes>"
            ]
          },
          "metadata": {
            "tags": []
          }
        }
      ]
    },
    {
      "cell_type": "markdown",
      "metadata": {
        "id": "tJGdezcIQBNc"
      },
      "source": [
        "similarity gets smaller and smaller as years are further apart"
      ]
    },
    {
      "cell_type": "code",
      "metadata": {
        "id": "-6tm0gfSPnsl",
        "colab": {
          "base_uri": "https://localhost:8080/",
          "height": 102
        },
        "outputId": "61fa9749-a3d9-41e3-a193-e762d2b80598"
      },
      "source": [
        "year2year_sim=pd.Series([similarity.iloc[i+1,i] for i in range(4)])\n",
        "year2year_sim.index=['{}-{}'.format(x,x-1) for x in [2020,2019,2018,2017]]\n",
        "year2year_sim"
      ],
      "execution_count": null,
      "outputs": [
        {
          "output_type": "execute_result",
          "data": {
            "text/plain": [
              "2020-2019    0.369889\n",
              "2019-2018    0.597477\n",
              "2018-2017    0.302979\n",
              "2017-2016    0.517903\n",
              "dtype: float64"
            ]
          },
          "metadata": {
            "tags": []
          },
          "execution_count": 222
        }
      ]
    },
    {
      "cell_type": "code",
      "metadata": {
        "id": "fvdx9Zd5VPQ4",
        "colab": {
          "base_uri": "https://localhost:8080/",
          "height": 204
        },
        "outputId": "f719e320-0516-4ccf-e0f1-cf8cbb2ea104"
      },
      "source": [
        "#check impactfull words\n",
        "print(tf_idf.diff(axis=1).dropna(axis=1).iloc[:,0].sort_values().head(10))"
      ],
      "execution_count": null,
      "outputs": [
        {
          "output_type": "stream",
          "text": [
            "covid           -4.559881\n",
            "pandemic        -4.247399\n",
            "cybersecurity   -2.883726\n",
            "modifications   -2.590290\n",
            "coronavirus     -2.231155\n",
            "outbreak        -2.231155\n",
            "novel           -2.231155\n",
            "duration        -2.231155\n",
            "surveys         -1.768148\n",
            "experienced     -1.768148\n",
            "Name: 2019, dtype: float64\n"
          ],
          "name": "stdout"
        }
      ]
    },
    {
      "cell_type": "code",
      "metadata": {
        "id": "Dz_FSm-tadwt",
        "colab": {
          "base_uri": "https://localhost:8080/",
          "height": 204
        },
        "outputId": "857ba7c2-76db-45e2-efbc-d17f09874e4a"
      },
      "source": [
        "print(tf_idf.diff(axis=1).dropna(axis=1).iloc[:,0].sort_values(ascending=False).head(10))"
      ],
      "execution_count": null,
      "outputs": [
        {
          "output_type": "stream",
          "text": [
            "warehouse      1.474713\n",
            "autonomous     1.270249\n",
            "provisional    1.270249\n",
            "occur          1.115577\n",
            "56             1.115577\n",
            "ended          1.006648\n",
            "transfers      0.708155\n",
            "recently       0.635124\n",
            "offers         0.635124\n",
            "guaranteed     0.635124\n",
            "Name: 2019, dtype: float64\n"
          ],
          "name": "stdout"
        }
      ]
    },
    {
      "cell_type": "code",
      "metadata": {
        "id": "1Dv7qI7JbvfX",
        "colab": {
          "base_uri": "https://localhost:8080/",
          "height": 238
        },
        "outputId": "f0ec8d73-4e89-41ea-e2cd-5e1dbe5f1286"
      },
      "source": [
        "#We see these words were specific only to one filing\n",
        "print(counts.loc['covid'])\n",
        "print()\n",
        "print(counts.loc['autonomous'])"
      ],
      "execution_count": null,
      "outputs": [
        {
          "output_type": "stream",
          "text": [
            "2020    16\n",
            "2019     0\n",
            "2018     0\n",
            "2017     0\n",
            "2016     0\n",
            "Name: covid, dtype: int64\n",
            "\n",
            "2020    0\n",
            "2019    3\n",
            "2018    3\n",
            "2017    0\n",
            "2016    0\n",
            "Name: autonomous, dtype: int64\n"
          ],
          "name": "stdout"
        }
      ]
    },
    {
      "cell_type": "code",
      "metadata": {
        "id": "ksYtwRECcHfT",
        "colab": {
          "base_uri": "https://localhost:8080/",
          "height": 238
        },
        "outputId": "256f0e2a-6c97-4fb2-a0fa-4b5c2f880baa"
      },
      "source": [
        "print(counts.loc['software'])\n",
        "print()\n",
        "print(tf_idf.loc['software'])"
      ],
      "execution_count": null,
      "outputs": [
        {
          "output_type": "stream",
          "text": [
            "2020    14\n",
            "2019    14\n",
            "2018    17\n",
            "2017    49\n",
            "2016    50\n",
            "Name: software, dtype: int64\n",
            "\n",
            "2020    0.0\n",
            "2019    0.0\n",
            "2018    0.0\n",
            "2017    0.0\n",
            "2016    0.0\n",
            "Name: software, dtype: float64\n"
          ],
          "name": "stdout"
        }
      ]
    },
    {
      "cell_type": "code",
      "metadata": {
        "id": "w5YXNSG0cHjy",
        "colab": {
          "base_uri": "https://localhost:8080/",
          "height": 153
        },
        "outputId": "3fb91053-5480-4a83-f900-41b6d5a880cf"
      },
      "source": [
        "print(tf_log.loc['software'])\n",
        "print()\n",
        "print(idf.loc['software'])"
      ],
      "execution_count": null,
      "outputs": [
        {
          "output_type": "stream",
          "text": [
            "2020    2.708050\n",
            "2019    2.708050\n",
            "2018    2.890372\n",
            "2017    3.912023\n",
            "2016    3.931826\n",
            "Name: software, dtype: float64\n",
            "\n",
            "0.0\n"
          ],
          "name": "stdout"
        }
      ]
    },
    {
      "cell_type": "code",
      "metadata": {
        "id": "fWeMzZxZcnrZ",
        "colab": {
          "base_uri": "https://localhost:8080/",
          "height": 238
        },
        "outputId": "55c18fc3-f7d4-413d-8a69-e3e5122b93e7"
      },
      "source": [
        "print(counts.loc['table'])\n",
        "print()\n",
        "print(tf_idf.loc['table'])"
      ],
      "execution_count": null,
      "outputs": [
        {
          "output_type": "stream",
          "text": [
            "2020    16\n",
            "2019    16\n",
            "2018    17\n",
            "2017    15\n",
            "2016    15\n",
            "Name: table, dtype: int64\n",
            "\n",
            "2020    0.0\n",
            "2019    0.0\n",
            "2018    0.0\n",
            "2017    0.0\n",
            "2016    0.0\n",
            "Name: table, dtype: float64\n"
          ],
          "name": "stdout"
        }
      ]
    },
    {
      "cell_type": "markdown",
      "metadata": {
        "id": "jgRZROLeTLhC"
      },
      "source": [
        "# Risk Analysis"
      ]
    },
    {
      "cell_type": "code",
      "metadata": {
        "id": "Ii6XsZYFSyNv",
        "colab": {
          "base_uri": "https://localhost:8080/",
          "height": 459
        },
        "outputId": "9c7465cb-5a4c-4b1e-c332-f7e04a3b0639"
      },
      "source": [
        "#An application of looking at these things is to see if there are companies that are becoming competitors\n",
        "#Only in the most recent filing amazon comes up, but Oracle constantly mentions cloud\n",
        "print(counts.loc[\"amazon\"])\n",
        "print(counts.loc[\"cloud\"])\n",
        "print()\n",
        "print()\n",
        "#Because cloud is mentioned in every documents it has no importance in the tf_idf\n",
        "print(tf_idf.loc[\"amazon\"])\n",
        "print(tf_idf.loc[\"cloud\"])"
      ],
      "execution_count": null,
      "outputs": [
        {
          "output_type": "stream",
          "text": [
            "2020    0\n",
            "2019    1\n",
            "2018    1\n",
            "2017    0\n",
            "2016    0\n",
            "Name: amazon, dtype: int64\n",
            "2020    59\n",
            "2019    61\n",
            "2018    65\n",
            "2017    61\n",
            "2016    52\n",
            "Name: cloud, dtype: int64\n",
            "\n",
            "\n",
            "2020    0.000000\n",
            "2019    0.635124\n",
            "2018    0.635124\n",
            "2017    0.000000\n",
            "2016    0.000000\n",
            "Name: amazon, dtype: float64\n",
            "2020    0.0\n",
            "2019    0.0\n",
            "2018    0.0\n",
            "2017    0.0\n",
            "2016    0.0\n",
            "Name: cloud, dtype: float64\n"
          ],
          "name": "stdout"
        }
      ]
    },
    {
      "cell_type": "code",
      "metadata": {
        "id": "Y4Q_YyOcTrnq"
      },
      "source": [
        "#pull risk sections of amazon and oracle\n",
        "documents_oracle=pull_10k(\"Oracle Corp\",\"0001341439\")\n",
        "risk_sections_oracle=[]\n",
        "for doc_oracle in documents_oracle:\n",
        "  risk_sections_oracle.append(get_risk_factors_section(doc_oracle.text_content()))"
      ],
      "execution_count": null,
      "outputs": []
    },
    {
      "cell_type": "code",
      "metadata": {
        "id": "O2f6h0NRil2N",
        "colab": {
          "base_uri": "https://localhost:8080/",
          "height": 34
        },
        "outputId": "8b328da3-c734-4213-cbad-2e0a9e429804"
      },
      "source": [
        "print(len(risk_sections_oracle))"
      ],
      "execution_count": null,
      "outputs": [
        {
          "output_type": "stream",
          "text": [
            "5\n"
          ],
          "name": "stdout"
        }
      ]
    },
    {
      "cell_type": "code",
      "metadata": {
        "id": "M2aHn3BWisqs",
        "colab": {
          "base_uri": "https://localhost:8080/",
          "height": 1000
        },
        "outputId": "49d27855-5cab-4ed5-f0ef-db97b1411668"
      },
      "source": [
        "print(risk_sections_oracle[0])"
      ],
      "execution_count": null,
      "outputs": [
        {
          "output_type": "stream",
          "text": [
            "\n",
            "\n",
            "Risk Factors\n",
            "We operate in rapidly changing economic and technological environments that present numerous risks, many of which are driven by factors that we cannot control or predict. The following discussion, as well as our “Critical Accounting Policies and Estimates” discussion in Management’s Discussion and Analysis of Financial Condition and Results of Operations (Item 7), highlights some of these risks. The risks described below are not exhaustive and you should carefully consider these risks and uncertainties before investing in our securities.\n",
            "The COVID-19 pandemic has affected how we and our customers are operating our respective businesses, and the duration and extent to which this will impact our future results of operations and our overall financial performance remains uncertain.  A novel strain of coronavirus (COVID-19) was first identified in late calendar year 2019 and subsequently declared a pandemic by the World Health Organization in March 2020. The long-term impacts, if any, of the global COVID-19 pandemic on our business are currently unknown. We are conducting business as usual with modifications to employee travel, employee work locations, and cancellation of certain marketing events, among other modifications. We will continue to actively monitor the situation and may take further actions that alter our business operations as may be required by federal, state or local authorities or that we determine are in the best interests of our employees, customers, partners, suppliers and stockholders. It is not clear what the potential long-term effects of any such alterations or modifications may have on our business, including the effects on our customers and prospects.\n",
            "We have observed other companies, including customers and partners, taking precautionary and preemptive actions to address the COVID-19 pandemic. Such companies may take further actions that alter their normal business operations if there are future spikes of COVID-19 infections resulting in additional government mandated shutdowns. The conditions caused by the COVID-19 pandemic have adversely affected our customers’ willingness to purchase our products and delayed prospective customers’ purchasing decisions.  The impacts of the global COVID-19 pandemic on the broader global economy have been swift, dramatic and unpredictable. The latency and duration of these impacts are diverse across geographies and jurisdictions in which we market, sell and develop our offerings. The depth and duration of the current economic declines attributable to the COVID-19 pandemic, and any potential economic recoveries, are not currently known. In the fourth quarter of fiscal 2020 we experienced revenue declines compared to the fourth quarter of fiscal 2019 and delayed payments from customers. The effect of the pandemic for fiscal 2021 and future periods is unknown. If we are not able to respond to and manage the impact of the COVID-19 pandemic effectively, our business will be harmed.\n",
            "Our success depends upon our ability to develop new products and services, integrate acquired products and services and enhance our existing products and services.     Rapid technological advances, intense competition, changing delivery models and evolving standards in computer hardware and software development and communications infrastructure, changing and increasingly sophisticated customer needs and frequent new product introductions and enhancements characterize the industries in which we compete. If we are unable to develop new or sufficiently differentiated products and services, enhance and improve our product offerings and support services in a timely manner or position and price our products and services to meet demand, customers may not purchase or subscribe to our license, hardware or cloud offerings or renew license support, hardware support or cloud subscriptions contracts. Renewals of these contracts are important to the growth of our business. In addition, we cannot provide any assurance that the standards on which we choose to develop new products will allow us to compete effectively for business opportunities in emerging areas.\n",
            "We have continued to refresh and release new offerings of our cloud products and services. Machine learning and artificial intelligence are increasingly driving innovations in technology but if they fail to operate as anticipated or our other products do not perform as promised, our business and reputation may be harmed.\n",
            "17\n",
            "\n",
            "Table of Contents\n",
            "Index to Financial Statements\n",
            " \n",
            "In addition, our business may be adversely affected if:\n",
            "\n",
            "\n",
            "\n",
            "\n",
            " \n",
            "\n",
            "•\n",
            "\n",
            "we do not continue to develop and release new or enhanced products and services within the anticipated time frames;\n",
            "\n",
            "\n",
            "\n",
            "\n",
            " \n",
            "\n",
            "•\n",
            "\n",
            "infrastructure costs to deliver new or enhanced products and services take longer or result in greater costs than anticipated; \n",
            "\n",
            "\n",
            "\n",
            "\n",
            " \n",
            "\n",
            "•\n",
            "\n",
            "there is a delay in market acceptance of and difficulty in transitioning new and existing customers to new, enhanced or acquired product lines or services;\n",
            "\n",
            "\n",
            "\n",
            "\n",
            " \n",
            "\n",
            "•\n",
            "\n",
            "there are changes in information technology (IT) trends that we do not adequately anticipate or address with our product development efforts;\n",
            "\n",
            "\n",
            "\n",
            "\n",
            " \n",
            "\n",
            "•\n",
            "\n",
            "we do not optimize complementary product lines and services in a timely manner; or\n",
            "\n",
            "\n",
            "\n",
            "\n",
            " \n",
            "\n",
            "•\n",
            "\n",
            "we fail to adequately integrate, support or enhance acquired product lines or services.\n",
            "Our Oracle Cloud strategy, including our Oracle Cloud Software-as-a-Service and Infrastructure-as-a-Service (SaaS and IaaS, respectively, and collectively, Oracle Cloud Services) offerings, may adversely affect our revenues and profitability.     We provide our cloud and other offerings to customers worldwide via deployment models that best suit their needs, including via our cloud-based SaaS and IaaS offerings. As these business models continue to evolve, we may not be able to compete effectively, generate significant revenues or maintain the profitability of our cloud offerings. Additionally, the increasing prevalence of cloud and SaaS delivery models offered by us and our competitors may unfavorably impact the pricing of our cloud and license offerings. If we do not successfully execute our cloud computing strategy or anticipate the cloud computing needs of our customers, our reputation as a cloud services provider could be harmed and our revenues and profitability could decline.\n",
            "As customer demand for our cloud offerings increases, we experience volatility in our reported revenues and operating results due to the differences in timing of revenue recognition between our cloud license and on-premise license, and hardware product arrangements relative to our cloud offering arrangements. Customers generally purchase our cloud offerings on a subscription basis and revenues from these offerings are generally recognized ratably over the terms of the subscriptions. Consequently, any deterioration in sales activity associated with our cloud offerings may not be immediately observable in our consolidated statement of operations. This is in contrast to revenues associated with our license and hardware product arrangements, which are generally recognized in full at the time of delivery of the related licenses and hardware products. In addition, we may not be able to accurately anticipate customer transition from or be able to sufficiently backfill reduced customer demand for our license, hardware and support offerings relative to the expected increase in customer adoption of and demand for our Oracle Cloud Services, which could adversely affect our revenues and profitability.\n",
            "We might experience significant coding, manufacturing or configuration errors in our cloud, license and hardware offerings.     Despite testing prior to the release and throughout the lifecycle of a product or service, our cloud, license and hardware offerings sometimes contain coding, manufacturing or configuration errors that can impact their function, performance and security, and result in other negative consequences. The detection and correction of any errors in released cloud, license or hardware offerings can be time consuming and costly. Errors in our cloud, license or hardware offerings could affect their ability to properly function, integrate or operate with other cloud, license or hardware offerings, could delay the development or release of new products or services or new versions of products or services, could create security vulnerabilities in our products or services, and could adversely affect market acceptance of our products or services. This includes third-party software products or services incorporated into our own. If we experience errors or delays in releasing our cloud, license or hardware offerings or new versions of these offerings, our sales could be affected and revenues could decline. In addition, we run Oracle’s business operations as well as cloud and other services that we offer to our customers on our products and networks. Therefore, any flaws could affect our and our customers’ abilities to conduct business operations and to ensure accuracy in financial processes and reporting, and may result in unanticipated costs. Enterprise customers rely on our cloud, license and hardware offerings and related services to run their businesses and errors in our cloud, license and hardware offerings and related services could expose us to product liability, \n",
            "18\n",
            "\n",
            "Table of Contents\n",
            "Index to Financial Statements\n",
            " \n",
            "performance and warranty claims as well as significant harm to our brand and reputation, which could impact our future sales.\n",
            "If our security measures for our products and services are compromised and as a result, our data, our customers’ data or our IT systems are accessed improperly, made unavailable, or improperly modified, our products and services may be perceived as vulnerable, our brand and reputation could be damaged, the IT services we provide to our customers could be disrupted, and customers may stop using our products and services, all of which could reduce our revenue and earnings, increase our expenses and expose us to legal claims and regulatory actions.     We are in the IT business, and our products and services, including our Oracle Cloud Services, store, retrieve, manipulate and manage our customers’ information and data, external data, as well as our own data. We have a reputation for secure and reliable product offerings and related services, and we have invested a great deal of time and resources in protecting the integrity and security of our products, services and the internal and external data that we manage. At times, we encounter attempts by third parties (which may include individuals or groups of hackers and sophisticated organizations, such as state-sponsored organizations, nation states and individuals sponsored by them) to identify and exploit product and service vulnerabilities, penetrate or bypass our security measures, and gain unauthorized access to our or our customers’, partners’ and suppliers’ software, hardware and cloud offerings, networks and systems, any of which could lead to the compromise of personal information or the confidential information or data of Oracle or our customers. Computer hackers and others may be able to develop and deploy IT related viruses, worms, and other malicious software programs that could attack our networks, systems, products and services, exploit potential security vulnerabilities of our networks, systems, products and services, create system disruptions and cause shutdowns or denials of service. This is also true for third-party data, products or services incorporated into our own. Our products and services, including our Oracle Cloud Services, may also be accessed or modified improperly as a result of customer, partner, employee or supplier error or malfeasance and third parties may attempt to fraudulently induce customers, partners, employees or suppliers into disclosing sensitive information such as user names, passwords or other information in order to gain access to our data, our customers’, suppliers’ or partners’ data or the IT systems of Oracle, our customers, suppliers or partners.\n",
            "Security industry experts and government officials have warned about the risks of hackers and cyber-attacks targeting IT products and businesses. Although this is an industry-wide problem that affects software and hardware companies generally, it affects Oracle in particular because computer hackers tend to focus their efforts on the most prominent IT companies, and they may focus on Oracle because of our reputation for, and marketing efforts associated with, having secure products and services. These risks will increase as we continue to grow our cloud offerings and store and process increasingly large amounts of data, including personal information and our customers’ confidential information and data, and host or manage parts of our customers’ businesses in cloud-based IT environments, especially in customer sectors involving particularly sensitive data such as health sciences, financial services, retail, hospitality and the government. We also have an active acquisition program and have acquired a number of companies, products, services and technologies over the years. While we make significant efforts to address any IT security issues with respect to our acquired companies, we may still inherit such risks when we integrate these companies within Oracle.\n",
            "Because the techniques used to obtain unauthorized access to, or sabotage IT systems change frequently, grow more complex over time, and often are not recognized until launched against a target, we may be unable to anticipate or implement adequate measures to prevent such techniques. Our internal IT systems continue to evolve and we are often early adopters of new technologies. However, our business policies and internal security controls may not keep pace with these changes as new threats emerge. In addition, we often experience increased activity of this nature during times of instability, including during the COVID-19 pandemic, when our operations may be more susceptible to malfeasance due to operational changes instituted to comply with safety, health and regulatory requirements, among others. We may not discover any security breach and loss of information for a significant period of time after the security breach.\n",
            "We could suffer significant damage to our brand and reputation if a cyber-attack or other security incident were to allow unauthorized access to or modification of our customers’ or suppliers’ data, other external data, or our own data or our IT systems or if the services we provide to our customers were disrupted, or if our products or services are reported to have or are perceived as having security vulnerabilities. Customers could lose confidence in the security and reliability of our products and services, including our cloud offerings, and perceive them to not be \n",
            "19\n",
            "\n",
            "Table of Contents\n",
            "Index to Financial Statements\n",
            " \n",
            "secure. This could lead to fewer customers using our products and services and result in reduced revenues and earnings. The costs we would incur to address and fix these security incidents would increase our expenses. These types of security incidents could also lead to loss or destruction of information, inappropriate use of proprietary and sensitive data, lawsuits, indemnity obligations, regulatory investigations and financial penalties, and claims and increased legal liability, including in some cases contractual costs related to customer notification and fraud monitoring.\n",
            "Our products operate in conjunction with and are dependent on products and components across a broad ecosystem. If there is a security vulnerability in one of these components, and if there is a security exploit targeting it, we could face increased costs, liability claims, customer dissatisfaction, reduced revenue, or harm to our reputation or competitive position.\n",
            "Our business practices with respect to data could give rise to operational interruption, liabilities or reputational harm as a result of governmental regulation, legal requirements or industry standards relating to privacy and data protection.     As regulatory focus on privacy issues continues to increase and worldwide laws and regulations concerning the handling of personal information expand and become more complex, potential risks related to data collection and use within our business will intensify. In addition, U.S. and foreign governments have enacted or are considering enacting legislation or regulations, or may in the near future interpret existing legislation or regulations, in a manner that could significantly impact our ability, as well as the ability of our customers, partners and data providers, to collect, augment, analyze, use, transfer and share personal and other information that is integral to certain services we provide.\n",
            "In the wake of the European Union General Data Protection Regulation (GDPR), the rate of global consideration and adoption of privacy laws has increased, giving rise to more global jurisdictions in which regulatory inquiries and audits may be requested of Oracle, and if we are not deemed to be in compliance, could result in enforcement actions and/or fines. This is true in the U.S., where the California Consumer Privacy Act (CCPA) became effective in January 2020, the U.S. Congress is considering several privacy bills at the federal level, and other state legislatures are considering privacy laws. Regulators globally are also imposing greater monetary fines for privacy violations. The GDPR, which became effective in May 2018, provides for monetary penalties of up to 4% of an organization’s worldwide revenue. These penalties can be significant. For example, one European data protection regulator has fined a major U.S. technology company EUR 50 million for its data handling practices. The U.S. Federal Trade Commission continues to fine companies on a regular basis for unfair and deceptive data protection practices, and these fines may increase in size. The CCPA provides for statutory damages on a per violation basis that could be very large in the event of a significant data security breach or other CCPA violation. Taken together, the changes in laws or regulations associated with the enhanced protection of personal and other types of data could greatly increase the size of potential fines related to data protection, and our cost of providing our products and services could result in changes to our business practices or even prevent us from offering certain services in jurisdictions in which we operate. Although we have implemented contracts, policies and procedures designed to ensure compliance with applicable laws and regulations, there can be no assurance that our employees, contractors, partners, data providers or agents will not violate such laws and regulations or our contracts, policies and procedures. Additionally, public perception and standards related to the privacy of personal information can shift rapidly, in ways that may affect our reputation or influence regulators to enact regulations and laws that may limit our ability to provide certain products and services.\n",
            "We make statements about our use and disclosure of personal information through our privacy policy, information provided on our website and press statements. Any failure, or perceived failure, by us to comply with these public statements or with U.S. federal, state, or foreign laws and regulations, including laws and regulations regulating privacy, data security, or consumer protection, public perception, standards, self-regulatory requirements or legal obligations, could result in lost or restricted business, proceedings, actions or fines brought against us or levied by governmental entities or others, or could adversely affect our business and harm our reputation.\n",
            "Economic, political and market conditions can adversely affect our business, results of operations and financial condition, including our revenue growth and profitability, which in turn could adversely affect our stock price.      Our business is influenced by a range of factors that are beyond our control and that we have no comparative advantage in forecasting. These include:\n",
            "20\n",
            "\n",
            "Table of Contents\n",
            "Index to Financial Statements\n",
            " \n",
            "\n",
            "\n",
            "\n",
            "\n",
            " \n",
            "\n",
            "•\n",
            "\n",
            "general economic and business conditions;\n",
            "\n",
            "\n",
            "\n",
            "\n",
            " \n",
            "\n",
            "•\n",
            "\n",
            "overall demand for enterprise cloud, license and hardware products and services;\n",
            "\n",
            "\n",
            "\n",
            "\n",
            " \n",
            "\n",
            "•\n",
            "\n",
            "governmental budgetary constraints or shifts in government spending priorities; and\n",
            "\n",
            "\n",
            "\n",
            "\n",
            " \n",
            "\n",
            "•\n",
            "\n",
            "general legal, regulatory and political developments.\n",
            "Macroeconomic developments like the United Kingdom leaving the EU (Brexit), evolving trade policies between the U.S. and international trade partners, or the occurrence of similar events in other countries that lead to uncertainty or instability in economic, political or market conditions could negatively affect our business, operating results, financial condition and outlook, which, in turn, could adversely affect our stock price. Any general weakening of, and related declining corporate confidence in, the global economy or the curtailment of government or corporate spending could cause current or potential customers to reduce or eliminate their IT budgets and spending, which could cause customers to delay, decrease or cancel purchases of our products and services or cause customers not to pay us or to delay paying us for previously purchased products and services.\n",
            "In addition, international, regional or domestic political unrest and the related potential impact on global stability, terrorist attacks and the potential for other hostilities in various parts of the world, public health crises such as the outbreak of the novel coronavirus COVID-19, and natural disasters continue to contribute to a climate of economic and political uncertainty that could adversely affect our results of operations and financial condition, including our revenue growth and profitability. These factors generally have the strongest effect on our sales of cloud license and on-premise license, hardware and related services and, to a lesser extent, also may affect our renewal rates for license support and our subscription-based cloud offerings.\n",
            "If we are unable to compete effectively, the results of operations and prospects for our business could be harmed.      We face intense competition in all aspects of our business. The nature of the IT industry creates a competitive landscape that is constantly evolving as firms emerge, expand or are acquired, as technology evolves and as delivery models change. Many vendors spend amounts in excess of what Oracle spends to develop and market applications and infrastructure technologies including databases, middleware products, application development tools, business applications, collaboration products and business intelligence, compute, storage and networking products, among others, which compete with Oracle applications and infrastructure offerings. Use of our competitors’ technologies influences a customer’s purchasing decision or creates an environment that makes it less efficient to utilize or migrate to Oracle products and services. Our competitors may also adopt business practices that provide customers access to competing products and services at a risk profile that we may not generally find acceptable, which may convince customers to purchase competitor products and services. We could lose customers if our competitors introduce new competitive products, add new functionality, acquire competitive products, reduce prices, better execute on their sales and marketing strategies, offer more flexible business practices or form strategic alliances with other companies. We may also face increasing competition from open source software initiatives in which competitors may provide software and intellectual property for free. Existing or new competitors could gain sales opportunities or customers at our expense.\n",
            "We may need to change our pricing models to compete successfully.     The intense competition we face in the sales of our products and services and general economic and business conditions can put pressure on us to change our prices. If our competitors offer deep discounts on certain products or services or develop products that the marketplace considers more valuable, we may need to lower prices, introduce pricing models and offerings that are less favorable to us, or offer other favorable terms in order to compete successfully. Any such changes may reduce revenues and margins and could adversely affect operating results. Additionally, the increasing prevalence of cloud delivery models offered by us and our competitors may unfavorably impact the pricing of our other cloud and license, hardware and services offerings, and we may also incur increased cloud delivery expenses as we expand our cloud operations and update our infrastructure, all of which could reduce our revenues and/or profitability. Our license support fees and hardware support fees are generally priced as a percentage of our net license fees and net new hardware products fees, respectively. Our competitors may offer lower pricing on their support offerings, which could put pressure on us to further discount our offerings. \n",
            "21\n",
            "\n",
            "Table of Contents\n",
            "Index to Financial Statements\n",
            " \n",
            "We introduced Oracle Bring Your Own License (BYOL) and Universal Credit Pricing to simplify the way customers purchase and consume our cloud services. Oracle BYOL enables customers to maintain their existing software licenses for Oracle Infrastructure while expanding their IaaS footprint at a discounted price. Oracle Universal Credit Pricing provides a flexible model for customers to access Oracle Infrastructure services on demand via a single contract. Any future changes to our prices and pricing policies could cause our revenues to decline or be delayed as our sales force implements and our customers adjust to the new pricing policies. Some of our competitors may bundle products for promotional purposes or as a long-term pricing strategy, commit to large customer deployments at prices that are unprofitable, or provide guarantees of prices and product implementations. These practices could, over time, significantly constrain the prices that we can charge for certain of our products. If we do not adapt our pricing models to reflect changes in customer use of our products or changes in customer demand, our revenues could decrease. The increase in open source software distribution may also cause us to change our pricing models.\n",
            "Our international sales and operations subject us to additional risks that can adversely affect our operating results.     We derive a substantial portion of our revenues from, and have significant operations, outside of the U.S. Our international operations include cloud operations, cloud, software and hardware development, manufacturing, assembly, sales, customer support, consulting and other services and shared administrative service centers.\n",
            "Compliance with international and U.S. laws and regulations that apply to our international operations increases our cost of doing business in foreign jurisdictions. These laws and regulations include U.S. laws and local laws which include data privacy requirements, labor relations laws, tax laws, foreign currency-related regulations, anti-competition regulations, anti-bribery laws and other laws prohibiting payments to governmental officials such as the U.S. Foreign Corrupt Practices Act (FCPA), market access regulations, tariffs, and import, export and general trade regulations, including but not limited to economic sanctions and embargos. Violations of these laws and regulations could result in fines and penalties, criminal sanctions against us, our officers or our employees, and prohibitions on the conduct of our business, including the loss of trade privileges. Any such violations could result in prohibitions on our ability to offer our products and services in one or more countries, could delay or prevent potential acquisitions and could also materially damage our reputation, our brand, our international expansion efforts, our ability to attract and retain employees, our business and our operating results. Compliance with these laws requires a significant amount of management attention and effort, which may divert management’s attention from running our business operations and could harm our ability to grow our business, or may increase our expenses as we engage specialized or other additional resources to assist us with our compliance efforts. Our success depends, in part, on our ability to anticipate these risks and manage these difficulties. We monitor our operations and investigate allegations of improprieties relating to transactions and the way in which such transactions are recorded. Where circumstances warrant, we provide information and report our findings to government authorities, and in some circumstances such authorities conduct their own investigations and we respond to their requests or demands for information. No assurance can be given that action will not be taken by such authorities or that our compliance program will prove effective.\n",
            "We are also subject to a variety of other risks and challenges in managing an organization operating globally, including those related to:\n",
            "\n",
            "\n",
            "\n",
            "\n",
            " \n",
            "\n",
            "•\n",
            "\n",
            "general economic conditions, including the latency in economic impacts and associated economic recoveries, if any, in each country or region;\n",
            "\n",
            "\n",
            "\n",
            "\n",
            " \n",
            "\n",
            "•\n",
            "\n",
            "public health risks, social risks and supporting infrastructure stability risks, particularly in areas in which we have significant operations;\n",
            "\n",
            "\n",
            "\n",
            "\n",
            " \n",
            "\n",
            "•\n",
            "\n",
            "fluctuations in currency exchange rates and related impacts on customer demand and our operating results;\n",
            "\n",
            "\n",
            "\n",
            "\n",
            " \n",
            "\n",
            "•\n",
            "\n",
            "difficulties in transferring funds from or converting currencies in certain countries that could lead to a devaluation of our net assets, in particular our cash assets, in that country’s currency;\n",
            "22\n",
            "\n",
            "Table of Contents\n",
            "Index to Financial Statements\n",
            " \n",
            "\n",
            "\n",
            "\n",
            "\n",
            " \n",
            "\n",
            "•\n",
            "\n",
            "regulatory changes, including government austerity measures in certain countries that we may not be able to sufficiently plan for or avoid that may unexpectedly impair bank deposits or other cash assets that we hold in these countries or that impose additional taxes that we may be required to pay in these countries;\n",
            "\n",
            "\n",
            "\n",
            "\n",
            " \n",
            "\n",
            "•\n",
            "\n",
            "political unrest, terrorism and the potential for other hostilities;\n",
            "\n",
            "\n",
            "\n",
            "\n",
            " \n",
            "\n",
            "•\n",
            "\n",
            "common local business behaviors that are in direct conflict with our business ethics, practices and conduct policies;\n",
            "\n",
            "\n",
            "\n",
            "\n",
            " \n",
            "\n",
            "•\n",
            "\n",
            "natural disasters;\n",
            "\n",
            "\n",
            "\n",
            "\n",
            " \n",
            "\n",
            "•\n",
            "\n",
            "the effects of climate change (such as sea level rise, drought, flooding, wildfires and increased storm sensitivity);\n",
            "\n",
            "\n",
            "\n",
            "\n",
            " \n",
            "\n",
            "•\n",
            "\n",
            "longer payment cycles and difficulties in collecting accounts receivable;\n",
            "\n",
            "\n",
            "\n",
            "\n",
            " \n",
            "\n",
            "•\n",
            "\n",
            "overlapping tax regimes; and\n",
            "\n",
            "\n",
            "\n",
            "\n",
            " \n",
            "\n",
            "•\n",
            "\n",
            "reduced protection for intellectual property rights in some countries.\n",
            "The variety of risks and challenges listed above could also disrupt or otherwise negatively impact the supply chain operations for our hardware business and the sales of our products and services in affected countries or regions.\n",
            "As the majority shareholder of Oracle Financial Services Software Limited, a publicly traded company in India, and Oracle Corporation Japan, a publicly traded company in Japan, we are faced with several additional risks, including being subject to local securities regulations and being unable to exert full control that we would otherwise have if these entities were wholly-owned subsidiaries.\n",
            "Any failure to offer high-quality technical support services may adversely affect our relationships with our customers and our financial results.  Our customers depend on our support organization to resolve technical issues relating to our applications and infrastructure offerings. We may be unable to respond quickly enough to accommodate short-term increases in customer demand for support services or may be inefficient in our resolution of customer support issues. Increased customer demand for these services, without corresponding revenues, could increase costs and adversely affect our operating results. Any failure to maintain high-quality technical support, or a market perception that we do not maintain high-quality technical support, could adversely affect our reputation, our ability to sell our applications and infrastructure offerings to existing and prospective customers, and our business, operating results, and financial position.\n",
            "We may fail to achieve our financial forecasts due to inaccurate sales forecasts or other factors.   Our revenues, particularly certain of our cloud license and on-premise license revenues and hardware revenues, can be difficult to forecast. As a result, our quarterly operating results can fluctuate.\n",
            "For our Oracle Cloud Services, our actual conversion or renewal rates may differ from those used in our forecasts because this business is continuing to evolve and such rates may be unpredictable which could have an adverse effect on our long-term results. For our license business, we use a “pipeline” system, a common industry practice, to forecast sales and trends in that business. Our sales personnel monitor the status of all proposals and estimate when a customer will make a purchase decision and the dollar amount of the sale. These estimates are aggregated periodically to generate a sales pipeline. Our pipeline estimates can be unreliable both in a particular quarter and over a longer period of time, in part because the conversion rate or closure rate of the pipeline into contracts can be very difficult to estimate. A reduction in the conversion rates, renewal rates, or in the pipeline itself, could adversely affect our business or results of operations. In particular, sudden shifts in regional or global economic activity such as those being experienced with the COVID-19 pandemic, a slowdown in IT spending or economic conditions generally can unexpectedly reduce the conversion rates and renewal rates in particular periods as purchasing decisions are delayed, reduced in amount or cancelled. The conversion rates can also be affected by the tendency of some of our customers to wait until the end of a fiscal period in the hope of obtaining more favorable terms, which can also impede our ability to negotiate, execute and deliver upon these contracts in a timely manner. In addition, for newly acquired companies, we have limited ability to predict how their pipelines \n",
            "23\n",
            "\n",
            "Table of Contents\n",
            "Index to Financial Statements\n",
            " \n",
            "will convert into sales or revenues for a number of quarters following the acquisition. Conversion rates and renewal rates post-acquisition may be quite different from the acquired companies’ historical conversion rates. Differences in conversion rates and renewal rates can also be affected by changes in business practices that we implement in our newly acquired companies. These changes may negatively affect customer behavior.\n",
            "A substantial portion of the revenue value of our cloud license and on-premise license, and hardware contracts is completed in the latter part of a quarter and a significant percentage of these are larger value orders. Because a significant portion of our cost structure is largely fixed in the short term, sales and revenue shortfalls tend to have a disproportionately negative impact on our profitability. The number of large license transactions and, to a lesser extent, hardware products transactions increases the risk of fluctuations in our quarterly results because a delay in even a small number of these transactions could cause our quarterly sales, revenues and profitability to fall significantly short of our predictions.\n",
            "We may experience foreign currency gains and losses. Changes in currency exchange rates can adversely affect customer demand and our revenue and profitability.     We conduct a significant number of transactions and hold cash in currencies other than the U.S. Dollar. Changes in the values of major foreign currencies, particularly the Euro, Japanese Yen and British Pound, relative to the U.S. Dollar can significantly affect our total assets, revenues, operating results and cash flows, which are reported in U.S. Dollars. In particular, the economic uncertainties relating to Brexit, and European sovereign and other debt obligations may cause the value of the British Pound and Euro to fluctuate relative to the U.S. Dollar. Fluctuations in foreign currency rates, including the strengthening of the U.S. Dollar against the Euro and most other major international currencies, adversely affects our revenue growth in terms of the amounts that we report in U.S. Dollars after converting our foreign currency results into U.S. Dollars and in terms of actual demand for our products and services as certain of these products may become relatively more expensive for foreign currency-based enterprises to purchase. In addition, currency variations can adversely affect margins on sales of our products in countries outside of the U.S. Generally, our reported revenues and operating results are adversely affected when the dollar strengthens relative to other currencies and are positively affected when the dollar weakens. In addition, our reported assets generally are adversely affected when the dollar strengthens relative to other currencies as a portion of our consolidated cash and bank deposits, among other assets, are held in foreign currencies and reported in U.S. Dollars.\n",
            "In addition, we incur foreign currency transaction gains and losses, primarily related to sublicense fees and other intercompany agreements among us and our subsidiaries that we expect to cash settle in the near term, which are charged to earnings in the period incurred. We have a program which primarily utilizes foreign currency forward contracts designed to offset the risks associated with certain foreign currency exposures. We may suspend the program from time to time. As part of this program, we enter into foreign currency forward contracts so that increases or decreases in our foreign currency exposures are offset at least in part by gains or losses on the foreign currency forward contracts in an effort to mitigate the risks and volatility associated with our foreign currency transaction gains or losses. A large portion of our consolidated operations are international, and we expect that we will continue to realize gains or losses with respect to our foreign currency exposures, net of gains or losses from our foreign currency forward contracts. For example, we will experience foreign currency gains and losses in certain instances if it is not possible or cost-effective to hedge our foreign currency exposures, if our hedging efforts are ineffective, or should we suspend our foreign currency forward contract program. Our ultimate realized loss or gain with respect to currency fluctuations will generally depend on the size and type of cross-currency exposures that we enter into, the currency exchange rates associated with these exposures and changes in those rates, whether we have entered into foreign currency forward contracts to offset these exposures and other factors. All of these factors could materially impact our results of operations, financial position and cash flows.\n",
            "We have incurred foreign currency losses associated with the devaluation of currencies in certain highly inflationary economies relative to the U.S. Dollar. We could incur future losses in emerging market countries where we do business should their currencies become designated as highly inflationary.\n",
            "Our periodic workforce restructurings and reorganizations can be disruptive.     We are currently restructuring our workforce and in the past we have restructured or made other adjustments to our workforce in response to management changes, product changes, performance issues, change in strategies, acquisitions and other internal \n",
            "24\n",
            "\n",
            "Table of Contents\n",
            "Index to Financial Statements\n",
            " \n",
            "and external considerations. These types of restructurings have resulted in increased restructuring costs and temporary reduced productivity while the employees adjusted to their new roles and responsibilities. In addition, we may not achieve or sustain the expected growth, resource redeployment or cost savings benefits of these restructurings, or may not do so within the expected timeframe. These effects could recur in connection with future acquisitions and other restructurings and our revenues and other results of operations could be negatively affected.\n",
            "We may lose key employees or may be unable to hire enough qualified employees.     We rely on hiring qualified employees and the continued service of our senior management, including our Chairman of the Board of Directors, Chief Technology Officer and founder; our Chief Executive Officer; other members of our executive team; and other key employees. In the technology industry, there is substantial and continuous competition for highly skilled business, product development, technical and other personnel. We may also experience increased compensation costs that are not offset by either improved productivity or higher sales. We may not be successful in recruiting new personnel and in retaining and motivating existing personnel. With rare exceptions, we do not have long-term employment or non-competition agreements with our employees. Members of our senior management team have left Oracle over the years for a variety of reasons, and we cannot guarantee that there will not be additional departures, which may be disruptive to our operations. \n",
            "We continually focus on improving our cost structure by hiring personnel in countries where advanced technical expertise and other expertise are available at lower costs. When we make adjustments to our workforce, we may incur expenses associated with workforce reductions that delay the benefit of a more efficient workforce structure. We may also experience increased competition for employees in these countries as the trend toward globalization continues, which may affect our employee retention efforts and increase our expenses in an effort to offer a competitive compensation program. In addition, changes to immigration and labor law policies may adversely impact our access to technical and professional talent.\n",
            "Our general compensation program includes restricted stock units and performance-based equity, which are important tools in attracting and retaining employees in our industry. If our stock price performs poorly, it may adversely affect our ability to retain or attract employees. We continually evaluate our compensation practices and consider changes from time to time, such as reducing the number of employees granted equity awards or the number of equity awards granted per employee and granting alternative forms of stock-based compensation, which may have an impact on our ability to retain employees and the amount of stock-based compensation expense that we record. Any changes in our compensation practices or those of our competitors could affect our ability to retain and motivate existing personnel and recruit new personnel.\n",
            "Our sales to government clients expose us to business volatility and risks, including government budgeting cycles and appropriations, procurement regulations, governmental policy shifts, early termination of contracts, audits, investigations, sanctions and penalties.     We derive revenues from contracts with the U.S. government, state and local governments, and foreign governments and are subject to procurement laws and regulations relating to the award, administration and performance of those contracts.\n",
            "Governmental entities are variously pursuing policies that affect our ability to sell our products and services. Changes in government procurement policy, priorities, regulations, technology initiatives and requirements, and/or contract award criteria may negatively impact our potential for growth in the government sector. For example, the U.S. Department of Defense (DoD) has issued cybersecurity requirements for contractors’ internal systems through a mandatory cybersecurity contract clause referred to as “DFARS 7012” and will be implementing a new third-party accreditation program known as the Cybersecurity Maturity Model Certification (CMMC).  The DFARS 7012 and CMMC requirements may impact our lines of business in the U.S. federal government market. Compliance with these cybersecurity requirements is complex and costly, and failure to meet the required security controls could limit our ability to sell products and services, directly or indirectly, to the DoD and other federal government entities that implement similar cybersecurity requirements.\n",
            "We are also subject to early termination of our contracts. Many governmental entities have the right to terminate contracts at any time, without cause. For example, the U.S. federal government may terminate any of our government contracts and subcontracts at its convenience, or for default based on our performance.\n",
            "25\n",
            "\n",
            "Table of Contents\n",
            "Index to Financial Statements\n",
            " \n",
            "U.S. federal contracts are subject to the congressional approval of appropriations to fund the expenditures under these contracts. Similarly, our contracts with U.S. state and local governments, foreign governments and their agencies are generally subject to government funding authorizations. Contracts may be terminated based upon a lack of appropriated funds.\n",
            "There is increased pressure on governments and their agencies, both domestically and internationally, to reduce spending as governments continue to face significant deficit reduction pressures. This may adversely impact spending on government programs.\n",
            "Government contracts laws and regulations impose certain risks, and contracts are generally subject to audits and investigations. If violations of law are found, they could result in civil and criminal penalties and administrative sanctions, including termination of contracts, refund of a portion of fees received, forfeiture of profits, suspension of payments, fines and suspensions or debarment from future government business.\n",
            "Acquisitions present many risks and we may not achieve the financial and strategic goals that were contemplated at the time of a transaction.     We continue to review and consider strategic acquisitions of companies, products, services and technologies. We have a selective and active acquisition program and we expect to continue to make acquisitions in the future because acquisitions are an important element of our overall corporate strategy. Risks we may face in connection with our acquisition program include:\n",
            "\n",
            "\n",
            "\n",
            "\n",
            " \n",
            "\n",
            "•\n",
            "\n",
            "our ongoing business may be disrupted and our management’s attention may be diverted by acquisition, transition or integration activities;\n",
            "\n",
            "\n",
            "\n",
            "\n",
            " \n",
            "\n",
            "•\n",
            "\n",
            "we may have difficulties (1) managing an acquired company’s technologies or lines of business; (2) entering new markets where we have no, or limited, direct prior experience or where competitors may have stronger market positions; or (3) retaining key personnel from the acquired companies;\n",
            "\n",
            "\n",
            "\n",
            "\n",
            " \n",
            "\n",
            "•\n",
            "\n",
            "an acquisition may not further our business strategy as we expected, we may not integrate an acquired company or technology as successfully as we expected, we may impose our business practices or alter go-to-market strategies that adversely impact the acquired business or we may overpay for, or otherwise not realize the expected return on our investments, which could adversely affect our business or operating results and potentially cause impairment to assets that we recorded as a part of an acquisition including intangible assets and goodwill;\n",
            "\n",
            "\n",
            "\n",
            "\n",
            " \n",
            "\n",
            "•\n",
            "\n",
            "our operating results or financial condition may be adversely impacted by (1) claims or liabilities that we assume from an acquired company or technology or that are otherwise related to an acquisition, including, among others, claims from government agencies, terminated employees, current or former customers, former stockholders or other third parties; (2) pre-existing contractual relationships that we assume from an acquired company that we would not have otherwise entered into, the termination or modification of which may be costly or disruptive to our business; (3) unfavorable revenue recognition or other accounting treatment as a result of an acquired company’s practices; and (4) intellectual property claims or disputes;\n",
            "\n",
            "\n",
            "\n",
            "\n",
            " \n",
            "\n",
            "•\n",
            "\n",
            "we may fail to identify or assess the magnitude of certain liabilities, shortcomings or other circumstances prior to acquiring a company or technology, which could result in (1) unexpected litigation or regulatory exposure, (2) unfavorable accounting treatment, (3) unexpected increases in taxes due or the loss of anticipated tax benefits or (4) other adverse effects on our business, operating results or financial condition;\n",
            "\n",
            "\n",
            "\n",
            "\n",
            " \n",
            "\n",
            "•\n",
            "\n",
            "we may not realize any anticipated increase in our revenues from an acquisition for a number of reasons, including (1) if a larger than predicted number of customers decline to renew cloud-based subscription contracts or license support or hardware support contracts, (2) if we are unable to sell the acquired products or service offerings to our customer base, (3) if acquired customers do not elect to purchase our technologies due to differing business practices or (4) if contract models utilized by an acquired company do not allow us to recognize revenues on a timely basis;\n",
            "26\n",
            "\n",
            "Table of Contents\n",
            "Index to Financial Statements\n",
            " \n",
            "\n",
            "\n",
            "\n",
            "\n",
            " \n",
            "\n",
            "•\n",
            "\n",
            "we may have difficulty incorporating acquired technologies, products, services and their related supply chain operations with our existing lines of business and supply chain infrastructure and maintaining uniform standards, architecture, controls, procedures and policies;\n",
            "\n",
            "\n",
            "\n",
            "\n",
            " \n",
            "\n",
            "•\n",
            "\n",
            "we may have multiple product lines or services offerings as a result of our acquisitions that are offered, priced, delivered and supported differently, which could cause customer confusion and delays;\n",
            "\n",
            "\n",
            "\n",
            "\n",
            " \n",
            "\n",
            "•\n",
            "\n",
            "we may incur higher than anticipated costs (1) to support, develop and deliver acquired products or services, (2) for general and administrative functions that support new business models, or (3) to comply with regulations applicable to an acquired business that are more complicated than we had anticipated;\n",
            "\n",
            "\n",
            "\n",
            "\n",
            " \n",
            "\n",
            "•\n",
            "\n",
            "we may be unable to obtain timely approvals from, or may otherwise have certain limitations, restrictions, penalties or other sanctions imposed on us by worker councils or similar bodies under applicable employment laws as a result of an acquisition, which could adversely affect our integration plans in certain jurisdictions and potentially increase our integration and restructuring expenses;\n",
            "\n",
            "\n",
            "\n",
            "\n",
            " \n",
            "\n",
            "•\n",
            "\n",
            "we may be unable to obtain required approvals from governmental authorities under competition and antitrust laws on a timely basis, if at all, which could, among other things, (1) delay or prevent us from completing a transaction, (2) adversely affect our integration plans in certain jurisdictions, (3) restrict our ability to realize the expected financial or strategic goals of an acquisition, or (4) have other adverse effects on our current business and operations;\n",
            "\n",
            "\n",
            "\n",
            "\n",
            " \n",
            "\n",
            "•\n",
            "\n",
            "our use of cash to pay for acquisitions may limit other potential uses of our cash, including (1) stock repurchases, (2) dividend payments and (3) retirement of outstanding indebtedness, among others;\n",
            "\n",
            "\n",
            "\n",
            "\n",
            " \n",
            "\n",
            "•\n",
            "\n",
            "we may significantly increase our interest expense, leverage and debt service requirements if we incur additional debt to pay for an acquisition and we may have to delay or not proceed with a substantial acquisition if we cannot obtain the necessary funding to complete the acquisition in a timely manner or on favorable terms;\n",
            "\n",
            "\n",
            "\n",
            "\n",
            " \n",
            "\n",
            "•\n",
            "\n",
            "to the extent that we issue a significant amount of equity securities in connection with future acquisitions, existing stockholders may be diluted and earnings per share may decrease; and\n",
            "\n",
            "\n",
            "\n",
            "\n",
            " \n",
            "\n",
            "•\n",
            "\n",
            "we may experience additional or unexpected changes in how we are required to account for our acquisitions pursuant to U.S. generally accepted accounting principles, including arrangements that we may assume in an acquisition.\n",
            "The occurrence of any of these risks could have a material adverse effect on our business, results of operations, financial condition or cash flows, particularly in the case of a larger acquisition or several concurrent acquisitions.\n",
            "Our hardware revenues and profitability have declined and could continue to decline.     Our hardware business may adversely affect our total revenues and overall profitability and related growth rates. We may not achieve our estimated revenue, profit or other financial projections with respect to our hardware business in a timely manner or at all due to a number of factors, including:\n",
            "\n",
            "\n",
            "\n",
            "\n",
            " \n",
            "\n",
            "•\n",
            "\n",
            "our changes in hardware offerings, technologies and strategies, including shifting factory locations, which could adversely affect supply and demand for our hardware products;\n",
            "\n",
            "\n",
            "\n",
            "\n",
            " \n",
            "\n",
            "•\n",
            "\n",
            "our hardware business has higher expenses as a percentage of revenues, and thus has been less profitable, than our cloud and license business;\n",
            "\n",
            "\n",
            "\n",
            "\n",
            " \n",
            "\n",
            "•\n",
            "\n",
            "our focus on certain of our more profitable Oracle Engineered Systems and certain other hardware products we consider strategic and the de-emphasis of certain of our lower profit margin commodity hardware products could adversely affect our hardware revenues; \n",
            "\n",
            "\n",
            "\n",
            "\n",
            " \n",
            "\n",
            "•\n",
            "\n",
            "changes in strategies and frequency for the development and introduction of new versions or next generations of our hardware products could adversely affect our hardware revenues;\n",
            "27\n",
            "\n",
            "Table of Contents\n",
            "Index to Financial Statements\n",
            " \n",
            "\n",
            "\n",
            "\n",
            "\n",
            " \n",
            "\n",
            "•\n",
            "\n",
            "general supply chain material shortages worldwide prior to the outbreak of COVID-19, which we expect will be further exacerbated globally as a result of the virus pandemic;\n",
            "\n",
            "\n",
            "\n",
            "\n",
            " \n",
            "\n",
            "•\n",
            "\n",
            "a greater risk of material charges that could adversely affect our operating results, such as potential write-downs and impairments of our inventories; higher warranty expenses than what we experience in our cloud and license and services businesses; and amortization and potential impairment of intangible assets associated with our hardware business;\n",
            "\n",
            "\n",
            "\n",
            "\n",
            " \n",
            "\n",
            "•\n",
            "\n",
            "decreased customer demand for related hardware support as hardware products approach the end of their useful lives, which could adversely affect our hardware revenues; and\n",
            "\n",
            "\n",
            "\n",
            "\n",
            " \n",
            "\n",
            "•\n",
            "\n",
            "we may acquire hardware companies that are strategically important to us but (1) operate in hardware businesses with historically lower operating margins than our own; (2) have different legacy business practices and go-to-market strategies than our own that we may alter as a part of our integration efforts, which may significantly impact our estimated revenues and profits from the acquired company; (3) leverage different platforms or competing technologies that we may encounter difficulties in integrating; or (4) utilize unique manufacturing processes that affect our ability to scale these acquired products within our own manufacturing operations.\n",
            "Our hardware offerings are complex products, and if we cannot successfully manage this complexity, the results of our hardware business will suffer.     We depend on suppliers to develop, manufacture and deliver on a timely basis the necessary technologies and components for our hardware products, and there are some technologies and components that can only be purchased from a single vendor due to price, quality, technology, availability or other business constraints. As a result, our supply chain operations could be disrupted or negatively impacted by industry consolidation and component constraints or shortages, natural disasters, political unrest, public health crises such as the outbreak of the novel coronavirus COVID-19, changes to trade policies, port stoppages or other transportation disruptions or slowdowns, or other factors affecting the countries or regions where these single source component vendors are located or where the products are being shipped. We may be unable to purchase these items from the respective single vendors on acceptable terms or may experience significant shortages, delays or quality issues in the delivery of necessary technologies, parts or components from a particular vendor. If one or more of the risks described above occurs, our hardware business and related operating results could be materially and adversely affected.\n",
            "We are susceptible to third-party manufacturing and logistics delays, which could result in the loss of sales and customers.     We outsource the manufacturing, assembly, delivery and technology or component design of certain of our hardware products to a variety of companies, many of which are located outside the U.S. From time to time, these partners experience production problems or delays or cannot meet our demand for products. To reduce this risk, we continue to explore additional third-party manufacturing partners to drive supply chain continuity, but finding additional manufacturing sources in a timely and cost-effective manner is difficult. Third-party manufacturing and logistics delays attributable to the effects of COVID-19 caused a loss of sales during our fourth quarter of fiscal 2020. Ongoing or future delays in manufacturing could cause the loss of additional sales, delayed revenue recognition or an increase in our hardware products expenses, all of which could adversely affect the margins of our hardware business. These challenges and risks also exist when we acquire companies with hardware products and related supply chain operations and could arise if we alter our manufacturing strategies, suppliers or locations. In some cases, we may be dependent, at least initially, on these acquired companies’ supply chain operations or other manufacturing operations that we are less familiar with and thus we may be slower to adjust or react to these challenges and risks.\n",
            "Our cloud and license, and hardware indirect sales channels could affect our future operating results.     Our cloud and license, and hardware indirect channel network is comprised primarily of resellers, system integrators/implementers, consultants, education providers, internet service providers, network integrators and independent software vendors. Our relationships with these channel participants are important elements of our cloud, software and hardware marketing and sales efforts. Our financial results could be adversely affected if our contracts with channel participants were terminated, if our relationships with channel participants were to deteriorate, if any of our competitors enter into strategic relationships with or acquire a significant channel \n",
            "28\n",
            "\n",
            "Table of Contents\n",
            "Index to Financial Statements\n",
            " \n",
            "participant, if the financial condition or operations of our channel participants were to weaken or if the level of demand for our channel participants’ products and services were to decrease. There can be no assurance that we will be successful in maintaining, expanding or developing our relationships with channel participants. If we are not successful, we may lose sales opportunities, customers and revenues.\n",
            "We may not be able to protect our intellectual property rights.     We rely on copyright, trademark, patent and trade secret laws, confidentiality procedures, controls and contractual commitments to protect our intellectual property rights. Despite our efforts, these protections may be limited. Unauthorized third parties may try to copy or reverse engineer portions of our products or otherwise obtain and use our intellectual property. Any patents owned by us may be invalidated, circumvented or challenged. Any of our pending or future patent applications, whether or not being currently challenged, may not be issued with the scope of the claims we seek, if at all. In addition, the laws of some countries do not provide the same level of protection of our intellectual property rights as do the laws and courts of the U.S. If we cannot protect our intellectual property rights against unauthorized copying or use, or other misappropriation, we may not remain competitive.\n",
            "Third parties have claimed, and in the future may claim, infringement or misuse of intellectual property rights and/or breach of license agreement provisions.     We periodically receive notices from, or have lawsuits filed against us by, others claiming infringement or other misuse of their intellectual property rights and/or breach of our agreements with them. These third parties include entities that do not have the capabilities to design, manufacture, or distribute products or services or that acquire intellectual property like patents for the sole purpose of monetizing their acquired intellectual property through asserting claims of infringement and misuse. We expect to continue to receive such claims as:\n",
            "\n",
            "\n",
            "\n",
            "\n",
            " \n",
            "\n",
            "•\n",
            "\n",
            "we continue to expand into new businesses and acquire companies;\n",
            "\n",
            "\n",
            "\n",
            "\n",
            " \n",
            "\n",
            "•\n",
            "\n",
            "the number of products and competitors in our industry segments grows;\n",
            "\n",
            "\n",
            "\n",
            "\n",
            " \n",
            "\n",
            "•\n",
            "\n",
            "the use and support of third-party code (including open source code) becomes more prevalent in the industry;\n",
            "\n",
            "\n",
            "\n",
            "\n",
            " \n",
            "\n",
            "•\n",
            "\n",
            "the volume of issued patents continues to increase; and\n",
            "\n",
            "\n",
            "\n",
            "\n",
            " \n",
            "\n",
            "•\n",
            "\n",
            "non-practicing entities continue to assert intellectual property infringement in our industry segments.\n",
            "Responding to any such claim, regardless of its validity, could:\n",
            "\n",
            "\n",
            "\n",
            "\n",
            " \n",
            "\n",
            "•\n",
            "\n",
            "be time consuming, costly and result in litigation;\n",
            "\n",
            "\n",
            "\n",
            "\n",
            " \n",
            "\n",
            "•\n",
            "\n",
            "divert management’s time and attention from developing our business;\n",
            "\n",
            "\n",
            "\n",
            "\n",
            " \n",
            "\n",
            "•\n",
            "\n",
            "require us to pay monetary damages or enter into royalty and licensing agreements that we would not normally find acceptable;\n",
            "\n",
            "\n",
            "\n",
            "\n",
            " \n",
            "\n",
            "•\n",
            "\n",
            "require us to stop selling or to redesign certain of our products;\n",
            "\n",
            "\n",
            "\n",
            "\n",
            " \n",
            "\n",
            "•\n",
            "\n",
            "require us to release source code to third parties, possibly under open source license terms;\n",
            "\n",
            "\n",
            "\n",
            "\n",
            " \n",
            "\n",
            "•\n",
            "\n",
            "require us to satisfy indemnification obligations to our customers; or\n",
            "\n",
            "\n",
            "\n",
            "\n",
            " \n",
            "\n",
            "•\n",
            "\n",
            "otherwise adversely affect our business, results of operations, financial condition or cash flows.\n",
            "We may not receive significant revenues from our current research and development efforts for several years, if at all.     Developing our various product offerings is expensive and the investment in the development of these offerings often involves a long return on investment cycle. An important element of our corporate strategy is to continue to dedicate a significant amount of resources to research and development and related product and service opportunities both through internal investments and the acquisition of intellectual property from companies that we have acquired. Accelerated product and service introductions and short lifecycles require high levels of expenditures for research and development that could adversely affect our operating results if not offset by revenue increases. We believe that we must continue to dedicate a significant amount of resources to our \n",
            "29\n",
            "\n",
            "Table of Contents\n",
            "Index to Financial Statements\n",
            " \n",
            "research and development efforts to maintain our competitive position. However, we do not expect to receive significant revenues from these investments for several years, if at all.\n",
            "Business disruptions could adversely affect our operating results.     A significant portion of our critical business operations are concentrated in a few geographic areas, some of which include emerging market international locations that may be less stable relative to running such business operations solely within the U.S. We are a highly automated business and a disruption or failure of our systems, supply chains and processes could cause delays in completing sales, providing services, including some of our cloud offerings, and enabling a seamless customer experience with respect to our customer facing back office processes. A major earthquake or fire, political, social or other disruption to infrastructure that supports our operations or other catastrophic event or the effects of climate change (such as increased storm severity, drought and pandemics) that results in the destruction or disruption of any of our critical business, supply chains or IT systems could severely affect our ability to conduct normal business operations and, as a result, our future operating results could be materially and adversely affected.\n",
            "Adverse litigation results could affect our business.     We are subject to various legal proceedings. Litigation can be lengthy, expensive and disruptive to our operations, and can divert our management’s attention away from running our core business. The results of our litigation also cannot be predicted with certainty. An adverse decision could result in monetary damages or injunctive relief that could affect our business, operating results or financial condition. Additional information regarding certain of the lawsuits we are involved in is discussed under Note 17 of Notes to Consolidated Financial Statements included elsewhere in this Annual Report.\n",
            "We may have exposure to additional tax liabilities.     As a multinational corporation, we are subject to income taxes as well as non-income based taxes, in both the U.S. and various foreign jurisdictions. Significant uncertainties exist with respect to the amount of our tax liabilities, including those arising from potential changes in laws in the countries in which we do business and the possibility of adverse determinations with respect to the application of existing laws. Many judgments are required in determining our worldwide provision for income taxes and other tax liabilities, and we are regularly under audit by tax authorities, which often do not agree with positions taken by us on our tax returns. Any unfavorable resolution of these uncertainties may have a significant adverse impact on our tax rate.\n",
            "Increasingly, countries around the world are actively considering or have enacted changes in relevant tax, accounting and other laws, regulations and interpretations. In particular, the U.S. Tax Cuts and Jobs Act of 2017 (the Tax Act) significantly changed how corporations are taxed in the U.S., which has an ongoing impact on our provision for income taxes. The U.S. Treasury Department and the Internal Revenue Service (IRS), and other standards-setting bodies are continuing to issue guidance on how the provisions of the Tax Act will be applied and it is possible that the guidance may differ from our interpretation of the legislation. The Tax Act requires complex computations not previously required or produced, and necessitates that we make significant judgments and assumptions in the interpretation of the law where there is a lack of guidance.   \n",
            "Such uncertainty in the application of the Tax Act to our ongoing operations as well as possible adverse future law changes attributable to changes in the U.S. political landscape create the potential for added volatility in our quarterly provision for income taxes and could have an adverse impact on our future tax rate. Various Democratic proposals would partially or wholly reverse beneficial features of the Tax Act, such as by raising the U.S. corporate tax rate and increasing the tax on non-U.S. income.  A change in party control of the White House and U.S. Senate thus could lead to dramatic changes in the tax law and result in an increase in our provision for income taxes.  Increased federal and state fiscal spending to fund COVID-19 relief measures, coupled with a drop in tax revenue from pandemic-related reductions in economic activity, will add to the pressure to raise more tax revenue from federal and state corporate income and other taxes or to enact new types of taxes on businesses and their customers. \n",
            "Other countries also continue to consider enacting changes to their tax laws that could adversely affect us by increasing taxes imposed on our revenue streams and foreign subsidiaries, including changes in withholding tax regimes and the imposition of taxes targeted at certain technology businesses. More fundamentally, longstanding international tax principles that determine each country’s right to tax cross-border transactions are being \n",
            "30\n",
            "\n",
            "Table of Contents\n",
            "Index to Financial Statements\n",
            " \n",
            "reconsidered, creating significant uncertainty as to the future level of corporate income tax on our international operations. This re-examination is driven by a perceived need to provide greater taxing rights to market jurisdictions where customers or users are located. Various measures are being discussed, including adjustments to transfer pricing rules, limitations on deductions, and imposition of additional withholding taxes. The foregoing changes brought about by the Tax Act in combination with the uncertain international tax environment have upended expectations and the predictability and reliability of the global tax system, leading to the ongoing re-evaluation of our global legal and tax operating structure.  The resulting potential modifications to our structure could adversely impact our provision for income taxes. \n",
            "Inherent in our global business operations and legal entity structure are many intercompany transactions and calculations made in the ordinary course of business where the ultimate tax determination is uncertain. Our intercompany transfer pricing has been and is currently being reviewed by the IRS and by foreign tax jurisdictions and will likely be subject to additional audits in the future. Although we have negotiated a number of agreements with certain taxing jurisdictions, these agreements do not cover substantial elements of our transfer pricing. In recent periods, transfer pricing audits in many foreign jurisdictions have become increasingly contentious. Similarly, certain jurisdictions are increasingly raising concerns about certain withholding tax matters under current law. In addition, our provision for income taxes could be adversely affected by shifts of earnings from jurisdictions or regimes that have relatively lower statutory tax rates to those in which the rates are relatively higher.\n",
            "We are also subject to non-income based taxes, such as payroll, sales, use, value-added, net worth, property and goods and services taxes, in both the U.S. and various foreign jurisdictions that have uncertain applicability to the businesses in which we are engaged. Although we believe that our income and non-income based tax estimates are reasonable, there is no assurance that the final determination of tax audits or tax disputes will not be different from what is reflected in our historical income tax provisions and accruals.\n",
            "There are risks associated with our outstanding and future indebtedness.     As of May 31, 2020, we had an aggregate of $71.6 billion of outstanding indebtedness that will mature between calendar year 2020 and calendar year 2060, and we may incur additional indebtedness in the future. Our ability to pay interest and repay the principal for our indebtedness is dependent upon our ability to manage our business operations, generate sufficient cash flows to service such debt and the other factors discussed in this section. There can be no assurance that we will be able to manage any of these risks successfully.\n",
            "We may also need to refinance a portion of our outstanding debt as it matures. There is a risk that we may not be able to refinance existing debt or that the terms of any refinancing may not be as favorable as the terms of our existing debt. Furthermore, if prevailing interest rates or other factors at the time of refinancing result in higher interest rates upon refinancing, then the interest expense relating to that refinanced indebtedness would increase. \n",
            "Should we incur future increases in interest expense, our ability to utilize certain of our foreign tax credits to reduce our U.S. federal income tax could be limited, which could unfavorably affect our provision for income taxes and effective tax rate. In addition, changes by any rating agency to our outlook or credit rating could negatively affect the value of both our debt and equity securities and increase the interest amounts we pay on certain outstanding or future debt. These risks could adversely affect our financial condition and results of operations.\n",
            "Environmental and other related laws and regulations subject us to a number of risks and could result in significant liabilities and costs.     Some of our cloud and hardware operations are subject to state, federal and international laws governing protection of the environment, proper handling and disposal of materials used for these products, human health and safety, the use of certain chemical substances and the labor practices of suppliers, as well as local testing and labelling requirements. Compliance with these ever-changing environmental and other laws in a timely manner could increase our product design, development, procurement, manufacturing, delivery, cloud operations and administration costs, limit our ability to manage excess and obsolete non-compliant inventory, change our sales activities, or otherwise impact future financial results of our cloud and hardware businesses. Any violation of these laws can subject us to significant liability, including fines, penalties and possible prohibition of sales of our products and services into one or more states or countries and result in a material adverse effect on the financial condition or results of operations of our cloud and hardware businesses. \n",
            "31\n",
            "\n",
            "Table of Contents\n",
            "Index to Financial Statements\n",
            " \n",
            "Regulatory, market, and competitive pressures regarding the greenhouse gas emissions and energy mix for our data center operations may also grow.\n",
            "The SEC has adopted disclosure requirements for companies that use certain “conflict minerals” (tantalum, tin, tungsten and gold) in their products. Our supply chain is multi-tiered, global and highly complex. As a provider of hardware end-products, we are several steps removed from the mining and smelting or refining of any conflict minerals in our supply chain. Accordingly, our ability to determine with certainty the origin and chain of custody of conflict minerals is limited. Our relationships with customers and suppliers could suffer if we are unable to describe our products as “conflict-free.” We may also face increased costs in complying with conflict minerals disclosure requirements.\n",
            "A significant portion of our hardware revenues come from international sales. Environmental legislation, such as the EU Directive on Restriction of Hazardous Substances (RoHS), the EU Waste Electrical and Electronic Equipment Directive (WEEE Directive) and China’s regulation on Management Methods for Controlling Pollution Caused by Electronic Information Products, may increase our cost of doing business internationally and impact our hardware revenues from the EU, China and other countries with similar environmental legislation as we endeavor to comply with and implement these requirements. The UK Government has announced a procurement policy that includes environmental, social and economic sustainability measures. \n",
            "Our stock price could become more volatile and your investment could lose value.    All of the factors discussed in this section could affect our stock price. The timing of announcements in the public market by us or by our competitors regarding new products, product enhancements, technological advances, acquisitions or major transactions could also affect our stock price. Changes in the amounts and frequency of share repurchases or dividends could affect our stock price. Our stock price could also be affected by factors, some of which are beyond our control, including, among others: speculation in the press and the analyst community, changes in recommendations or earnings estimates by financial analysts, changes in investors’ or analysts’ valuation measures for our stock, negative analyst surveys or channel check surveys, earnings announcements where our financial results differ from our guidance or investors’ expectations, our credit ratings and market trends unrelated to our performance. A significant drop in our stock price could also expose us to the risk of securities class action lawsuits, which could result in substantial costs and divert management’s attention and resources, which could adversely affect our business.\n",
            "We cannot guarantee that our stock repurchase program will be fully implemented or that it will enhance long-term stockholder value.    In fiscal 2020, our Board of Directors approved expansions of our stock repurchase program totaling $30.0 billion. The repurchase program does not have an expiration date and we are not obligated to repurchase a specified number or dollar value of shares. Our repurchase program may be suspended or terminated at any time and, even if fully implemented, may not enhance long-term stockholder value.\n",
            "Charges to earnings resulting from acquisitions may adversely affect our operating results.     Under business combination accounting standards pursuant to Accounting Standards Codification (ASC) 805, Business Combinations, we recognize the identifiable assets acquired, the liabilities assumed and any non-controlling interests in acquired companies generally at their acquisition date fair values and, in each case, separately from goodwill. Goodwill as of the acquisition date is measured as the excess amount of consideration transferred, which is also generally measured at fair value, and the net of the acquisition date amounts of the identifiable assets acquired and the liabilities assumed. Our estimates of fair value are based upon assumptions believed to be reasonable but which are inherently uncertain. After we complete an acquisition, the following factors could result in material charges and adversely affect our operating results and may adversely affect our cash flows:\n",
            "\n",
            "\n",
            "\n",
            "\n",
            " \n",
            "\n",
            "•\n",
            "\n",
            "costs incurred to combine the operations of companies we acquire, such as transitional employee expenses and employee retention, redeployment or relocation expenses;\n",
            "\n",
            "\n",
            "\n",
            "\n",
            " \n",
            "\n",
            "•\n",
            "\n",
            "impairment of goodwill or impairment of intangible assets;\n",
            "\n",
            "\n",
            "\n",
            "\n",
            " \n",
            "\n",
            "•\n",
            "\n",
            "amortization of intangible assets acquired;\n",
            "\n",
            "\n",
            "\n",
            "\n",
            " \n",
            "\n",
            "•\n",
            "\n",
            "a reduction in the useful lives of intangible assets acquired;\n",
            "32\n",
            "\n",
            "Table of Contents\n",
            "Index to Financial Statements\n",
            " \n",
            "\n",
            "\n",
            "\n",
            "\n",
            " \n",
            "\n",
            "•\n",
            "\n",
            "identification of, or changes to, assumed contingent liabilities, both income tax and non-income tax related, after our final determination of the amounts for these contingencies or the conclusion of the measurement period (generally up to one year from the acquisition date), whichever comes first;\n",
            "\n",
            "\n",
            "\n",
            "\n",
            " \n",
            "\n",
            "•\n",
            "\n",
            "charges to our operating results to maintain certain duplicative pre-merger activities for an extended period of time or to maintain these activities for a period of time that is longer than we had anticipated, charges to eliminate certain duplicative pre-merger activities, and charges to restructure our operations or to reduce our cost structure;\n",
            "\n",
            "\n",
            "\n",
            "\n",
            " \n",
            "\n",
            "•\n",
            "\n",
            "charges to our operating results due to expenses incurred to effect the acquisition; and\n",
            "\n",
            "\n",
            "\n",
            "\n",
            " \n",
            "\n",
            "•\n",
            "\n",
            "charges to our operating results due to the expensing of certain stock awards assumed in an acquisition.\n",
            "Substantially all of these costs will be accounted for as expenses that will adversely impact our operating results for the periods in which those costs are incurred. Charges to our operating results in any given period could differ substantially from other periods based on the timing and size of our future acquisitions and the extent of integration activities. A more detailed discussion of our accounting for business combinations and other items is presented in the “Critical Accounting Policies and Estimates” section of Management’s Discussion and Analysis of Financial Condition and Results of Operations (Item 7) included elsewhere in this Annual Report.\n",
            "\n",
            "\n",
            "\n",
            "\n",
            "\n"
          ],
          "name": "stdout"
        }
      ]
    },
    {
      "cell_type": "code",
      "metadata": {
        "id": "zbIx1h1W0RGk"
      },
      "source": [
        "company = Company(\"Amazon Com Inc\", \"0001018724\")\n",
        "tree = company.get_all_filings(filing_type = \"10-K\")\n",
        "docs = Company.get_documents(tree, no_of_documents=5)"
      ],
      "execution_count": null,
      "outputs": []
    },
    {
      "cell_type": "code",
      "metadata": {
        "id": "aXq5UwyS0b6n",
        "colab": {
          "base_uri": "https://localhost:8080/",
          "height": 102
        },
        "outputId": "58504a30-b5a3-4386-c0c5-19af91ff71cd"
      },
      "source": [
        "docs"
      ],
      "execution_count": null,
      "outputs": [
        {
          "output_type": "execute_result",
          "data": {
            "text/plain": [
              "[<Element sec-document at 0x7f7fce46e598>,\n",
              " <Element sec-document at 0x7f7fce57c688>,\n",
              " <Element sec-document at 0x7f7fce464778>,\n",
              " <Element sec-document at 0x7f7fce464228>,\n",
              " <Element sec-document at 0x7f7fce46e6d8>]"
            ]
          },
          "metadata": {
            "tags": []
          },
          "execution_count": 234
        }
      ]
    },
    {
      "cell_type": "code",
      "metadata": {
        "id": "VexoU0GJ0i8X",
        "colab": {
          "base_uri": "https://localhost:8080/",
          "height": 35
        },
        "outputId": "19deada5-a112-4166-d390-33752245b051"
      },
      "source": [
        "docs[0].text_content()[0:100]"
      ],
      "execution_count": null,
      "outputs": [
        {
          "output_type": "execute_result",
          "data": {
            "application/vnd.google.colaboratory.intrinsic+json": {
              "type": "string"
            },
            "text/plain": [
              "'0001018724-20-000004.txt : 20200131\\n0001018724-20-000004.hdr.sgml : 20200131\\n20200130204613\\nACCESSIO'"
            ]
          },
          "metadata": {
            "tags": []
          },
          "execution_count": 235
        }
      ]
    },
    {
      "cell_type": "code",
      "metadata": {
        "id": "2oKCBpvO0sJS",
        "colab": {
          "base_uri": "https://localhost:8080/",
          "height": 207
        },
        "outputId": "97dc7028-63d0-4073-9839-65dc49b78a97"
      },
      "source": [
        "amazon_text=docs[0].text_content().replace('\\xa0', ' ')\n",
        "print(re.findall(re.compile(\"Item 1A\\.\"),amazon_text))\n",
        "for match in re.finditer(\"Item 1A\\.\",amazon_text):\n",
        "  print(match)\n",
        "print(match.span())\n",
        "#match for all sections\n",
        "matches=list(re.finditer(re.compile('Item [0-9][A-Z]*\\.'),amazon_text))\n",
        "print(matches)\n",
        "print(len(matches))\n",
        "print(matches[0])\n",
        "print(matches[0][0])\n",
        "# find all matches for Item 1A. first match will be in  table of contents and second match is in main document\n",
        "item_matches=[index for index in range(len(matches)) if matches[index][0]==\"Item 1A.\"]\n",
        "item_matches\n",
        "#section start index\n",
        "start=max(item_matches)\n",
        "end=start+1\n",
        "#use span to get section text\n",
        "start=matches[start].span()[1]\n",
        "end=matches[end].span()[0]\n",
        "print(start,end)\n",
        "print(amazon_text[start:end])"
      ],
      "execution_count": null,
      "outputs": [
        {
          "output_type": "stream",
          "text": [
            "['Item 1A.', 'Item 1A.']\n",
            "<_sre.SRE_Match object; span=(45646, 45654), match='Item 1A.'>\n",
            "<_sre.SRE_Match object; span=(59358, 59366), match='Item 1A.'>\n",
            "(59358, 59366)\n",
            "[<_sre.SRE_Match object; span=(45630, 45637), match='Item 1.'>, <_sre.SRE_Match object; span=(45646, 45654), match='Item 1A.'>, <_sre.SRE_Match object; span=(45667, 45675), match='Item 1B.'>, <_sre.SRE_Match object; span=(45702, 45709), match='Item 2.'>, <_sre.SRE_Match object; span=(45721, 45728), match='Item 3.'>, <_sre.SRE_Match object; span=(45747, 45754), match='Item 4.'>, <_sre.SRE_Match object; span=(45790, 45797), match='Item 5.'>, <_sre.SRE_Match object; span=(45911, 45918), match='Item 6.'>, <_sre.SRE_Match object; span=(45956, 45963), match='Item 7.'>, <_sre.SRE_Match object; span=(46050, 46058), match='Item 7A.'>, <_sre.SRE_Match object; span=(46118, 46125), match='Item 8.'>, <_sre.SRE_Match object; span=(46170, 46177), match='Item 9.'>, <_sre.SRE_Match object; span=(46263, 46271), match='Item 9A.'>, <_sre.SRE_Match object; span=(46296, 46304), match='Item 9B.'>, <_sre.SRE_Match object; span=(46804, 46811), match='Item 1.'>, <_sre.SRE_Match object; span=(59358, 59366), match='Item 1A.'>, <_sre.SRE_Match object; span=(108890, 108898), match='Item 1B.'>, <_sre.SRE_Match object; span=(108947, 108954), match='Item 2.'>, <_sre.SRE_Match object; span=(110165, 110172), match='Item 3.'>, <_sre.SRE_Match object; span=(110319, 110326), match='Item 4.'>, <_sre.SRE_Match object; span=(110390, 110397), match='Item 5.'>, <_sre.SRE_Match object; span=(110871, 110878), match='Item 6.'>, <_sre.SRE_Match object; span=(113527, 113534), match='Item 7.'>, <_sre.SRE_Match object; span=(163134, 163142), match='Item 7A.'>, <_sre.SRE_Match object; span=(170111, 170118), match='Item 8.'>, <_sre.SRE_Match object; span=(286350, 286357), match='Item 9.'>, <_sre.SRE_Match object; span=(286446, 286454), match='Item 9A.'>, <_sre.SRE_Match object; span=(293799, 293807), match='Item 9B.'>]\n",
            "28\n",
            "<_sre.SRE_Match object; span=(45630, 45637), match='Item 1.'>\n",
            "Item 1.\n",
            "59366 108890\n",
            "Risk FactorsPlease carefully consider the following discussion of significant factors, events, and uncertainties that make an investment in our securities risky. The events and consequences discussed in these risk factors could, in circumstances we may or may not be able to accurately predict, recognize, or control, have a material adverse effect on our business, growth, reputation, prospects, financial condition, operating results (including components of our financial results), cash flows, liquidity, and stock price. These risk factors do not identify all risks that we face; our operations could also be affected by factors, events, or uncertainties that are not presently known to us or that we currently do not consider to present significant risks to our operations. In addition, the global economic climate amplifies many of these risks.We Face Intense CompetitionOur businesses are rapidly evolving and intensely competitive, and we have many competitors across geographies, including cross-border competition, and in different industries, including physical, e-commerce, and omnichannel retail, e-commerce services, web and infrastructure computing services, electronic devices, digital content, advertising, grocery, and transportation and logistics services. Some of our current and potential competitors have greater resources, longer histories, more customers, and/or greater brand recognition, particularly with our newly-launched products and services and in our newer geographic regions. They may secure better terms from vendors, adopt more aggressive pricing, and devote more resources to technology, infrastructure, fulfillment, and marketing.Competition continues to intensify, including with the development of new business models and the entry of new and well-funded competitors, and as our competitors enter into business combinations or alliances and established companies in other market segments expand to become competitive with our business. In addition, new and enhanced technologies, including search, web and infrastructure computing services, digital content, and electronic devices continue to increase our competition. The Internet facilitates competitive entry and comparison shopping, which enhances the ability of new, smaller, or lesser known businesses to compete against us. As a result of competition, our product and service offerings may not be successful, we may fail to gain or may lose business, and we may be required to increase our spending or lower prices, any of which could materially reduce our sales and profits.Our Expansion Places a Significant Strain on our Management, Operational, Financial, and Other ResourcesWe are continuing to rapidly and significantly expand our global operations, including increasing our product and service offerings and scaling our infrastructure to support our retail and services businesses. The complexity of the current scale of our business can place significant strain on our management, personnel, operations, systems, technical performance, financial resources, and internal financial control and reporting functions, and our expansion increases these factors. Failure to manage growth effectively could damage our reputation, limit our growth, and negatively affect our operating results.Our Expansion into New Products, Services, Technologies, and Geographic Regions Subjects Us to Additional RisksWe may have limited or no experience in our newer market segments, and our customers may not adopt our product or service offerings. These offerings, which can present new and difficult technology challenges, may subject us to claims if customers of these offerings experience service disruptions or failures or other quality issues. In addition, profitability, if any, in our newer activities may not meet our expectations, and we may not be successful enough in these newer activities to recoup our investments in them. Failure to realize the benefits of amounts we invest in new technologies, products, or services could result in the value of those investments being written down or written off.We Experience Significant Fluctuations in Our Operating Results and Growth RateWe are not always able to accurately forecast our growth rate. We base our expense levels and investment plans on sales estimates. A significant portion of our expenses and investments is fixed, and we are not always able to adjust our spending quickly enough if our sales are less than expected.Our revenue growth may not be sustainable, and our percentage growth rates may decrease. Our revenue and operating profit growth depends on the continued growth of demand for the products and services offered by us or our sellers, and our business is affected by general economic and business conditions worldwide. A softening of demand, whether caused by changes in customer preferences or a weakening of the U.S. or global economies, may result in decreased revenue or growth.Our sales and operating results will also fluctuate for many other reasons, including due to factors described elsewhere in this section and the following:•our ability to retain and increase sales to existing customers, attract new customers, and satisfy our customers’ demands;6Table of Contents•our ability to retain and expand our network of sellers;•our ability to offer products on favorable terms, manage inventory, and fulfill orders;•the introduction of competitive stores, websites, products, services, price decreases, or improvements;•changes in usage or adoption rates of the Internet, e-commerce, electronic devices, and web services, including outside the U.S.;•timing, effectiveness, and costs of expansion and upgrades of our systems and infrastructure;•the success of our geographic, service, and product line expansions;•the extent to which we finance, and the terms of any such financing for, our current operations and future growth;•the outcomes of legal proceedings and claims, which may include significant monetary damages or injunctive relief and could have a material adverse impact on our operating results;•variations in the mix of products and services we sell;•variations in our level of merchandise and vendor returns;•the extent to which we offer fast and free delivery, continue to reduce prices worldwide, and provide additional benefits to our customers;•factors affecting our reputation or brand image;•the extent to which we invest in technology and content, fulfillment, and other expense categories;•increases in the prices of fuel and gasoline, as well as increases in the prices of other energy products and commodities like paper and packing supplies and hardware products;•the extent to which operators of the networks between our customers and our stores successfully charge fees to grant our customers unimpaired and unconstrained access to our online services;•our ability to collect amounts owed to us when they become due;•the extent to which use of our services is affected by spyware, viruses, phishing and other spam emails, denial of service attacks, data theft, computer intrusions, outages, and similar events; and•disruptions from natural or man-made disasters, extreme weather, geopolitical events and security issues (including terrorist attacks and armed hostilities), labor or trade disputes, and similar events.Our International Operations Expose Us to a Number of RisksOur international activities are significant to our revenues and profits, and we plan to further expand internationally. In certain international market segments, we have relatively little operating experience and may not benefit from any first-to-market advantages or otherwise succeed. It is costly to establish, develop, and maintain international operations and stores, and promote our brand internationally. Our international operations may not become profitable on a sustained basis.In addition to risks described elsewhere in this section, our international sales and operations are subject to a number of risks, including:•local economic and political conditions;•government regulation (such as regulation of our product and service offerings and of competition); restrictive governmental actions (such as trade protection measures, including export duties and quotas and custom duties and tariffs); nationalization; and restrictions on foreign ownership;•restrictions on sales or distribution of certain products or services and uncertainty regarding liability for products, services, and content, including uncertainty as a result of less Internet-friendly legal systems, local laws, lack of legal precedent, and varying rules, regulations, and practices regarding the physical and digital distribution of media products and enforcement of intellectual property rights;•business licensing or certification requirements, such as for imports, exports, web services, and electronic devices;•limitations on the repatriation and investment of funds and foreign currency exchange restrictions;•limited fulfillment and technology infrastructure;•shorter payable and longer receivable cycles and the resultant negative impact on cash flow;•laws and regulations regarding consumer and data protection, privacy, network security, encryption, payments, advertising, and restrictions on pricing or discounts;7Table of Contents•lower levels of use of the Internet;•lower levels of consumer spending and fewer opportunities for growth compared to the U.S.;•lower levels of credit card usage and increased payment risk;•difficulty in staffing, developing, and managing foreign operations as a result of distance, language, and cultural differences;•different employee/employer relationships and the existence of works councils and labor unions;•compliance with the U.S. Foreign Corrupt Practices Act and other applicable U.S. and foreign laws prohibiting corrupt payments to government officials and other third parties;•laws and policies of the U.S. and other jurisdictions affecting trade, foreign investment, loans, and taxes; and•geopolitical events, including war and terrorism.As international physical, e-commerce, and omnichannel retail and other services grow, competition will intensify, including through adoption of evolving business models. Local companies may have a substantial competitive advantage because of their greater understanding of, and focus on, the local customer, as well as their more established local brand names. The inability to hire, train, retain, and manage sufficient required personnel may limit our international growth.The People’s Republic of China (“PRC”) and India regulate Amazon’s and its affiliates’ businesses and operations in country through regulations and license requirements that may restrict (i) foreign investment in and operation of the Internet, IT infrastructure, data centers, retail, delivery, and other sectors, (ii) Internet content, and (iii) the sale of media and other products and services. For example, in order to meet local ownership, regulatory licensing, and cybersecurity requirements, we provide certain technology services in China through contractual relationships with third parties that hold PRC licenses to provide services. In India, the government restricts the ownership or control of Indian companies by foreign entities involved in online multi-brand retail trading activities. For www.amazon.in, we provide certain marketing tools and logistics services to third-party sellers to enable them to sell online and deliver to customers, and we hold indirect minority interests in entities that are third-party sellers on the www.amazon.in marketplace. Although we believe these structures and activities comply with existing laws, they involve unique risks, and the PRC and India may from time to time consider and implement additional changes in their regulatory, licensing, or other requirements that could impact these structures and activities. There are substantial uncertainties regarding the interpretation of PRC and Indian laws and regulations, and it is possible that these governments will ultimately take a view contrary to ours. In addition, our Chinese and Indian businesses and operations may be unable to continue to operate if we or our affiliates are unable to access sufficient funding or, in China, enforce contractual relationships we or our affiliates have in place. Violation of any existing or future PRC, Indian, or other laws or regulations or changes in the interpretations of those laws and regulations could result in our businesses in those countries being subject to fines and other financial penalties, having licenses revoked, or being forced to restructure our operations or shut down entirely. We Face Risks Related to Successfully Optimizing and Operating Our Fulfillment Network and Data CentersFailures to adequately predict customer demand or otherwise optimize and operate our fulfillment network and data centers successfully from time to time result in excess or insufficient fulfillment or data center capacity, increased costs, and impairment charges, any of which could materially harm our business. As we continue to add fulfillment and data center capability or add new businesses with different requirements, our fulfillment and data center networks become increasingly complex and operating them becomes more challenging. There can be no assurance that we will be able to operate our networks effectively.In addition, failure to optimize inventory in our fulfillment network increases our net shipping cost by requiring long-zone or partial shipments. We and our co-sourcers may be unable to adequately staff our fulfillment network and customer service centers. Under some of our commercial agreements, we maintain the inventory of other companies, thereby increasing the complexity of tracking inventory and operating our fulfillment network. Our failure to properly handle such inventory or the inability of the other businesses on whose behalf we perform inventory fulfillment services to accurately forecast product demand may result in us being unable to secure sufficient storage space or to optimize our fulfillment network or cause other unexpected costs and other harm to our business and reputation.We rely on a limited number of shipping companies to deliver inventory to us and completed orders to our customers. The inability to negotiate acceptable terms with these companies or performance problems or other difficulties experienced by these companies or by our own transportation systems could negatively impact our operating results and customer experience. In addition, our ability to receive inbound inventory efficiently and ship completed orders to customers also may be negatively affected by natural or man-made disasters, extreme weather, geopolitical events and security issues, labor or trade disputes, and similar events.8Table of ContentsThe Seasonality of Our Retail Business Places Increased Strain on Our OperationsWe expect a disproportionate amount of our retail sales to occur during our fourth quarter. Our failure to stock or restock popular products in sufficient amounts such that we fail to meet customer demand could significantly affect our revenue and our future growth. When we overstock products, we may be required to take significant inventory markdowns or write-offs and incur commitment costs, which could materially reduce profitability. We regularly experience increases in our net shipping cost due to complimentary upgrades, split-shipments, and additional long-zone shipments necessary to ensure timely delivery for the holiday season. If too many customers access our websites within a short period of time due to increased demand, we may experience system interruptions that make our websites unavailable or prevent us from efficiently fulfilling orders, which may reduce the volume of goods we offer or sell and the attractiveness of our products and services. In addition, we may be unable to adequately staff our fulfillment network and customer service centers during these peak periods and delivery and other fulfillment companies and customer service co-sourcers may be unable to meet the seasonal demand. Risks described elsewhere in this Item 1A relating to fulfillment network optimization and inventory are magnified during periods of high demand.We generally have payment terms with our retail vendors that extend beyond the amount of time necessary to collect proceeds from our consumer customers. As a result of holiday sales, as of December 31 of each year, our cash, cash equivalents, and marketable securities balances typically reach their highest level (other than as a result of cash flows provided by or used in investing and financing activities). This operating cycle results in a corresponding increase in accounts payable as of December 31. Our accounts payable balance generally declines during the first three months of the year, resulting in a corresponding decline in our cash, cash equivalents, and marketable securities balances.Our Commercial Agreements, Strategic Alliances, and Other Business Relationships Expose Us to RisksWe provide physical, e-commerce, and omnichannel retail and other services to businesses through commercial agreements, strategic alliances, and business relationships. Under these agreements, we provide web services, technology, fulfillment, computing, digital storage, and other services, as well as enable sellers to offer products or services through our stores. These arrangements are complex and require substantial infrastructure capacity, personnel, and other resource commitments, which may limit the amount of business we can service. We may not be able to implement, maintain, and develop the components of these commercial relationships, which may include web services, fulfillment, customer service, inventory management, tax collection, payment processing, hardware, content, and third-party software, and engaging third parties to perform services. The amount of compensation we receive under certain of our commercial agreements is partially dependent on the volume of the other company’s sales. Therefore, when the other company’s offerings are not successful, the compensation we receive may be lower than expected or the agreement may be terminated. Moreover, we may not be able to enter into additional or alternative commercial relationships and strategic alliances on favorable terms. We also may be subject to claims from businesses to which we provide these services if we are unsuccessful in implementing, maintaining, or developing these services.As our agreements terminate, we may be unable to renew or replace these agreements on comparable terms, or at all. We may in the future enter into amendments on less favorable terms or encounter parties that have difficulty meeting their contractual obligations to us, which could adversely affect our operating results.Our present and future e-commerce services agreements, other commercial agreements, and strategic alliances create additional risks such as:•disruption of our ongoing business, including loss of management focus on existing businesses;•impairment of other relationships;•variability in revenue and income from entering into, amending, or terminating such agreements or relationships; and•difficulty integrating under the commercial agreements.Our Business Suffers When We Are Unsuccessful in Making, Integrating, and Maintaining Acquisitions and InvestmentsWe have acquired and invested in a number of companies, and we may in the future acquire or invest in or enter into joint ventures with additional companies. These transactions create risks such as:•disruption of our ongoing business, including loss of management focus on existing businesses;•problems retaining key personnel;•additional operating losses and expenses of the businesses we acquired or in which we invested;•the potential impairment of tangible and intangible assets and goodwill, including as a result of acquisitions;9Table of Contents•the potential impairment of customer and other relationships of the company we acquired or in which we invested or our own customers as a result of any integration of operations;•the difficulty of completing such transactions and achieving anticipated benefits within expected timeframes, or at all; •the difficulty of incorporating acquired operations, technology, and rights into our offerings, and unanticipated expenses related to such integration;•the difficulty of integrating a new company’s accounting, financial reporting, management, information and information security, human resource, and other administrative systems to permit effective management, and the lack of control if such integration is delayed or not successfully implemented;•losses we may incur as a result of declines in the value of an investment or as a result of incorporating an investee’s financial performance into our financial results;•for investments in which an investee’s financial performance is incorporated into our financial results, either in full or in part, the dependence on the investee’s accounting, financial reporting, and similar systems, controls, and processes;•the difficulty of implementing at companies we acquire the controls, procedures, and policies appropriate for a larger public company;•the risks associated with businesses we acquire or invest in, which may differ from or be more significant than the risks our other businesses face;•potential unknown liabilities associated with a company we acquire or in which we invest; and•for foreign transactions, additional risks related to the integration of operations across different cultures and languages, and the economic, political, and regulatory risks associated with specific countries.As a result of future acquisitions or mergers, we might need to issue additional equity securities, spend our cash, or incur debt, contingent liabilities, or amortization expenses related to intangible assets, any of which could reduce our profitability and harm our business or only be available on unfavorable terms, if at all. In addition, valuations supporting our acquisitions and strategic investments could change rapidly. We could determine that such valuations have experienced impairments or other-than-temporary declines in fair value which could adversely impact our financial results.We Have Foreign Exchange RiskThe results of operations of, and certain of our intercompany balances associated with, our international stores and product and service offerings are exposed to foreign exchange rate fluctuations. Due to these fluctuations, operating results may differ materially from expectations, and we may record significant gains or losses on the remeasurement of intercompany balances. As we have expanded our international operations, our exposure to exchange rate fluctuations has increased. We also hold cash equivalents and/or marketable securities in foreign currencies including British Pounds, Euros, and Japanese Yen. When the U.S. Dollar strengthens compared to these currencies, cash equivalents, and marketable securities balances, when translated, may be materially less than expected and vice versa.The Loss of Key Senior Management Personnel or the Failure to Hire and Retain Highly Skilled and Other Key Personnel Could Negatively Affect Our BusinessWe depend on our senior management and other key personnel, particularly Jeffrey P. Bezos, our President, CEO, and Chairman. We do not have “key person” life insurance policies. We also rely on other highly skilled personnel. Competition for qualified personnel in the technology industry has historically been intense, particularly for software engineers, computer scientists, and other technical staff. The loss of any of our executive officers or other key employees or the inability to hire, train, retain, and manage qualified personnel, could harm our business.We Could Be Harmed by Data Loss or Other Security BreachesBecause we collect, process, store, and transmit large amounts of data, including confidential, sensitive, proprietary, and business and personal information, failure to prevent or mitigate data loss, theft, misuse, or other security breaches or vulnerabilities affecting our or our vendors’ or customers’ technology, products, and systems, could expose us or our customers to a risk of loss, disclosure, or misuse of such information, adversely affect our operating results, result in litigation, regulatory action (including under privacy or data protection laws), and potential liability for us, deter customers or sellers from using our stores and services, and otherwise harm our business and reputation. We use third-party technology and systems for a variety of reasons, including, without limitation, encryption and authentication technology, employee email, content delivery to customers, back-office support, and other functions. Some of our systems have experienced past security breaches, and, 10Table of Contentsalthough they did not have a material adverse effect on our operating results, there can be no assurance of a similar result in the future. Although we have developed systems and processes that are designed to protect customer information and prevent such incidents, including systems and processes designed to reduce the impact of a security breach at a third-party vendor or customer, such measures cannot provide absolute security and may fail to operate as intended or be circumvented.We Face Risks Related to System Interruption and Lack of RedundancyWe experience occasional system interruptions and delays that make our websites and services unavailable or slow to respond and prevent us from efficiently accepting or fulfilling orders or providing services to third parties, which may reduce our net sales and the attractiveness of our products and services. Steps we take to add software and hardware, upgrade our systems and network infrastructure, and improve the stability and efficiency of our systems may not be sufficient to avoid system interruptions or delays that could adversely affect our operating results.Our computer and communications systems and operations in the past have been, or in the future could be, damaged or interrupted due to events such as natural or man-made disasters, extreme weather, geopolitical events and security issues (including terrorist attacks and armed hostilities), computer viruses, physical or electronic break-ins, and similar events or disruptions. Any of these events could cause system interruption, delays, and loss of critical data, and could prevent us from accepting and fulfilling customer orders and providing services, which could make our product and service offerings less attractive and subject us to liability. Our systems are not fully redundant and our disaster recovery planning may not be sufficient. In addition, our insurance may not provide sufficient coverage to compensate for related losses. Any of these events could damage our reputation and be expensive to remedy.We Face Significant Inventory RiskIn addition to risks described elsewhere in this Item 1A relating to fulfillment network and inventory optimization by us and third parties, we are exposed to significant inventory risks that may adversely affect our operating results as a result of seasonality, new product launches, rapid changes in product cycles and pricing, defective merchandise, changes in consumer demand and consumer spending patterns, changes in consumer tastes with respect to our products, spoilage, and other factors. We endeavor to accurately predict these trends and avoid overstocking or understocking products we manufacture and/or sell. Demand for products, however, can change significantly between the time inventory or components are ordered and the date of sale. In addition, when we begin selling or manufacturing a new product, it may be difficult to establish vendor relationships, determine appropriate product or component selection, and accurately forecast demand. The acquisition of certain types of inventory or components requires significant lead-time and prepayment and they may not be returnable. We carry a broad selection and significant inventory levels of certain products, such as consumer electronics, and at times we are unable to sell products in sufficient quantities or to meet demand during the relevant selling seasons. Any one of the inventory risk factors set forth above may adversely affect our operating results.We Face Risks Related to Adequately Protecting Our Intellectual Property Rights and Being Accused of Infringing Intellectual Property Rights of Third PartiesWe regard our trademarks, service marks, copyrights, patents, trade dress, trade secrets, proprietary technology, and similar intellectual property as critical to our success, and we rely on trademark, copyright, and patent law, trade secret protection, and confidentiality and/or license agreements with our employees, customers, and others to protect our proprietary rights. Effective intellectual property protection is not available in every country in which our products and services are made available. We also may not be able to acquire or maintain appropriate domain names in all countries in which we do business. Furthermore, regulations governing domain names may not protect our trademarks and similar proprietary rights. We may be unable to prevent third parties from acquiring domain names that are similar to, infringe upon, or diminish the value of our trademarks and other proprietary rights.We are not always able to discover or determine the extent of any unauthorized use of our proprietary rights. Actions taken by third parties that license our proprietary rights may materially diminish the value of our proprietary rights or reputation. The protection of our intellectual property requires the expenditure of significant financial and managerial resources. Moreover, the steps we take to protect our intellectual property do not always adequately protect our rights or prevent third parties from infringing or misappropriating our proprietary rights. We also cannot be certain that others will not independently develop or otherwise acquire equivalent or superior technology or other intellectual property rights.We have been subject to, and expect to continue to be subject to, claims and legal proceedings regarding alleged infringement by us of the intellectual property rights of third parties. Such claims, whether or not meritorious, have in the past, and may in the future, result in the expenditure of significant financial and managerial resources, injunctions against us, or significant payments for damages, including to satisfy indemnification obligations or to obtain licenses from third parties who allege that we have infringed their rights. Such licenses may not be available on terms acceptable to us or at all. These risks have been amplified by the increase in third parties whose sole or primary business is to assert such claims.11Table of ContentsOur digital content offerings depend in part on effective digital rights management technology to control access to digital content. Breach or malfunctioning of the digital rights management technology that we use could subject us to claims, and content providers may be unwilling to include their content in our service.We Have a Rapidly Evolving Business Model and Our Stock Price Is Highly VolatileWe have a rapidly evolving business model. The trading price of our common stock fluctuates significantly in response to, among other risks, the risks described elsewhere in this Item 1A, as well as:•changes in interest rates;•conditions or trends in the Internet and the industry segments we operate in;•quarterly variations in operating results;•fluctuations in the stock market in general and market prices for Internet-related companies in particular;•changes in financial estimates by us or decisions to increase or decrease future spending or investment levels; •changes in financial estimates and recommendations by securities analysts;•changes in our capital structure, including issuance of additional debt or equity to the public;•changes in the valuation methodology of, or performance by, other e-commerce or technology companies; and•transactions in our common stock by major investors and certain analyst reports, news, and speculation.Volatility in our stock price could adversely affect our business and financing opportunities and force us to increase our cash compensation to employees or grant larger stock awards than we have historically, which could hurt our operating results or reduce the percentage ownership of our existing stockholders, or both.Government Regulation Is Evolving and Unfavorable Changes Could Harm Our BusinessWe are subject to general business regulations and laws, as well as regulations and laws specifically governing the Internet, physical, e-commerce, and omnichannel retail, digital content, web services, electronic devices, artificial intelligence technologies and services, and other products and services that we offer or sell. These regulations and laws cover taxation, privacy, data protection, pricing, content, copyrights, distribution, transportation, mobile communications, electronic device certification, electronic waste, energy consumption, environmental regulation, electronic contracts and other communications, competition, consumer protection, employment, trade and protectionist measures, web services, the provision of online payment services, registration, licensing, and information reporting requirements, unencumbered Internet access to our services or access to our facilities, the design and operation of websites, health, safety, and sanitation standards, the characteristics, legality, and quality of products and services, product labeling, the commercial operation of unmanned aircraft systems, and other matters. It is not clear how existing laws governing issues such as property ownership, libel, data protection, and personal privacy apply to aspects of our operations such as the Internet, e-commerce, digital content, web services, electronic devices, and artificial intelligence technologies and services. A large number of jurisdictions regulate our operations, and the extent, nature, and scope of such regulations is evolving and expanding as the scope of our businesses expand. We are regularly subject to formal and informal reviews and investigations by governments and regulatory authorities under existing laws, regulations, or interpretations or pursuing new and novel approaches to regulate our operations. For example, the European Commission announced that it has opened an investigation to assess whether aspects of our operations with marketplace sellers violate EU competition rules. Unfavorable regulations, laws, decisions, or interpretations by government or regulatory authorities applying those laws and regulations, or inquiries, investigations, or enforcement actions threatened or initiated by them, could cause us to incur substantial costs, expose us to unanticipated civil and criminal liability or penalties (including substantial monetary fines), diminish the demand for, or availability of, our products and services, increase our cost of doing business, require us to change our business practices in a manner materially adverse to our business, damage our reputation, impede our growth, or otherwise have a material effect on our operations.Claims, Litigation, Government Investigations, and Other Proceedings May Adversely Affect Our Business and Results of OperationsAs an innovative company offering a wide range of consumer and business products and services around the world, we are regularly subject to actual and threatened claims, litigation, reviews, investigations, and other proceedings, including proceedings by governments and regulatory authorities, involving a wide range of issues, including patent and other intellectual property matters, taxes, labor and employment, competition and antitrust, privacy and data protection, consumer protection, commercial disputes, goods and services offered by us and by third parties, and other matters. The number and scale of these proceedings have increased over time as our businesses have expanded in scope and geographic reach and our products, services, and operations have become more complex and available to, and used by, more people. Any of these types of 12Table of Contentsproceedings can have an adverse effect on us because of legal costs, disruption of our operations, diversion of management resources, negative publicity, and other factors. The outcomes of these matters are inherently unpredictable and subject to significant uncertainties. Determining legal reserves or possible losses from such matters involves judgment and may not reflect the full range of uncertainties and unpredictable outcomes. Until the final resolution of such matters, we may be exposed to losses in excess of the amount recorded, and such amounts could be material. Should any of our estimates and assumptions change or prove to have been incorrect, it could have a material effect on our business, consolidated financial position, results of operations, or cash flows. In addition, it is possible that a resolution of one or more such proceedings, including as a result of a settlement, could involve licenses, sanctions, consent decrees, or orders requiring us to make substantial future payments, preventing us from offering certain products or services, requiring us to change our business practices in a manner materially adverse to our business, requiring development of non-infringing or otherwise altered products or technologies, damaging our reputation, or otherwise having a material effect on our operations. We Face Additional Tax Liabilities and Collection ObligationsWe are subject to a variety of taxes and tax collection obligations in the U.S. (federal and state) and numerous foreign jurisdictions. We may recognize additional tax expense and be subject to additional tax liabilities, including other liabilities for tax collection obligations due to changes in laws, regulations, administrative practices, principles, and interpretations related to tax, including changes to the global tax framework, competition, and other laws and accounting rules in various jurisdictions. Such changes could come about as a result of economic, political, and other conditions. An increasing number of jurisdictions are considering or have adopted laws or administrative practices that impose new tax measures, including revenue-based taxes, targeting online commerce and the remote selling of goods and services. These include new obligations to collect sales, consumption, value added, or other taxes on online marketplaces and remote sellers, or other requirements that may result in liability for third party obligations. For example, the European Union, certain member states, and other countries have proposed or enacted taxes on online advertising and marketplace service revenues. Our results of operations and cash flows could be adversely effected by additional taxes of this nature imposed on us prospectively or retroactively or additional taxes or penalties resulting from the failure to comply with any collection obligations or failure to provide information about our customers, suppliers, and other third parties for tax reporting purposes to various government agencies. In some cases we also may not have sufficient notice to enable us to build systems and adopt processes to properly comply with new reporting or collection obligations by the effective date.Our tax expense and liabilities are also affected by other factors, such as changes in our business operations, acquisitions, investments, entry into new businesses and geographies, intercompany transactions, the relative amount of our foreign earnings, losses incurred in jurisdictions for which we are not able to realize related tax benefits, the applicability of special tax regimes, changes in foreign currency exchange rates, changes in our stock price, and changes in our deferred tax assets and liabilities and their valuation. Significant judgment is required in evaluating and estimating our tax expense and liabilities. In the ordinary course of our business, there are many transactions and calculations for which the ultimate tax determination is uncertain. For example, the legislation known as the U.S. Tax Cuts and Jobs Act of 2017 (the “U.S. Tax Act”) requires complex computations to be performed that were not previously required by U.S. tax law, significant judgments to be made in interpretation of the provisions of the U.S. Tax Act, significant estimates in calculations, and the preparation and analysis of information not previously relevant or regularly produced. The U.S. Treasury Department, the IRS, and other standard-setting bodies will continue to interpret or issue guidance on how provisions of the U.S. Tax Act will be applied or otherwise administered. As future guidance is issued, we may make adjustments to amounts that we have previously recorded that may materially impact our financial statements in the period in which the adjustments are made.We are also subject to tax controversies in various jurisdictions that can result in tax assessments against us. Developments in an audit, investigation, or other tax controversy can have a material effect on our operating results or cash flows in the period or periods for which that development occurs, as well as for prior and subsequent periods. We regularly assess the likelihood of an adverse outcome resulting from these proceedings to determine the adequacy of our tax accruals. Although we believe our tax estimates are reasonable, the final outcome of audits, investigations, and any other tax controversies could be materially different from our historical tax accruals.Our Supplier Relationships Subject Us to a Number of RisksWe have significant suppliers, including content and technology licensors, and in some cases, limited or single-sources of supply, that are important to our sourcing, services, manufacturing, and any related ongoing servicing of merchandise and content. We do not have long-term arrangements with most of our suppliers to guarantee availability of merchandise, content, components, or services, particular payment terms, or the extension of credit limits. Decisions by our current suppliers to stop selling or licensing merchandise, content, components, or services to us on acceptable terms, or delay delivery, including as a result of one or more supplier bankruptcies due to poor economic conditions, as a result of natural disasters, or for other reasons, may result in our being unable to procure alternatives from other suppliers in a timely and efficient manner and on acceptable terms, or at all. In addition, violations by our suppliers or other vendors of applicable laws, regulations, contractual 13Table of Contentsterms, intellectual property rights of others, or our Supply Chain Standards, as well as products or practices regarded as unethical, unsafe, or hazardous, could expose us to claims, damage our reputation, limit our growth, and negatively affect our operating results.We Are Subject to Risks Related to Government Contracts and Related Procurement RegulationsOur contracts with U.S., as well as state, local, and foreign, government entities are subject to various procurement regulations and other requirements relating to their formation, administration, and performance. We are subject to audits and investigations relating to our government contracts, and any violations could result in various civil and criminal penalties and administrative sanctions, including termination of contract, refunding or suspending of payments, forfeiture of profits, payment of fines, and suspension or debarment from future government business. In addition, some of these contracts provide for termination by the government at any time, without cause.We Are Subject to Product Liability Claims When People or Property Are Harmed by the Products We Sell or ManufactureSome of the products we sell or manufacture expose us to product liability or food safety claims relating to personal injury or illness, death, or environmental or property damage, and can require product recalls or other actions. Third parties who sell products using our services and stores increase our exposure to product liability claims, such as when these sellers do not have sufficient protection from such claims. Although we maintain liability insurance, we cannot be certain that our coverage will be adequate for liabilities actually incurred or that insurance will continue to be available to us on economically reasonable terms, or at all. Although we impose contractual terms on sellers that are intended to prohibit sales of certain type of products, we may not be able to detect, enforce, or collect sufficient damages for breaches of such agreements. In addition, some of our agreements with our vendors and sellers do not indemnify us from product liability.We Are Subject to Payments-Related RisksWe accept payments using a variety of methods, including credit card, debit card, credit accounts (including promotional financing), gift cards, direct debit from a customer’s bank account, consumer invoicing, physical bank check, and payment upon delivery. For existing and future payment options we offer to our customers, we currently are subject to, and may become subject to additional, regulations and compliance requirements (including obligations to implement enhanced authentication processes that could result in significant costs and reduce the ease of use of our payments products), as well as fraud. For certain payment methods, including credit and debit cards, we pay interchange and other fees, which may increase over time and raise our operating costs and lower profitability. We rely on third parties to provide certain Amazon-branded payment methods and payment processing services, including the processing of credit cards, debit cards, electronic checks, and promotional financing. In each case, it could disrupt our business if these companies become unwilling or unable to provide these services to us. We also offer co-branded credit card programs, which could adversely affect our operating results if renewed on less favorable terms or terminated. We are also subject to payment card association operating rules, including data security rules, certification requirements, and rules governing electronic funds transfers, which could change or be reinterpreted to make it difficult or impossible for us to comply. Failure to comply with these rules or requirements, as well as any breach, compromise, or failure to otherwise detect or prevent fraudulent activity involving our data security systems, could result in our being liable for card issuing banks’ costs, subject to fines and higher transaction fees, and loss of our ability to accept credit and debit card payments from our customers, process electronic funds transfers, or facilitate other types of online payments, and our business and operating results could be adversely affected.In addition, we provide regulated services in certain jurisdictions because we enable customers to keep account balances with us and transfer money to third parties, and because we provide services to third parties to facilitate payments on their behalf. Jurisdictions subject us to requirements for licensing, regulatory inspection, bonding and capital maintenance, the use, handling, and segregation of transferred funds, consumer disclosures, maintaining or processing data, and authentication. We are also subject to or voluntarily comply with a number of other laws and regulations relating to payments, money laundering, international money transfers, privacy and information security, and electronic fund transfers. If we were found to be in violation of applicable laws or regulations, we could be subject to additional requirements and civil and criminal penalties, or forced to cease providing certain services.We Are Impacted by Fraudulent or Unlawful Activities of SellersThe law relating to the liability of online service providers is currently unsettled. In addition, governmental agencies have in the past and could in the future require changes in the way this business is conducted. Under our seller programs, we maintain policies and processes designed to prevent sellers from collecting payments, fraudulently or otherwise, when buyers never receive the products they ordered or when the products received are materially different from the sellers’ descriptions, and to prevent sellers in our stores or through other stores from selling unlawful, counterfeit, pirated, or stolen goods, selling 14Table of Contentsgoods in an unlawful or unethical manner, violating the proprietary rights of others, or otherwise violating our policies. When these policies and processes are circumvented or fail to operate sufficiently, it can harm our business or damage our reputation and we could face civil or criminal liability for unlawful activities by our sellers. Under our A2Z Guarantee, we reimburse buyers for payments up to certain limits in these situations, and as our third-party seller sales grow, the cost of this program will increase and could negatively affect our operating results. \n"
          ],
          "name": "stdout"
        }
      ]
    },
    {
      "cell_type": "code",
      "metadata": {
        "id": "HXBzTU-bhyx5"
      },
      "source": [
        "documents_amazon=pull_10k(\"Amazon Com Inc\",\"0001018724\")\n",
        "risk_sections_amazon=[]\n",
        "for doc_amazon in documents_amazon:\n",
        "  risk_sections_amazon.append(get_risk_factors_section(doc_amazon.text_content()))"
      ],
      "execution_count": null,
      "outputs": []
    },
    {
      "cell_type": "code",
      "metadata": {
        "id": "hNd0t1HHXwb_",
        "colab": {
          "base_uri": "https://localhost:8080/",
          "height": 71
        },
        "outputId": "e4ab08c6-53b7-40ba-f497-0cc6e134ac5a"
      },
      "source": [
        "print(len(risk_sections_amazon))\n",
        "print(risk_sections_amazon[4])\n"
      ],
      "execution_count": null,
      "outputs": [
        {
          "output_type": "stream",
          "text": [
            "5\n",
            "Risk FactorsPlease carefully consider the following risk factors. If any of the following risks occur, our business, financial condition, operating results, and cash flows could be materially adversely affected. In addition, the current global economic climate amplifies many of these risks.We Face Intense CompetitionOur businesses are rapidly evolving and intensely competitive, and we have many competitors in different industries, including retail, e-commerce services, digital content and electronic devices, and web and infrastructure computing services. Some of our current and potential competitors have greater resources, longer histories, more customers, and/or greater brand recognition. They may secure better terms from vendors, adopt more aggressive pricing, and devote more resources to technology, infrastructure, fulfillment, and marketing.Competition may intensify as our competitors enter into business combinations or alliances and established companies in other market segments expand to become competitive with our business. In addition, new and enhanced technologies, including search, web and infrastructure computing services, digital content, and electronic devices, may increase our competition. The Internet facilitates competitive entry and comparison shopping, and increased competition may reduce our sales and profits.Our Expansion Places a Significant Strain on our Management, Operational, Financial, and Other ResourcesWe are rapidly and significantly expanding our global operations, including increasing our product and service offerings and scaling our infrastructure to support our retail and services businesses. This expansion increases the complexity of our business and places significant strain on our management, personnel, operations, systems, technical performance, financial resources, and internal financial control and reporting functions. We may not be able to manage growth effectively, which could damage our reputation, limit our growth, and negatively affect our operating results.Our Expansion into New Products, Services, Technologies, and Geographic Regions Subjects Us to Additional Business, Legal, Financial, and Competitive RisksWe may have limited or no experience in our newer market segments, and our customers may not adopt our new offerings. These offerings may present new and difficult technology challenges, and we may be subject to claims if customers of these offerings experience service disruptions or failures or other quality issues. In addition, profitability, if any, in our newer activities may be lower than in our older activities, and we may not be successful enough in these newer activities to recoup our investments in them. If any of this were to occur, it could damage our reputation, limit our growth, and negatively affect our operating results.We May Experience Significant Fluctuations in Our Operating Results and Growth RateWe may not be able to accurately forecast our growth rate. We base our expense levels and investment plans on sales estimates. A significant portion of our expenses and investments is fixed, and we may not be able to adjust our spending quickly enough if our sales are less than expected.Our revenue growth may not be sustainable, and our percentage growth rates may decrease. Our revenue and operating profit growth depends on the continued growth of demand for the products and services offered by us or our sellers, and our business is affected by general economic and business conditions worldwide. A softening of demand, whether caused by changes in customer preferences or a weakening of the U.S. or global economies, may result in decreased revenue or growth.Our sales and operating results will also fluctuate for many other reasons, including due to risks described elsewhere in this section and the following:•our ability to retain and increase sales to existing customers, attract new customers, and satisfy our customers’ demands;•our ability to retain and expand our network of sellers;•our ability to offer products on favorable terms, manage inventory, and fulfill orders;•the introduction of competitive websites, products, services, price decreases, or improvements;•changes in usage or adoption rates of the Internet, e-commerce, electronic devices, and web services, including outside the U.S.;•timing, effectiveness, and costs of expansion and upgrades of our systems and infrastructure;•the success of our geographic, service, and product line expansions;6Table of Contents•the extent to which we finance, and the terms of any such financing for, our current operations and future growth;•the outcomes of legal proceedings and claims, which may include significant monetary damages or injunctive relief and could have a material adverse impact on our operating results;•variations in the mix of products and services we sell;•variations in our level of merchandise and vendor returns;•the extent to which we offer free shipping, continue to reduce prices worldwide, and provide additional benefits to our customers;•the extent to which we invest in technology and content, fulfillment, and other expense categories;•increases in the prices of fuel and gasoline, as well as increases in the prices of other energy products and commodities like paper and packing supplies;•the extent to which our equity-method investees record significant operating and non-operating items;•the extent to which operators of the networks between our customers and our websites successfully charge fees to grant our customers unimpaired and unconstrained access to our online services;•our ability to collect amounts owed to us when they become due;•the extent to which use of our services is affected by spyware, viruses, phishing and other spam emails, denial of service attacks, data theft, computer intrusions, outages, and similar events; and•terrorist attacks and armed hostilities.Our International Operations Expose Us to a Number of RisksOur international activities are significant to our revenues and profits, and we plan to further expand internationally. In certain international market segments, we have relatively little operating experience and may not benefit from any first-to-market advantages or otherwise succeed. It is costly to establish, develop, and maintain international operations and websites, and promote our brand internationally. Our international operations may not be profitable on a sustained basis.In addition to risks described elsewhere in this section, our international sales and operations are subject to a number of risks, including:•local economic and political conditions;•government regulation of e-commerce and other services, electronic devices, and competition, and restrictive governmental actions (such as trade protection measures, including export duties and quotas and custom duties and tariffs), nationalization, and restrictions on foreign ownership;•restrictions on sales or distribution of certain products or services and uncertainty regarding liability for products, services, and content, including uncertainty as a result of less Internet-friendly legal systems, local laws, lack of legal precedent, and varying rules, regulations, and practices regarding the physical and digital distribution of media products and enforcement of intellectual property rights;•business licensing or certification requirements, such as for imports, exports, web services, and electronic devices;•limitations on the repatriation and investment of funds and foreign currency exchange restrictions;•limited fulfillment and technology infrastructure;•shorter payable and longer receivable cycles and the resultant negative impact on cash flow;•laws and regulations regarding consumer and data protection, privacy, network security, encryption, payments, and restrictions on pricing or discounts;•lower levels of use of the Internet;•lower levels of consumer spending and fewer opportunities for growth compared to the U.S.;•lower levels of credit card usage and increased payment risk;•difficulty in staffing, developing, and managing foreign operations as a result of distance, language, and cultural differences;•different employee/employer relationships and the existence of works councils and labor unions;•compliance with the U.S. Foreign Corrupt Practices Act and other applicable U.S. and foreign laws prohibiting corrupt payments to government officials and other third parties;7Table of Contents•laws and policies of the U.S. and other jurisdictions affecting trade, foreign investment, loans, and taxes; and•geopolitical events, including war and terrorism.As international e-commerce and other online and web services grow, competition will intensify. Local companies may have a substantial competitive advantage because of their greater understanding of, and focus on, the local customer, as well as their more established local brand names. We may not be able to hire, train, retain, and manage required personnel, which may limit our international growth.The People’s Republic of China (“PRC”) and India regulate Amazon’s and its affiliates’ businesses and operations in country through regulations and license requirements that may restrict (i) foreign investment in and operation of the Internet, IT infrastructure, data centers, retail, delivery, and other sectors, (ii) Internet content, and (iii) the sale of media and other products and services. For example, in order to meet local ownership and regulatory licensing requirements, www.amazon.cn is operated by PRC companies that are indirectly owned, either wholly or partially, by PRC nationals. In addition, we provide certain technology services in China in conjunction with third parties that hold PRC licenses to provide services. In India, the government restricts the ownership or control of Indian companies by foreign entities involved in online multi-brand retail trading activities. For www.amazon.in, we provide certain marketing tools and logistics services to third party sellers to enable them to sell online and deliver to customers, and we hold an indirect minority interest in an entity that is a third-party seller on the www.amazon.in marketplace. Although we believe these structures and activities comply with existing laws, they involve unique risks, and the PRC is actively considering changes in its foreign investment rules that could impact these structures and activities. There are substantial uncertainties regarding the interpretation of PRC and Indian laws and regulations, and it is possible that these governments will ultimately take a view contrary to ours. In addition, our Chinese and Indian businesses and operations may be unable to continue to operate if we or our affiliates are unable to access sufficient funding or in China enforce contractual relationships with respect to management and control of such businesses. If our international activities were found to be in violation of any existing or future PRC, Indian or other laws or regulations or if interpretations of those laws and regulations were to change, our businesses in those countries could be subject to fines and other financial penalties, have licenses revoked, or be forced to shut down entirely. If We Do Not Successfully Optimize and Operate Our Fulfillment Network and Data Centers, Our Business Could Be HarmedIf we do not adequately predict customer demand or otherwise optimize and operate our fulfillment network and data centers successfully, it could result in excess or insufficient fulfillment or data center capacity, or result in increased costs, impairment charges, or both, or harm our business in other ways. As we continue to add fulfillment and data center capability or add new businesses with different requirements, our fulfillment and data center networks become increasingly complex and operating them becomes more challenging. There can be no assurance that we will be able to operate our networks effectively.In addition, a failure to optimize inventory in our fulfillment network will increase our net shipping cost by requiring long-zone or partial shipments. Orders from several of our websites are fulfilled primarily from a single location, and we have only a limited ability to reroute orders to third parties for drop-shipping. We and our co-sourcers may be unable to adequately staff our fulfillment network and customer service centers. If the other businesses on whose behalf we perform inventory fulfillment services deliver product to our fulfillment centers in excess of forecasts, we may be unable to secure sufficient storage space and may be unable to optimize our fulfillment network. We rely on a limited number of shipping companies to deliver inventory to us and completed orders to our customers. If we are not able to negotiate acceptable terms with these companies or they experience performance problems or other difficulties, it could negatively impact our operating results and customer experience. In addition, our ability to receive inbound inventory efficiently and ship completed orders to customers also may be negatively affected by inclement weather, fire, flood, power loss, earthquakes, labor disputes, acts of war or terrorism, acts of God, and similar factors.Third parties either drop-ship or otherwise fulfill an increasing portion of our customers’ orders, and we are increasingly reliant on the reliability, quality, and future procurement of their services. Under some of our commercial agreements, we maintain the inventory of other companies, thereby increasing the complexity of tracking inventory and operating our fulfillment network. Our failure to properly handle such inventory or the inability of these other companies to accurately forecast product demand would result in unexpected costs and other harm to our business and reputation.8Table of ContentsThe Seasonality of Our Business Places Increased Strain on Our OperationsWe expect a disproportionate amount of our net sales to occur during our fourth quarter. If we do not stock or restock popular products in sufficient amounts such that we fail to meet customer demand, it could significantly affect our revenue and our future growth. If we overstock products, we may be required to take significant inventory markdowns or write-offs and incur commitment costs, which could reduce profitability. We may experience an increase in our net shipping cost due to complimentary upgrades, split-shipments, and additional long-zone shipments necessary to ensure timely delivery for the holiday season. If too many customers access our websites within a short period of time due to increased holiday demand, we may experience system interruptions that make our websites unavailable or prevent us from efficiently fulfilling orders, which may reduce the volume of goods we sell and the attractiveness of our products and services. In addition, we may be unable to adequately staff our fulfillment network and customer service centers during these peak periods and delivery and other fulfillment companies and customer service co-sourcers may be unable to meet the seasonal demand. We also face risks described elsewhere in this Item 1A relating to fulfillment network optimization and inventory.We generally have payment terms with our retail vendors that extend beyond the amount of time necessary to collect proceeds from our consumer customers. As a result of holiday sales, as of December 31 of each year, our cash, cash equivalents, and marketable securities balances typically reach their highest level (other than as a result of cash flows provided by or used in investing and financing activities). This operating cycle results in a corresponding increase in accounts payable as of December 31. Our accounts payable balance generally declines during the first three months of the year, resulting in a corresponding decline in our cash, cash equivalents, and marketable securities balances.Our Business Could Suffer if We Are Unsuccessful in Making, Integrating, and Maintaining Commercial Agreements, Strategic Alliances, and Other Business RelationshipsWe provide e-commerce and other services to businesses through commercial agreements, strategic alliances, and business relationships. Under these agreements, we provide web services, technology, fulfillment, computing, digital storage, and other services, as well as enable sellers to offer products or services through our websites. These arrangements are complex and require substantial infrastructure capacity, personnel, and other resource commitments, which may limit the amount of business we can service. We may not be able to implement, maintain, and develop the components of these commercial relationships, which may include web services, fulfillment, customer service, inventory management, tax collection, payment processing, hardware, content, and third-party software, and engaging third parties to perform services. The amount of compensation we receive under certain of our commercial agreements is partially dependent on the volume of the other company’s sales. Therefore, if the other company’s offering is not successful, the compensation we receive may be lower than expected or the agreement may be terminated. Moreover, we may not be able to enter into additional commercial relationships and strategic alliances on favorable terms. We also may be subject to claims from businesses to which we provide these services if we are unsuccessful in implementing, maintaining, or developing these services.As our agreements terminate, we may be unable to renew or replace these agreements on comparable terms, or at all. We may in the future enter into amendments on less favorable terms or encounter parties that have difficulty meeting their contractual obligations to us, which could adversely affect our operating results.Our present and future e-commerce services agreements, other commercial agreements, and strategic alliances create additional risks such as:•disruption of our ongoing business, including loss of management focus on existing businesses;•impairment of other relationships;•variability in revenue and income from entering into, amending, or terminating such agreements or relationships; and•difficulty integrating under the commercial agreements.Our Business Could Suffer if We Are Unsuccessful in Making, Integrating, and Maintaining Acquisitions and InvestmentsWe have acquired and invested in a number of companies, and we may acquire or invest in or enter into joint ventures with additional companies. These transactions create risks such as:•disruption of our ongoing business, including loss of management focus on existing businesses;•problems retaining key personnel;•additional operating losses and expenses of the businesses we acquired or in which we invested;•the potential impairment of tangible and intangible assets and goodwill, including as a result of acquisitions;9Table of Contents•the potential impairment of customer and other relationships of the company we acquired or in which we invested or our own customers as a result of any integration of operations;•the difficulty of incorporating acquired technology and rights into our offerings and unanticipated expenses related to such integration;•the difficulty of integrating a new company’s accounting, financial reporting, management, information and information security, human resource, and other administrative systems to permit effective management, and the lack of control if such integration is delayed or not implemented;•for investments in which an investee’s financial performance is incorporated into our financial results, either in full or in part, the dependence on the investee’s accounting, financial reporting, and similar systems, controls, and processes;•the difficulty of implementing at companies we acquire the controls, procedures, and policies appropriate for a larger public company;•potential unknown liabilities associated with a company we acquire or in which we invest; and•for foreign transactions, additional risks related to the integration of operations across different cultures and languages, and the economic, political, and regulatory risks associated with specific countries.As a result of future acquisitions or mergers, we might need to issue additional equity securities, spend our cash, or incur debt, contingent liabilities, or amortization expenses related to intangible assets, any of which could reduce our profitability and harm our business. In addition, valuations supporting our acquisitions and strategic investments could change rapidly given the current global economic climate. We could determine that such valuations have experienced impairments or other-than-temporary declines in fair value which could adversely impact our financial results.We Have Foreign Exchange RiskThe results of operations of, and certain of our intercompany balances associated with, our international websites and product and service offerings are exposed to foreign exchange rate fluctuations. Upon translation, operating results may differ materially from expectations, and we may record significant gains or losses on the remeasurement of intercompany balances. As we have expanded our international operations, our exposure to exchange rate fluctuations has increased. We also hold cash equivalents and/or marketable securities in foreign currencies including British Pounds, Chinese Yuan, Euros, and Japanese Yen. If the U.S. Dollar strengthens compared to these currencies, cash equivalents, and marketable securities balances, when translated, may be materially less than expected and vice versa.The Loss of Key Senior Management Personnel Could Negatively Affect Our BusinessWe depend on our senior management and other key personnel, particularly Jeffrey P. Bezos, our President, CEO, and Chairman. We do not have “key person” life insurance policies. The loss of any of our executive officers or other key employees could harm our business.We Could Be Harmed by Data Loss or Other Security BreachesAs a result of our services being web-based and the fact that we process, store, and transmit large amounts of data, including personal information, for our customers, failure to prevent or mitigate data loss or other security breaches, including breaches of our vendors’ technology and systems, could expose us or our customers to a risk of loss or misuse of such information, adversely affect our operating results, result in litigation or potential liability for us, and otherwise harm our business. We use third party technology and systems for a variety of reasons, including, without limitation, encryption and authentication technology, employee email, content delivery to customers, back-office support, and other functions. Some subsidiaries had past security breaches, and, although they did not have a material adverse effect on our operating results, there can be no assurance of a similar result in the future. Although we have developed systems and processes that are designed to protect customer information and prevent data loss and other security breaches, including systems and processes designed to reduce the impact of a security breach at a third party vendor, such measures cannot provide absolute security.We Face Risks Related to System Interruption and Lack of RedundancyWe experience occasional system interruptions and delays that make our websites and services unavailable or slow to respond and prevent us from efficiently fulfilling orders or providing services to third parties, which may reduce our net sales and the attractiveness of our products and services. If we are unable to continually add software and hardware, effectively upgrade our systems and network infrastructure, and take other steps to improve the efficiency of our systems, it could cause system interruptions or delays and adversely affect our operating results.10Table of ContentsOur computer and communications systems and operations could be damaged or interrupted by fire, flood, power loss, telecommunications failure, earthquakes, acts of war or terrorism, acts of God, computer viruses, physical or electronic break-ins, and similar events or disruptions. Any of these events could cause system interruption, delays, and loss of critical data, and could prevent us from accepting and fulfilling customer orders and providing services, which could make our product and service offerings less attractive and subject us to liability. Our systems are not fully redundant and our disaster recovery planning may not be sufficient. In addition, we may have inadequate insurance coverage to compensate for any related losses. Any of these events could damage our reputation and be expensive to remedy.We Face Significant Inventory RiskIn addition to risks described elsewhere in this Item 1A relating to fulfillment network and inventory optimization by us and third parties, we are exposed to significant inventory risks that may adversely affect our operating results as a result of seasonality, new product launches, rapid changes in product cycles and pricing, defective merchandise, changes in consumer demand and consumer spending patterns, changes in consumer tastes with respect to our products, and other factors. We endeavor to accurately predict these trends and avoid overstocking or understocking products we manufacture and/or sell. Demand for products, however, can change significantly between the time inventory or components are ordered and the date of sale. In addition, when we begin selling or manufacturing a new product, it may be difficult to establish vendor relationships, determine appropriate product or component selection, and accurately forecast demand. The acquisition of certain types of inventory or components may require significant lead-time and prepayment and they may not be returnable. We carry a broad selection and significant inventory levels of certain products, such as consumer electronics, and we may be unable to sell products in sufficient quantities or during the relevant selling seasons. Any one of the inventory risk factors set forth above may adversely affect our operating results.We May Not Be Able to Adequately Protect Our Intellectual Property Rights or May Be Accused of Infringing Intellectual Property Rights of Third PartiesWe regard our trademarks, service marks, copyrights, patents, trade dress, trade secrets, proprietary technology, and similar intellectual property as critical to our success, and we rely on trademark, copyright, and patent law, trade secret protection, and confidentiality and/or license agreements with our employees, customers, and others to protect our proprietary rights. Effective intellectual property protection may not be available in every country in which our products and services are made available. We also may not be able to acquire or maintain appropriate domain names in all countries in which we do business. Furthermore, regulations governing domain names may not protect our trademarks and similar proprietary rights. We may be unable to prevent third parties from acquiring domain names that are similar to, infringe upon, or diminish the value of our trademarks and other proprietary rights.We may not be able to discover or determine the extent of any unauthorized use of our proprietary rights. Third parties that license our proprietary rights also may take actions that diminish the value of our proprietary rights or reputation. The protection of our intellectual property may require the expenditure of significant financial and managerial resources. Moreover, the steps we take to protect our intellectual property may not adequately protect our rights or prevent third parties from infringing or misappropriating our proprietary rights. We also cannot be certain that others will not independently develop or otherwise acquire equivalent or superior technology or other intellectual property rights.Other parties also may claim that we infringe their proprietary rights. We have been subject to, and expect to continue to be subject to, claims and legal proceedings regarding alleged infringement by us of the intellectual property rights of third parties. Such claims, whether or not meritorious, may result in the expenditure of significant financial and managerial resources, injunctions against us, or the payment of damages, including to satisfy indemnification obligations. We may need to obtain licenses from third parties who allege that we have infringed their rights, but such licenses may not be available on terms acceptable to us or at all. In addition, we may not be able to obtain or utilize on terms that are favorable to us, or at all, licenses or other rights with respect to intellectual property we do not own. These risks have been amplified by the increase in third parties whose sole or primary business is to assert such claims.Our digital content offerings depend in part on effective digital rights management technology to control access to digital content. If the digital rights management technology that we use is compromised or otherwise malfunctions, we could be subject to claims, and content providers may be unwilling to include their content in our service.We Have a Rapidly Evolving Business Model and Our Stock Price Is Highly VolatileWe have a rapidly evolving business model. The trading price of our common stock fluctuates significantly in response to, among other risks, the risks described elsewhere in this Item 1A, as well as:•changes in interest rates;•conditions or trends in the Internet and the industry segments we operate in;11Table of Contents•quarterly variations in operating results;•fluctuations in the stock market in general and market prices for Internet-related companies in particular;•changes in financial estimates by us or securities analysts and recommendations by securities analysts;•changes in our capital structure, including issuance of additional debt or equity to the public;•changes in the valuation methodology of, or performance by, other e-commerce or technology companies; and•transactions in our common stock by major investors and certain analyst reports, news, and speculation.Volatility in our stock price could adversely affect our business and financing opportunities and force us to increase our cash compensation to employees or grant larger stock awards than we have historically, which could hurt our operating results or reduce the percentage ownership of our existing stockholders, or both.Government Regulation Is Evolving and Unfavorable Changes Could Harm Our BusinessWe are subject to general business regulations and laws, as well as regulations and laws specifically governing the Internet, e-commerce, electronic devices, and other services. Existing and future laws and regulations may impede our growth. These regulations and laws may cover taxation, privacy, data protection, pricing, content, copyrights, distribution, mobile communications, electronic device certification, electronic waste, energy consumption, environmental regulation, electronic contracts and other communications, competition, consumer protection, web services, the provision of online payment services, information reporting requirements, unencumbered Internet access to our services or access to our facilities, the design and operation of websites, the characteristics and quality of products and services, and the commercial operation of unmanned aircraft systems. It is not clear how existing laws governing issues such as property ownership, libel, and personal privacy apply to the Internet, e-commerce, digital content, and web services. Jurisdictions may regulate consumer-to-consumer online businesses, including certain aspects of our seller programs. Unfavorable regulations and laws could diminish the demand for our products and services and increase our cost of doing business.We Could Be Subject to Additional Sales Tax or Other Indirect Tax LiabilitiesU.S. Supreme Court decisions restrict the imposition of obligations to collect state and local sales taxes with respect to remote sales in the U.S. However, an increasing number of states, and certain foreign jurisdictions, have considered or adopted laws or administrative practices that attempt to impose obligations on remote sellers and online marketplaces to collect taxes on their behalf. We support a Federal law that would allow states to require sales tax collection by remote sellers under a nationwide system. More than half of our revenue is already earned in jurisdictions where we collect sales tax or its equivalent. A successful assertion by one or more states or foreign countries requiring us to collect taxes where we do not do so could result in substantial tax liabilities, including for past sales, as well as penalties and interest. In addition, if the tax authorities in jurisdictions where we already collect sales tax or other indirect taxes were successfully to challenge our positions, our tax liability could increase substantially.We Could Be Subject to Additional Income Tax LiabilitiesWe are subject to income taxes in the U.S. (federal and state) and numerous foreign jurisdictions. Tax laws, regulations, and administrative practices in various jurisdictions may be subject to significant change due to economic, political, and other conditions, and significant judgment is required in evaluating and estimating our provision and accruals for these taxes. There are many transactions that occur during the ordinary course of business for which the ultimate tax determination is uncertain. Our effective tax rates could be adversely affected by earnings being lower than anticipated in jurisdictions where we have lower statutory rates and higher than anticipated in jurisdictions where we have higher statutory rates, losses incurred in jurisdictions for which we are not able to realize the related tax benefit, changes in foreign currency exchange rates, entry into new businesses and geographies and changes to our existing businesses, acquisitions (including integrations) and investments, changes in our deferred tax assets and liabilities and their valuation, and changes in the relevant tax, accounting, and other laws, regulations, administrative practices, principles, and interpretations, including fundamental changes to the tax laws applicable to corporate multinationals. The U.S., the European Union and its member states, and a number of other countries are actively pursuing changes in this regard. Except as required under U.S. tax laws, we do not provide for U.S. taxes on our undistributed earnings of foreign subsidiaries that have not been previously taxed since we intend to invest such undistributed earnings indefinitely outside of the U.S. If our intent changes or if these funds are needed for our U.S. operations, we would be required to accrue or pay U.S. taxes on some or all of these undistributed earnings and our effective tax rate would be adversely affected. We are also currently subject to audit in various jurisdictions, and these jurisdictions may assess additional income tax liabilities against us. Developments in an audit, litigation, or the relevant laws, regulations, administrative practices, principles, and interpretations could have a material effect on our operating results or cash flows in the period or periods for which that development occurs, 12Table of Contentsas well as for prior and subsequent periods. For instance, the IRS is seeking to increase our U.S. taxable income related to transfer pricing with our foreign subsidiaries for transactions undertaken in 2005 and 2006, and we are currently contesting the matter in U.S. Tax Court. In addition to the risk of additional tax for 2005 and 2006 transactions, if this litigation is adversely determined or if the IRS were to seek transfer pricing adjustments of a similar nature for transactions in subsequent years, we could be subject to significant additional tax liabilities. In addition, in October 2014, the European Commission opened a formal investigation to examine whether decisions by the tax authorities in Luxembourg with regard to the corporate income tax paid by certain of our subsidiaries comply with European Union rules on state aid. If this matter is adversely resolved, Luxembourg may be required to assess, and we may be required to pay, additional amounts with respect to current and prior periods and our taxes in the future could increase. Although we believe our tax estimates are reasonable, the final outcome of tax audits, investigations, and any related litigation could be materially different from our historical income tax provisions and accruals. Our Supplier Relationships Subject Us to a Number of RisksWe have significant suppliers, including licensors, and in some cases, limited or single-sources of supply, that are important to our sourcing, services, manufacturing, and any related ongoing servicing of merchandise and content. We do not have long-term arrangements with most of our suppliers to guarantee availability of merchandise, content, components, or services, particular payment terms, or the extension of credit limits. If our current suppliers were to stop selling or licensing merchandise, content, components, or services to us on acceptable terms, or delay delivery, including as a result of one or more supplier bankruptcies due to poor economic conditions, as a result of natural disasters, or for other reasons, we may be unable to procure alternatives from other suppliers in a timely and efficient manner and on acceptable terms, or at all. In addition, if our suppliers or other vendors violate applicable laws, regulations, our code of standards and responsibilities, or implement practices regarded as unethical, unsafe, or hazardous to the environment, it could damage our reputation, limit our growth, and negatively affect our operating results. We May Be Subject to Risks Related to Government Contracts and Related Procurement RegulationsOur contracts with U.S., as well as state, local, and foreign, government entities are subject to various procurement regulations and other requirements relating to their formation, administration, and performance. We may be subject to audits and investigations relating to our government contracts, and any violations could result in various civil and criminal penalties and administrative sanctions, including termination of contract, refunding or suspending of payments, forfeiture of profits, payment of fines, and suspension or debarment from future government business. In addition, such contracts may provide for termination by the government at any time, without cause.We May Be Subject to Product Liability Claims if People or Property Are Harmed by the Products We SellSome of the products we sell or manufacture may expose us to product liability claims relating to personal injury, death, or environmental or property damage, and may require product recalls or other actions. Certain third parties also sell products using our e-commerce platform that may increase our exposure to product liability claims, such as if these sellers do not have sufficient protection from such claims. Although we maintain liability insurance, we cannot be certain that our coverage will be adequate for liabilities actually incurred or that insurance will continue to be available to us on economically reasonable terms, or at all. In addition, some of our agreements with our vendors and sellers do not indemnify us from product liability.We Are Subject to Payments-Related RisksWe accept payments using a variety of methods, including credit card, debit card, credit accounts (including promotional financing), gift cards, direct debit from a customer’s bank account, consumer invoicing, physical bank check, and payment upon delivery. For existing and future payment options we offer to our customers, we may become subject to additional regulations and compliance requirements (including obligations to implement enhanced authentication processes that could result in significant costs and reduce the ease of use of our payments products), as well as fraud. For certain payment methods, including credit and debit cards, we pay interchange and other fees, which may increase over time and raise our operating costs and lower profitability. We rely on third parties to provide certain Amazon-branded payment methods and payment processing services, including the processing of credit cards, debit cards, electronic checks, and promotional financing. In each case, it could disrupt our business if these companies become unwilling or unable to provide these services to us. We also offer co-branded credit card programs, which could adversely affect our operating results if terminated. We are also subject to payment card association operating rules, including data security rules, certification requirements, and rules governing electronic funds transfers, which could change or be reinterpreted to make it difficult or impossible for us to comply. If we fail to comply with these rules or requirements, or if our data security systems are breached or compromised, we may be liable for card issuing banks’ costs, subject to fines and higher transaction fees, and lose our ability to accept credit and debit card payments from our customers, process electronic funds transfers, or facilitate other types of online payments, and our business and operating 13Table of Contentsresults could be adversely affected. In addition, we provide regulated services in certain jurisdictions because we enable customers to keep account balances with us and transfer money to third parties, and because we provide services to third parties to facilitate payments on their behalf. In these jurisdictions, we may be subject to requirements for licensing, regulatory inspection, bonding and capital maintenance, the use, handling, and segregation of transferred funds, consumer disclosures, and authentication. We are also subject to or voluntarily comply with a number of other laws and regulations relating to payments, money laundering, international money transfers, privacy and information security, and electronic fund transfers. If we were found to be in violation of applicable laws or regulations, we could be subject to additional requirements and civil and criminal penalties, or forced to cease providing certain services.We Could Be Liable for Fraudulent or Unlawful Activities of SellersThe law relating to the liability of providers of online payment services is currently unsettled. In addition, governmental agencies could require changes in the way this business is conducted. Under our seller programs, we may be unable to prevent sellers from collecting payments, fraudulently or otherwise, when buyers never receive the products they ordered or when the products received are materially different from the sellers’ descriptions. Under our A2Z Guarantee, we reimburse buyers for payments up to certain limits in these situations, and as our marketplace seller sales grow, the cost of this program will increase and could negatively affect our operating results. We also may be unable to prevent sellers on our sites or through other seller sites from selling unlawful goods, selling goods in an unlawful manner, or violating the proprietary rights of others, and could face civil or criminal liability for unlawful activities by our sellers.\n"
          ],
          "name": "stdout"
        }
      ]
    },
    {
      "cell_type": "code",
      "metadata": {
        "id": "DpWi8nXsYHfY",
        "colab": {
          "base_uri": "https://localhost:8080/",
          "height": 102
        },
        "outputId": "cb99d008-e42e-4f93-8b12-d64ba1c6e142"
      },
      "source": [
        "print(len(risk_sections_oracle))\n",
        "print(risk_sections_oracle[0][0:100])"
      ],
      "execution_count": null,
      "outputs": [
        {
          "output_type": "stream",
          "text": [
            "5\n",
            "\n",
            "\n",
            "Risk Factors\n",
            "We operate in rapidly changing economic and technological environments that present n\n"
          ],
          "name": "stdout"
        }
      ]
    },
    {
      "cell_type": "code",
      "metadata": {
        "id": "EIrFyRLZYouT",
        "colab": {
          "base_uri": "https://localhost:8080/",
          "height": 54
        },
        "outputId": "178b3492-7d7e-4c75-f376-789f4133031d"
      },
      "source": [
        "print(risk_sections_amazon[0])"
      ],
      "execution_count": null,
      "outputs": [
        {
          "output_type": "stream",
          "text": [
            "Risk FactorsPlease carefully consider the following discussion of significant factors, events, and uncertainties that make an investment in our securities risky. The events and consequences discussed in these risk factors could, in circumstances we may or may not be able to accurately predict, recognize, or control, have a material adverse effect on our business, growth, reputation, prospects, financial condition, operating results (including components of our financial results), cash flows, liquidity, and stock price. These risk factors do not identify all risks that we face; our operations could also be affected by factors, events, or uncertainties that are not presently known to us or that we currently do not consider to present significant risks to our operations. In addition, the global economic climate amplifies many of these risks.We Face Intense CompetitionOur businesses are rapidly evolving and intensely competitive, and we have many competitors across geographies, including cross-border competition, and in different industries, including physical, e-commerce, and omnichannel retail, e-commerce services, web and infrastructure computing services, electronic devices, digital content, advertising, grocery, and transportation and logistics services. Some of our current and potential competitors have greater resources, longer histories, more customers, and/or greater brand recognition, particularly with our newly-launched products and services and in our newer geographic regions. They may secure better terms from vendors, adopt more aggressive pricing, and devote more resources to technology, infrastructure, fulfillment, and marketing.Competition continues to intensify, including with the development of new business models and the entry of new and well-funded competitors, and as our competitors enter into business combinations or alliances and established companies in other market segments expand to become competitive with our business. In addition, new and enhanced technologies, including search, web and infrastructure computing services, digital content, and electronic devices continue to increase our competition. The Internet facilitates competitive entry and comparison shopping, which enhances the ability of new, smaller, or lesser known businesses to compete against us. As a result of competition, our product and service offerings may not be successful, we may fail to gain or may lose business, and we may be required to increase our spending or lower prices, any of which could materially reduce our sales and profits.Our Expansion Places a Significant Strain on our Management, Operational, Financial, and Other ResourcesWe are continuing to rapidly and significantly expand our global operations, including increasing our product and service offerings and scaling our infrastructure to support our retail and services businesses. The complexity of the current scale of our business can place significant strain on our management, personnel, operations, systems, technical performance, financial resources, and internal financial control and reporting functions, and our expansion increases these factors. Failure to manage growth effectively could damage our reputation, limit our growth, and negatively affect our operating results.Our Expansion into New Products, Services, Technologies, and Geographic Regions Subjects Us to Additional RisksWe may have limited or no experience in our newer market segments, and our customers may not adopt our product or service offerings. These offerings, which can present new and difficult technology challenges, may subject us to claims if customers of these offerings experience service disruptions or failures or other quality issues. In addition, profitability, if any, in our newer activities may not meet our expectations, and we may not be successful enough in these newer activities to recoup our investments in them. Failure to realize the benefits of amounts we invest in new technologies, products, or services could result in the value of those investments being written down or written off.We Experience Significant Fluctuations in Our Operating Results and Growth RateWe are not always able to accurately forecast our growth rate. We base our expense levels and investment plans on sales estimates. A significant portion of our expenses and investments is fixed, and we are not always able to adjust our spending quickly enough if our sales are less than expected.Our revenue growth may not be sustainable, and our percentage growth rates may decrease. Our revenue and operating profit growth depends on the continued growth of demand for the products and services offered by us or our sellers, and our business is affected by general economic and business conditions worldwide. A softening of demand, whether caused by changes in customer preferences or a weakening of the U.S. or global economies, may result in decreased revenue or growth.Our sales and operating results will also fluctuate for many other reasons, including due to factors described elsewhere in this section and the following:•our ability to retain and increase sales to existing customers, attract new customers, and satisfy our customers’ demands;6Table of Contents•our ability to retain and expand our network of sellers;•our ability to offer products on favorable terms, manage inventory, and fulfill orders;•the introduction of competitive stores, websites, products, services, price decreases, or improvements;•changes in usage or adoption rates of the Internet, e-commerce, electronic devices, and web services, including outside the U.S.;•timing, effectiveness, and costs of expansion and upgrades of our systems and infrastructure;•the success of our geographic, service, and product line expansions;•the extent to which we finance, and the terms of any such financing for, our current operations and future growth;•the outcomes of legal proceedings and claims, which may include significant monetary damages or injunctive relief and could have a material adverse impact on our operating results;•variations in the mix of products and services we sell;•variations in our level of merchandise and vendor returns;•the extent to which we offer fast and free delivery, continue to reduce prices worldwide, and provide additional benefits to our customers;•factors affecting our reputation or brand image;•the extent to which we invest in technology and content, fulfillment, and other expense categories;•increases in the prices of fuel and gasoline, as well as increases in the prices of other energy products and commodities like paper and packing supplies and hardware products;•the extent to which operators of the networks between our customers and our stores successfully charge fees to grant our customers unimpaired and unconstrained access to our online services;•our ability to collect amounts owed to us when they become due;•the extent to which use of our services is affected by spyware, viruses, phishing and other spam emails, denial of service attacks, data theft, computer intrusions, outages, and similar events; and•disruptions from natural or man-made disasters, extreme weather, geopolitical events and security issues (including terrorist attacks and armed hostilities), labor or trade disputes, and similar events.Our International Operations Expose Us to a Number of RisksOur international activities are significant to our revenues and profits, and we plan to further expand internationally. In certain international market segments, we have relatively little operating experience and may not benefit from any first-to-market advantages or otherwise succeed. It is costly to establish, develop, and maintain international operations and stores, and promote our brand internationally. Our international operations may not become profitable on a sustained basis.In addition to risks described elsewhere in this section, our international sales and operations are subject to a number of risks, including:•local economic and political conditions;•government regulation (such as regulation of our product and service offerings and of competition); restrictive governmental actions (such as trade protection measures, including export duties and quotas and custom duties and tariffs); nationalization; and restrictions on foreign ownership;•restrictions on sales or distribution of certain products or services and uncertainty regarding liability for products, services, and content, including uncertainty as a result of less Internet-friendly legal systems, local laws, lack of legal precedent, and varying rules, regulations, and practices regarding the physical and digital distribution of media products and enforcement of intellectual property rights;•business licensing or certification requirements, such as for imports, exports, web services, and electronic devices;•limitations on the repatriation and investment of funds and foreign currency exchange restrictions;•limited fulfillment and technology infrastructure;•shorter payable and longer receivable cycles and the resultant negative impact on cash flow;•laws and regulations regarding consumer and data protection, privacy, network security, encryption, payments, advertising, and restrictions on pricing or discounts;7Table of Contents•lower levels of use of the Internet;•lower levels of consumer spending and fewer opportunities for growth compared to the U.S.;•lower levels of credit card usage and increased payment risk;•difficulty in staffing, developing, and managing foreign operations as a result of distance, language, and cultural differences;•different employee/employer relationships and the existence of works councils and labor unions;•compliance with the U.S. Foreign Corrupt Practices Act and other applicable U.S. and foreign laws prohibiting corrupt payments to government officials and other third parties;•laws and policies of the U.S. and other jurisdictions affecting trade, foreign investment, loans, and taxes; and•geopolitical events, including war and terrorism.As international physical, e-commerce, and omnichannel retail and other services grow, competition will intensify, including through adoption of evolving business models. Local companies may have a substantial competitive advantage because of their greater understanding of, and focus on, the local customer, as well as their more established local brand names. The inability to hire, train, retain, and manage sufficient required personnel may limit our international growth.The People’s Republic of China (“PRC”) and India regulate Amazon’s and its affiliates’ businesses and operations in country through regulations and license requirements that may restrict (i) foreign investment in and operation of the Internet, IT infrastructure, data centers, retail, delivery, and other sectors, (ii) Internet content, and (iii) the sale of media and other products and services. For example, in order to meet local ownership, regulatory licensing, and cybersecurity requirements, we provide certain technology services in China through contractual relationships with third parties that hold PRC licenses to provide services. In India, the government restricts the ownership or control of Indian companies by foreign entities involved in online multi-brand retail trading activities. For www.amazon.in, we provide certain marketing tools and logistics services to third-party sellers to enable them to sell online and deliver to customers, and we hold indirect minority interests in entities that are third-party sellers on the www.amazon.in marketplace. Although we believe these structures and activities comply with existing laws, they involve unique risks, and the PRC and India may from time to time consider and implement additional changes in their regulatory, licensing, or other requirements that could impact these structures and activities. There are substantial uncertainties regarding the interpretation of PRC and Indian laws and regulations, and it is possible that these governments will ultimately take a view contrary to ours. In addition, our Chinese and Indian businesses and operations may be unable to continue to operate if we or our affiliates are unable to access sufficient funding or, in China, enforce contractual relationships we or our affiliates have in place. Violation of any existing or future PRC, Indian, or other laws or regulations or changes in the interpretations of those laws and regulations could result in our businesses in those countries being subject to fines and other financial penalties, having licenses revoked, or being forced to restructure our operations or shut down entirely. We Face Risks Related to Successfully Optimizing and Operating Our Fulfillment Network and Data CentersFailures to adequately predict customer demand or otherwise optimize and operate our fulfillment network and data centers successfully from time to time result in excess or insufficient fulfillment or data center capacity, increased costs, and impairment charges, any of which could materially harm our business. As we continue to add fulfillment and data center capability or add new businesses with different requirements, our fulfillment and data center networks become increasingly complex and operating them becomes more challenging. There can be no assurance that we will be able to operate our networks effectively.In addition, failure to optimize inventory in our fulfillment network increases our net shipping cost by requiring long-zone or partial shipments. We and our co-sourcers may be unable to adequately staff our fulfillment network and customer service centers. Under some of our commercial agreements, we maintain the inventory of other companies, thereby increasing the complexity of tracking inventory and operating our fulfillment network. Our failure to properly handle such inventory or the inability of the other businesses on whose behalf we perform inventory fulfillment services to accurately forecast product demand may result in us being unable to secure sufficient storage space or to optimize our fulfillment network or cause other unexpected costs and other harm to our business and reputation.We rely on a limited number of shipping companies to deliver inventory to us and completed orders to our customers. The inability to negotiate acceptable terms with these companies or performance problems or other difficulties experienced by these companies or by our own transportation systems could negatively impact our operating results and customer experience. In addition, our ability to receive inbound inventory efficiently and ship completed orders to customers also may be negatively affected by natural or man-made disasters, extreme weather, geopolitical events and security issues, labor or trade disputes, and similar events.8Table of ContentsThe Seasonality of Our Retail Business Places Increased Strain on Our OperationsWe expect a disproportionate amount of our retail sales to occur during our fourth quarter. Our failure to stock or restock popular products in sufficient amounts such that we fail to meet customer demand could significantly affect our revenue and our future growth. When we overstock products, we may be required to take significant inventory markdowns or write-offs and incur commitment costs, which could materially reduce profitability. We regularly experience increases in our net shipping cost due to complimentary upgrades, split-shipments, and additional long-zone shipments necessary to ensure timely delivery for the holiday season. If too many customers access our websites within a short period of time due to increased demand, we may experience system interruptions that make our websites unavailable or prevent us from efficiently fulfilling orders, which may reduce the volume of goods we offer or sell and the attractiveness of our products and services. In addition, we may be unable to adequately staff our fulfillment network and customer service centers during these peak periods and delivery and other fulfillment companies and customer service co-sourcers may be unable to meet the seasonal demand. Risks described elsewhere in this Item 1A relating to fulfillment network optimization and inventory are magnified during periods of high demand.We generally have payment terms with our retail vendors that extend beyond the amount of time necessary to collect proceeds from our consumer customers. As a result of holiday sales, as of December 31 of each year, our cash, cash equivalents, and marketable securities balances typically reach their highest level (other than as a result of cash flows provided by or used in investing and financing activities). This operating cycle results in a corresponding increase in accounts payable as of December 31. Our accounts payable balance generally declines during the first three months of the year, resulting in a corresponding decline in our cash, cash equivalents, and marketable securities balances.Our Commercial Agreements, Strategic Alliances, and Other Business Relationships Expose Us to RisksWe provide physical, e-commerce, and omnichannel retail and other services to businesses through commercial agreements, strategic alliances, and business relationships. Under these agreements, we provide web services, technology, fulfillment, computing, digital storage, and other services, as well as enable sellers to offer products or services through our stores. These arrangements are complex and require substantial infrastructure capacity, personnel, and other resource commitments, which may limit the amount of business we can service. We may not be able to implement, maintain, and develop the components of these commercial relationships, which may include web services, fulfillment, customer service, inventory management, tax collection, payment processing, hardware, content, and third-party software, and engaging third parties to perform services. The amount of compensation we receive under certain of our commercial agreements is partially dependent on the volume of the other company’s sales. Therefore, when the other company’s offerings are not successful, the compensation we receive may be lower than expected or the agreement may be terminated. Moreover, we may not be able to enter into additional or alternative commercial relationships and strategic alliances on favorable terms. We also may be subject to claims from businesses to which we provide these services if we are unsuccessful in implementing, maintaining, or developing these services.As our agreements terminate, we may be unable to renew or replace these agreements on comparable terms, or at all. We may in the future enter into amendments on less favorable terms or encounter parties that have difficulty meeting their contractual obligations to us, which could adversely affect our operating results.Our present and future e-commerce services agreements, other commercial agreements, and strategic alliances create additional risks such as:•disruption of our ongoing business, including loss of management focus on existing businesses;•impairment of other relationships;•variability in revenue and income from entering into, amending, or terminating such agreements or relationships; and•difficulty integrating under the commercial agreements.Our Business Suffers When We Are Unsuccessful in Making, Integrating, and Maintaining Acquisitions and InvestmentsWe have acquired and invested in a number of companies, and we may in the future acquire or invest in or enter into joint ventures with additional companies. These transactions create risks such as:•disruption of our ongoing business, including loss of management focus on existing businesses;•problems retaining key personnel;•additional operating losses and expenses of the businesses we acquired or in which we invested;•the potential impairment of tangible and intangible assets and goodwill, including as a result of acquisitions;9Table of Contents•the potential impairment of customer and other relationships of the company we acquired or in which we invested or our own customers as a result of any integration of operations;•the difficulty of completing such transactions and achieving anticipated benefits within expected timeframes, or at all; •the difficulty of incorporating acquired operations, technology, and rights into our offerings, and unanticipated expenses related to such integration;•the difficulty of integrating a new company’s accounting, financial reporting, management, information and information security, human resource, and other administrative systems to permit effective management, and the lack of control if such integration is delayed or not successfully implemented;•losses we may incur as a result of declines in the value of an investment or as a result of incorporating an investee’s financial performance into our financial results;•for investments in which an investee’s financial performance is incorporated into our financial results, either in full or in part, the dependence on the investee’s accounting, financial reporting, and similar systems, controls, and processes;•the difficulty of implementing at companies we acquire the controls, procedures, and policies appropriate for a larger public company;•the risks associated with businesses we acquire or invest in, which may differ from or be more significant than the risks our other businesses face;•potential unknown liabilities associated with a company we acquire or in which we invest; and•for foreign transactions, additional risks related to the integration of operations across different cultures and languages, and the economic, political, and regulatory risks associated with specific countries.As a result of future acquisitions or mergers, we might need to issue additional equity securities, spend our cash, or incur debt, contingent liabilities, or amortization expenses related to intangible assets, any of which could reduce our profitability and harm our business or only be available on unfavorable terms, if at all. In addition, valuations supporting our acquisitions and strategic investments could change rapidly. We could determine that such valuations have experienced impairments or other-than-temporary declines in fair value which could adversely impact our financial results.We Have Foreign Exchange RiskThe results of operations of, and certain of our intercompany balances associated with, our international stores and product and service offerings are exposed to foreign exchange rate fluctuations. Due to these fluctuations, operating results may differ materially from expectations, and we may record significant gains or losses on the remeasurement of intercompany balances. As we have expanded our international operations, our exposure to exchange rate fluctuations has increased. We also hold cash equivalents and/or marketable securities in foreign currencies including British Pounds, Euros, and Japanese Yen. When the U.S. Dollar strengthens compared to these currencies, cash equivalents, and marketable securities balances, when translated, may be materially less than expected and vice versa.The Loss of Key Senior Management Personnel or the Failure to Hire and Retain Highly Skilled and Other Key Personnel Could Negatively Affect Our BusinessWe depend on our senior management and other key personnel, particularly Jeffrey P. Bezos, our President, CEO, and Chairman. We do not have “key person” life insurance policies. We also rely on other highly skilled personnel. Competition for qualified personnel in the technology industry has historically been intense, particularly for software engineers, computer scientists, and other technical staff. The loss of any of our executive officers or other key employees or the inability to hire, train, retain, and manage qualified personnel, could harm our business.We Could Be Harmed by Data Loss or Other Security BreachesBecause we collect, process, store, and transmit large amounts of data, including confidential, sensitive, proprietary, and business and personal information, failure to prevent or mitigate data loss, theft, misuse, or other security breaches or vulnerabilities affecting our or our vendors’ or customers’ technology, products, and systems, could expose us or our customers to a risk of loss, disclosure, or misuse of such information, adversely affect our operating results, result in litigation, regulatory action (including under privacy or data protection laws), and potential liability for us, deter customers or sellers from using our stores and services, and otherwise harm our business and reputation. We use third-party technology and systems for a variety of reasons, including, without limitation, encryption and authentication technology, employee email, content delivery to customers, back-office support, and other functions. Some of our systems have experienced past security breaches, and, 10Table of Contentsalthough they did not have a material adverse effect on our operating results, there can be no assurance of a similar result in the future. Although we have developed systems and processes that are designed to protect customer information and prevent such incidents, including systems and processes designed to reduce the impact of a security breach at a third-party vendor or customer, such measures cannot provide absolute security and may fail to operate as intended or be circumvented.We Face Risks Related to System Interruption and Lack of RedundancyWe experience occasional system interruptions and delays that make our websites and services unavailable or slow to respond and prevent us from efficiently accepting or fulfilling orders or providing services to third parties, which may reduce our net sales and the attractiveness of our products and services. Steps we take to add software and hardware, upgrade our systems and network infrastructure, and improve the stability and efficiency of our systems may not be sufficient to avoid system interruptions or delays that could adversely affect our operating results.Our computer and communications systems and operations in the past have been, or in the future could be, damaged or interrupted due to events such as natural or man-made disasters, extreme weather, geopolitical events and security issues (including terrorist attacks and armed hostilities), computer viruses, physical or electronic break-ins, and similar events or disruptions. Any of these events could cause system interruption, delays, and loss of critical data, and could prevent us from accepting and fulfilling customer orders and providing services, which could make our product and service offerings less attractive and subject us to liability. Our systems are not fully redundant and our disaster recovery planning may not be sufficient. In addition, our insurance may not provide sufficient coverage to compensate for related losses. Any of these events could damage our reputation and be expensive to remedy.We Face Significant Inventory RiskIn addition to risks described elsewhere in this Item 1A relating to fulfillment network and inventory optimization by us and third parties, we are exposed to significant inventory risks that may adversely affect our operating results as a result of seasonality, new product launches, rapid changes in product cycles and pricing, defective merchandise, changes in consumer demand and consumer spending patterns, changes in consumer tastes with respect to our products, spoilage, and other factors. We endeavor to accurately predict these trends and avoid overstocking or understocking products we manufacture and/or sell. Demand for products, however, can change significantly between the time inventory or components are ordered and the date of sale. In addition, when we begin selling or manufacturing a new product, it may be difficult to establish vendor relationships, determine appropriate product or component selection, and accurately forecast demand. The acquisition of certain types of inventory or components requires significant lead-time and prepayment and they may not be returnable. We carry a broad selection and significant inventory levels of certain products, such as consumer electronics, and at times we are unable to sell products in sufficient quantities or to meet demand during the relevant selling seasons. Any one of the inventory risk factors set forth above may adversely affect our operating results.We Face Risks Related to Adequately Protecting Our Intellectual Property Rights and Being Accused of Infringing Intellectual Property Rights of Third PartiesWe regard our trademarks, service marks, copyrights, patents, trade dress, trade secrets, proprietary technology, and similar intellectual property as critical to our success, and we rely on trademark, copyright, and patent law, trade secret protection, and confidentiality and/or license agreements with our employees, customers, and others to protect our proprietary rights. Effective intellectual property protection is not available in every country in which our products and services are made available. We also may not be able to acquire or maintain appropriate domain names in all countries in which we do business. Furthermore, regulations governing domain names may not protect our trademarks and similar proprietary rights. We may be unable to prevent third parties from acquiring domain names that are similar to, infringe upon, or diminish the value of our trademarks and other proprietary rights.We are not always able to discover or determine the extent of any unauthorized use of our proprietary rights. Actions taken by third parties that license our proprietary rights may materially diminish the value of our proprietary rights or reputation. The protection of our intellectual property requires the expenditure of significant financial and managerial resources. Moreover, the steps we take to protect our intellectual property do not always adequately protect our rights or prevent third parties from infringing or misappropriating our proprietary rights. We also cannot be certain that others will not independently develop or otherwise acquire equivalent or superior technology or other intellectual property rights.We have been subject to, and expect to continue to be subject to, claims and legal proceedings regarding alleged infringement by us of the intellectual property rights of third parties. Such claims, whether or not meritorious, have in the past, and may in the future, result in the expenditure of significant financial and managerial resources, injunctions against us, or significant payments for damages, including to satisfy indemnification obligations or to obtain licenses from third parties who allege that we have infringed their rights. Such licenses may not be available on terms acceptable to us or at all. These risks have been amplified by the increase in third parties whose sole or primary business is to assert such claims.11Table of ContentsOur digital content offerings depend in part on effective digital rights management technology to control access to digital content. Breach or malfunctioning of the digital rights management technology that we use could subject us to claims, and content providers may be unwilling to include their content in our service.We Have a Rapidly Evolving Business Model and Our Stock Price Is Highly VolatileWe have a rapidly evolving business model. The trading price of our common stock fluctuates significantly in response to, among other risks, the risks described elsewhere in this Item 1A, as well as:•changes in interest rates;•conditions or trends in the Internet and the industry segments we operate in;•quarterly variations in operating results;•fluctuations in the stock market in general and market prices for Internet-related companies in particular;•changes in financial estimates by us or decisions to increase or decrease future spending or investment levels; •changes in financial estimates and recommendations by securities analysts;•changes in our capital structure, including issuance of additional debt or equity to the public;•changes in the valuation methodology of, or performance by, other e-commerce or technology companies; and•transactions in our common stock by major investors and certain analyst reports, news, and speculation.Volatility in our stock price could adversely affect our business and financing opportunities and force us to increase our cash compensation to employees or grant larger stock awards than we have historically, which could hurt our operating results or reduce the percentage ownership of our existing stockholders, or both.Government Regulation Is Evolving and Unfavorable Changes Could Harm Our BusinessWe are subject to general business regulations and laws, as well as regulations and laws specifically governing the Internet, physical, e-commerce, and omnichannel retail, digital content, web services, electronic devices, artificial intelligence technologies and services, and other products and services that we offer or sell. These regulations and laws cover taxation, privacy, data protection, pricing, content, copyrights, distribution, transportation, mobile communications, electronic device certification, electronic waste, energy consumption, environmental regulation, electronic contracts and other communications, competition, consumer protection, employment, trade and protectionist measures, web services, the provision of online payment services, registration, licensing, and information reporting requirements, unencumbered Internet access to our services or access to our facilities, the design and operation of websites, health, safety, and sanitation standards, the characteristics, legality, and quality of products and services, product labeling, the commercial operation of unmanned aircraft systems, and other matters. It is not clear how existing laws governing issues such as property ownership, libel, data protection, and personal privacy apply to aspects of our operations such as the Internet, e-commerce, digital content, web services, electronic devices, and artificial intelligence technologies and services. A large number of jurisdictions regulate our operations, and the extent, nature, and scope of such regulations is evolving and expanding as the scope of our businesses expand. We are regularly subject to formal and informal reviews and investigations by governments and regulatory authorities under existing laws, regulations, or interpretations or pursuing new and novel approaches to regulate our operations. For example, the European Commission announced that it has opened an investigation to assess whether aspects of our operations with marketplace sellers violate EU competition rules. Unfavorable regulations, laws, decisions, or interpretations by government or regulatory authorities applying those laws and regulations, or inquiries, investigations, or enforcement actions threatened or initiated by them, could cause us to incur substantial costs, expose us to unanticipated civil and criminal liability or penalties (including substantial monetary fines), diminish the demand for, or availability of, our products and services, increase our cost of doing business, require us to change our business practices in a manner materially adverse to our business, damage our reputation, impede our growth, or otherwise have a material effect on our operations.Claims, Litigation, Government Investigations, and Other Proceedings May Adversely Affect Our Business and Results of OperationsAs an innovative company offering a wide range of consumer and business products and services around the world, we are regularly subject to actual and threatened claims, litigation, reviews, investigations, and other proceedings, including proceedings by governments and regulatory authorities, involving a wide range of issues, including patent and other intellectual property matters, taxes, labor and employment, competition and antitrust, privacy and data protection, consumer protection, commercial disputes, goods and services offered by us and by third parties, and other matters. The number and scale of these proceedings have increased over time as our businesses have expanded in scope and geographic reach and our products, services, and operations have become more complex and available to, and used by, more people. Any of these types of 12Table of Contentsproceedings can have an adverse effect on us because of legal costs, disruption of our operations, diversion of management resources, negative publicity, and other factors. The outcomes of these matters are inherently unpredictable and subject to significant uncertainties. Determining legal reserves or possible losses from such matters involves judgment and may not reflect the full range of uncertainties and unpredictable outcomes. Until the final resolution of such matters, we may be exposed to losses in excess of the amount recorded, and such amounts could be material. Should any of our estimates and assumptions change or prove to have been incorrect, it could have a material effect on our business, consolidated financial position, results of operations, or cash flows. In addition, it is possible that a resolution of one or more such proceedings, including as a result of a settlement, could involve licenses, sanctions, consent decrees, or orders requiring us to make substantial future payments, preventing us from offering certain products or services, requiring us to change our business practices in a manner materially adverse to our business, requiring development of non-infringing or otherwise altered products or technologies, damaging our reputation, or otherwise having a material effect on our operations. We Face Additional Tax Liabilities and Collection ObligationsWe are subject to a variety of taxes and tax collection obligations in the U.S. (federal and state) and numerous foreign jurisdictions. We may recognize additional tax expense and be subject to additional tax liabilities, including other liabilities for tax collection obligations due to changes in laws, regulations, administrative practices, principles, and interpretations related to tax, including changes to the global tax framework, competition, and other laws and accounting rules in various jurisdictions. Such changes could come about as a result of economic, political, and other conditions. An increasing number of jurisdictions are considering or have adopted laws or administrative practices that impose new tax measures, including revenue-based taxes, targeting online commerce and the remote selling of goods and services. These include new obligations to collect sales, consumption, value added, or other taxes on online marketplaces and remote sellers, or other requirements that may result in liability for third party obligations. For example, the European Union, certain member states, and other countries have proposed or enacted taxes on online advertising and marketplace service revenues. Our results of operations and cash flows could be adversely effected by additional taxes of this nature imposed on us prospectively or retroactively or additional taxes or penalties resulting from the failure to comply with any collection obligations or failure to provide information about our customers, suppliers, and other third parties for tax reporting purposes to various government agencies. In some cases we also may not have sufficient notice to enable us to build systems and adopt processes to properly comply with new reporting or collection obligations by the effective date.Our tax expense and liabilities are also affected by other factors, such as changes in our business operations, acquisitions, investments, entry into new businesses and geographies, intercompany transactions, the relative amount of our foreign earnings, losses incurred in jurisdictions for which we are not able to realize related tax benefits, the applicability of special tax regimes, changes in foreign currency exchange rates, changes in our stock price, and changes in our deferred tax assets and liabilities and their valuation. Significant judgment is required in evaluating and estimating our tax expense and liabilities. In the ordinary course of our business, there are many transactions and calculations for which the ultimate tax determination is uncertain. For example, the legislation known as the U.S. Tax Cuts and Jobs Act of 2017 (the “U.S. Tax Act”) requires complex computations to be performed that were not previously required by U.S. tax law, significant judgments to be made in interpretation of the provisions of the U.S. Tax Act, significant estimates in calculations, and the preparation and analysis of information not previously relevant or regularly produced. The U.S. Treasury Department, the IRS, and other standard-setting bodies will continue to interpret or issue guidance on how provisions of the U.S. Tax Act will be applied or otherwise administered. As future guidance is issued, we may make adjustments to amounts that we have previously recorded that may materially impact our financial statements in the period in which the adjustments are made.We are also subject to tax controversies in various jurisdictions that can result in tax assessments against us. Developments in an audit, investigation, or other tax controversy can have a material effect on our operating results or cash flows in the period or periods for which that development occurs, as well as for prior and subsequent periods. We regularly assess the likelihood of an adverse outcome resulting from these proceedings to determine the adequacy of our tax accruals. Although we believe our tax estimates are reasonable, the final outcome of audits, investigations, and any other tax controversies could be materially different from our historical tax accruals.Our Supplier Relationships Subject Us to a Number of RisksWe have significant suppliers, including content and technology licensors, and in some cases, limited or single-sources of supply, that are important to our sourcing, services, manufacturing, and any related ongoing servicing of merchandise and content. We do not have long-term arrangements with most of our suppliers to guarantee availability of merchandise, content, components, or services, particular payment terms, or the extension of credit limits. Decisions by our current suppliers to stop selling or licensing merchandise, content, components, or services to us on acceptable terms, or delay delivery, including as a result of one or more supplier bankruptcies due to poor economic conditions, as a result of natural disasters, or for other reasons, may result in our being unable to procure alternatives from other suppliers in a timely and efficient manner and on acceptable terms, or at all. In addition, violations by our suppliers or other vendors of applicable laws, regulations, contractual 13Table of Contentsterms, intellectual property rights of others, or our Supply Chain Standards, as well as products or practices regarded as unethical, unsafe, or hazardous, could expose us to claims, damage our reputation, limit our growth, and negatively affect our operating results.We Are Subject to Risks Related to Government Contracts and Related Procurement RegulationsOur contracts with U.S., as well as state, local, and foreign, government entities are subject to various procurement regulations and other requirements relating to their formation, administration, and performance. We are subject to audits and investigations relating to our government contracts, and any violations could result in various civil and criminal penalties and administrative sanctions, including termination of contract, refunding or suspending of payments, forfeiture of profits, payment of fines, and suspension or debarment from future government business. In addition, some of these contracts provide for termination by the government at any time, without cause.We Are Subject to Product Liability Claims When People or Property Are Harmed by the Products We Sell or ManufactureSome of the products we sell or manufacture expose us to product liability or food safety claims relating to personal injury or illness, death, or environmental or property damage, and can require product recalls or other actions. Third parties who sell products using our services and stores increase our exposure to product liability claims, such as when these sellers do not have sufficient protection from such claims. Although we maintain liability insurance, we cannot be certain that our coverage will be adequate for liabilities actually incurred or that insurance will continue to be available to us on economically reasonable terms, or at all. Although we impose contractual terms on sellers that are intended to prohibit sales of certain type of products, we may not be able to detect, enforce, or collect sufficient damages for breaches of such agreements. In addition, some of our agreements with our vendors and sellers do not indemnify us from product liability.We Are Subject to Payments-Related RisksWe accept payments using a variety of methods, including credit card, debit card, credit accounts (including promotional financing), gift cards, direct debit from a customer’s bank account, consumer invoicing, physical bank check, and payment upon delivery. For existing and future payment options we offer to our customers, we currently are subject to, and may become subject to additional, regulations and compliance requirements (including obligations to implement enhanced authentication processes that could result in significant costs and reduce the ease of use of our payments products), as well as fraud. For certain payment methods, including credit and debit cards, we pay interchange and other fees, which may increase over time and raise our operating costs and lower profitability. We rely on third parties to provide certain Amazon-branded payment methods and payment processing services, including the processing of credit cards, debit cards, electronic checks, and promotional financing. In each case, it could disrupt our business if these companies become unwilling or unable to provide these services to us. We also offer co-branded credit card programs, which could adversely affect our operating results if renewed on less favorable terms or terminated. We are also subject to payment card association operating rules, including data security rules, certification requirements, and rules governing electronic funds transfers, which could change or be reinterpreted to make it difficult or impossible for us to comply. Failure to comply with these rules or requirements, as well as any breach, compromise, or failure to otherwise detect or prevent fraudulent activity involving our data security systems, could result in our being liable for card issuing banks’ costs, subject to fines and higher transaction fees, and loss of our ability to accept credit and debit card payments from our customers, process electronic funds transfers, or facilitate other types of online payments, and our business and operating results could be adversely affected.In addition, we provide regulated services in certain jurisdictions because we enable customers to keep account balances with us and transfer money to third parties, and because we provide services to third parties to facilitate payments on their behalf. Jurisdictions subject us to requirements for licensing, regulatory inspection, bonding and capital maintenance, the use, handling, and segregation of transferred funds, consumer disclosures, maintaining or processing data, and authentication. We are also subject to or voluntarily comply with a number of other laws and regulations relating to payments, money laundering, international money transfers, privacy and information security, and electronic fund transfers. If we were found to be in violation of applicable laws or regulations, we could be subject to additional requirements and civil and criminal penalties, or forced to cease providing certain services.We Are Impacted by Fraudulent or Unlawful Activities of SellersThe law relating to the liability of online service providers is currently unsettled. In addition, governmental agencies have in the past and could in the future require changes in the way this business is conducted. Under our seller programs, we maintain policies and processes designed to prevent sellers from collecting payments, fraudulently or otherwise, when buyers never receive the products they ordered or when the products received are materially different from the sellers’ descriptions, and to prevent sellers in our stores or through other stores from selling unlawful, counterfeit, pirated, or stolen goods, selling 14Table of Contentsgoods in an unlawful or unethical manner, violating the proprietary rights of others, or otherwise violating our policies. When these policies and processes are circumvented or fail to operate sufficiently, it can harm our business or damage our reputation and we could face civil or criminal liability for unlawful activities by our sellers. Under our A2Z Guarantee, we reimburse buyers for payments up to certain limits in these situations, and as our third-party seller sales grow, the cost of this program will increase and could negatively affect our operating results. \n"
          ],
          "name": "stdout"
        }
      ]
    },
    {
      "cell_type": "code",
      "metadata": {
        "id": "RPsABIsTCvLL"
      },
      "source": [
        "stemmer=nltk.stem.SnowballStemmer('english')\n",
        "vectorizer=CountVectorizer(stop_words='english')\n"
      ],
      "execution_count": null,
      "outputs": []
    },
    {
      "cell_type": "code",
      "metadata": {
        "id": "kCi8ObO4OyKX"
      },
      "source": [
        "counts_oracle=vectorizer.fit_transform(risk_sections_oracle)\n",
        "counts_oracle=pd.DataFrame(counts_oracle.toarray(),columns=vectorizer.get_feature_names()).transpose()\n",
        "counts_oracle.columns=[2020,2019,2018,2017,2016]"
      ],
      "execution_count": null,
      "outputs": []
    },
    {
      "cell_type": "code",
      "metadata": {
        "id": "S_VPdOPhCvG6"
      },
      "source": [
        "counts_amazon=vectorizer.fit_transform(risk_sections_amazon)\n",
        "counts_amazon=pd.DataFrame(counts_amazon.toarray(),columns=vectorizer.get_feature_names()).transpose()\n",
        "counts_amazon.columns=[2020,2019,2018,2017,2016]"
      ],
      "execution_count": null,
      "outputs": []
    },
    {
      "cell_type": "code",
      "metadata": {
        "id": "K8V2pu5gHDOo",
        "colab": {
          "base_uri": "https://localhost:8080/",
          "height": 204
        },
        "outputId": "bf9e222d-51a0-4543-aaa3-28517433ba4e"
      },
      "source": [
        "counts_amazon.head()"
      ],
      "execution_count": null,
      "outputs": [
        {
          "output_type": "execute_result",
          "data": {
            "text/html": [
              "<div>\n",
              "<style scoped>\n",
              "    .dataframe tbody tr th:only-of-type {\n",
              "        vertical-align: middle;\n",
              "    }\n",
              "\n",
              "    .dataframe tbody tr th {\n",
              "        vertical-align: top;\n",
              "    }\n",
              "\n",
              "    .dataframe thead th {\n",
              "        text-align: right;\n",
              "    }\n",
              "</style>\n",
              "<table border=\"1\" class=\"dataframe\">\n",
              "  <thead>\n",
              "    <tr style=\"text-align: right;\">\n",
              "      <th></th>\n",
              "      <th>2020</th>\n",
              "      <th>2019</th>\n",
              "      <th>2018</th>\n",
              "      <th>2017</th>\n",
              "      <th>2016</th>\n",
              "    </tr>\n",
              "  </thead>\n",
              "  <tbody>\n",
              "    <tr>\n",
              "      <th>10table</th>\n",
              "      <td>1</td>\n",
              "      <td>1</td>\n",
              "      <td>1</td>\n",
              "      <td>1</td>\n",
              "      <td>1</td>\n",
              "    </tr>\n",
              "    <tr>\n",
              "      <th>11table</th>\n",
              "      <td>1</td>\n",
              "      <td>1</td>\n",
              "      <td>1</td>\n",
              "      <td>1</td>\n",
              "      <td>1</td>\n",
              "    </tr>\n",
              "    <tr>\n",
              "      <th>12table</th>\n",
              "      <td>1</td>\n",
              "      <td>1</td>\n",
              "      <td>1</td>\n",
              "      <td>1</td>\n",
              "      <td>1</td>\n",
              "    </tr>\n",
              "    <tr>\n",
              "      <th>13table</th>\n",
              "      <td>1</td>\n",
              "      <td>1</td>\n",
              "      <td>1</td>\n",
              "      <td>1</td>\n",
              "      <td>1</td>\n",
              "    </tr>\n",
              "    <tr>\n",
              "      <th>14table</th>\n",
              "      <td>1</td>\n",
              "      <td>0</td>\n",
              "      <td>1</td>\n",
              "      <td>0</td>\n",
              "      <td>0</td>\n",
              "    </tr>\n",
              "  </tbody>\n",
              "</table>\n",
              "</div>"
            ],
            "text/plain": [
              "         2020  2019  2018  2017  2016\n",
              "10table     1     1     1     1     1\n",
              "11table     1     1     1     1     1\n",
              "12table     1     1     1     1     1\n",
              "13table     1     1     1     1     1\n",
              "14table     1     0     1     0     0"
            ]
          },
          "metadata": {
            "tags": []
          },
          "execution_count": 256
        }
      ]
    },
    {
      "cell_type": "code",
      "metadata": {
        "id": "VQky1XDeOG2q",
        "colab": {
          "base_uri": "https://localhost:8080/",
          "height": 204
        },
        "outputId": "76d9208d-e1c5-435c-de3f-25e6691eb540"
      },
      "source": [
        "counts_amazon.tail()"
      ],
      "execution_count": null,
      "outputs": [
        {
          "output_type": "execute_result",
          "data": {
            "text/html": [
              "<div>\n",
              "<style scoped>\n",
              "    .dataframe tbody tr th:only-of-type {\n",
              "        vertical-align: middle;\n",
              "    }\n",
              "\n",
              "    .dataframe tbody tr th {\n",
              "        vertical-align: top;\n",
              "    }\n",
              "\n",
              "    .dataframe thead th {\n",
              "        text-align: right;\n",
              "    }\n",
              "</style>\n",
              "<table border=\"1\" class=\"dataframe\">\n",
              "  <thead>\n",
              "    <tr style=\"text-align: right;\">\n",
              "      <th></th>\n",
              "      <th>2020</th>\n",
              "      <th>2019</th>\n",
              "      <th>2018</th>\n",
              "      <th>2017</th>\n",
              "      <th>2016</th>\n",
              "    </tr>\n",
              "  </thead>\n",
              "  <tbody>\n",
              "    <tr>\n",
              "      <th>year</th>\n",
              "      <td>2</td>\n",
              "      <td>2</td>\n",
              "      <td>2</td>\n",
              "      <td>2</td>\n",
              "      <td>2</td>\n",
              "    </tr>\n",
              "    <tr>\n",
              "      <th>years</th>\n",
              "      <td>0</td>\n",
              "      <td>0</td>\n",
              "      <td>2</td>\n",
              "      <td>1</td>\n",
              "      <td>1</td>\n",
              "    </tr>\n",
              "    <tr>\n",
              "      <th>yen</th>\n",
              "      <td>1</td>\n",
              "      <td>1</td>\n",
              "      <td>1</td>\n",
              "      <td>1</td>\n",
              "      <td>1</td>\n",
              "    </tr>\n",
              "    <tr>\n",
              "      <th>yuan</th>\n",
              "      <td>0</td>\n",
              "      <td>0</td>\n",
              "      <td>0</td>\n",
              "      <td>0</td>\n",
              "      <td>1</td>\n",
              "    </tr>\n",
              "    <tr>\n",
              "      <th>zone</th>\n",
              "      <td>2</td>\n",
              "      <td>2</td>\n",
              "      <td>2</td>\n",
              "      <td>2</td>\n",
              "      <td>2</td>\n",
              "    </tr>\n",
              "  </tbody>\n",
              "</table>\n",
              "</div>"
            ],
            "text/plain": [
              "       2020  2019  2018  2017  2016\n",
              "year      2     2     2     2     2\n",
              "years     0     0     2     1     1\n",
              "yen       1     1     1     1     1\n",
              "yuan      0     0     0     0     1\n",
              "zone      2     2     2     2     2"
            ]
          },
          "metadata": {
            "tags": []
          },
          "execution_count": 257
        }
      ]
    },
    {
      "cell_type": "code",
      "metadata": {
        "id": "MvmxLVjeGlGR"
      },
      "source": [
        "counts_amazon=counts_amazon.stack().reset_index()\n",
        "counts_oracle=counts_oracle.stack().reset_index()\n"
      ],
      "execution_count": null,
      "outputs": []
    },
    {
      "cell_type": "code",
      "metadata": {
        "id": "O20qmVMUHdAT",
        "colab": {
          "base_uri": "https://localhost:8080/",
          "height": 204
        },
        "outputId": "dd81d29c-31b0-40eb-9626-a5f0d0296def"
      },
      "source": [
        "counts_amazon.head()"
      ],
      "execution_count": null,
      "outputs": [
        {
          "output_type": "execute_result",
          "data": {
            "text/html": [
              "<div>\n",
              "<style scoped>\n",
              "    .dataframe tbody tr th:only-of-type {\n",
              "        vertical-align: middle;\n",
              "    }\n",
              "\n",
              "    .dataframe tbody tr th {\n",
              "        vertical-align: top;\n",
              "    }\n",
              "\n",
              "    .dataframe thead th {\n",
              "        text-align: right;\n",
              "    }\n",
              "</style>\n",
              "<table border=\"1\" class=\"dataframe\">\n",
              "  <thead>\n",
              "    <tr style=\"text-align: right;\">\n",
              "      <th></th>\n",
              "      <th>level_0</th>\n",
              "      <th>level_1</th>\n",
              "      <th>0</th>\n",
              "    </tr>\n",
              "  </thead>\n",
              "  <tbody>\n",
              "    <tr>\n",
              "      <th>0</th>\n",
              "      <td>10table</td>\n",
              "      <td>2020</td>\n",
              "      <td>1</td>\n",
              "    </tr>\n",
              "    <tr>\n",
              "      <th>1</th>\n",
              "      <td>10table</td>\n",
              "      <td>2019</td>\n",
              "      <td>1</td>\n",
              "    </tr>\n",
              "    <tr>\n",
              "      <th>2</th>\n",
              "      <td>10table</td>\n",
              "      <td>2018</td>\n",
              "      <td>1</td>\n",
              "    </tr>\n",
              "    <tr>\n",
              "      <th>3</th>\n",
              "      <td>10table</td>\n",
              "      <td>2017</td>\n",
              "      <td>1</td>\n",
              "    </tr>\n",
              "    <tr>\n",
              "      <th>4</th>\n",
              "      <td>10table</td>\n",
              "      <td>2016</td>\n",
              "      <td>1</td>\n",
              "    </tr>\n",
              "  </tbody>\n",
              "</table>\n",
              "</div>"
            ],
            "text/plain": [
              "   level_0  level_1  0\n",
              "0  10table     2020  1\n",
              "1  10table     2019  1\n",
              "2  10table     2018  1\n",
              "3  10table     2017  1\n",
              "4  10table     2016  1"
            ]
          },
          "metadata": {
            "tags": []
          },
          "execution_count": 259
        }
      ]
    },
    {
      "cell_type": "code",
      "metadata": {
        "id": "mFvvN7KdHm2I",
        "colab": {
          "base_uri": "https://localhost:8080/",
          "height": 204
        },
        "outputId": "abaa3fd3-7ce8-4f18-e217-b41824c902c1"
      },
      "source": [
        "counts_oracle.head()"
      ],
      "execution_count": null,
      "outputs": [
        {
          "output_type": "execute_result",
          "data": {
            "text/html": [
              "<div>\n",
              "<style scoped>\n",
              "    .dataframe tbody tr th:only-of-type {\n",
              "        vertical-align: middle;\n",
              "    }\n",
              "\n",
              "    .dataframe tbody tr th {\n",
              "        vertical-align: top;\n",
              "    }\n",
              "\n",
              "    .dataframe thead th {\n",
              "        text-align: right;\n",
              "    }\n",
              "</style>\n",
              "<table border=\"1\" class=\"dataframe\">\n",
              "  <thead>\n",
              "    <tr style=\"text-align: right;\">\n",
              "      <th></th>\n",
              "      <th>level_0</th>\n",
              "      <th>level_1</th>\n",
              "      <th>0</th>\n",
              "    </tr>\n",
              "  </thead>\n",
              "  <tbody>\n",
              "    <tr>\n",
              "      <th>0</th>\n",
              "      <td>12</td>\n",
              "      <td>2020</td>\n",
              "      <td>0</td>\n",
              "    </tr>\n",
              "    <tr>\n",
              "      <th>1</th>\n",
              "      <td>12</td>\n",
              "      <td>2019</td>\n",
              "      <td>0</td>\n",
              "    </tr>\n",
              "    <tr>\n",
              "      <th>2</th>\n",
              "      <td>12</td>\n",
              "      <td>2018</td>\n",
              "      <td>0</td>\n",
              "    </tr>\n",
              "    <tr>\n",
              "      <th>3</th>\n",
              "      <td>12</td>\n",
              "      <td>2017</td>\n",
              "      <td>1</td>\n",
              "    </tr>\n",
              "    <tr>\n",
              "      <th>4</th>\n",
              "      <td>12</td>\n",
              "      <td>2016</td>\n",
              "      <td>0</td>\n",
              "    </tr>\n",
              "  </tbody>\n",
              "</table>\n",
              "</div>"
            ],
            "text/plain": [
              "  level_0  level_1  0\n",
              "0      12     2020  0\n",
              "1      12     2019  0\n",
              "2      12     2018  0\n",
              "3      12     2017  1\n",
              "4      12     2016  0"
            ]
          },
          "metadata": {
            "tags": []
          },
          "execution_count": 260
        }
      ]
    },
    {
      "cell_type": "code",
      "metadata": {
        "id": "4WWF2WaRHwlp",
        "colab": {
          "base_uri": "https://localhost:8080/",
          "height": 255
        },
        "outputId": "ecc52be9-dbeb-4ab2-e4c0-8ca9bdfe45a9"
      },
      "source": [
        "counts_amazon.columns = [\"Word\", \"Time Period\", \"Count\"]\n",
        "counts_amazon[\"Company\"] = \"Amazon\"\n",
        "counts_oracle.columns = [\"Word\", \"Time Period\", \"Count\"]\n",
        "counts_oracle[\"Company\"] = \"Oracle\"\n",
        "counts = pd.concat([counts_amazon, counts_oracle])\n",
        "print(counts)"
      ],
      "execution_count": null,
      "outputs": [
        {
          "output_type": "stream",
          "text": [
            "         Word  Time Period  Count Company\n",
            "0     10table         2020      1  Amazon\n",
            "1     10table         2019      1  Amazon\n",
            "2     10table         2018      1  Amazon\n",
            "3     10table         2017      1  Amazon\n",
            "4     10table         2016      1  Amazon\n",
            "...       ...          ...    ...     ...\n",
            "9700      yen         2020      1  Oracle\n",
            "9701      yen         2019      1  Oracle\n",
            "9702      yen         2018      1  Oracle\n",
            "9703      yen         2017      1  Oracle\n",
            "9704      yen         2016      1  Oracle\n",
            "\n",
            "[16950 rows x 4 columns]\n"
          ],
          "name": "stdout"
        }
      ]
    },
    {
      "cell_type": "code",
      "metadata": {
        "id": "0kiyoes2OlaN",
        "colab": {
          "base_uri": "https://localhost:8080/",
          "height": 306
        },
        "outputId": "4b8aa08e-e2ac-4c37-84cb-8d07197510e2"
      },
      "source": [
        "print(counts[counts[\"Word\"] == \"amazon\"])\n",
        "\n",
        "print(counts[counts[\"Word\"] == \"oracle\"])"
      ],
      "execution_count": null,
      "outputs": [
        {
          "output_type": "stream",
          "text": [
            "       Word  Time Period  Count Company\n",
            "440  amazon         2020      4  Amazon\n",
            "441  amazon         2019      5  Amazon\n",
            "442  amazon         2018      5  Amazon\n",
            "443  amazon         2017      5  Amazon\n",
            "444  amazon         2016      5  Amazon\n",
            "620  amazon         2020      0  Oracle\n",
            "621  amazon         2019      1  Oracle\n",
            "622  amazon         2018      1  Oracle\n",
            "623  amazon         2017      0  Oracle\n",
            "624  amazon         2016      0  Oracle\n",
            "        Word  Time Period  Count Company\n",
            "6180  oracle         2020     26  Oracle\n",
            "6181  oracle         2019     28  Oracle\n",
            "6182  oracle         2018     28  Oracle\n",
            "6183  oracle         2017     29  Oracle\n",
            "6184  oracle         2016     29  Oracle\n"
          ],
          "name": "stdout"
        }
      ]
    },
    {
      "cell_type": "code",
      "metadata": {
        "id": "l1hktVa7Q7A_"
      },
      "source": [
        "# amazon has not mentioned oracle in any of sec docuement"
      ],
      "execution_count": null,
      "outputs": []
    },
    {
      "cell_type": "code",
      "metadata": {
        "id": "SkuY3sa0RHaQ",
        "colab": {
          "base_uri": "https://localhost:8080/",
          "height": 289
        },
        "outputId": "241bb86f-7aab-428d-b46a-bf5cfbbac6ba"
      },
      "source": [
        "counts = counts.set_index([\"Company\", \"Time Period\", \"Word\"])[\"Count\"].unstack().transpose().fillna(0)\n",
        "print(counts)"
      ],
      "execution_count": null,
      "outputs": [
        {
          "output_type": "stream",
          "text": [
            "Company     Amazon                     Oracle                    \n",
            "Time Period   2016 2017 2018 2019 2020   2016 2017 2018 2019 2020\n",
            "Word                                                             \n",
            "10table        1.0  1.0  1.0  1.0  1.0    0.0  0.0  0.0  0.0  0.0\n",
            "11table        1.0  1.0  1.0  1.0  1.0    0.0  0.0  0.0  0.0  0.0\n",
            "12             0.0  0.0  0.0  0.0  0.0    0.0  1.0  0.0  0.0  0.0\n",
            "12table        1.0  1.0  1.0  1.0  1.0    0.0  0.0  0.0  0.0  0.0\n",
            "13table        1.0  1.0  1.0  1.0  1.0    0.0  0.0  0.0  0.0  0.0\n",
            "...            ...  ...  ...  ...  ...    ...  ...  ...  ...  ...\n",
            "year           2.0  2.0  2.0  2.0  2.0    3.0  3.0  5.0  6.0  4.0\n",
            "years          1.0  1.0  2.0  0.0  0.0    6.0  5.0  4.0  4.0  4.0\n",
            "yen            1.0  1.0  1.0  1.0  1.0    1.0  1.0  1.0  1.0  1.0\n",
            "yuan           1.0  0.0  0.0  0.0  0.0    0.0  0.0  0.0  0.0  0.0\n",
            "zone           2.0  2.0  2.0  2.0  2.0    0.0  0.0  0.0  0.0  0.0\n",
            "\n",
            "[2481 rows x 10 columns]\n"
          ],
          "name": "stdout"
        }
      ]
    },
    {
      "cell_type": "code",
      "metadata": {
        "id": "_AdSfRt_RmLV",
        "colab": {
          "base_uri": "https://localhost:8080/",
          "height": 289
        },
        "outputId": "312c0612-eb57-4473-f3cd-0059fdd68e6d"
      },
      "source": [
        "tf_log = np.log(counts + 1)\n",
        "\n",
        "n = (counts > 0).sum(axis=1)\n",
        "\n",
        "idf = np.log(len(counts.columns) / n)\n",
        "tf_idf = tf_log.multiply(idf, axis=0)\n",
        "print(tf_idf)"
      ],
      "execution_count": null,
      "outputs": [
        {
          "output_type": "stream",
          "text": [
            "Company        Amazon                      ...    Oracle                    \n",
            "Time Period      2016      2017      2018  ...      2018      2019      2020\n",
            "Word                                       ...                              \n",
            "10table      0.480453  0.480453  0.480453  ...  0.000000  0.000000  0.000000\n",
            "11table      0.480453  0.480453  0.480453  ...  0.000000  0.000000  0.000000\n",
            "12           0.000000  0.000000  0.000000  ...  0.000000  0.000000  0.000000\n",
            "12table      0.480453  0.480453  0.480453  ...  0.000000  0.000000  0.000000\n",
            "13table      0.480453  0.480453  0.480453  ...  0.000000  0.000000  0.000000\n",
            "...               ...       ...       ...  ...       ...       ...       ...\n",
            "year         0.000000  0.000000  0.000000  ...  0.000000  0.000000  0.000000\n",
            "years        0.154671  0.154671  0.245148  ...  0.359136  0.359136  0.359136\n",
            "yen          0.000000  0.000000  0.000000  ...  0.000000  0.000000  0.000000\n",
            "yuan         1.596030  0.000000  0.000000  ...  0.000000  0.000000  0.000000\n",
            "zone         0.761500  0.761500  0.761500  ...  0.000000  0.000000  0.000000\n",
            "\n",
            "[2481 rows x 10 columns]\n"
          ],
          "name": "stdout"
        }
      ]
    },
    {
      "cell_type": "code",
      "metadata": {
        "id": "mqPcCMKeSWhl",
        "colab": {
          "base_uri": "https://localhost:8080/",
          "height": 272
        },
        "outputId": "17b0f3b8-490d-473b-b753-ab4b620c7b6c"
      },
      "source": [
        "# cosine similarity\n",
        "similarity = cosine_similarity(tf_idf.transpose())\n",
        "similarity = pd.DataFrame(similarity, index=tf_idf.columns,columns=tf_idf.columns)\n",
        "print(similarity)"
      ],
      "execution_count": null,
      "outputs": [
        {
          "output_type": "stream",
          "text": [
            "Company                Amazon                      ...    Oracle                    \n",
            "Time Period              2016      2017      2018  ...      2018      2019      2020\n",
            "Company Time Period                                ...                              \n",
            "Amazon  2016         1.000000  0.915731  0.700170  ...  0.013907  0.012686  0.016344\n",
            "        2017         0.915731  1.000000  0.738156  ...  0.009788  0.009630  0.014184\n",
            "        2018         0.700170  0.738156  1.000000  ...  0.028550  0.029929  0.027938\n",
            "        2019         0.725730  0.751471  0.659810  ...  0.018961  0.019986  0.022772\n",
            "        2020         0.549129  0.569578  0.506296  ...  0.043929  0.040998  0.051559\n",
            "Oracle  2016         0.014675  0.012107  0.021744  ...  0.714670  0.620014  0.477812\n",
            "        2017         0.013255  0.010589  0.022823  ...  0.755140  0.631795  0.483179\n",
            "        2018         0.013907  0.009788  0.028550  ...  1.000000  0.858839  0.617457\n",
            "        2019         0.012686  0.009630  0.029929  ...  0.858839  1.000000  0.716343\n",
            "        2020         0.016344  0.014184  0.027938  ...  0.617457  0.716343  1.000000\n",
            "\n",
            "[10 rows x 10 columns]\n"
          ],
          "name": "stdout"
        }
      ]
    },
    {
      "cell_type": "code",
      "metadata": {
        "id": "TbFH-KVZSgXw",
        "colab": {
          "base_uri": "https://localhost:8080/",
          "height": 119
        },
        "outputId": "c5343368-8f36-4242-ae2f-6b8280db5df6"
      },
      "source": [
        "#for each time period find the similarity between the two\n",
        "yearly_sim = pd.Series([similarity.loc[(\"Amazon\",x),(\"Oracle\", x)] for x in [2020,2019,2018,2017,2016]], index=[2020,2019,2018,2017,2016])\n",
        "print(yearly_sim)"
      ],
      "execution_count": null,
      "outputs": [
        {
          "output_type": "stream",
          "text": [
            "2020    0.051559\n",
            "2019    0.019986\n",
            "2018    0.028550\n",
            "2017    0.010589\n",
            "2016    0.014675\n",
            "dtype: float64\n"
          ],
          "name": "stdout"
        }
      ]
    },
    {
      "cell_type": "code",
      "metadata": {
        "id": "JaJqqu4RS2_L",
        "colab": {
          "base_uri": "https://localhost:8080/",
          "height": 459
        },
        "outputId": "81a4c602-d468-4287-a7d0-9e74ef8f4bee"
      },
      "source": [
        "#We can see that amazon talks a lot more about the supply chain buzzwords\n",
        "diff = tf_idf[(\"Amazon\", 2020)] - tf_idf[(\"Oracle\", 2020)]\n",
        "print(diff.sort_values(ascending=False).head(10))\n",
        "print()\n",
        "print()\n",
        "print(diff.sort_values().head(10))"
      ],
      "execution_count": null,
      "outputs": [
        {
          "output_type": "stream",
          "text": [
            "Word\n",
            "stores         3.705868\n",
            "extreme        3.192061\n",
            "man            3.192061\n",
            "omnichannel    2.590290\n",
            "threatened     2.529648\n",
            "written        2.529648\n",
            "reviews        2.529648\n",
            "advertising    2.231155\n",
            "fulfillment    2.076483\n",
            "content        2.040930\n",
            "dtype: float64\n",
            "\n",
            "\n",
            "Word\n",
            "covid           -6.523715\n",
            "pandemic        -6.076654\n",
            "modifications   -3.705868\n",
            "19              -3.479929\n",
            "index           -3.411112\n",
            "2020            -3.346732\n",
            "coronavirus     -3.192061\n",
            "outbreak        -3.192061\n",
            "duration        -3.192061\n",
            "cloud           -2.837983\n",
            "dtype: float64\n"
          ],
          "name": "stdout"
        }
      ]
    },
    {
      "cell_type": "code",
      "metadata": {
        "id": "TsMIRxNSTNfz",
        "colab": {
          "base_uri": "https://localhost:8080/",
          "height": 153
        },
        "outputId": "c2fa2509-676f-4f3c-b1ad-a182dff24b09"
      },
      "source": [
        "i = diff.sort_values(ascending=False).head(5).index\n",
        "print(counts.loc[i])"
      ],
      "execution_count": null,
      "outputs": [
        {
          "output_type": "stream",
          "text": [
            "Company     Amazon                     Oracle                    \n",
            "Time Period   2016 2017 2018 2019 2020   2016 2017 2018 2019 2020\n",
            "Word                                                             \n",
            "stores         0.0  0.0  0.0  9.0  9.0    0.0  0.0  0.0  0.0  0.0\n",
            "extreme        0.0  0.0  0.0  0.0  3.0    0.0  0.0  0.0  0.0  0.0\n",
            "man            0.0  0.0  0.0  0.0  3.0    0.0  0.0  0.0  0.0  0.0\n",
            "omnichannel    0.0  0.0  0.0  4.0  4.0    0.0  0.0  0.0  0.0  0.0\n",
            "threatened     0.0  0.0  0.0  0.0  2.0    0.0  0.0  0.0  0.0  0.0\n"
          ],
          "name": "stdout"
        }
      ]
    },
    {
      "cell_type": "code",
      "metadata": {
        "id": "lr7W514_Tz8c",
        "colab": {
          "base_uri": "https://localhost:8080/",
          "height": 119
        },
        "outputId": "3652a164-d2e7-405a-f410-ccb0cf3b1098"
      },
      "source": [
        "#This analysis can be useful to assess country level threats\n",
        "#And correlations in the currency markets\n",
        "print(counts.loc[['yen','yuan','china',]])"
      ],
      "execution_count": null,
      "outputs": [
        {
          "output_type": "stream",
          "text": [
            "Company     Amazon                     Oracle                    \n",
            "Time Period   2016 2017 2018 2019 2020   2016 2017 2018 2019 2020\n",
            "Word                                                             \n",
            "yen            1.0  1.0  1.0  1.0  1.0    1.0  1.0  1.0  1.0  1.0\n",
            "yuan           1.0  0.0  0.0  0.0  0.0    0.0  0.0  0.0  0.0  0.0\n",
            "china          3.0  3.0  3.0  3.0  3.0    2.0  2.0  2.0  2.0  2.0\n"
          ],
          "name": "stdout"
        }
      ]
    },
    {
      "cell_type": "code",
      "metadata": {
        "id": "_QasKSWJUSPi",
        "colab": {
          "base_uri": "https://localhost:8080/",
          "height": 221
        },
        "outputId": "d078e7f0-a2d2-4e6f-ec28-598658ae4d54"
      },
      "source": [
        "counts.loc['india']"
      ],
      "execution_count": null,
      "outputs": [
        {
          "output_type": "execute_result",
          "data": {
            "text/plain": [
              "Company  Time Period\n",
              "Amazon   2016           2.0\n",
              "         2017           2.0\n",
              "         2018           2.0\n",
              "         2019           3.0\n",
              "         2020           3.0\n",
              "Oracle   2016           1.0\n",
              "         2017           1.0\n",
              "         2018           1.0\n",
              "         2019           1.0\n",
              "         2020           1.0\n",
              "Name: india, dtype: float64"
            ]
          },
          "metadata": {
            "tags": []
          },
          "execution_count": 281
        }
      ]
    },
    {
      "cell_type": "code",
      "metadata": {
        "id": "r39bdjA9Uj0c"
      },
      "source": [
        ""
      ],
      "execution_count": null,
      "outputs": []
    }
  ]
}