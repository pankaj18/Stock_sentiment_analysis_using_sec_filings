{
  "nbformat": 4,
  "nbformat_minor": 0,
  "metadata": {
    "colab": {
      "name": "Copy of stock_sentiment_analysis.ipynb",
      "provenance": []
    },
    "kernelspec": {
      "name": "python3",
      "display_name": "Python 3"
    }
  },
  "cells": [
    {
      "cell_type": "markdown",
      "metadata": {
        "id": "xHe6EsWA3uY0"
      },
      "source": [
        "In this notebook we will generate investing insights by applying sentiment analysis on financial news headlines from [FINVIZ.com](https://finviz.com)"
      ]
    },
    {
      "cell_type": "markdown",
      "metadata": {
        "id": "SGWW2w5IwmX-"
      },
      "source": [
        "We will use \n",
        "* NLTK's built in Vader Sentiment Anlyzer which will rank piece of text as positive, negative or neutral using lexicon of positive and negative words\n",
        " **use method **polarity_scores** to get sentiment \n",
        "* textblob's sentiment function which gives polarity (-1: negative to +1:positive)\n",
        "* Word embeddings (word2vec) \n",
        "* BERT embeddings"
      ]
    },
    {
      "cell_type": "code",
      "metadata": {
        "id": "6H8Nqyenh-nx"
      },
      "source": [
        "import numpy as np\n",
        "import pandas as pd\n",
        "import matplotlib.pyplot as plt\n",
        "import urllib, requests\n",
        "from bs4 import BeautifulSoup\n",
        "%matplotlib inline \n",
        "plt.style.use('dark_background')"
      ],
      "execution_count": null,
      "outputs": []
    },
    {
      "cell_type": "code",
      "metadata": {
        "id": "6pRgzvhtius1"
      },
      "source": [
        "from urllib.request import urlopen,Request"
      ],
      "execution_count": null,
      "outputs": []
    },
    {
      "cell_type": "code",
      "metadata": {
        "id": "oVp1Co-ZRskj",
        "colab": {
          "base_uri": "https://localhost:8080/",
          "height": 88
        },
        "outputId": "ef55171c-f2db-4c44-ed35-8d06bd5d4b31"
      },
      "source": [
        "import nltk\n",
        "nltk.download('vader_lexicon')\n",
        "from nltk.sentiment.vader import SentimentIntensityAnalyzer\n",
        "from textblob import TextBlob"
      ],
      "execution_count": null,
      "outputs": [
        {
          "output_type": "stream",
          "text": [
            "[nltk_data] Downloading package vader_lexicon to /root/nltk_data...\n"
          ],
          "name": "stdout"
        },
        {
          "output_type": "stream",
          "text": [
            "/usr/local/lib/python3.6/dist-packages/nltk/twitter/__init__.py:20: UserWarning: The twython library has not been installed. Some functionality from the twitter package will not be available.\n",
            "  warnings.warn(\"The twython library has not been installed. \"\n"
          ],
          "name": "stderr"
        }
      ]
    },
    {
      "cell_type": "code",
      "metadata": {
        "id": "OEpkKDPqMuet"
      },
      "source": [
        "import spacy\n",
        "from spacy import displacy\n",
        "nlp=spacy.load('en_core_web_sm')"
      ],
      "execution_count": null,
      "outputs": []
    },
    {
      "cell_type": "code",
      "metadata": {
        "id": "7hvcBcD1Nfcp"
      },
      "source": [
        "doc=nlp(\"apple is tesla\")"
      ],
      "execution_count": null,
      "outputs": []
    },
    {
      "cell_type": "code",
      "metadata": {
        "id": "qzCVDirVNmTY",
        "colab": {
          "base_uri": "https://localhost:8080/",
          "height": 34
        },
        "outputId": "070aa6b9-b12e-44aa-c78f-1a382812e688"
      },
      "source": [
        "doc.vector.shape"
      ],
      "execution_count": null,
      "outputs": [
        {
          "output_type": "execute_result",
          "data": {
            "text/plain": [
              "(96,)"
            ]
          },
          "metadata": {
            "tags": []
          },
          "execution_count": 6
        }
      ]
    },
    {
      "cell_type": "code",
      "metadata": {
        "id": "HzhGnlEdyrWj"
      },
      "source": [
        "# Add to New words and values to vader lexicon\n",
        "new_words = {\n",
        "    'crushes': 10,\n",
        "    'beats': 5,\n",
        "    'misses': -5,\n",
        "    'trouble': -10,\n",
        "    'falls': -100,\n",
        "}\n",
        "# Instantiate the sentiment intensity analyzer with the existing lexicon\n",
        "vader = SentimentIntensityAnalyzer()\n",
        "\n",
        "# Update the lexicon\n",
        "# ... YOUR CODE FOR TASK 4 ...\n",
        "vader.lexicon.update(new_words)"
      ],
      "execution_count": null,
      "outputs": []
    },
    {
      "cell_type": "markdown",
      "metadata": {
        "id": "SWqtOb7P_znA"
      },
      "source": [
        "use webscraping to download headlines from HTML files of amazon, facebook, google and tesla and extract html_table in news_tables dictionary.  "
      ]
    },
    {
      "cell_type": "code",
      "metadata": {
        "id": "17iDvs32mCEN"
      },
      "source": [
        "finviz_url=\"https://finviz.com/quote.ashx?t=\""
      ],
      "execution_count": null,
      "outputs": []
    },
    {
      "cell_type": "code",
      "metadata": {
        "id": "sgF3U-_amfdh"
      },
      "source": [
        "tickers= ['AMZN','FB','GOOG','TSLA']"
      ],
      "execution_count": null,
      "outputs": []
    },
    {
      "cell_type": "code",
      "metadata": {
        "id": "wu5LJbL0HAmE"
      },
      "source": [
        "news_tables={}\n",
        "for ticker in tickers:\n",
        "  url=finviz_url+ticker\n",
        "  req=Request(url=url,headers={'user-agent':'my-app'})\n",
        "  response=urlopen(req)\n",
        "  #print(response)\n",
        "  #\n",
        "  html=BeautifulSoup(response,'html')\n",
        "  #print(html)\n",
        "  news_table=html.find(id=\"news-table\")\n",
        "  news_tables[ticker]=news_table"
      ],
      "execution_count": null,
      "outputs": []
    },
    {
      "cell_type": "markdown",
      "metadata": {
        "id": "5rap-VhvHUE_"
      },
      "source": [
        "Make pandas dataframe to store ticker,date, time and news "
      ]
    },
    {
      "cell_type": "code",
      "metadata": {
        "id": "Q3y1h5ugkETp",
        "colab": {
          "base_uri": "https://localhost:8080/",
          "height": 54
        },
        "outputId": "a8752cb5-cbe6-4ea9-98fb-3458973831fc"
      },
      "source": [
        "parsed_data=[]\n",
        "for ticker, news_table in news_tables.items():\n",
        "  for row in news_table.findAll('tr'):\n",
        "    #print(row)\n",
        "    \n",
        "    title=row.a.text\n",
        "    date_data=row.td.text.split(\" \")\n",
        "    \n",
        "    if len(date_data)==1:\n",
        "      time=date_data[0]\n",
        "    else:\n",
        "      date=date_data[0]\n",
        "      time=date_data[1]\n",
        "    parsed_data.append([ticker,date,time,title])\n",
        "print(parsed_data)\n",
        "\n"
      ],
      "execution_count": null,
      "outputs": [
        {
          "output_type": "stream",
          "text": [
            "[['AMZN', 'Sep-10-20', '08:11AM\\xa0\\xa0', 'Dow Jones Futures Fall 125 Points After Big Stock Market Rally; Apple, Amazon, Tesla Extend Rebounds, While RH Surges 17%'], ['AMZN', 'Sep-10-20', '07:21AM\\xa0\\xa0', 'Stock market news live updates: Stock futures fall, setting up another session of selling'], ['AMZN', 'Sep-10-20', '07:21AM\\xa0\\xa0', 'Buffett Just Bought the Hottest Cloud IPO of 2020 -- or Did He?'], ['AMZN', 'Sep-10-20', '07:00AM\\xa0\\xa0', 'Influencers with Andy Serwer: Reed Hastings'], ['AMZN', 'Sep-10-20', '07:00AM\\xa0\\xa0', '2 Top Growth Stocks to Buy Right Now'], ['AMZN', 'Sep-10-20', '06:44AM\\xa0\\xa0', \"India's Reliance Industries Offers Amazon a $20 Billion Stake\"], ['AMZN', 'Sep-10-20', '06:37AM\\xa0\\xa0', 'Ambanis Reliance to Offer $20 Billion Stake in Retail Arm to Amazon'], ['AMZN', 'Sep-10-20', '06:30AM\\xa0\\xa0', 'The Tech Rout Makes It a Good Time to Trade Amazon Options'], ['AMZN', 'Sep-10-20', '06:09AM\\xa0\\xa0', 'Where to Invest $5,000 Right Now'], ['AMZN', 'Sep-10-20', '06:06AM\\xa0\\xa0', '5 Ways the Stock Market Has Made History in 2020'], ['AMZN', 'Sep-10-20', '02:52AM\\xa0\\xa0', \"India's Reliance offers Amazon $20 billion stake in retail arm: Bloomberg News\"], ['AMZN', 'Sep-10-20', '02:36AM\\xa0\\xa0', 'Reliance offers Amazon $20 billion stake in retail arm - Bloomberg News'], ['AMZN', 'Sep-09-20', '06:47PM\\xa0\\xa0', \"We're Back! S&P 500 Up Big as Tech Stock Gains Outpace Airline, Cruise Stocks Selloff\"], ['AMZN', 'Sep-09-20', '05:44PM\\xa0\\xa0', 'What to Know About Grail, the Cancer-Test Company That Filed to Go Public'], ['AMZN', 'Sep-09-20', '05:08PM\\xa0\\xa0', 'Dow Jones Futures: Stock Market Rally Rebounds On Tesla, Apple, Zoom Video, Microsoft, But Remain Cautious; RH Skyrockets On Earnings'], ['AMZN', 'Sep-09-20', '05:08PM\\xa0\\xa0', 'Amazon pays £290m in UK tax as sales surge to £14bn'], ['AMZN', 'Sep-09-20', '04:42PM\\xa0\\xa0', 'Amazon names former commander of U.S. Cyber Command to board of directors'], ['AMZN', 'Sep-09-20', '04:40PM\\xa0\\xa0', 'Theres good value to be had: CFRA on tech ETFs'], ['AMZN', 'Sep-09-20', '04:25PM\\xa0\\xa0', 'US STOCKS-Wall Street ends higher on tech rally to snap three-day skid'], ['AMZN', 'Sep-09-20', '04:25PM\\xa0\\xa0', 'Netflix Inc. stock underperforms Wednesday when compared to competitors'], ['AMZN', 'Sep-09-20', '04:25PM\\xa0\\xa0', 'Amazon.com Inc. stock rises Wednesday, outperforms market'], ['AMZN', 'Sep-09-20', '04:25PM\\xa0\\xa0', '3M Co. stock rises Wednesday, still underperforms market'], ['AMZN', 'Sep-09-20', '04:21PM\\xa0\\xa0', 'Walmart testing drone delivery'], ['AMZN', 'Sep-09-20', '04:05PM\\xa0\\xa0', 'Stock market news live updates: Tech shares rebound after three days of selling; vaccine trial put on hold'], ['AMZN', 'Sep-09-20', '04:00PM\\xa0\\xa0', 'US STOCKS-Wall Street ends higher to snap three-day skid as tech rallies'], ['AMZN', 'Sep-09-20', '03:11PM\\xa0\\xa0', 'Amazon aims to hire 33k employees for corporate, tech jobs'], ['AMZN', 'Sep-09-20', '02:53PM\\xa0\\xa0', 'US STOCKS-Wall Street bounces as tech rebounds'], ['AMZN', 'Sep-09-20', '02:15PM\\xa0\\xa0', 'Billionaire David Tepper Honed In On These 6 Stocks'], ['AMZN', 'Sep-09-20', '02:00PM\\xa0\\xa0', 'Dow Jones Rises 660 Points; Tech Stocks Rebound'], ['AMZN', 'Sep-09-20', '01:50PM\\xa0\\xa0', 'US STOCKS-Wall Street bounces as tech rout halts'], ['AMZN', 'Sep-09-20', '01:30PM\\xa0\\xa0', 'Dow Jones Sinks Over 300 Points; Tech Shares Lead Market Lower'], ['AMZN', 'Sep-09-20', '01:27PM\\xa0\\xa0', '43% of retail investors are trading with leverage: survey'], ['AMZN', 'Sep-09-20', '01:07PM\\xa0\\xa0', \"GM's electric vehicle business isn't worth as much as Tesla, but it's still worth a lot: analyst\"], ['AMZN', 'Sep-09-20', '12:40PM\\xa0\\xa0', 'UPS to hire 100,000 seasonal workers for extended holiday shopping rush'], ['AMZN', 'Sep-09-20', '12:15PM\\xa0\\xa0', 'Dow Jones Runs Up 500 Points As Apple, Microsoft Soar; Nasdaq Finds Key Support'], ['AMZN', 'Sep-09-20', '11:53AM\\xa0\\xa0', 'Walmart to Test Its Own Drone Delivery Service'], ['AMZN', 'Sep-09-20', '11:52AM\\xa0\\xa0', 'US STOCKS-Nasdaq rebounds as tech stocks stabilize after rout'], ['AMZN', 'Sep-09-20', '11:50AM\\xa0\\xa0', 'Transportation Stocks Could Sell Off Into Fourth Quarter'], ['AMZN', 'Sep-09-20', '11:31AM\\xa0\\xa0', 'Walmart Goes Airborne With Drone Delivery Program'], ['AMZN', 'Sep-09-20', '10:23AM\\xa0\\xa0', 'US STOCKS-Nasdaq rebounds as tech stocks stabilize after rout'], ['AMZN', 'Sep-09-20', '10:09AM\\xa0\\xa0', 'Amazon to Host Nationwide Virtual Career Day on Sept. 16'], ['AMZN', 'Sep-09-20', '09:26AM\\xa0\\xa0', 'Walmart piloting on-demand drone delivery program'], ['AMZN', 'Sep-09-20', '09:20AM\\xa0\\xa0', \"Netflix co-CEO says many tech giants are 'data-exploiting'\"], ['AMZN', 'Sep-09-20', '09:15AM\\xa0\\xa0', 'Is Shopify Stock a Buy?'], ['AMZN', 'Sep-09-20', '09:05AM\\xa0\\xa0', \"Amazon takes this year's Career Day virtual with 33,000 job openings to fill\"], ['AMZN', 'Sep-09-20', '09:04AM\\xa0\\xa0', 'US STOCKS-Nasdaq set to bounce as tech stocks stabilize after rout'], ['AMZN', 'Sep-09-20', '08:45AM\\xa0\\xa0', \"Amazon's Explosive E-Commerce Growth Could Accelerate Further\"], ['AMZN', 'Sep-09-20', '08:40AM\\xa0\\xa0', 'Yes, Streaming TV Really Can (Eventually) Replace Cable'], ['AMZN', 'Sep-09-20', '08:30AM\\xa0\\xa0', 'Where Will Best Buy Be in 1 Year?'], ['AMZN', 'Sep-09-20', '08:00AM\\xa0\\xa0', 'Losing $1 Trillion In 3 Days With Stocks Is Easier Than It Looks'], ['AMZN', 'Sep-09-20', '07:38AM\\xa0\\xa0', 'US STOCKS-Futures bounce after tech rout sends Nasdaq into correction'], ['AMZN', 'Sep-09-20', '07:21AM\\xa0\\xa0', '1 FAANG Stock to Buy Right Now and 1 to Avoid'], ['AMZN', 'Sep-09-20', '06:11AM\\xa0\\xa0', '3 Stay-at-Home Tech Stocks to Buy Right Now'], ['AMZN', 'Sep-09-20', '06:08AM\\xa0\\xa0', '3 Undeniably Brilliant Robinhood Stocks to Buy Right Now Even if the Market Crashes'], ['AMZN', 'Sep-09-20', '06:01AM\\xa0\\xa0', 'How strategists are making sense of the market selloff: Morning Brief'], ['AMZN', 'Sep-09-20', '06:00AM\\xa0\\xa0', 'Netflix co-founder Reed Hastings: Thank God Blockbuster didnt want to buy us'], ['AMZN', 'Sep-09-20', '06:00AM\\xa0\\xa0', \"FOCUS-Pandemic e-commerce surge spurs race for 'Tesla-like' electric delivery vans\"], ['AMZN', 'Sep-09-20', '05:53AM\\xa0\\xa0', 'US STOCKS-Futures bounce after tech rout sends Nasdaq into correction'], ['AMZN', 'Sep-08-20', '10:07PM\\xa0\\xa0', 'SoftBank Selloff Hits $17 Billion After Tech Exposure Fear Grows'], ['AMZN', 'Sep-08-20', '06:53PM\\xa0\\xa0', 'Go Ahead and Call Warren Buffett a Snowflake'], ['AMZN', 'Sep-08-20', '06:26PM\\xa0\\xa0', \"Warren Buffett and Salesforce Will Invest in Snowflake's IPO\"], ['AMZN', 'Sep-08-20', '04:54PM\\xa0\\xa0', 'Dow closes down 632 points, as tech rout leaves Nasdaq in correction territory'], ['AMZN', 'Sep-08-20', '04:53PM\\xa0\\xa0', '2 reasons fears of a dot-com style tech bubble are overblown'], ['AMZN', 'Sep-08-20', '04:29PM\\xa0\\xa0', 'US STOCKS-Stocks end lower as tech swoon persists, Tesla in historic drop'], ['AMZN', 'Sep-08-20', '04:26PM\\xa0\\xa0', '3M Co. stock falls Tuesday, still outperforms market'], ['AMZN', 'Sep-08-20', '04:25PM\\xa0\\xa0', 'Netflix Inc. stock falls Tuesday, still outperforms market'], ['AMZN', 'Sep-08-20', '04:25PM\\xa0\\xa0', 'Amazon.com Inc. stock falls Tuesday, underperforms market'], ['AMZN', 'Sep-08-20', '04:20PM\\xa0\\xa0', 'Slack misses expectations on quarterly billings, stock plummets more than 15%'], ['AMZN', 'Sep-08-20', '04:00PM\\xa0\\xa0', 'US STOCKS-Stocks end lower as tech swoon persists, Tesla tumbles'], ['AMZN', 'Sep-08-20', '02:55PM\\xa0\\xa0', 'Smart money will not hop on big tech stocks right now: Expert'], ['AMZN', 'Sep-08-20', '02:54PM\\xa0\\xa0', 'Tech Stocks Sink, but Infoblox Is Worth More Than $3 Billion. Heres Why.'], ['AMZN', 'Sep-08-20', '02:44PM\\xa0\\xa0', 'US STOCKS-Stocks fall as tech remains under pressure, Tesla tumbles'], ['AMZN', 'Sep-08-20', '02:24PM\\xa0\\xa0', 'Jeff Bezos, Walmart Heirs See Fortunes Rise Amid the Pandemic'], ['AMZN', 'Sep-08-20', '02:01PM\\xa0\\xa0', 'Investors prefer Trump for economy, Biden for COVID-19: UBS'], ['AMZN', 'Sep-08-20', '02:00PM\\xa0\\xa0', 'Amazon Adding 100,000 New Businesses to Its Seller Platform Over the Next Year'], ['AMZN', 'Sep-08-20', '01:54PM\\xa0\\xa0', 'Options investors pull back on tech bets as U.S. stocks slammed'], ['AMZN', 'Sep-08-20', '01:42PM\\xa0\\xa0', 'Disney Gains After Mulan Fuels Optimism About Streaming Growth'], ['AMZN', 'Sep-08-20', '01:35PM\\xa0\\xa0', 'Panicking about Tesla? These charts will make you feel a lot better'], ['AMZN', 'Sep-08-20', '01:19PM\\xa0\\xa0', 'The $10B JEDI contract is locked, loaded and still completely stuck'], ['AMZN', 'Sep-08-20', '01:01PM\\xa0\\xa0', 'US STOCKS-Nasdaq slides as tech rout deepens, Tesla hits three-week low'], ['AMZN', 'Sep-08-20', '12:55PM\\xa0\\xa0', 'Facebooks Next Big Business Wont Be Social Networking'], ['AMZN', 'Sep-08-20', '12:15PM\\xa0\\xa0', 'Apple Stocks Bull-Bear Debate Heats Up Ahead of iPhone 12 Debut'], ['AMZN', 'Sep-08-20', '12:05PM\\xa0\\xa0', 'Dow Jones Plunges 600 Points, As Tech Sell-Off Continues; Apple, Amazon Tumble, While Tesla Dives 19% On S&P 500 News'], ['AMZN', 'Sep-08-20', '11:57AM\\xa0\\xa0', 'US STOCKS-Nasdaq slides as tech rout deepens, Tesla hits three-week low'], ['AMZN', 'Sep-08-20', '11:53AM\\xa0\\xa0', \"INSIGHT-Ford's incoming CEO wants the U.S. automaker to run like a Deere\"], ['AMZN', 'Sep-08-20', '11:51AM\\xa0\\xa0', 'Amazon thinks these high-tech robots are the future of delivery. Heres why its just invested in new engineers to accelerate growth'], ['AMZN', 'Sep-08-20', '11:34AM\\xa0\\xa0', 'Tech sell-off continues in an orderly fashion, no panic, no fear, thats behind us: NYSE trader'], ['AMZN', 'Sep-08-20', '11:17AM\\xa0\\xa0', 'US STOCKS-Nasdaq slides as tech rout deepens, Tesla hits three-week low'], ['AMZN', 'Sep-08-20', '11:01AM\\xa0\\xa0', 'Better Buy: Vanguard Growth Index Fund vs. USAA Nasdaq-100 Index Fund'], ['AMZN', 'Sep-08-20', '10:42AM\\xa0\\xa0', 'Tech sell-off drives markets lower for a third straight day'], ['AMZN', 'Sep-08-20', '10:20AM\\xa0\\xa0', \"Disney+ Downloads Surge 68% After 'Mulan' Release\"], ['AMZN', 'Sep-08-20', '10:06AM\\xa0\\xa0', 'US STOCKS-Slump in Tesla, Apple hits Wall St as tech rout deepens'], ['AMZN', 'Sep-08-20', '09:13AM\\xa0\\xa0', '3 Top Tech Stocks to Buy Right Now'], ['AMZN', 'Sep-08-20', '09:03AM\\xa0\\xa0', 'Netflix co-founder on creative culture: We manage on the edge of chaos'], ['AMZN', 'Sep-08-20', '09:01AM\\xa0\\xa0', 'US STOCKS-Nasdaq set to plunge at open as tech stocks get hammered'], ['AMZN', 'Sep-08-20', '09:00AM\\xa0\\xa0', 'How Netflix found success in breaking all the rules'], ['AMZN', 'Sep-08-20', '08:33AM\\xa0\\xa0', 'Inverse Tech ETFs Jump as Traders Book Profits'], ['AMZN', 'Sep-08-20', '08:00AM\\xa0\\xa0', 'US STOCKS-Nasdaq futures tumble 2% as tech stocks get hammered'], ['AMZN', 'Sep-08-20', '07:51AM\\xa0\\xa0', 'These Stocks Will Benefit From Covid-Related Trends'], ['AMZN', 'Sep-08-20', '07:18AM\\xa0\\xa0', 'Stock market news live updates: Stock futures point toward a third straight day of losses'], ['FB', 'Sep-10-20', '07:00AM\\xa0\\xa0', 'Forget TikTok: Twitter Is the Social Media Company to Watch Right Now'], ['FB', 'Sep-10-20', '06:37AM\\xa0\\xa0', 'Ambanis Reliance to Offer $20 Billion Stake in Retail Arm to Amazon'], ['FB', 'Sep-10-20', '05:51AM\\xa0\\xa0', '3 Stocks for Robinhood Investors to Buy During a Stock Market Crash'], ['FB', 'Sep-10-20', '05:05AM\\xa0\\xa0', 'ByteDance Is Poised to Miss U.S. Deadline for TikTok Sale'], ['FB', 'Sep-09-20', '05:20PM\\xa0\\xa0', 'Facebook told it may have to suspend EU data transfers after Schrems II ruling'], ['FB', 'Sep-09-20', '04:40PM\\xa0\\xa0', 'Theres good value to be had: CFRA on tech ETFs'], ['FB', 'Sep-09-20', '04:25PM\\xa0\\xa0', 'Alphabet Inc. Cl A stock rises Wednesday, still underperforms market'], ['FB', 'Sep-09-20', '02:15PM\\xa0\\xa0', 'Billionaire David Tepper Honed In On These 6 Stocks'], ['FB', 'Sep-09-20', '01:41PM\\xa0\\xa0', \"Facebook's EU-US data transfer mechanism 'cannot be used', Irish regulator says\"], ['FB', 'Sep-09-20', '01:20PM\\xa0\\xa0', 'Why Instagram Reels is light years away from TikTok'], ['FB', 'Sep-09-20', '01:12PM\\xa0\\xa0', 'GOOG or GOOGL: Which Stock Do You Buy? (GOOG, GOOGL)'], ['FB', 'Sep-09-20', '12:41PM\\xa0\\xa0', \"Mark Zuckerberg: It's 'just wrong' to call Facebook a right-wing echo chamber\"], ['FB', 'Sep-09-20', '09:20AM\\xa0\\xa0', \"Netflix co-CEO says many tech giants are 'data-exploiting'\"], ['FB', 'Sep-09-20', '07:29AM\\xa0\\xa0', 'Indias Reliance Scores $1.02B Retail Investment From Silver Lake'], ['FB', 'Sep-09-20', '06:00AM\\xa0\\xa0', 'Netflix co-founder Reed Hastings: Thank God Blockbuster didnt want to buy us'], ['FB', 'Sep-09-20', '06:00AM\\xa0\\xa0', 'Lightmatter Startup Tries to Speed Up Computing Using Light'], ['FB', 'Sep-08-20', '10:00PM\\xa0\\xa0', 'U.S.-China Showdown Over Big Data to Leave Decades-Long Impact'], ['FB', 'Sep-08-20', '08:03PM\\xa0\\xa0', 'WeChat and TikTok Taking China Censorship Global, Study Says'], ['FB', 'Sep-08-20', '04:54PM\\xa0\\xa0', 'Dow closes down 632 points, as tech rout leaves Nasdaq in correction territory'], ['FB', 'Sep-08-20', '04:53PM\\xa0\\xa0', '2 reasons fears of a dot-com style tech bubble are overblown'], ['FB', 'Sep-08-20', '04:25PM\\xa0\\xa0', 'Alphabet Inc. Cl A stock outperforms competitors despite losses on the day'], ['FB', 'Sep-08-20', '12:55PM\\xa0\\xa0', 'Facebooks Next Big Business Wont Be Social Networking'], ['FB', 'Sep-08-20', '11:34AM\\xa0\\xa0', 'Tech sell-off continues in an orderly fashion, no panic, no fear, thats behind us: NYSE trader'], ['FB', 'Sep-08-20', '10:42AM\\xa0\\xa0', 'Tech sell-off drives markets lower for a third straight day'], ['FB', 'Sep-08-20', '10:33AM\\xa0\\xa0', 'Facebook (FB) Adopts a Stricter Stance Toward Post Labelling'], ['FB', 'Sep-08-20', '09:43AM\\xa0\\xa0', 'Return On Capital Employed Overview: Facebook'], ['FB', 'Sep-08-20', '08:38AM\\xa0\\xa0', 'Giant Trader Footprints Leave Trail to Tech Options Plays'], ['FB', 'Sep-08-20', '07:18AM\\xa0\\xa0', 'Stock market news live updates: Stock futures point toward a third straight day of losses'], ['FB', 'Sep-08-20', '06:58AM\\xa0\\xa0', \"The stock market's 'summer of love' gave way to sellingbut it's not the end of the affair\"], ['FB', 'Sep-08-20', '04:42AM\\xa0\\xa0', 'Google Abandons Plan to Rent Dublin Office for 2,000 Workers'], ['FB', 'Sep-08-20', '03:36AM\\xa0\\xa0', 'Silver Lake Backs Edtech Startup Byjus at $11 Billion Value'], ['FB', 'Sep-07-20', '04:25PM\\xa0\\xa0', 'Alphabet Inc. Cl A stock falls Monday, underperforms market'], ['FB', 'Sep-07-20', '11:05AM\\xa0\\xa0', 'Nasdaq Whale Theory for Tech Stock Surge Is Stirring Doubts'], ['FB', 'Sep-07-20', '10:24AM\\xa0\\xa0', 'Goldmans Oppenheimer Says Tech Can Continue Driving Bull Market'], ['FB', 'Sep-06-20', '04:00PM\\xa0\\xa0', 'The Big Question:\\xa0Can Silicon Valley Boost Black Americans?'], ['FB', 'Sep-06-20', '09:07AM\\xa0\\xa0', \"'You have to be very flexible:' US tech startups accelerate hiring abroad in push to distribute workforce\"], ['FB', 'Sep-05-20', '10:18PM\\xa0\\xa0', 'These Are The 5 Best Stocks To Buy And Watch Now'], ['FB', 'Sep-05-20', '06:31PM\\xa0\\xa0', 'Netflixs Reed Hastings Conquered Hollywood With a PowerPoint Presentation'], ['FB', 'Sep-05-20', '07:46AM\\xa0\\xa0', \"Why the stock market and the economy actually aren't disconnected\"], ['FB', 'Sep-05-20', '06:00AM\\xa0\\xa0', '10 Most Hated Companies in America in 2020'], ['FB', 'Sep-04-20', '09:04PM\\xa0\\xa0', 'Facebook boots Patriot Prayer, a far-right group with a history of violence'], ['FB', 'Sep-04-20', '06:42PM\\xa0\\xa0', 'Why Amazon, Facebook, and Salesforce Stocks Fell Today'], ['FB', 'Sep-04-20', '06:05PM\\xa0\\xa0', 'U.S. Sees Russia Spreading Disinformation About Mail-In Voting'], ['FB', 'Sep-04-20', '04:25PM\\xa0\\xa0', 'Alphabet Inc. Cl A stock underperforms Friday when compared to competitors'], ['FB', 'Sep-04-20', '03:37PM\\xa0\\xa0', \"Tech pullback 'is more than healthy': Expert\"], ['FB', 'Sep-04-20', '02:34PM\\xa0\\xa0', 'How Unusual Trading Fueled the Stock Markets Incredible Rallyand Fall'], ['FB', 'Sep-04-20', '01:05PM\\xa0\\xa0', 'Facebook Campus Hotel a Bet on Comeback for Business Travel'], ['FB', 'Sep-04-20', '12:42PM\\xa0\\xa0', \"Facebook's CEO warns of civil discourse and post-election violence\"], ['FB', 'Sep-04-20', '10:29AM\\xa0\\xa0', 'How to Profit From Red-Hot Adobe Stock Before Earnings'], ['FB', 'Sep-04-20', '09:38AM\\xa0\\xa0', 'Family-Held Companies Produce Superior Returnsand Have This Year, Credit Suisse Says'], ['FB', 'Sep-04-20', '09:20AM\\xa0\\xa0', 'Apple Is Cutting Mobile Advertisers Some Slack'], ['FB', 'Sep-04-20', '06:00AM\\xa0\\xa0', 'Twitters Un-Famous Users Can Make Money From Viral Tweets'], ['FB', 'Sep-04-20', '01:33AM\\xa0\\xa0', 'Apple Delays Rolling Out Privacy Feature After Facebook Fumed Over Impact On Ads Revenue'], ['FB', 'Sep-04-20', '01:33AM\\xa0\\xa0', 'Facebook election plan patches some holes, creates others'], ['FB', 'Sep-04-20', '12:34AM\\xa0\\xa0', 'Chinese Magic Leap Rival Raises $40 Million\\xa0From Kuaishou, Sequoia'], ['FB', 'Sep-03-20', '08:12PM\\xa0\\xa0', 'Bitcoin Stock Play Stutters Along With Cryptocurrency, But Is Grayscale Bitcoin Trust A Buy?'], ['FB', 'Sep-03-20', '06:26PM\\xa0\\xa0', 'Justice Department Could Launch Antitrust Suit Against Google as Early as This Month, Reports Say'], ['FB', 'Sep-03-20', '06:10PM\\xa0\\xa0', 'Daily Crunch: Apple delays ad-tracking changes'], ['FB', 'Sep-03-20', '06:03PM\\xa0\\xa0', 'Apple Lost $180 Billion In Market Value Today. Its the Biggest Loss For Any Company Ever.'], ['FB', 'Sep-03-20', '06:00PM\\xa0\\xa0', 'Apple App Store Draws New Scrutiny in Japan, Epicenter of Gaming'], ['FB', 'Sep-03-20', '05:32PM\\xa0\\xa0', 'Facebook, Twitter Flag Trump for Misleading Posts on Voting'], ['FB', 'Sep-03-20', '05:00PM\\xa0\\xa0', 'WhatsApp reveals six previously undisclosed vulnerabilities on new security site'], ['FB', 'Sep-03-20', '05:00PM\\xa0\\xa0', \"Dow Jones Futures: Stock Market Rally Sells Off Hard As Apple, Microsoft, Tesla, Nvidia Plunge; What You Shouldn't Do Now\"], ['FB', 'Sep-03-20', '05:00PM\\xa0\\xa0', 'Facebook to warn third-party developers of vulnerable code'], ['FB', 'Sep-03-20', '04:31PM\\xa0\\xa0', 'Tech stocks slammed after record run'], ['FB', 'Sep-03-20', '04:30PM\\xa0\\xa0', \"Pinterest Won't Show Ads Next To Election-Related Content\"], ['FB', 'Sep-03-20', '04:25PM\\xa0\\xa0', 'Alphabet Inc. Cl A stock falls Thursday, underperforms market'], ['FB', 'Sep-03-20', '04:17PM\\xa0\\xa0', 'Is Facebooks political ad stance too little, too late?'], ['FB', 'Sep-03-20', '04:12PM\\xa0\\xa0', 'Facebooks Campaign-Ad Restrictions Wont Hurt Its Revenue'], ['FB', 'Sep-03-20', '03:43PM\\xa0\\xa0', 'Apple Delays iPhone Change That Could Cut Digital Ad Revenue'], ['FB', 'Sep-03-20', '03:40PM\\xa0\\xa0', 'Twitter and Facebook wrestle with Trump telling Americans to vote twice'], ['FB', 'Sep-03-20', '03:27PM\\xa0\\xa0', 'Facebook Will Suspend Political Ads, Eventually'], ['FB', 'Sep-03-20', '03:25PM\\xa0\\xa0', '1.25 Billion People Are Now Viewing Facebook Watch Each Month'], ['FB', 'Sep-03-20', '03:15PM\\xa0\\xa0', 'Why Facebook, Amazon, and MercadoLibre Stocks Are Melting Down Thursday'], ['FB', 'Sep-03-20', '02:33PM\\xa0\\xa0', 'Apple Delays iPhone Ad Tracking Changes That Rattled Industry'], ['FB', 'Sep-03-20', '02:23PM\\xa0\\xa0', 'Facebook to ban new political ads week before election'], ['FB', 'Sep-03-20', '02:17PM\\xa0\\xa0', 'Facebook to Block New Political Ads Week Before Election Day'], ['FB', 'Sep-03-20', '02:08PM\\xa0\\xa0', 'Coronavirus: Will you ever return to the office for work?'], ['FB', 'Sep-03-20', '01:58PM\\xa0\\xa0', 'Tech Stocks Are Falling Because of Earnings Worries at Cloud-Service Companies'], ['FB', 'Sep-03-20', '01:09PM\\xa0\\xa0', 'Facebook to restrict Trump suggestion to vote twice: RPT'], ['FB', 'Sep-03-20', '12:46PM\\xa0\\xa0', 'Dow down more than 600 points, Nasdaq slumps nearly 5% as tech shares sell off'], ['FB', 'Sep-03-20', '12:19PM\\xa0\\xa0', 'Trading cards, especially sports, see a spike during the coronavirus pandemic'], ['FB', 'Sep-03-20', '11:59AM\\xa0\\xa0', \"What Silicon Valley still doesn't understand about its diversity problem\"], ['FB', 'Sep-03-20', '11:47AM\\xa0\\xa0', 'Stocks on the move: Bank of America raises its Tesla price target, Facebook delays political ads'], ['FB', 'Sep-03-20', '10:50AM\\xa0\\xa0', 'Facebook Ramps Up November Election Safeguards'], ['FB', 'Sep-03-20', '09:50AM\\xa0\\xa0', 'Facebook Watch Tops 1.25 Billion Monthly Viewers, Continuing to Ramp Up Challenge to YouTube'], ['FB', 'Sep-03-20', '09:48AM\\xa0\\xa0', 'Twitter (TWTR) at Cusp of Major Breakout'], ['FB', 'Sep-03-20', '09:23AM\\xa0\\xa0', 'Facebook Bans New Political Ads During the Week Before the Presidential Election'], ['FB', 'Sep-03-20', '09:17AM\\xa0\\xa0', 'Facebook to limit political ads week before election'], ['FB', 'Sep-03-20', '09:15AM\\xa0\\xa0', 'Facebook Watch is getting 1.25B visitors each month'], ['FB', 'Sep-03-20', '09:08AM\\xa0\\xa0', 'Stocks Losses Shrink After Jobs News'], ['FB', 'Sep-03-20', '08:47AM\\xa0\\xa0', \"Why Facebook's Stock Climbed 15.6% in August\"], ['FB', 'Sep-03-20', '08:14AM\\xa0\\xa0', 'Facebook to block new political ads 1 week before Nov 3, adds more tools and rules for fair elections'], ['FB', 'Sep-03-20', '08:03AM\\xa0\\xa0', 'The Tech-Stock Rally Is Taking a Breather'], ['FB', 'Sep-03-20', '08:00AM\\xa0\\xa0', 'Why an Outperforming $3.6B ESG Fund Likes Amazon, Starbucks, and Danaher Stock'], ['FB', 'Sep-03-20', '07:56AM\\xa0\\xa0', 'Facebook to ban new political ads in week leading up to the election'], ['FB', 'Sep-03-20', '07:50AM\\xa0\\xa0', \"PREMIUM: Trading volatile markets during prime time 'crash season'  webinar with Joe Fahmy\"], ['FB', 'Sep-03-20', '07:39AM\\xa0\\xa0', 'Facebook Will Ban New Political Ads in Week Prior to U.S. Elections, but Wont Fact-Check Existing Ones'], ['FB', 'Sep-03-20', '07:19AM\\xa0\\xa0', 'Better Buy: Netflix vs. Facebook'], ['FB', 'Sep-03-20', '07:03AM\\xa0\\xa0', 'Facebook to halt new political ads in week before U.S. Election Day'], ['GOOG', 'Sep-10-20', '06:37AM\\xa0\\xa0', 'Ambanis Reliance to Offer $20 Billion Stake in Retail Arm to Amazon'], ['GOOG', 'Sep-10-20', '06:22AM\\xa0\\xa0', 'Huawei Revs Up Android Substitute as U.S. Curbs Hit Phone Sales'], ['GOOG', 'Sep-10-20', '06:00AM\\xa0\\xa0', \"Netflix's Reed Hastings credits co-CEO with landing Prince Harry/Meghan Markle deal\"], ['GOOG', 'Sep-10-20', '05:28AM\\xa0\\xa0', 'This Company Is Winning in the Fast-Growing Fertility Benefits Industry'], ['GOOG', 'Sep-10-20', '05:05AM\\xa0\\xa0', 'ByteDance Is Poised to Miss U.S. Deadline for TikTok Sale'], ['GOOG', 'Sep-10-20', '03:50AM\\xa0\\xa0', \"China's Huawei to launch HarmonyOS, its rival to Google Android, on smartphones next year\"], ['GOOG', 'Sep-10-20', '03:36AM\\xa0\\xa0', \"China's Huawei to launch Harmony OS, its rival to Google Android, on smartphones next year\"], ['GOOG', 'Sep-10-20', '12:07AM\\xa0\\xa0', 'Facebook, Google, Twitter urged by EU to do more against fake news'], ['GOOG', 'Sep-09-20', '08:08PM\\xa0\\xa0', \"Radiate HoldCo, LLC -- Moody's affirms Radiate's B2 CFR on $3.4 billion dividend recapitalization; outlook stable\"], ['GOOG', 'Sep-09-20', '06:48PM\\xa0\\xa0', \"Travis Scott Debuts Cactus Jack Merchandise in Team-Up With McDonald's\"], ['GOOG', 'Sep-09-20', '05:01PM\\xa0\\xa0', 'Three years later, Google Maps is back on the Apple Watch'], ['GOOG', 'Sep-09-20', '04:40PM\\xa0\\xa0', 'Theres good value to be had: CFRA on tech ETFs'], ['GOOG', 'Sep-09-20', '04:25PM\\xa0\\xa0', 'Apple Inc. stock outperforms market on strong trading day'], ['GOOG', 'Sep-09-20', '04:25PM\\xa0\\xa0', 'Amazon.com Inc. stock rises Wednesday, outperforms market'], ['GOOG', 'Sep-09-20', '04:25PM\\xa0\\xa0', 'Alphabet Inc. Cl A stock rises Wednesday, still underperforms market'], ['GOOG', 'Sep-09-20', '04:21PM\\xa0\\xa0', 'Walmart testing drone delivery'], ['GOOG', 'Sep-09-20', '04:05PM\\xa0\\xa0', 'Stock market news live updates: Tech shares rebound after three days of selling; vaccine trial put on hold'], ['GOOG', 'Sep-09-20', '02:15PM\\xa0\\xa0', 'Billionaire David Tepper Honed In On These 6 Stocks'], ['GOOG', 'Sep-09-20', '01:50PM\\xa0\\xa0', '10 Most Profitable Companies in the World'], ['GOOG', 'Sep-09-20', '01:12PM\\xa0\\xa0', 'GOOG or GOOGL: Which Stock Do You Buy? (GOOG, GOOGL)'], ['GOOG', 'Sep-09-20', '12:06PM\\xa0\\xa0', 'Nasdaq Notches Best Day Since April as Bears Flee on Tech Rebound'], ['GOOG', 'Sep-09-20', '09:20AM\\xa0\\xa0', \"Netflix co-CEO says many tech giants are 'data-exploiting'\"], ['GOOG', 'Sep-09-20', '09:12AM\\xa0\\xa0', 'Dow Racks Up Gains as Tech Bulls Fight Back'], ['GOOG', 'Sep-09-20', '09:07AM\\xa0\\xa0', '3 Stocks Poised for Huge Growth Over the Next Decade'], ['GOOG', 'Sep-09-20', '08:44AM\\xa0\\xa0', 'Carpooling is poised to make a comeback this fall'], ['GOOG', 'Sep-09-20', '06:30AM\\xa0\\xa0', 'Why a $7B Fund Is Holding On to Disney and Alphabet Stock'], ['GOOG', 'Sep-09-20', '06:01AM\\xa0\\xa0', 'How strategists are making sense of the market selloff: Morning Brief'], ['GOOG', 'Sep-09-20', '06:00AM\\xa0\\xa0', 'Netflix co-founder Reed Hastings: Thank God Blockbuster didnt want to buy us'], ['GOOG', 'Sep-09-20', '06:00AM\\xa0\\xa0', 'Lightmatter Startup Tries to Speed Up Computing Using Light'], ['GOOG', 'Sep-09-20', '05:37AM\\xa0\\xa0', \"China's Huawei to share progress of Google Android OS rival amid U.S. tensions\"], ['GOOG', 'Sep-09-20', '12:20AM\\xa0\\xa0', \"Apple's Epic Rebuttal: Fortnite Maker A Billion-Dollar Corporation, Not Modern Day Robinhood\"], ['GOOG', 'Sep-08-20', '11:37PM\\xa0\\xa0', 'Google-Supported Telehealth Company Amwell Prices IPO'], ['GOOG', 'Sep-08-20', '10:59PM\\xa0\\xa0', 'Apple Countersues \"Fortnite\" Creator Epic Games'], ['GOOG', 'Sep-08-20', '10:07PM\\xa0\\xa0', 'SoftBank Selloff Hits $17 Billion After Tech Exposure Fear Grows'], ['GOOG', 'Sep-08-20', '10:00PM\\xa0\\xa0', 'U.S.-China Showdown Over Big Data to Leave Decades-Long Impact'], ['GOOG', 'Sep-08-20', '04:54PM\\xa0\\xa0', 'Dow closes down 632 points, as tech rout leaves Nasdaq in correction territory'], ['GOOG', 'Sep-08-20', '04:44PM\\xa0\\xa0', 'Apple Hits Back at Epic Over Unlawful Fortnite End Run'], ['GOOG', 'Sep-08-20', '04:25PM\\xa0\\xa0', 'Apple Inc. stock underperforms Tuesday when compared to competitors'], ['GOOG', 'Sep-08-20', '04:25PM\\xa0\\xa0', 'Amazon.com Inc. stock falls Tuesday, underperforms market'], ['GOOG', 'Sep-08-20', '04:25PM\\xa0\\xa0', 'Alphabet Inc. Cl A stock outperforms competitors despite losses on the day'], ['GOOG', 'Sep-08-20', '04:20PM\\xa0\\xa0', 'Slack misses expectations on quarterly billings, stock plummets more than 15%'], ['GOOG', 'Sep-08-20', '01:42PM\\xa0\\xa0', 'Disney Gains After Mulan Fuels Optimism About Streaming Growth'], ['GOOG', 'Sep-08-20', '01:30PM\\xa0\\xa0', 'Investors Are Better When They Are Pessimists'], ['GOOG', 'Sep-08-20', '01:00PM\\xa0\\xa0', 'Android 11 has arrived'], ['GOOG', 'Sep-08-20', '12:55PM\\xa0\\xa0', 'Facebooks Next Big Business Wont Be Social Networking'], ['GOOG', 'Sep-08-20', '11:34AM\\xa0\\xa0', 'Tech sell-off continues in an orderly fashion, no panic, no fear, thats behind us: NYSE trader'], ['GOOG', 'Sep-08-20', '10:52AM\\xa0\\xa0', \"Google's new 'Verified Calls' feature will tell you why a business is calling you\"], ['GOOG', 'Sep-08-20', '10:42AM\\xa0\\xa0', 'Tech sell-off drives markets lower for a third straight day'], ['GOOG', 'Sep-08-20', '10:36AM\\xa0\\xa0', 'Indonesia adds Twitter, Zoom to tech companies that must pay 10% VAT'], ['GOOG', 'Sep-08-20', '10:20AM\\xa0\\xa0', \"Disney+ Downloads Surge 68% After 'Mulan' Release\"], ['GOOG', 'Sep-08-20', '09:00AM\\xa0\\xa0', 'How Netflix found success in breaking all the rules'], ['GOOG', 'Sep-08-20', '08:38AM\\xa0\\xa0', 'Giant Trader Footprints Leave Trail to Tech Options Plays'], ['GOOG', 'Sep-08-20', '08:30AM\\xa0\\xa0', 'Google Scraps Plan To Rent Large Office Space In Dublin  Report'], ['GOOG', 'Sep-08-20', '08:30AM\\xa0\\xa0', 'Lessons From New York Citys School-Reopening Fiasco'], ['GOOG', 'Sep-08-20', '07:00AM\\xa0\\xa0', 'The Tesla Hype Machine Is Looking\\xa0Shaky'], ['GOOG', 'Sep-08-20', '07:00AM\\xa0\\xa0', \"Peloton bike gets some big changes  here's how much it will cost and why investors should care\"], ['GOOG', 'Sep-08-20', '06:58AM\\xa0\\xa0', \"The stock market's 'summer of love' gave way to sellingbut it's not the end of the affair\"], ['GOOG', 'Sep-08-20', '06:15AM\\xa0\\xa0', 'Scared of COVID-19 this Halloween? Hershey is making an ad for that'], ['GOOG', 'Sep-08-20', '04:42AM\\xa0\\xa0', 'Google Abandons Plan to Rent Dublin Office for 2,000 Workers'], ['GOOG', 'Sep-08-20', '01:02AM\\xa0\\xa0', 'Giant Trader Footprints Leave Trail to Tech Options Strategies'], ['GOOG', 'Sep-08-20', '12:29AM\\xa0\\xa0', 'Apple, Google, Dropbox Face Italy Antitrust Probes Over Cloud Computing Services'], ['GOOG', 'Sep-07-20', '11:10PM\\xa0\\xa0', 'Australian watchdog to examine competition between Apple, Google app stores'], ['GOOG', 'Sep-07-20', '10:24PM\\xa0\\xa0', 'Australian watchdog to examine competition between Apple and Google app stores'], ['GOOG', 'Sep-07-20', '04:25PM\\xa0\\xa0', 'Apple Inc. stock outperforms market on strong trading day'], ['GOOG', 'Sep-07-20', '04:25PM\\xa0\\xa0', 'Amazon.com Inc. stock falls Monday, underperforms market'], ['GOOG', 'Sep-07-20', '04:25PM\\xa0\\xa0', 'Alphabet Inc. Cl A stock falls Monday, underperforms market'], ['GOOG', 'Sep-07-20', '03:49PM\\xa0\\xa0', 'How Google (Alphabet) Makes Money'], ['GOOG', 'Sep-07-20', '11:05AM\\xa0\\xa0', 'Nasdaq Whale Theory for Tech Stock Surge Is Stirring Doubts'], ['GOOG', 'Sep-07-20', '10:24AM\\xa0\\xa0', 'Goldmans Oppenheimer Says Tech Can Continue Driving Bull Market'], ['GOOG', 'Sep-07-20', '07:57AM\\xa0\\xa0', \"Apple iCloud, Google Drive and Dropbox probed over 'unfair' T&Cs in Italy\"], ['GOOG', 'Sep-07-20', '07:17AM\\xa0\\xa0', 'Why Twitter Shares Gained 11.5% in August'], ['GOOG', 'Sep-07-20', '06:00AM\\xa0\\xa0', 'Why Alarm.com Holdings Stock Fell 14.5% in August'], ['GOOG', 'Sep-06-20', '04:00PM\\xa0\\xa0', 'The Big Question:\\xa0Can Silicon Valley Boost Black Americans?'], ['GOOG', 'Sep-06-20', '09:07AM\\xa0\\xa0', \"'You have to be very flexible:' US tech startups accelerate hiring abroad in push to distribute workforce\"], ['GOOG', 'Sep-05-20', '06:31PM\\xa0\\xa0', 'Netflixs Reed Hastings Conquered Hollywood With a PowerPoint Presentation'], ['GOOG', 'Sep-05-20', '02:18PM\\xa0\\xa0', '3 Reasons Peloton Stock Should Keep Spinning Up for Investors'], ['GOOG', 'Sep-05-20', '11:33AM\\xa0\\xa0', 'Epic Tries New Gambit to Restore Fortnite in Apple App Store'], ['GOOG', 'Sep-05-20', '08:12AM\\xa0\\xa0', 'Ignore FAANG Stocks, Buy These Small Cap Tech Stocks Instead'], ['GOOG', 'Sep-05-20', '07:46AM\\xa0\\xa0', \"Why the stock market and the economy actually aren't disconnected\"], ['GOOG', 'Sep-04-20', '06:39PM\\xa0\\xa0', 'S&P 500 Falls as Amazon Stock Leads Megacap Market Crash'], ['GOOG', 'Sep-04-20', '04:25PM\\xa0\\xa0', 'Apple Inc. stock rises Friday, outperforms market'], ['GOOG', 'Sep-04-20', '04:25PM\\xa0\\xa0', 'Amazon.com Inc. stock falls Friday, underperforms market'], ['GOOG', 'Sep-04-20', '04:25PM\\xa0\\xa0', 'Alphabet Inc. Cl A stock underperforms Friday when compared to competitors'], ['GOOG', 'Sep-04-20', '03:50PM\\xa0\\xa0', 'SoftBank Apparently Is Warping Tech Options Trading. Why You Shouldnt Be Surprised.'], ['GOOG', 'Sep-04-20', '03:37PM\\xa0\\xa0', \"Tech pullback 'is more than healthy': Expert\"], ['GOOG', 'Sep-04-20', '02:25PM\\xa0\\xa0', 'Apple Music Growing 2.5 Times Faster Than Spotify, Analyst Claims'], ['GOOG', 'Sep-04-20', '01:14PM\\xa0\\xa0', \"DocuSign CEO: Why I'm not losing sleep over our volatile stock price\"], ['GOOG', 'Sep-04-20', '12:46PM\\xa0\\xa0', \"Your internet bill might be too high  here's how to save money\"], ['GOOG', 'Sep-04-20', '12:40PM\\xa0\\xa0', 'Why Alphabet Stock Just Dropped 5% -- Again!'], ['GOOG', 'Sep-04-20', '12:34PM\\xa0\\xa0', \"U.S. justice department's Google lawsuit expected in weeks: report\"], ['GOOG', 'Sep-04-20', '12:05PM\\xa0\\xa0', 'Stocks on the move: Google falls on reported lawsuit, Grubhub buyout expected to be completed in 2021'], ['GOOG', 'Sep-04-20', '11:08AM\\xa0\\xa0', 'DOJ to file Google antitrust lawsuit this month: RPT'], ['GOOG', 'Sep-04-20', '10:50AM\\xa0\\xa0', 'Where Will Zoom Video Communications Be in 1 Year?'], ['GOOG', 'Sep-04-20', '09:38AM\\xa0\\xa0', 'Family-Held Companies Produce Superior Returnsand Have This Year, Credit Suisse Says'], ['GOOG', 'Sep-04-20', '07:48AM\\xa0\\xa0', 'Dow Futures, Jobs, DocuSign, Google - 5 Things You Must Know Friday'], ['GOOG', 'Sep-04-20', '06:28AM\\xa0\\xa0', \"Google pushes Europe to limit 'gatekeeper' platform rules\"], ['GOOG', 'Sep-04-20', '05:28AM\\xa0\\xa0', 'Yandex spins out self-driving car unit from its Uber JV, invests $150M into new co'], ['GOOG', 'Sep-04-20', '05:26AM\\xa0\\xa0', 'SoftBank Is Said to Consider\\xa0Bid for TikTok in India'], ['GOOG', 'Sep-04-20', '12:34AM\\xa0\\xa0', 'Chinese Magic Leap Rival Raises $40 Million\\xa0From Kuaishou, Sequoia'], ['GOOG', 'Sep-03-20', '10:47PM\\xa0\\xa0', 'Justice Dept To Unveil Antitrust Charges Against Google Later This Month: NYT'], ['TSLA', 'Sep-10-20', '08:11AM\\xa0\\xa0', 'Dow Jones Futures Fall 125 Points After Big Stock Market Rally; Apple, Amazon, Tesla Extend Rebounds, While RH Surges 17%'], ['TSLA', 'Sep-10-20', '07:57AM\\xa0\\xa0', 'Dow Jones Futures: Stock Market Rally Rebounds, 3 Giants Reclaim Buy Points, But Remain Cautious; RH Skyrockets'], ['TSLA', 'Sep-10-20', '07:30AM\\xa0\\xa0', 'How Do You Build an Investment in a Stock Like Boeing or Tesla?'], ['TSLA', 'Sep-10-20', '07:25AM\\xa0\\xa0', 'GLOBAL MARKETS-Stocks struggle after tech reboot, euro in ECB crosshairs'], ['TSLA', 'Sep-10-20', '07:21AM\\xa0\\xa0', 'Stock market news live updates: Stock futures fall, setting up another session of selling'], ['TSLA', 'Sep-10-20', '07:03AM\\xa0\\xa0', 'Apple and Tesla Stocks Have Crushed the Market This Year. Are They Still Buys?'], ['TSLA', 'Sep-10-20', '06:56AM\\xa0\\xa0', 'Why the Tesla-Like Surge in China EV Stocks May Be Over for Good'], ['TSLA', 'Sep-10-20', '06:30AM\\xa0\\xa0', 'The Tech Rout Makes It a Good Time to Trade Amazon Options'], ['TSLA', 'Sep-09-20', '11:44PM\\xa0\\xa0', 'Look Out, Tesla, Another EV Is Comingand This One Is Gunning for You'], ['TSLA', 'Sep-09-20', '10:47PM\\xa0\\xa0', \"Lucid Unveils Electric Sedan With Better Range Than Tesla, But Price Tag Won't Impress Many\"], ['TSLA', 'Sep-09-20', '10:45PM\\xa0\\xa0', 'GLOBAL MARKETS-Asian stock markets gain following tech bounce, euro waits for ECB'], ['TSLA', 'Sep-09-20', '07:52PM\\xa0\\xa0', 'GLOBAL MARKETS-Asian markets seen firmer after Wall Street turns positive'], ['TSLA', 'Sep-09-20', '07:00PM\\xa0\\xa0', 'Lucid Motors reveals its long-awaited Air electric sedan'], ['TSLA', 'Sep-09-20', '07:00PM\\xa0\\xa0', 'Unveiled: Lucid Air, the $150,000 electric car challenging Tesla'], ['TSLA', 'Sep-09-20', '06:16PM\\xa0\\xa0', 'How Large Tesla Option Traders Are Playing The September Sell-Off'], ['TSLA', 'Sep-09-20', '04:47PM\\xa0\\xa0', 'Heres What History Says Might Happen After the Worst 1-Day Drop for Tesla Stock'], ['TSLA', 'Sep-09-20', '04:39PM\\xa0\\xa0', 'Day Traders Unbowed by $2 Trillion Rout Reup Bullish Stock Bets'], ['TSLA', 'Sep-09-20', '04:25PM\\xa0\\xa0', 'US STOCKS-Wall Street ends higher on tech rally to snap three-day skid'], ['TSLA', 'Sep-09-20', '04:25PM\\xa0\\xa0', 'Tesla Inc. stock rises Wednesday, outperforms market'], ['TSLA', 'Sep-09-20', '04:05PM\\xa0\\xa0', 'Stock market news live updates: Tech shares rebound after three days of selling; vaccine trial put on hold'], ['TSLA', 'Sep-09-20', '04:00PM\\xa0\\xa0', 'US STOCKS-Wall Street ends higher to snap three-day skid as tech rallies'], ['TSLA', 'Sep-09-20', '03:35PM\\xa0\\xa0', 'Maserati rolls out new super sports car to drive turnaround ahead of FCA-PSA merger'], ['TSLA', 'Sep-09-20', '02:53PM\\xa0\\xa0', 'US STOCKS-Wall Street bounces as tech rebounds'], ['TSLA', 'Sep-09-20', '02:47PM\\xa0\\xa0', 'Stocks soar as tech sector recovers from steep losses'], ['TSLA', 'Sep-09-20', '02:33PM\\xa0\\xa0', \"It's 'probably not' the end of tech sector rebound: Expert\"], ['TSLA', 'Sep-09-20', '02:00PM\\xa0\\xa0', 'Dow Jones Rises 660 Points; Tech Stocks Rebound'], ['TSLA', 'Sep-09-20', '02:00PM\\xa0\\xa0', \"Why Tesla Wasn't Included In The S&P 500\"], ['TSLA', 'Sep-09-20', '01:50PM\\xa0\\xa0', 'US STOCKS-Wall Street bounces as tech rout halts'], ['TSLA', 'Sep-09-20', '01:35PM\\xa0\\xa0', 'Investors Front-Running Tesla Index Inclusion Had the Right Idea'], ['TSLA', 'Sep-09-20', '01:30PM\\xa0\\xa0', 'Dow Jones Sinks Over 300 Points; Tech Shares Lead Market Lower'], ['TSLA', 'Sep-09-20', '01:27PM\\xa0\\xa0', '43% of retail investors are trading with leverage: survey'], ['TSLA', 'Sep-09-20', '01:07PM\\xa0\\xa0', \"GM's electric vehicle business isn't worth as much as Tesla, but it's still worth a lot: analyst\"], ['TSLA', 'Sep-09-20', '12:46PM\\xa0\\xa0', 'NASDAQ tumbles, Brent crude dip below $40'], ['TSLA', 'Sep-09-20', '12:15PM\\xa0\\xa0', 'Dow Jones Runs Up 500 Points As Apple, Microsoft Soar; Nasdaq Finds Key Support'], ['TSLA', 'Sep-09-20', '12:03PM\\xa0\\xa0', 'Tesla shares bounce after record plunge'], ['TSLA', 'Sep-09-20', '12:00PM\\xa0\\xa0', 'Just a healthy correction? No  Tesla could be heading toward a death spiral, strategist warns'], ['TSLA', 'Sep-09-20', '11:58AM\\xa0\\xa0', 'Stocks on the move: Tesla rebounds following tech selloff, Navistar International falls on earnings miss'], ['TSLA', 'Sep-09-20', '11:52AM\\xa0\\xa0', 'US STOCKS-Nasdaq rebounds as tech stocks stabilize after rout'], ['TSLA', 'Sep-09-20', '11:18AM\\xa0\\xa0', 'Electric Vehicle Makers Strike Gold as Tesla Falters'], ['TSLA', 'Sep-09-20', '10:59AM\\xa0\\xa0', 'Why Tesla Stock Rose Sharply on Wednesday'], ['TSLA', 'Sep-09-20', '10:23AM\\xa0\\xa0', 'US STOCKS-Nasdaq rebounds as tech stocks stabilize after rout'], ['TSLA', 'Sep-09-20', '10:06AM\\xa0\\xa0', 'Markets move higher, tech shares rebound after three day sell-off, vaccine trial put on hold'], ['TSLA', 'Sep-09-20', '09:59AM\\xa0\\xa0', 'Deutsche Bank optimistic on Nikola, GM deal'], ['TSLA', 'Sep-09-20', '09:53AM\\xa0\\xa0', 'Did you miss out on Teslas big run? There are still good alternatives to play the electric-car revolution'], ['TSLA', 'Sep-09-20', '09:48AM\\xa0\\xa0', 'Tesla Climbs, Rebounding From Tuesdays Record Plunge'], ['TSLA', 'Sep-09-20', '09:40AM\\xa0\\xa0', 'Dow Jones Jumps 275 Points Despite Coronavirus Vaccine News; Apple, Microsoft, Tesla Snap Back'], ['TSLA', 'Sep-09-20', '09:04AM\\xa0\\xa0', 'US STOCKS-Nasdaq set to bounce as tech stocks stabilize after rout'], ['TSLA', 'Sep-09-20', '08:59AM\\xa0\\xa0', 'General Motors (GM) Charges Higher on Nikola (NKLA) Deal'], ['TSLA', 'Sep-09-20', '08:48AM\\xa0\\xa0', 'Heres What GM Gets From Its Deal With Nikola and Why Wall Street Likes It'], ['TSLA', 'Sep-09-20', '08:44AM\\xa0\\xa0', \"Tesla's stock bounces, as part of broad gains in EV makers\"], ['TSLA', 'Sep-09-20', '08:36AM\\xa0\\xa0', 'AstraZeneca, Tesla, Slack, Lululemon - 5 Things You Must Know Wednesday'], ['TSLA', 'Sep-09-20', '08:16AM\\xa0\\xa0', 'GM CEO Mary Barra: Demand is coming back quicker than we thought'], ['TSLA', 'Sep-09-20', '07:57AM\\xa0\\xa0', 'NIO Stock Gets Another Buy Rating'], ['TSLA', 'Sep-09-20', '07:53AM\\xa0\\xa0', 'The 20 Stocks Hurt the Most in the Tech Crash'], ['TSLA', 'Sep-09-20', '07:50AM\\xa0\\xa0', 'Dow Jones Futures Rise Despite Coronavirus Vaccine News; Lululemon, Slack Tumble On Earnings'], ['TSLA', 'Sep-09-20', '07:43AM\\xa0\\xa0', 'Tech Stocks Are Bouncing Back. It Doesnt Mean Anything Yet.'], ['TSLA', 'Sep-09-20', '07:38AM\\xa0\\xa0', 'US STOCKS-Futures bounce after tech rout sends Nasdaq into correction'], ['TSLA', 'Sep-09-20', '06:58AM\\xa0\\xa0', \"No Rotation, No Panic, Nasdaq's Crucial Line, Tesla's Truly Bad Day, Apple Stung\"], ['TSLA', 'Sep-09-20', '06:06AM\\xa0\\xa0', \"Pandemic e-commerce surge spurs race for 'Tesla-like' electric delivery vans\"], ['TSLA', 'Sep-09-20', '06:01AM\\xa0\\xa0', 'How strategists are making sense of the market selloff: Morning Brief'], ['TSLA', 'Sep-09-20', '06:00AM\\xa0\\xa0', \"FOCUS-Pandemic e-commerce surge spurs race for 'Tesla-like' electric delivery vans\"], ['TSLA', 'Sep-09-20', '05:53AM\\xa0\\xa0', 'US STOCKS-Futures bounce after tech rout sends Nasdaq into correction'], ['TSLA', 'Sep-09-20', '02:48AM\\xa0\\xa0', 'Tesla Nevada Battery Capacity To Rise 10% As Panasonic Adds New Production Line'], ['TSLA', 'Sep-08-20', '10:49PM\\xa0\\xa0', \"Tesla Stock's 21% Drop On Tuesday Is Its Worst In History\"], ['TSLA', 'Sep-08-20', '10:42PM\\xa0\\xa0', 'Elon Musk Loses Record $16.3 Billion With Wild Wealth Swings'], ['TSLA', 'Sep-08-20', '10:07PM\\xa0\\xa0', 'SoftBank Selloff Hits $17 Billion After Tech Exposure Fear Grows'], ['TSLA', 'Sep-08-20', '10:00PM\\xa0\\xa0', 'U.S.-China Showdown Over Big Data to Leave Decades-Long Impact'], ['TSLA', 'Sep-08-20', '07:52PM\\xa0\\xa0', 'Panasonic to expand battery capacity at Tesla Gigafactory'], ['TSLA', 'Sep-08-20', '06:53PM\\xa0\\xa0', 'Go Ahead and Call Warren Buffett a Snowflake'], ['TSLA', 'Sep-08-20', '05:14PM\\xa0\\xa0', 'Plunges in Stocks to Gold Halted at Key Technical Support Level'], ['TSLA', 'Sep-08-20', '04:56PM\\xa0\\xa0', 'Tesla Sinks in Worst 1-Day Loss on GM-Nikola Deal, S&P Snub'], ['TSLA', 'Sep-08-20', '04:54PM\\xa0\\xa0', 'Dow closes down 632 points, as tech rout leaves Nasdaq in correction territory'], ['TSLA', 'Sep-08-20', '04:53PM\\xa0\\xa0', '2 reasons fears of a dot-com style tech bubble are overblown'], ['TSLA', 'Sep-08-20', '04:42PM\\xa0\\xa0', 'The Nasdaq-100 Index is down 9% this month  Tesla leads this list of big tech stock declines'], ['TSLA', 'Sep-08-20', '04:41PM\\xa0\\xa0', 'Tesla Stock Drops 21% as Wall Street Scrambles to Assign Blame'], ['TSLA', 'Sep-08-20', '04:35PM\\xa0\\xa0', \"Nasdaq Drops Another 465; Etsy, Teradyne Steal Tesla's S&P Love\"], ['TSLA', 'Sep-08-20', '04:30PM\\xa0\\xa0', 'How GM plans to leapfrog Tesla'], ['TSLA', 'Sep-08-20', '04:29PM\\xa0\\xa0', 'US STOCKS-Stocks end lower as tech swoon persists, Tesla in historic drop'], ['TSLA', 'Sep-08-20', '04:26PM\\xa0\\xa0', 'Tesla stock suffers biggest-ever drop as it starts its second bear market this year'], ['TSLA', 'Sep-08-20', '04:25PM\\xa0\\xa0', 'Tesla Inc. stock falls Tuesday, underperforms market'], ['TSLA', 'Sep-08-20', '04:24PM\\xa0\\xa0', 'Tesla Stock Plunges After Being Left Out Of S&P 500 Index'], ['TSLA', 'Sep-08-20', '04:17PM\\xa0\\xa0', 'Market Recap: Tuesday, September 8'], ['TSLA', 'Sep-08-20', '04:00PM\\xa0\\xa0', 'US STOCKS-Stocks end lower as tech swoon persists, Tesla tumbles'], ['TSLA', 'Sep-08-20', '03:37PM\\xa0\\xa0', 'Dow Jones Slips As Market Rally Fades; GM Stock Breaks Out On This Move'], ['TSLA', 'Sep-08-20', '03:00PM\\xa0\\xa0', 'Oil Prices Crash On Weak Demand'], ['TSLA', 'Sep-08-20', '02:44PM\\xa0\\xa0', 'US STOCKS-Stocks fall as tech remains under pressure, Tesla tumbles'], ['TSLA', 'Sep-08-20', '02:01PM\\xa0\\xa0', 'Investors prefer Trump for economy, Biden for COVID-19: UBS'], ['TSLA', 'Sep-08-20', '01:54PM\\xa0\\xa0', 'Options investors pull back on tech bets as U.S. stocks slammed'], ['TSLA', 'Sep-08-20', '01:43PM\\xa0\\xa0', 'Be prepared for 1,000-point Dow selloff before the presidential election: strategist'], ['TSLA', 'Sep-08-20', '01:42PM\\xa0\\xa0', 'Why NIO Stock Is Lower Today'], ['TSLA', 'Sep-08-20', '01:01PM\\xa0\\xa0', 'US STOCKS-Nasdaq slides as tech rout deepens, Tesla hits three-week low'], ['TSLA', 'Sep-08-20', '12:51PM\\xa0\\xa0', 'Why Tesla shares are tanking today'], ['TSLA', 'Sep-08-20', '12:28PM\\xa0\\xa0', 'Stock Markets Tank Again; GM, Nikola Take It to Tesla'], ['TSLA', 'Sep-08-20', '12:18PM\\xa0\\xa0', 'Dow Jones Dives 400 Points As Stock Market Rout Extends; Tesla Tanks'], ['TSLA', 'Sep-08-20', '12:07PM\\xa0\\xa0', \"GM CEO Mary Barra: Our $2 billion deal with Nikola 'validates' our electric vehicle technology\"], ['TSLA', 'Sep-08-20', '12:05PM\\xa0\\xa0', 'Dow Jones Plunges 600 Points, As Tech Sell-Off Continues; Apple, Amazon Tumble, While Tesla Dives 19% On S&P 500 News'], ['TSLA', 'Sep-08-20', '12:00PM\\xa0\\xa0', 'Nikola Teams Up With GM In Game-Changing $2 Billion Deal'], ['TSLA', 'Sep-08-20', '11:57AM\\xa0\\xa0', 'US STOCKS-Nasdaq slides as tech rout deepens, Tesla hits three-week low'], ['TSLA', 'Sep-08-20', '11:56AM\\xa0\\xa0', 'GM and Nikola Are a Match Made in Tesla Hell'], ['TSLA', 'Sep-08-20', '11:53AM\\xa0\\xa0', \"INSIGHT-Ford's incoming CEO wants the U.S. automaker to run like a Deere\"]]\n"
          ],
          "name": "stdout"
        }
      ]
    },
    {
      "cell_type": "code",
      "metadata": {
        "id": "FrHr6wlqpDfl"
      },
      "source": [
        "df=pd.DataFrame(parsed_data,columns=['ticker','date','time','title'])"
      ],
      "execution_count": null,
      "outputs": []
    },
    {
      "cell_type": "code",
      "metadata": {
        "id": "PiCcFzcjV7TQ",
        "colab": {
          "base_uri": "https://localhost:8080/",
          "height": 153
        },
        "outputId": "a9ce405e-77ec-49df-eb9b-df63874a01b8"
      },
      "source": [
        "print(df.head())"
      ],
      "execution_count": null,
      "outputs": [
        {
          "output_type": "stream",
          "text": [
            "  ticker  ...                                              title\n",
            "0   AMZN  ...  Dow Jones Futures Fall 125 Points After Big St...\n",
            "1   AMZN  ...  Stock market news live updates: Stock futures ...\n",
            "2   AMZN  ...  Buffett Just Bought the Hottest Cloud IPO of 2...\n",
            "3   AMZN  ...        Influencers with Andy Serwer: Reed Hastings\n",
            "4   AMZN  ...               2 Top Growth Stocks to Buy Right Now\n",
            "\n",
            "[5 rows x 4 columns]\n"
          ],
          "name": "stdout"
        }
      ]
    },
    {
      "cell_type": "code",
      "metadata": {
        "id": "cmJGNzmYXdGA",
        "colab": {
          "base_uri": "https://localhost:8080/",
          "height": 204
        },
        "outputId": "5d945c17-7fa7-495c-e0c1-b685c75d3584"
      },
      "source": [
        "df.tail()"
      ],
      "execution_count": null,
      "outputs": [
        {
          "output_type": "execute_result",
          "data": {
            "text/html": [
              "<div>\n",
              "<style scoped>\n",
              "    .dataframe tbody tr th:only-of-type {\n",
              "        vertical-align: middle;\n",
              "    }\n",
              "\n",
              "    .dataframe tbody tr th {\n",
              "        vertical-align: top;\n",
              "    }\n",
              "\n",
              "    .dataframe thead th {\n",
              "        text-align: right;\n",
              "    }\n",
              "</style>\n",
              "<table border=\"1\" class=\"dataframe\">\n",
              "  <thead>\n",
              "    <tr style=\"text-align: right;\">\n",
              "      <th></th>\n",
              "      <th>ticker</th>\n",
              "      <th>date</th>\n",
              "      <th>time</th>\n",
              "      <th>title</th>\n",
              "    </tr>\n",
              "  </thead>\n",
              "  <tbody>\n",
              "    <tr>\n",
              "      <th>395</th>\n",
              "      <td>TSLA</td>\n",
              "      <td>Sep-08-20</td>\n",
              "      <td>12:05PM</td>\n",
              "      <td>Dow Jones Plunges 600 Points, As Tech Sell-Off...</td>\n",
              "    </tr>\n",
              "    <tr>\n",
              "      <th>396</th>\n",
              "      <td>TSLA</td>\n",
              "      <td>Sep-08-20</td>\n",
              "      <td>12:00PM</td>\n",
              "      <td>Nikola Teams Up With GM In Game-Changing $2 Bi...</td>\n",
              "    </tr>\n",
              "    <tr>\n",
              "      <th>397</th>\n",
              "      <td>TSLA</td>\n",
              "      <td>Sep-08-20</td>\n",
              "      <td>11:57AM</td>\n",
              "      <td>US STOCKS-Nasdaq slides as tech rout deepens, ...</td>\n",
              "    </tr>\n",
              "    <tr>\n",
              "      <th>398</th>\n",
              "      <td>TSLA</td>\n",
              "      <td>Sep-08-20</td>\n",
              "      <td>11:56AM</td>\n",
              "      <td>GM and Nikola Are a Match Made in Tesla Hell</td>\n",
              "    </tr>\n",
              "    <tr>\n",
              "      <th>399</th>\n",
              "      <td>TSLA</td>\n",
              "      <td>Sep-08-20</td>\n",
              "      <td>11:53AM</td>\n",
              "      <td>INSIGHT-Ford's incoming CEO wants the U.S. aut...</td>\n",
              "    </tr>\n",
              "  </tbody>\n",
              "</table>\n",
              "</div>"
            ],
            "text/plain": [
              "    ticker  ...                                              title\n",
              "395   TSLA  ...  Dow Jones Plunges 600 Points, As Tech Sell-Off...\n",
              "396   TSLA  ...  Nikola Teams Up With GM In Game-Changing $2 Bi...\n",
              "397   TSLA  ...  US STOCKS-Nasdaq slides as tech rout deepens, ...\n",
              "398   TSLA  ...       GM and Nikola Are a Match Made in Tesla Hell\n",
              "399   TSLA  ...  INSIGHT-Ford's incoming CEO wants the U.S. aut...\n",
              "\n",
              "[5 rows x 4 columns]"
            ]
          },
          "metadata": {
            "tags": []
          },
          "execution_count": 14
        }
      ]
    },
    {
      "cell_type": "markdown",
      "metadata": {
        "id": "xjRXe0s1COXV"
      },
      "source": [
        ""
      ]
    },
    {
      "cell_type": "code",
      "metadata": {
        "id": "KbuxHOFDV9yj"
      },
      "source": [
        "vader=SentimentIntensityAnalyzer()"
      ],
      "execution_count": null,
      "outputs": []
    },
    {
      "cell_type": "code",
      "metadata": {
        "id": "YHMNwk1_WO2W"
      },
      "source": [
        "pos=lambda title:vader.polarity_scores(title)['pos']\n",
        "neg=lambda title:vader.polarity_scores(title)['neg']\n",
        "neu=lambda title:vader.polarity_scores(title)['neu']\n",
        "compound=lambda title:vader.polarity_scores(title)['compound']\n",
        "polarity=lambda title:TextBlob(title).sentiment.polarity\n",
        "df['pos']=df['title'].apply(pos)\n",
        "df['neg']=df['title'].apply(neg)\n",
        "df['neu']=df['title'].apply(neu)\n",
        "df['compound']=df['title'].apply(compound)\n",
        "df['polarity']=df['title'].apply(polarity)"
      ],
      "execution_count": null,
      "outputs": []
    },
    {
      "cell_type": "code",
      "metadata": {
        "id": "DA_zK3kVZJgR",
        "colab": {
          "base_uri": "https://localhost:8080/",
          "height": 204
        },
        "outputId": "4e087e5d-6362-4ddc-e13b-50b0c4af990c"
      },
      "source": [
        "df.head()"
      ],
      "execution_count": null,
      "outputs": [
        {
          "output_type": "execute_result",
          "data": {
            "text/html": [
              "<div>\n",
              "<style scoped>\n",
              "    .dataframe tbody tr th:only-of-type {\n",
              "        vertical-align: middle;\n",
              "    }\n",
              "\n",
              "    .dataframe tbody tr th {\n",
              "        vertical-align: top;\n",
              "    }\n",
              "\n",
              "    .dataframe thead th {\n",
              "        text-align: right;\n",
              "    }\n",
              "</style>\n",
              "<table border=\"1\" class=\"dataframe\">\n",
              "  <thead>\n",
              "    <tr style=\"text-align: right;\">\n",
              "      <th></th>\n",
              "      <th>ticker</th>\n",
              "      <th>date</th>\n",
              "      <th>time</th>\n",
              "      <th>title</th>\n",
              "      <th>pos</th>\n",
              "      <th>neg</th>\n",
              "      <th>neu</th>\n",
              "      <th>compound</th>\n",
              "      <th>polarity</th>\n",
              "    </tr>\n",
              "  </thead>\n",
              "  <tbody>\n",
              "    <tr>\n",
              "      <th>0</th>\n",
              "      <td>AMZN</td>\n",
              "      <td>Sep-10-20</td>\n",
              "      <td>08:11AM</td>\n",
              "      <td>Dow Jones Futures Fall 125 Points After Big St...</td>\n",
              "      <td>0.159</td>\n",
              "      <td>0.0</td>\n",
              "      <td>0.841</td>\n",
              "      <td>0.3400</td>\n",
              "      <td>0.000000</td>\n",
              "    </tr>\n",
              "    <tr>\n",
              "      <th>1</th>\n",
              "      <td>AMZN</td>\n",
              "      <td>Sep-10-20</td>\n",
              "      <td>07:21AM</td>\n",
              "      <td>Stock market news live updates: Stock futures ...</td>\n",
              "      <td>0.000</td>\n",
              "      <td>0.0</td>\n",
              "      <td>1.000</td>\n",
              "      <td>0.0000</td>\n",
              "      <td>0.136364</td>\n",
              "    </tr>\n",
              "    <tr>\n",
              "      <th>2</th>\n",
              "      <td>AMZN</td>\n",
              "      <td>Sep-10-20</td>\n",
              "      <td>07:21AM</td>\n",
              "      <td>Buffett Just Bought the Hottest Cloud IPO of 2...</td>\n",
              "      <td>0.000</td>\n",
              "      <td>0.0</td>\n",
              "      <td>1.000</td>\n",
              "      <td>0.0000</td>\n",
              "      <td>0.000000</td>\n",
              "    </tr>\n",
              "    <tr>\n",
              "      <th>3</th>\n",
              "      <td>AMZN</td>\n",
              "      <td>Sep-10-20</td>\n",
              "      <td>07:00AM</td>\n",
              "      <td>Influencers with Andy Serwer: Reed Hastings</td>\n",
              "      <td>0.000</td>\n",
              "      <td>0.0</td>\n",
              "      <td>1.000</td>\n",
              "      <td>0.0000</td>\n",
              "      <td>0.000000</td>\n",
              "    </tr>\n",
              "    <tr>\n",
              "      <th>4</th>\n",
              "      <td>AMZN</td>\n",
              "      <td>Sep-10-20</td>\n",
              "      <td>07:00AM</td>\n",
              "      <td>2 Top Growth Stocks to Buy Right Now</td>\n",
              "      <td>0.468</td>\n",
              "      <td>0.0</td>\n",
              "      <td>0.532</td>\n",
              "      <td>0.5267</td>\n",
              "      <td>0.392857</td>\n",
              "    </tr>\n",
              "  </tbody>\n",
              "</table>\n",
              "</div>"
            ],
            "text/plain": [
              "  ticker       date       time  ...    neu  compound  polarity\n",
              "0   AMZN  Sep-10-20  08:11AM    ...  0.841    0.3400  0.000000\n",
              "1   AMZN  Sep-10-20  07:21AM    ...  1.000    0.0000  0.136364\n",
              "2   AMZN  Sep-10-20  07:21AM    ...  1.000    0.0000  0.000000\n",
              "3   AMZN  Sep-10-20  07:00AM    ...  1.000    0.0000  0.000000\n",
              "4   AMZN  Sep-10-20  07:00AM    ...  0.532    0.5267  0.392857\n",
              "\n",
              "[5 rows x 9 columns]"
            ]
          },
          "metadata": {
            "tags": []
          },
          "execution_count": 17
        }
      ]
    },
    {
      "cell_type": "code",
      "metadata": {
        "id": "Parky2GwFTR5",
        "colab": {
          "base_uri": "https://localhost:8080/",
          "height": 37
        },
        "outputId": "bce3df83-f8d9-4b7e-9357-11d663d10043"
      },
      "source": [
        "df['title'][0]"
      ],
      "execution_count": null,
      "outputs": [
        {
          "output_type": "execute_result",
          "data": {
            "application/vnd.google.colaboratory.intrinsic+json": {
              "type": "string"
            },
            "text/plain": [
              "'Dow Jones Futures Fall 125 Points After Big Stock Market Rally; Apple, Amazon, Tesla Extend Rebounds, While RH Surges 17%'"
            ]
          },
          "metadata": {
            "tags": []
          },
          "execution_count": 18
        }
      ]
    },
    {
      "cell_type": "code",
      "metadata": {
        "id": "Dkv2VYSMZLYi"
      },
      "source": [
        "df['date']=pd.to_datetime(df['date']).dt.date"
      ],
      "execution_count": null,
      "outputs": []
    },
    {
      "cell_type": "code",
      "metadata": {
        "id": "TkbSx3k1gftH",
        "colab": {
          "base_uri": "https://localhost:8080/",
          "height": 204
        },
        "outputId": "8ddcd612-2750-465f-8872-f1ab4f44331d"
      },
      "source": [
        "df.head()"
      ],
      "execution_count": null,
      "outputs": [
        {
          "output_type": "execute_result",
          "data": {
            "text/html": [
              "<div>\n",
              "<style scoped>\n",
              "    .dataframe tbody tr th:only-of-type {\n",
              "        vertical-align: middle;\n",
              "    }\n",
              "\n",
              "    .dataframe tbody tr th {\n",
              "        vertical-align: top;\n",
              "    }\n",
              "\n",
              "    .dataframe thead th {\n",
              "        text-align: right;\n",
              "    }\n",
              "</style>\n",
              "<table border=\"1\" class=\"dataframe\">\n",
              "  <thead>\n",
              "    <tr style=\"text-align: right;\">\n",
              "      <th></th>\n",
              "      <th>ticker</th>\n",
              "      <th>date</th>\n",
              "      <th>time</th>\n",
              "      <th>title</th>\n",
              "      <th>pos</th>\n",
              "      <th>neg</th>\n",
              "      <th>neu</th>\n",
              "      <th>compound</th>\n",
              "      <th>polarity</th>\n",
              "    </tr>\n",
              "  </thead>\n",
              "  <tbody>\n",
              "    <tr>\n",
              "      <th>0</th>\n",
              "      <td>AMZN</td>\n",
              "      <td>2020-09-10</td>\n",
              "      <td>08:11AM</td>\n",
              "      <td>Dow Jones Futures Fall 125 Points After Big St...</td>\n",
              "      <td>0.159</td>\n",
              "      <td>0.0</td>\n",
              "      <td>0.841</td>\n",
              "      <td>0.3400</td>\n",
              "      <td>0.000000</td>\n",
              "    </tr>\n",
              "    <tr>\n",
              "      <th>1</th>\n",
              "      <td>AMZN</td>\n",
              "      <td>2020-09-10</td>\n",
              "      <td>07:21AM</td>\n",
              "      <td>Stock market news live updates: Stock futures ...</td>\n",
              "      <td>0.000</td>\n",
              "      <td>0.0</td>\n",
              "      <td>1.000</td>\n",
              "      <td>0.0000</td>\n",
              "      <td>0.136364</td>\n",
              "    </tr>\n",
              "    <tr>\n",
              "      <th>2</th>\n",
              "      <td>AMZN</td>\n",
              "      <td>2020-09-10</td>\n",
              "      <td>07:21AM</td>\n",
              "      <td>Buffett Just Bought the Hottest Cloud IPO of 2...</td>\n",
              "      <td>0.000</td>\n",
              "      <td>0.0</td>\n",
              "      <td>1.000</td>\n",
              "      <td>0.0000</td>\n",
              "      <td>0.000000</td>\n",
              "    </tr>\n",
              "    <tr>\n",
              "      <th>3</th>\n",
              "      <td>AMZN</td>\n",
              "      <td>2020-09-10</td>\n",
              "      <td>07:00AM</td>\n",
              "      <td>Influencers with Andy Serwer: Reed Hastings</td>\n",
              "      <td>0.000</td>\n",
              "      <td>0.0</td>\n",
              "      <td>1.000</td>\n",
              "      <td>0.0000</td>\n",
              "      <td>0.000000</td>\n",
              "    </tr>\n",
              "    <tr>\n",
              "      <th>4</th>\n",
              "      <td>AMZN</td>\n",
              "      <td>2020-09-10</td>\n",
              "      <td>07:00AM</td>\n",
              "      <td>2 Top Growth Stocks to Buy Right Now</td>\n",
              "      <td>0.468</td>\n",
              "      <td>0.0</td>\n",
              "      <td>0.532</td>\n",
              "      <td>0.5267</td>\n",
              "      <td>0.392857</td>\n",
              "    </tr>\n",
              "  </tbody>\n",
              "</table>\n",
              "</div>"
            ],
            "text/plain": [
              "  ticker        date       time  ...    neu  compound  polarity\n",
              "0   AMZN  2020-09-10  08:11AM    ...  0.841    0.3400  0.000000\n",
              "1   AMZN  2020-09-10  07:21AM    ...  1.000    0.0000  0.136364\n",
              "2   AMZN  2020-09-10  07:21AM    ...  1.000    0.0000  0.000000\n",
              "3   AMZN  2020-09-10  07:00AM    ...  1.000    0.0000  0.000000\n",
              "4   AMZN  2020-09-10  07:00AM    ...  0.532    0.5267  0.392857\n",
              "\n",
              "[5 rows x 9 columns]"
            ]
          },
          "metadata": {
            "tags": []
          },
          "execution_count": 20
        }
      ]
    },
    {
      "cell_type": "code",
      "metadata": {
        "id": "ANT4j_B6hM3s"
      },
      "source": [
        "mean_df=df.groupby(['ticker','date']).mean()"
      ],
      "execution_count": null,
      "outputs": []
    },
    {
      "cell_type": "code",
      "metadata": {
        "id": "6DO8yEzahfOk",
        "colab": {
          "base_uri": "https://localhost:8080/",
          "height": 34
        },
        "outputId": "b9c084aa-b3e1-4849-9190-f2f741fff2a8"
      },
      "source": [
        "mean_df.shape"
      ],
      "execution_count": null,
      "outputs": [
        {
          "output_type": "execute_result",
          "data": {
            "text/plain": [
              "(22, 5)"
            ]
          },
          "metadata": {
            "tags": []
          },
          "execution_count": 22
        }
      ]
    },
    {
      "cell_type": "code",
      "metadata": {
        "id": "m5sVjPoXhwOU",
        "colab": {
          "base_uri": "https://localhost:8080/",
          "height": 235
        },
        "outputId": "18ebd2a6-d444-4c98-ee1e-90a4e5478338"
      },
      "source": [
        "mean_df.head()"
      ],
      "execution_count": null,
      "outputs": [
        {
          "output_type": "execute_result",
          "data": {
            "text/html": [
              "<div>\n",
              "<style scoped>\n",
              "    .dataframe tbody tr th:only-of-type {\n",
              "        vertical-align: middle;\n",
              "    }\n",
              "\n",
              "    .dataframe tbody tr th {\n",
              "        vertical-align: top;\n",
              "    }\n",
              "\n",
              "    .dataframe thead th {\n",
              "        text-align: right;\n",
              "    }\n",
              "</style>\n",
              "<table border=\"1\" class=\"dataframe\">\n",
              "  <thead>\n",
              "    <tr style=\"text-align: right;\">\n",
              "      <th></th>\n",
              "      <th></th>\n",
              "      <th>pos</th>\n",
              "      <th>neg</th>\n",
              "      <th>neu</th>\n",
              "      <th>compound</th>\n",
              "      <th>polarity</th>\n",
              "    </tr>\n",
              "    <tr>\n",
              "      <th>ticker</th>\n",
              "      <th>date</th>\n",
              "      <th></th>\n",
              "      <th></th>\n",
              "      <th></th>\n",
              "      <th></th>\n",
              "      <th></th>\n",
              "    </tr>\n",
              "  </thead>\n",
              "  <tbody>\n",
              "    <tr>\n",
              "      <th rowspan=\"3\" valign=\"top\">AMZN</th>\n",
              "      <th>2020-09-08</th>\n",
              "      <td>0.089190</td>\n",
              "      <td>0.079500</td>\n",
              "      <td>0.831310</td>\n",
              "      <td>0.009183</td>\n",
              "      <td>0.080085</td>\n",
              "    </tr>\n",
              "    <tr>\n",
              "      <th>2020-09-09</th>\n",
              "      <td>0.083457</td>\n",
              "      <td>0.019109</td>\n",
              "      <td>0.897435</td>\n",
              "      <td>0.112578</td>\n",
              "      <td>0.107985</td>\n",
              "    </tr>\n",
              "    <tr>\n",
              "      <th>2020-09-10</th>\n",
              "      <td>0.131083</td>\n",
              "      <td>0.000000</td>\n",
              "      <td>0.868917</td>\n",
              "      <td>0.177975</td>\n",
              "      <td>0.151245</td>\n",
              "    </tr>\n",
              "    <tr>\n",
              "      <th rowspan=\"2\" valign=\"top\">FB</th>\n",
              "      <th>2020-09-03</th>\n",
              "      <td>0.064156</td>\n",
              "      <td>0.089844</td>\n",
              "      <td>0.846000</td>\n",
              "      <td>-0.039538</td>\n",
              "      <td>0.012058</td>\n",
              "    </tr>\n",
              "    <tr>\n",
              "      <th>2020-09-04</th>\n",
              "      <td>0.073067</td>\n",
              "      <td>0.075333</td>\n",
              "      <td>0.851600</td>\n",
              "      <td>-0.015100</td>\n",
              "      <td>0.093333</td>\n",
              "    </tr>\n",
              "  </tbody>\n",
              "</table>\n",
              "</div>"
            ],
            "text/plain": [
              "                        pos       neg       neu  compound  polarity\n",
              "ticker date                                                        \n",
              "AMZN   2020-09-08  0.089190  0.079500  0.831310  0.009183  0.080085\n",
              "       2020-09-09  0.083457  0.019109  0.897435  0.112578  0.107985\n",
              "       2020-09-10  0.131083  0.000000  0.868917  0.177975  0.151245\n",
              "FB     2020-09-03  0.064156  0.089844  0.846000 -0.039538  0.012058\n",
              "       2020-09-04  0.073067  0.075333  0.851600 -0.015100  0.093333"
            ]
          },
          "metadata": {
            "tags": []
          },
          "execution_count": 23
        }
      ]
    },
    {
      "cell_type": "code",
      "metadata": {
        "id": "tyXFtgiJhz6p",
        "colab": {
          "base_uri": "https://localhost:8080/",
          "height": 235
        },
        "outputId": "123ba355-13d2-4bc3-c73b-e76ccc96df0a"
      },
      "source": [
        "mean_df.tail()"
      ],
      "execution_count": null,
      "outputs": [
        {
          "output_type": "execute_result",
          "data": {
            "text/html": [
              "<div>\n",
              "<style scoped>\n",
              "    .dataframe tbody tr th:only-of-type {\n",
              "        vertical-align: middle;\n",
              "    }\n",
              "\n",
              "    .dataframe tbody tr th {\n",
              "        vertical-align: top;\n",
              "    }\n",
              "\n",
              "    .dataframe thead th {\n",
              "        text-align: right;\n",
              "    }\n",
              "</style>\n",
              "<table border=\"1\" class=\"dataframe\">\n",
              "  <thead>\n",
              "    <tr style=\"text-align: right;\">\n",
              "      <th></th>\n",
              "      <th></th>\n",
              "      <th>pos</th>\n",
              "      <th>neg</th>\n",
              "      <th>neu</th>\n",
              "      <th>compound</th>\n",
              "      <th>polarity</th>\n",
              "    </tr>\n",
              "    <tr>\n",
              "      <th>ticker</th>\n",
              "      <th>date</th>\n",
              "      <th></th>\n",
              "      <th></th>\n",
              "      <th></th>\n",
              "      <th></th>\n",
              "      <th></th>\n",
              "    </tr>\n",
              "  </thead>\n",
              "  <tbody>\n",
              "    <tr>\n",
              "      <th rowspan=\"2\" valign=\"top\">GOOG</th>\n",
              "      <th>2020-09-09</th>\n",
              "      <td>0.142391</td>\n",
              "      <td>0.019087</td>\n",
              "      <td>0.838522</td>\n",
              "      <td>0.213617</td>\n",
              "      <td>0.157378</td>\n",
              "    </tr>\n",
              "    <tr>\n",
              "      <th>2020-09-10</th>\n",
              "      <td>0.137125</td>\n",
              "      <td>0.046625</td>\n",
              "      <td>0.816250</td>\n",
              "      <td>0.154850</td>\n",
              "      <td>0.062500</td>\n",
              "    </tr>\n",
              "    <tr>\n",
              "      <th rowspan=\"3\" valign=\"top\">TSLA</th>\n",
              "      <th>2020-09-08</th>\n",
              "      <td>0.049676</td>\n",
              "      <td>0.131973</td>\n",
              "      <td>0.818351</td>\n",
              "      <td>-0.121459</td>\n",
              "      <td>-0.050225</td>\n",
              "    </tr>\n",
              "    <tr>\n",
              "      <th>2020-09-09</th>\n",
              "      <td>0.059818</td>\n",
              "      <td>0.063127</td>\n",
              "      <td>0.877055</td>\n",
              "      <td>0.004915</td>\n",
              "      <td>0.047848</td>\n",
              "    </tr>\n",
              "    <tr>\n",
              "      <th>2020-09-10</th>\n",
              "      <td>0.109625</td>\n",
              "      <td>0.058250</td>\n",
              "      <td>0.832125</td>\n",
              "      <td>0.107075</td>\n",
              "      <td>0.179545</td>\n",
              "    </tr>\n",
              "  </tbody>\n",
              "</table>\n",
              "</div>"
            ],
            "text/plain": [
              "                        pos       neg       neu  compound  polarity\n",
              "ticker date                                                        \n",
              "GOOG   2020-09-09  0.142391  0.019087  0.838522  0.213617  0.157378\n",
              "       2020-09-10  0.137125  0.046625  0.816250  0.154850  0.062500\n",
              "TSLA   2020-09-08  0.049676  0.131973  0.818351 -0.121459 -0.050225\n",
              "       2020-09-09  0.059818  0.063127  0.877055  0.004915  0.047848\n",
              "       2020-09-10  0.109625  0.058250  0.832125  0.107075  0.179545"
            ]
          },
          "metadata": {
            "tags": []
          },
          "execution_count": 24
        }
      ]
    },
    {
      "cell_type": "code",
      "metadata": {
        "id": "ezxhE_PBiV5p"
      },
      "source": [
        "mean_df=mean_df.unstack()"
      ],
      "execution_count": null,
      "outputs": []
    },
    {
      "cell_type": "code",
      "metadata": {
        "id": "4c-bjvbuig_t",
        "colab": {
          "base_uri": "https://localhost:8080/",
          "height": 272
        },
        "outputId": "67b5babf-d372-41a3-fa1b-2f91600c5ea4"
      },
      "source": [
        "mean_df.head()"
      ],
      "execution_count": null,
      "outputs": [
        {
          "output_type": "execute_result",
          "data": {
            "text/html": [
              "<div>\n",
              "<style scoped>\n",
              "    .dataframe tbody tr th:only-of-type {\n",
              "        vertical-align: middle;\n",
              "    }\n",
              "\n",
              "    .dataframe tbody tr th {\n",
              "        vertical-align: top;\n",
              "    }\n",
              "\n",
              "    .dataframe thead tr th {\n",
              "        text-align: left;\n",
              "    }\n",
              "\n",
              "    .dataframe thead tr:last-of-type th {\n",
              "        text-align: right;\n",
              "    }\n",
              "</style>\n",
              "<table border=\"1\" class=\"dataframe\">\n",
              "  <thead>\n",
              "    <tr>\n",
              "      <th></th>\n",
              "      <th colspan=\"8\" halign=\"left\">pos</th>\n",
              "      <th colspan=\"8\" halign=\"left\">neg</th>\n",
              "      <th colspan=\"8\" halign=\"left\">neu</th>\n",
              "      <th colspan=\"8\" halign=\"left\">compound</th>\n",
              "      <th colspan=\"8\" halign=\"left\">polarity</th>\n",
              "    </tr>\n",
              "    <tr>\n",
              "      <th>date</th>\n",
              "      <th>2020-09-03</th>\n",
              "      <th>2020-09-04</th>\n",
              "      <th>2020-09-05</th>\n",
              "      <th>2020-09-06</th>\n",
              "      <th>2020-09-07</th>\n",
              "      <th>2020-09-08</th>\n",
              "      <th>2020-09-09</th>\n",
              "      <th>2020-09-10</th>\n",
              "      <th>2020-09-03</th>\n",
              "      <th>2020-09-04</th>\n",
              "      <th>2020-09-05</th>\n",
              "      <th>2020-09-06</th>\n",
              "      <th>2020-09-07</th>\n",
              "      <th>2020-09-08</th>\n",
              "      <th>2020-09-09</th>\n",
              "      <th>2020-09-10</th>\n",
              "      <th>2020-09-03</th>\n",
              "      <th>2020-09-04</th>\n",
              "      <th>2020-09-05</th>\n",
              "      <th>2020-09-06</th>\n",
              "      <th>2020-09-07</th>\n",
              "      <th>2020-09-08</th>\n",
              "      <th>2020-09-09</th>\n",
              "      <th>2020-09-10</th>\n",
              "      <th>2020-09-03</th>\n",
              "      <th>2020-09-04</th>\n",
              "      <th>2020-09-05</th>\n",
              "      <th>2020-09-06</th>\n",
              "      <th>2020-09-07</th>\n",
              "      <th>2020-09-08</th>\n",
              "      <th>2020-09-09</th>\n",
              "      <th>2020-09-10</th>\n",
              "      <th>2020-09-03</th>\n",
              "      <th>2020-09-04</th>\n",
              "      <th>2020-09-05</th>\n",
              "      <th>2020-09-06</th>\n",
              "      <th>2020-09-07</th>\n",
              "      <th>2020-09-08</th>\n",
              "      <th>2020-09-09</th>\n",
              "      <th>2020-09-10</th>\n",
              "    </tr>\n",
              "    <tr>\n",
              "      <th>ticker</th>\n",
              "      <th></th>\n",
              "      <th></th>\n",
              "      <th></th>\n",
              "      <th></th>\n",
              "      <th></th>\n",
              "      <th></th>\n",
              "      <th></th>\n",
              "      <th></th>\n",
              "      <th></th>\n",
              "      <th></th>\n",
              "      <th></th>\n",
              "      <th></th>\n",
              "      <th></th>\n",
              "      <th></th>\n",
              "      <th></th>\n",
              "      <th></th>\n",
              "      <th></th>\n",
              "      <th></th>\n",
              "      <th></th>\n",
              "      <th></th>\n",
              "      <th></th>\n",
              "      <th></th>\n",
              "      <th></th>\n",
              "      <th></th>\n",
              "      <th></th>\n",
              "      <th></th>\n",
              "      <th></th>\n",
              "      <th></th>\n",
              "      <th></th>\n",
              "      <th></th>\n",
              "      <th></th>\n",
              "      <th></th>\n",
              "      <th></th>\n",
              "      <th></th>\n",
              "      <th></th>\n",
              "      <th></th>\n",
              "      <th></th>\n",
              "      <th></th>\n",
              "      <th></th>\n",
              "      <th></th>\n",
              "    </tr>\n",
              "  </thead>\n",
              "  <tbody>\n",
              "    <tr>\n",
              "      <th>AMZN</th>\n",
              "      <td>NaN</td>\n",
              "      <td>NaN</td>\n",
              "      <td>NaN</td>\n",
              "      <td>NaN</td>\n",
              "      <td>NaN</td>\n",
              "      <td>0.089190</td>\n",
              "      <td>0.083457</td>\n",
              "      <td>0.131083</td>\n",
              "      <td>NaN</td>\n",
              "      <td>NaN</td>\n",
              "      <td>NaN</td>\n",
              "      <td>NaN</td>\n",
              "      <td>NaN</td>\n",
              "      <td>0.079500</td>\n",
              "      <td>0.019109</td>\n",
              "      <td>0.000000</td>\n",
              "      <td>NaN</td>\n",
              "      <td>NaN</td>\n",
              "      <td>NaN</td>\n",
              "      <td>NaN</td>\n",
              "      <td>NaN</td>\n",
              "      <td>0.831310</td>\n",
              "      <td>0.897435</td>\n",
              "      <td>0.868917</td>\n",
              "      <td>NaN</td>\n",
              "      <td>NaN</td>\n",
              "      <td>NaN</td>\n",
              "      <td>NaN</td>\n",
              "      <td>NaN</td>\n",
              "      <td>0.009183</td>\n",
              "      <td>0.112578</td>\n",
              "      <td>0.177975</td>\n",
              "      <td>NaN</td>\n",
              "      <td>NaN</td>\n",
              "      <td>NaN</td>\n",
              "      <td>NaN</td>\n",
              "      <td>NaN</td>\n",
              "      <td>0.080085</td>\n",
              "      <td>0.107985</td>\n",
              "      <td>0.151245</td>\n",
              "    </tr>\n",
              "    <tr>\n",
              "      <th>FB</th>\n",
              "      <td>0.064156</td>\n",
              "      <td>0.073067</td>\n",
              "      <td>0.0795</td>\n",
              "      <td>0.126</td>\n",
              "      <td>0.000000</td>\n",
              "      <td>0.085000</td>\n",
              "      <td>0.073167</td>\n",
              "      <td>0.076500</td>\n",
              "      <td>0.089844</td>\n",
              "      <td>0.075333</td>\n",
              "      <td>0.09775</td>\n",
              "      <td>0.0</td>\n",
              "      <td>0.065333</td>\n",
              "      <td>0.110067</td>\n",
              "      <td>0.038000</td>\n",
              "      <td>0.129000</td>\n",
              "      <td>0.846</td>\n",
              "      <td>0.8516</td>\n",
              "      <td>0.82275</td>\n",
              "      <td>0.874</td>\n",
              "      <td>0.934667</td>\n",
              "      <td>0.804933</td>\n",
              "      <td>0.888833</td>\n",
              "      <td>0.794500</td>\n",
              "      <td>-0.039538</td>\n",
              "      <td>-0.01510</td>\n",
              "      <td>-0.00820</td>\n",
              "      <td>0.20095</td>\n",
              "      <td>-0.098667</td>\n",
              "      <td>-0.021387</td>\n",
              "      <td>0.054992</td>\n",
              "      <td>-0.086900</td>\n",
              "      <td>0.012058</td>\n",
              "      <td>0.093333</td>\n",
              "      <td>0.200000</td>\n",
              "      <td>0.058333</td>\n",
              "      <td>0.000000</td>\n",
              "      <td>0.011178</td>\n",
              "      <td>0.104167</td>\n",
              "      <td>0.039881</td>\n",
              "    </tr>\n",
              "    <tr>\n",
              "      <th>GOOG</th>\n",
              "      <td>0.219000</td>\n",
              "      <td>0.068350</td>\n",
              "      <td>0.0360</td>\n",
              "      <td>0.126</td>\n",
              "      <td>0.071091</td>\n",
              "      <td>0.070700</td>\n",
              "      <td>0.142391</td>\n",
              "      <td>0.137125</td>\n",
              "      <td>0.135000</td>\n",
              "      <td>0.040100</td>\n",
              "      <td>0.04340</td>\n",
              "      <td>0.0</td>\n",
              "      <td>0.017818</td>\n",
              "      <td>0.093267</td>\n",
              "      <td>0.019087</td>\n",
              "      <td>0.046625</td>\n",
              "      <td>0.645</td>\n",
              "      <td>0.8915</td>\n",
              "      <td>0.92060</td>\n",
              "      <td>0.874</td>\n",
              "      <td>0.911091</td>\n",
              "      <td>0.836033</td>\n",
              "      <td>0.838522</td>\n",
              "      <td>0.816250</td>\n",
              "      <td>0.318200</td>\n",
              "      <td>0.05901</td>\n",
              "      <td>-0.01304</td>\n",
              "      <td>0.20095</td>\n",
              "      <td>0.072773</td>\n",
              "      <td>-0.003767</td>\n",
              "      <td>0.213617</td>\n",
              "      <td>0.154850</td>\n",
              "      <td>0.000000</td>\n",
              "      <td>0.081068</td>\n",
              "      <td>-0.040909</td>\n",
              "      <td>0.058333</td>\n",
              "      <td>-0.006061</td>\n",
              "      <td>0.058641</td>\n",
              "      <td>0.157378</td>\n",
              "      <td>0.062500</td>\n",
              "    </tr>\n",
              "    <tr>\n",
              "      <th>TSLA</th>\n",
              "      <td>NaN</td>\n",
              "      <td>NaN</td>\n",
              "      <td>NaN</td>\n",
              "      <td>NaN</td>\n",
              "      <td>NaN</td>\n",
              "      <td>0.049676</td>\n",
              "      <td>0.059818</td>\n",
              "      <td>0.109625</td>\n",
              "      <td>NaN</td>\n",
              "      <td>NaN</td>\n",
              "      <td>NaN</td>\n",
              "      <td>NaN</td>\n",
              "      <td>NaN</td>\n",
              "      <td>0.131973</td>\n",
              "      <td>0.063127</td>\n",
              "      <td>0.058250</td>\n",
              "      <td>NaN</td>\n",
              "      <td>NaN</td>\n",
              "      <td>NaN</td>\n",
              "      <td>NaN</td>\n",
              "      <td>NaN</td>\n",
              "      <td>0.818351</td>\n",
              "      <td>0.877055</td>\n",
              "      <td>0.832125</td>\n",
              "      <td>NaN</td>\n",
              "      <td>NaN</td>\n",
              "      <td>NaN</td>\n",
              "      <td>NaN</td>\n",
              "      <td>NaN</td>\n",
              "      <td>-0.121459</td>\n",
              "      <td>0.004915</td>\n",
              "      <td>0.107075</td>\n",
              "      <td>NaN</td>\n",
              "      <td>NaN</td>\n",
              "      <td>NaN</td>\n",
              "      <td>NaN</td>\n",
              "      <td>NaN</td>\n",
              "      <td>-0.050225</td>\n",
              "      <td>0.047848</td>\n",
              "      <td>0.179545</td>\n",
              "    </tr>\n",
              "  </tbody>\n",
              "</table>\n",
              "</div>"
            ],
            "text/plain": [
              "              pos                        ...   polarity                      \n",
              "date   2020-09-03 2020-09-04 2020-09-05  ... 2020-09-08 2020-09-09 2020-09-10\n",
              "ticker                                   ...                                 \n",
              "AMZN          NaN        NaN        NaN  ...   0.080085   0.107985   0.151245\n",
              "FB       0.064156   0.073067     0.0795  ...   0.011178   0.104167   0.039881\n",
              "GOOG     0.219000   0.068350     0.0360  ...   0.058641   0.157378   0.062500\n",
              "TSLA          NaN        NaN        NaN  ...  -0.050225   0.047848   0.179545\n",
              "\n",
              "[4 rows x 40 columns]"
            ]
          },
          "metadata": {
            "tags": []
          },
          "execution_count": 26
        }
      ]
    },
    {
      "cell_type": "code",
      "metadata": {
        "id": "kqGD6oTPvrci"
      },
      "source": [
        "mean_df=mean_df.xs('compound',axis='columns').transpose()"
      ],
      "execution_count": null,
      "outputs": []
    },
    {
      "cell_type": "code",
      "metadata": {
        "id": "yGdqXL3TwnVK",
        "colab": {
          "base_uri": "https://localhost:8080/",
          "height": 235
        },
        "outputId": "0df79922-18e4-41e5-edcf-2d391cf18126"
      },
      "source": [
        "mean_df.head()"
      ],
      "execution_count": null,
      "outputs": [
        {
          "output_type": "execute_result",
          "data": {
            "text/html": [
              "<div>\n",
              "<style scoped>\n",
              "    .dataframe tbody tr th:only-of-type {\n",
              "        vertical-align: middle;\n",
              "    }\n",
              "\n",
              "    .dataframe tbody tr th {\n",
              "        vertical-align: top;\n",
              "    }\n",
              "\n",
              "    .dataframe thead th {\n",
              "        text-align: right;\n",
              "    }\n",
              "</style>\n",
              "<table border=\"1\" class=\"dataframe\">\n",
              "  <thead>\n",
              "    <tr style=\"text-align: right;\">\n",
              "      <th>ticker</th>\n",
              "      <th>AMZN</th>\n",
              "      <th>FB</th>\n",
              "      <th>GOOG</th>\n",
              "      <th>TSLA</th>\n",
              "    </tr>\n",
              "    <tr>\n",
              "      <th>date</th>\n",
              "      <th></th>\n",
              "      <th></th>\n",
              "      <th></th>\n",
              "      <th></th>\n",
              "    </tr>\n",
              "  </thead>\n",
              "  <tbody>\n",
              "    <tr>\n",
              "      <th>2020-09-03</th>\n",
              "      <td>NaN</td>\n",
              "      <td>-0.039538</td>\n",
              "      <td>0.318200</td>\n",
              "      <td>NaN</td>\n",
              "    </tr>\n",
              "    <tr>\n",
              "      <th>2020-09-04</th>\n",
              "      <td>NaN</td>\n",
              "      <td>-0.015100</td>\n",
              "      <td>0.059010</td>\n",
              "      <td>NaN</td>\n",
              "    </tr>\n",
              "    <tr>\n",
              "      <th>2020-09-05</th>\n",
              "      <td>NaN</td>\n",
              "      <td>-0.008200</td>\n",
              "      <td>-0.013040</td>\n",
              "      <td>NaN</td>\n",
              "    </tr>\n",
              "    <tr>\n",
              "      <th>2020-09-06</th>\n",
              "      <td>NaN</td>\n",
              "      <td>0.200950</td>\n",
              "      <td>0.200950</td>\n",
              "      <td>NaN</td>\n",
              "    </tr>\n",
              "    <tr>\n",
              "      <th>2020-09-07</th>\n",
              "      <td>NaN</td>\n",
              "      <td>-0.098667</td>\n",
              "      <td>0.072773</td>\n",
              "      <td>NaN</td>\n",
              "    </tr>\n",
              "  </tbody>\n",
              "</table>\n",
              "</div>"
            ],
            "text/plain": [
              "ticker      AMZN        FB      GOOG  TSLA\n",
              "date                                      \n",
              "2020-09-03   NaN -0.039538  0.318200   NaN\n",
              "2020-09-04   NaN -0.015100  0.059010   NaN\n",
              "2020-09-05   NaN -0.008200 -0.013040   NaN\n",
              "2020-09-06   NaN  0.200950  0.200950   NaN\n",
              "2020-09-07   NaN -0.098667  0.072773   NaN"
            ]
          },
          "metadata": {
            "tags": []
          },
          "execution_count": 28
        }
      ]
    },
    {
      "cell_type": "code",
      "metadata": {
        "id": "8YGvlLPmwuw6",
        "colab": {
          "base_uri": "https://localhost:8080/",
          "height": 235
        },
        "outputId": "a386a36e-81fd-4bd9-831d-cb9e9221434f"
      },
      "source": [
        "mean_df.tail()"
      ],
      "execution_count": null,
      "outputs": [
        {
          "output_type": "execute_result",
          "data": {
            "text/html": [
              "<div>\n",
              "<style scoped>\n",
              "    .dataframe tbody tr th:only-of-type {\n",
              "        vertical-align: middle;\n",
              "    }\n",
              "\n",
              "    .dataframe tbody tr th {\n",
              "        vertical-align: top;\n",
              "    }\n",
              "\n",
              "    .dataframe thead th {\n",
              "        text-align: right;\n",
              "    }\n",
              "</style>\n",
              "<table border=\"1\" class=\"dataframe\">\n",
              "  <thead>\n",
              "    <tr style=\"text-align: right;\">\n",
              "      <th>ticker</th>\n",
              "      <th>AMZN</th>\n",
              "      <th>FB</th>\n",
              "      <th>GOOG</th>\n",
              "      <th>TSLA</th>\n",
              "    </tr>\n",
              "    <tr>\n",
              "      <th>date</th>\n",
              "      <th></th>\n",
              "      <th></th>\n",
              "      <th></th>\n",
              "      <th></th>\n",
              "    </tr>\n",
              "  </thead>\n",
              "  <tbody>\n",
              "    <tr>\n",
              "      <th>2020-09-06</th>\n",
              "      <td>NaN</td>\n",
              "      <td>0.200950</td>\n",
              "      <td>0.200950</td>\n",
              "      <td>NaN</td>\n",
              "    </tr>\n",
              "    <tr>\n",
              "      <th>2020-09-07</th>\n",
              "      <td>NaN</td>\n",
              "      <td>-0.098667</td>\n",
              "      <td>0.072773</td>\n",
              "      <td>NaN</td>\n",
              "    </tr>\n",
              "    <tr>\n",
              "      <th>2020-09-08</th>\n",
              "      <td>0.009183</td>\n",
              "      <td>-0.021387</td>\n",
              "      <td>-0.003767</td>\n",
              "      <td>-0.121459</td>\n",
              "    </tr>\n",
              "    <tr>\n",
              "      <th>2020-09-09</th>\n",
              "      <td>0.112578</td>\n",
              "      <td>0.054992</td>\n",
              "      <td>0.213617</td>\n",
              "      <td>0.004915</td>\n",
              "    </tr>\n",
              "    <tr>\n",
              "      <th>2020-09-10</th>\n",
              "      <td>0.177975</td>\n",
              "      <td>-0.086900</td>\n",
              "      <td>0.154850</td>\n",
              "      <td>0.107075</td>\n",
              "    </tr>\n",
              "  </tbody>\n",
              "</table>\n",
              "</div>"
            ],
            "text/plain": [
              "ticker          AMZN        FB      GOOG      TSLA\n",
              "date                                              \n",
              "2020-09-06       NaN  0.200950  0.200950       NaN\n",
              "2020-09-07       NaN -0.098667  0.072773       NaN\n",
              "2020-09-08  0.009183 -0.021387 -0.003767 -0.121459\n",
              "2020-09-09  0.112578  0.054992  0.213617  0.004915\n",
              "2020-09-10  0.177975 -0.086900  0.154850  0.107075"
            ]
          },
          "metadata": {
            "tags": []
          },
          "execution_count": 29
        }
      ]
    },
    {
      "cell_type": "code",
      "metadata": {
        "id": "m8yPE5zIghUL",
        "colab": {
          "base_uri": "https://localhost:8080/",
          "height": 436
        },
        "outputId": "bf21e2d0-8202-44b6-ee3c-a90d61b1fac9"
      },
      "source": [
        "#plt.figure(figsize=(20,8))\n",
        "mean_df.plot(kind='bar',figsize=(15,6))\n",
        "plt.show()"
      ],
      "execution_count": null,
      "outputs": [
        {
          "output_type": "display_data",
          "data": {
            "image/png": "[encoded data removed]",
            "text/plain": [
              "<Figure size 1080x432 with 1 Axes>"
            ]
          },
          "metadata": {
            "tags": [],
            "needs_background": "dark"
          }
        }
      ]
    },
    {
      "cell_type": "code",
      "metadata": {
        "id": "vNLkcYovxgSx"
      },
      "source": [
        "#Embeddings\n"
      ],
      "execution_count": null,
      "outputs": []
    },
    {
      "cell_type": "code",
      "metadata": {
        "id": "VMFdKrym0E23",
        "colab": {
          "base_uri": "https://localhost:8080/",
          "height": 357
        },
        "outputId": "6e11835b-0a56-4afc-d7c7-be348b11ca78"
      },
      "source": [
        "!wget http://nlp.stanford.edu/data/glove.6B.zip"
      ],
      "execution_count": null,
      "outputs": [
        {
          "output_type": "stream",
          "text": [
            "--2020-09-10 12:25:05--  http://nlp.stanford.edu/data/glove.6B.zip\n",
            "Resolving nlp.stanford.edu (nlp.stanford.edu)... 171.64.67.140\n",
            "Connecting to nlp.stanford.edu (nlp.stanford.edu)|171.64.67.140|:80... connected.\n",
            "HTTP request sent, awaiting response... 302 Found\n",
            "Location: https://nlp.stanford.edu/data/glove.6B.zip [following]\n",
            "--2020-09-10 12:25:06--  https://nlp.stanford.edu/data/glove.6B.zip\n",
            "Connecting to nlp.stanford.edu (nlp.stanford.edu)|171.64.67.140|:443... connected.\n",
            "HTTP request sent, awaiting response... 301 Moved Permanently\n",
            "Location: http://downloads.cs.stanford.edu/nlp/data/glove.6B.zip [following]\n",
            "--2020-09-10 12:25:06--  http://downloads.cs.stanford.edu/nlp/data/glove.6B.zip\n",
            "Resolving downloads.cs.stanford.edu (downloads.cs.stanford.edu)... 171.64.64.22\n",
            "Connecting to downloads.cs.stanford.edu (downloads.cs.stanford.edu)|171.64.64.22|:80... connected.\n",
            "HTTP request sent, awaiting response... 200 OK\n",
            "Length: 862182613 (822M) [application/zip]\n",
            "Saving to: ‘glove.6B.zip’\n",
            "\n",
            "glove.6B.zip        100%[===================>] 822.24M  2.17MB/s    in 6m 27s  \n",
            "\n",
            "2020-09-10 12:31:33 (2.12 MB/s) - ‘glove.6B.zip’ saved [862182613/862182613]\n",
            "\n"
          ],
          "name": "stdout"
        }
      ]
    },
    {
      "cell_type": "code",
      "metadata": {
        "id": "NWbszxwAYWqp",
        "colab": {
          "base_uri": "https://localhost:8080/",
          "height": 102
        },
        "outputId": "8ebb7860-629a-475f-b2c0-fa004f9136f2"
      },
      "source": [
        "!unzip glove.6B.zip"
      ],
      "execution_count": null,
      "outputs": [
        {
          "output_type": "stream",
          "text": [
            "Archive:  glove.6B.zip\n",
            "  inflating: glove.6B.50d.txt        \n",
            "  inflating: glove.6B.100d.txt       \n",
            "  inflating: glove.6B.200d.txt       \n",
            "  inflating: glove.6B.300d.txt       \n"
          ],
          "name": "stdout"
        }
      ]
    },
    {
      "cell_type": "code",
      "metadata": {
        "id": "7iW3ALNRZNLt",
        "colab": {
          "base_uri": "https://localhost:8080/",
          "height": 51
        },
        "outputId": "218d9c59-48f9-441f-96af-676da6b7a764"
      },
      "source": [
        "ls"
      ],
      "execution_count": null,
      "outputs": [
        {
          "output_type": "stream",
          "text": [
            "glove.6B.100d.txt  glove.6B.300d.txt  glove.6B.zip\n",
            "glove.6B.200d.txt  glove.6B.50d.txt   \u001b[0m\u001b[01;34msample_data\u001b[0m/\n"
          ],
          "name": "stdout"
        }
      ]
    },
    {
      "cell_type": "code",
      "metadata": {
        "id": "1K_IN_vRYTJ6"
      },
      "source": [
        "glove_data_file='glove.6B.100d.txt'"
      ],
      "execution_count": null,
      "outputs": []
    },
    {
      "cell_type": "code",
      "metadata": {
        "id": "3G8-yOIRX9lv"
      },
      "source": [
        "import pandas as pd\n",
        "import csv\n",
        "words=pd.read_table(glove_data_file,sep=\" \", index_col=0,header=None,quoting=csv.QUOTE_NONE)"
      ],
      "execution_count": null,
      "outputs": []
    },
    {
      "cell_type": "code",
      "metadata": {
        "id": "8N8Pey-cZZnC",
        "colab": {
          "base_uri": "https://localhost:8080/",
          "height": 284
        },
        "outputId": "94be2beb-b921-436c-8718-917e38dd1236"
      },
      "source": [
        "words.head()"
      ],
      "execution_count": null,
      "outputs": [
        {
          "output_type": "execute_result",
          "data": {
            "text/html": [
              "<div>\n",
              "<style scoped>\n",
              "    .dataframe tbody tr th:only-of-type {\n",
              "        vertical-align: middle;\n",
              "    }\n",
              "\n",
              "    .dataframe tbody tr th {\n",
              "        vertical-align: top;\n",
              "    }\n",
              "\n",
              "    .dataframe thead th {\n",
              "        text-align: right;\n",
              "    }\n",
              "</style>\n",
              "<table border=\"1\" class=\"dataframe\">\n",
              "  <thead>\n",
              "    <tr style=\"text-align: right;\">\n",
              "      <th></th>\n",
              "      <th>1</th>\n",
              "      <th>2</th>\n",
              "      <th>3</th>\n",
              "      <th>4</th>\n",
              "      <th>5</th>\n",
              "      <th>6</th>\n",
              "      <th>7</th>\n",
              "      <th>8</th>\n",
              "      <th>9</th>\n",
              "      <th>10</th>\n",
              "      <th>11</th>\n",
              "      <th>12</th>\n",
              "      <th>13</th>\n",
              "      <th>14</th>\n",
              "      <th>15</th>\n",
              "      <th>16</th>\n",
              "      <th>17</th>\n",
              "      <th>18</th>\n",
              "      <th>19</th>\n",
              "      <th>20</th>\n",
              "      <th>21</th>\n",
              "      <th>22</th>\n",
              "      <th>23</th>\n",
              "      <th>24</th>\n",
              "      <th>25</th>\n",
              "      <th>26</th>\n",
              "      <th>27</th>\n",
              "      <th>28</th>\n",
              "      <th>29</th>\n",
              "      <th>30</th>\n",
              "      <th>31</th>\n",
              "      <th>32</th>\n",
              "      <th>33</th>\n",
              "      <th>34</th>\n",
              "      <th>35</th>\n",
              "      <th>36</th>\n",
              "      <th>37</th>\n",
              "      <th>38</th>\n",
              "      <th>39</th>\n",
              "      <th>40</th>\n",
              "      <th>...</th>\n",
              "      <th>61</th>\n",
              "      <th>62</th>\n",
              "      <th>63</th>\n",
              "      <th>64</th>\n",
              "      <th>65</th>\n",
              "      <th>66</th>\n",
              "      <th>67</th>\n",
              "      <th>68</th>\n",
              "      <th>69</th>\n",
              "      <th>70</th>\n",
              "      <th>71</th>\n",
              "      <th>72</th>\n",
              "      <th>73</th>\n",
              "      <th>74</th>\n",
              "      <th>75</th>\n",
              "      <th>76</th>\n",
              "      <th>77</th>\n",
              "      <th>78</th>\n",
              "      <th>79</th>\n",
              "      <th>80</th>\n",
              "      <th>81</th>\n",
              "      <th>82</th>\n",
              "      <th>83</th>\n",
              "      <th>84</th>\n",
              "      <th>85</th>\n",
              "      <th>86</th>\n",
              "      <th>87</th>\n",
              "      <th>88</th>\n",
              "      <th>89</th>\n",
              "      <th>90</th>\n",
              "      <th>91</th>\n",
              "      <th>92</th>\n",
              "      <th>93</th>\n",
              "      <th>94</th>\n",
              "      <th>95</th>\n",
              "      <th>96</th>\n",
              "      <th>97</th>\n",
              "      <th>98</th>\n",
              "      <th>99</th>\n",
              "      <th>100</th>\n",
              "    </tr>\n",
              "    <tr>\n",
              "      <th>0</th>\n",
              "      <th></th>\n",
              "      <th></th>\n",
              "      <th></th>\n",
              "      <th></th>\n",
              "      <th></th>\n",
              "      <th></th>\n",
              "      <th></th>\n",
              "      <th></th>\n",
              "      <th></th>\n",
              "      <th></th>\n",
              "      <th></th>\n",
              "      <th></th>\n",
              "      <th></th>\n",
              "      <th></th>\n",
              "      <th></th>\n",
              "      <th></th>\n",
              "      <th></th>\n",
              "      <th></th>\n",
              "      <th></th>\n",
              "      <th></th>\n",
              "      <th></th>\n",
              "      <th></th>\n",
              "      <th></th>\n",
              "      <th></th>\n",
              "      <th></th>\n",
              "      <th></th>\n",
              "      <th></th>\n",
              "      <th></th>\n",
              "      <th></th>\n",
              "      <th></th>\n",
              "      <th></th>\n",
              "      <th></th>\n",
              "      <th></th>\n",
              "      <th></th>\n",
              "      <th></th>\n",
              "      <th></th>\n",
              "      <th></th>\n",
              "      <th></th>\n",
              "      <th></th>\n",
              "      <th></th>\n",
              "      <th></th>\n",
              "      <th></th>\n",
              "      <th></th>\n",
              "      <th></th>\n",
              "      <th></th>\n",
              "      <th></th>\n",
              "      <th></th>\n",
              "      <th></th>\n",
              "      <th></th>\n",
              "      <th></th>\n",
              "      <th></th>\n",
              "      <th></th>\n",
              "      <th></th>\n",
              "      <th></th>\n",
              "      <th></th>\n",
              "      <th></th>\n",
              "      <th></th>\n",
              "      <th></th>\n",
              "      <th></th>\n",
              "      <th></th>\n",
              "      <th></th>\n",
              "      <th></th>\n",
              "      <th></th>\n",
              "      <th></th>\n",
              "      <th></th>\n",
              "      <th></th>\n",
              "      <th></th>\n",
              "      <th></th>\n",
              "      <th></th>\n",
              "      <th></th>\n",
              "      <th></th>\n",
              "      <th></th>\n",
              "      <th></th>\n",
              "      <th></th>\n",
              "      <th></th>\n",
              "      <th></th>\n",
              "      <th></th>\n",
              "      <th></th>\n",
              "      <th></th>\n",
              "      <th></th>\n",
              "      <th></th>\n",
              "    </tr>\n",
              "  </thead>\n",
              "  <tbody>\n",
              "    <tr>\n",
              "      <th>the</th>\n",
              "      <td>-0.038194</td>\n",
              "      <td>-0.244870</td>\n",
              "      <td>0.72812</td>\n",
              "      <td>-0.399610</td>\n",
              "      <td>0.083172</td>\n",
              "      <td>0.043953</td>\n",
              "      <td>-0.391410</td>\n",
              "      <td>0.334400</td>\n",
              "      <td>-0.57545</td>\n",
              "      <td>0.087459</td>\n",
              "      <td>0.287870</td>\n",
              "      <td>-0.06731</td>\n",
              "      <td>0.30906</td>\n",
              "      <td>-0.26384</td>\n",
              "      <td>-0.13231</td>\n",
              "      <td>-0.20757</td>\n",
              "      <td>0.33395</td>\n",
              "      <td>-0.338480</td>\n",
              "      <td>-0.31743</td>\n",
              "      <td>-0.48336</td>\n",
              "      <td>0.146400</td>\n",
              "      <td>-0.373040</td>\n",
              "      <td>0.34577</td>\n",
              "      <td>0.052041</td>\n",
              "      <td>0.449460</td>\n",
              "      <td>-0.469710</td>\n",
              "      <td>0.026280</td>\n",
              "      <td>-0.54155</td>\n",
              "      <td>-0.15518</td>\n",
              "      <td>-0.141070</td>\n",
              "      <td>-0.039722</td>\n",
              "      <td>0.28277</td>\n",
              "      <td>0.14393</td>\n",
              "      <td>0.234640</td>\n",
              "      <td>-0.31021</td>\n",
              "      <td>0.086173</td>\n",
              "      <td>0.20397</td>\n",
              "      <td>0.52624</td>\n",
              "      <td>0.171640</td>\n",
              "      <td>-0.082378</td>\n",
              "      <td>...</td>\n",
              "      <td>-0.24978</td>\n",
              "      <td>0.92136</td>\n",
              "      <td>0.034514</td>\n",
              "      <td>0.46745</td>\n",
              "      <td>1.10790</td>\n",
              "      <td>-0.193580</td>\n",
              "      <td>-0.074575</td>\n",
              "      <td>0.233530</td>\n",
              "      <td>-0.052062</td>\n",
              "      <td>-0.220440</td>\n",
              "      <td>0.057162</td>\n",
              "      <td>-0.15806</td>\n",
              "      <td>-0.307980</td>\n",
              "      <td>-0.416250</td>\n",
              "      <td>0.379720</td>\n",
              "      <td>0.150060</td>\n",
              "      <td>-0.532120</td>\n",
              "      <td>-0.205500</td>\n",
              "      <td>-1.25260</td>\n",
              "      <td>0.071624</td>\n",
              "      <td>0.70565</td>\n",
              "      <td>0.497440</td>\n",
              "      <td>-0.42063</td>\n",
              "      <td>0.26148</td>\n",
              "      <td>-1.5380</td>\n",
              "      <td>-0.30223</td>\n",
              "      <td>-0.073438</td>\n",
              "      <td>-0.283120</td>\n",
              "      <td>0.371040</td>\n",
              "      <td>-0.25217</td>\n",
              "      <td>0.016215</td>\n",
              "      <td>-0.017099</td>\n",
              "      <td>-0.389840</td>\n",
              "      <td>0.87424</td>\n",
              "      <td>-0.72569</td>\n",
              "      <td>-0.51058</td>\n",
              "      <td>-0.520280</td>\n",
              "      <td>-0.14590</td>\n",
              "      <td>0.82780</td>\n",
              "      <td>0.270620</td>\n",
              "    </tr>\n",
              "    <tr>\n",
              "      <th>,</th>\n",
              "      <td>-0.107670</td>\n",
              "      <td>0.110530</td>\n",
              "      <td>0.59812</td>\n",
              "      <td>-0.543610</td>\n",
              "      <td>0.673960</td>\n",
              "      <td>0.106630</td>\n",
              "      <td>0.038867</td>\n",
              "      <td>0.354810</td>\n",
              "      <td>0.06351</td>\n",
              "      <td>-0.094189</td>\n",
              "      <td>0.157860</td>\n",
              "      <td>-0.81665</td>\n",
              "      <td>0.14172</td>\n",
              "      <td>0.21939</td>\n",
              "      <td>0.58505</td>\n",
              "      <td>-0.52158</td>\n",
              "      <td>0.22783</td>\n",
              "      <td>-0.166420</td>\n",
              "      <td>-0.68228</td>\n",
              "      <td>0.35870</td>\n",
              "      <td>0.425680</td>\n",
              "      <td>0.190210</td>\n",
              "      <td>0.91963</td>\n",
              "      <td>0.575550</td>\n",
              "      <td>0.461850</td>\n",
              "      <td>0.423630</td>\n",
              "      <td>-0.095399</td>\n",
              "      <td>-0.42749</td>\n",
              "      <td>-0.16567</td>\n",
              "      <td>-0.056842</td>\n",
              "      <td>-0.295950</td>\n",
              "      <td>0.26037</td>\n",
              "      <td>-0.26606</td>\n",
              "      <td>-0.070404</td>\n",
              "      <td>-0.27662</td>\n",
              "      <td>0.158210</td>\n",
              "      <td>0.69825</td>\n",
              "      <td>0.43081</td>\n",
              "      <td>0.279520</td>\n",
              "      <td>-0.454370</td>\n",
              "      <td>...</td>\n",
              "      <td>-0.22080</td>\n",
              "      <td>0.18669</td>\n",
              "      <td>0.131770</td>\n",
              "      <td>0.15117</td>\n",
              "      <td>0.71310</td>\n",
              "      <td>-0.352150</td>\n",
              "      <td>0.913480</td>\n",
              "      <td>0.617830</td>\n",
              "      <td>0.709920</td>\n",
              "      <td>0.239550</td>\n",
              "      <td>-0.145710</td>\n",
              "      <td>-0.37859</td>\n",
              "      <td>-0.045959</td>\n",
              "      <td>-0.473680</td>\n",
              "      <td>0.238500</td>\n",
              "      <td>0.205360</td>\n",
              "      <td>-0.189960</td>\n",
              "      <td>0.325070</td>\n",
              "      <td>-1.11120</td>\n",
              "      <td>-0.363410</td>\n",
              "      <td>0.98679</td>\n",
              "      <td>-0.084776</td>\n",
              "      <td>-0.54008</td>\n",
              "      <td>0.11726</td>\n",
              "      <td>-1.0194</td>\n",
              "      <td>-0.24424</td>\n",
              "      <td>0.127710</td>\n",
              "      <td>0.013884</td>\n",
              "      <td>0.080374</td>\n",
              "      <td>-0.35414</td>\n",
              "      <td>0.349510</td>\n",
              "      <td>-0.722600</td>\n",
              "      <td>0.375490</td>\n",
              "      <td>0.44410</td>\n",
              "      <td>-0.99059</td>\n",
              "      <td>0.61214</td>\n",
              "      <td>-0.351110</td>\n",
              "      <td>-0.83155</td>\n",
              "      <td>0.45293</td>\n",
              "      <td>0.082577</td>\n",
              "    </tr>\n",
              "    <tr>\n",
              "      <th>.</th>\n",
              "      <td>-0.339790</td>\n",
              "      <td>0.209410</td>\n",
              "      <td>0.46348</td>\n",
              "      <td>-0.647920</td>\n",
              "      <td>-0.383770</td>\n",
              "      <td>0.038034</td>\n",
              "      <td>0.171270</td>\n",
              "      <td>0.159780</td>\n",
              "      <td>0.46619</td>\n",
              "      <td>-0.019169</td>\n",
              "      <td>0.414790</td>\n",
              "      <td>-0.34349</td>\n",
              "      <td>0.26872</td>\n",
              "      <td>0.04464</td>\n",
              "      <td>0.42131</td>\n",
              "      <td>-0.41032</td>\n",
              "      <td>0.15459</td>\n",
              "      <td>0.022239</td>\n",
              "      <td>-0.64653</td>\n",
              "      <td>0.25256</td>\n",
              "      <td>0.043136</td>\n",
              "      <td>-0.194450</td>\n",
              "      <td>0.46516</td>\n",
              "      <td>0.456510</td>\n",
              "      <td>0.685880</td>\n",
              "      <td>0.091295</td>\n",
              "      <td>0.218750</td>\n",
              "      <td>-0.70351</td>\n",
              "      <td>0.16785</td>\n",
              "      <td>-0.350790</td>\n",
              "      <td>-0.126340</td>\n",
              "      <td>0.66384</td>\n",
              "      <td>-0.25820</td>\n",
              "      <td>0.036542</td>\n",
              "      <td>-0.13605</td>\n",
              "      <td>0.402530</td>\n",
              "      <td>0.14289</td>\n",
              "      <td>0.38132</td>\n",
              "      <td>-0.122830</td>\n",
              "      <td>-0.458860</td>\n",
              "      <td>...</td>\n",
              "      <td>-0.55262</td>\n",
              "      <td>0.65000</td>\n",
              "      <td>0.086426</td>\n",
              "      <td>0.39012</td>\n",
              "      <td>1.06320</td>\n",
              "      <td>-0.353790</td>\n",
              "      <td>0.483280</td>\n",
              "      <td>0.346000</td>\n",
              "      <td>0.841740</td>\n",
              "      <td>0.098707</td>\n",
              "      <td>-0.242130</td>\n",
              "      <td>-0.27053</td>\n",
              "      <td>0.045287</td>\n",
              "      <td>-0.401470</td>\n",
              "      <td>0.113950</td>\n",
              "      <td>0.006223</td>\n",
              "      <td>0.036673</td>\n",
              "      <td>0.018518</td>\n",
              "      <td>-1.02130</td>\n",
              "      <td>-0.208060</td>\n",
              "      <td>0.64072</td>\n",
              "      <td>-0.068763</td>\n",
              "      <td>-0.58635</td>\n",
              "      <td>0.33476</td>\n",
              "      <td>-1.1432</td>\n",
              "      <td>-0.11480</td>\n",
              "      <td>-0.250910</td>\n",
              "      <td>-0.459070</td>\n",
              "      <td>-0.096819</td>\n",
              "      <td>-0.17946</td>\n",
              "      <td>-0.063351</td>\n",
              "      <td>-0.674120</td>\n",
              "      <td>-0.068895</td>\n",
              "      <td>0.53604</td>\n",
              "      <td>-0.87773</td>\n",
              "      <td>0.31802</td>\n",
              "      <td>-0.392420</td>\n",
              "      <td>-0.23394</td>\n",
              "      <td>0.47298</td>\n",
              "      <td>-0.028803</td>\n",
              "    </tr>\n",
              "    <tr>\n",
              "      <th>of</th>\n",
              "      <td>-0.152900</td>\n",
              "      <td>-0.242790</td>\n",
              "      <td>0.89837</td>\n",
              "      <td>0.169960</td>\n",
              "      <td>0.535160</td>\n",
              "      <td>0.487840</td>\n",
              "      <td>-0.588260</td>\n",
              "      <td>-0.179820</td>\n",
              "      <td>-1.35810</td>\n",
              "      <td>0.425410</td>\n",
              "      <td>0.153770</td>\n",
              "      <td>0.24215</td>\n",
              "      <td>0.13474</td>\n",
              "      <td>0.41193</td>\n",
              "      <td>0.67043</td>\n",
              "      <td>-0.56418</td>\n",
              "      <td>0.42985</td>\n",
              "      <td>-0.012183</td>\n",
              "      <td>-0.11677</td>\n",
              "      <td>0.31781</td>\n",
              "      <td>0.054177</td>\n",
              "      <td>-0.054273</td>\n",
              "      <td>0.35516</td>\n",
              "      <td>-0.302410</td>\n",
              "      <td>0.314340</td>\n",
              "      <td>-0.338460</td>\n",
              "      <td>0.717150</td>\n",
              "      <td>-0.26855</td>\n",
              "      <td>-0.15837</td>\n",
              "      <td>-0.474670</td>\n",
              "      <td>0.051581</td>\n",
              "      <td>-0.33252</td>\n",
              "      <td>0.15003</td>\n",
              "      <td>-0.129900</td>\n",
              "      <td>-0.54617</td>\n",
              "      <td>-0.378430</td>\n",
              "      <td>0.64261</td>\n",
              "      <td>0.82187</td>\n",
              "      <td>-0.080006</td>\n",
              "      <td>0.078479</td>\n",
              "      <td>...</td>\n",
              "      <td>0.04885</td>\n",
              "      <td>0.78267</td>\n",
              "      <td>0.384970</td>\n",
              "      <td>0.42097</td>\n",
              "      <td>0.67882</td>\n",
              "      <td>0.103370</td>\n",
              "      <td>0.632800</td>\n",
              "      <td>-0.026595</td>\n",
              "      <td>0.586470</td>\n",
              "      <td>-0.443320</td>\n",
              "      <td>0.330570</td>\n",
              "      <td>-0.12022</td>\n",
              "      <td>-0.556450</td>\n",
              "      <td>0.073611</td>\n",
              "      <td>0.209150</td>\n",
              "      <td>0.433950</td>\n",
              "      <td>-0.012761</td>\n",
              "      <td>0.089874</td>\n",
              "      <td>-1.79910</td>\n",
              "      <td>0.084808</td>\n",
              "      <td>0.77112</td>\n",
              "      <td>0.631050</td>\n",
              "      <td>-0.90685</td>\n",
              "      <td>0.60326</td>\n",
              "      <td>-1.7515</td>\n",
              "      <td>0.18596</td>\n",
              "      <td>-0.506870</td>\n",
              "      <td>-0.702030</td>\n",
              "      <td>0.665780</td>\n",
              "      <td>-0.81304</td>\n",
              "      <td>0.187120</td>\n",
              "      <td>-0.018488</td>\n",
              "      <td>-0.267570</td>\n",
              "      <td>0.72700</td>\n",
              "      <td>-0.59363</td>\n",
              "      <td>-0.34839</td>\n",
              "      <td>-0.560940</td>\n",
              "      <td>-0.59100</td>\n",
              "      <td>1.00390</td>\n",
              "      <td>0.206640</td>\n",
              "    </tr>\n",
              "    <tr>\n",
              "      <th>to</th>\n",
              "      <td>-0.189700</td>\n",
              "      <td>0.050024</td>\n",
              "      <td>0.19084</td>\n",
              "      <td>-0.049184</td>\n",
              "      <td>-0.089737</td>\n",
              "      <td>0.210060</td>\n",
              "      <td>-0.549520</td>\n",
              "      <td>0.098377</td>\n",
              "      <td>-0.20135</td>\n",
              "      <td>0.342410</td>\n",
              "      <td>-0.092677</td>\n",
              "      <td>0.16100</td>\n",
              "      <td>-0.13268</td>\n",
              "      <td>-0.28160</td>\n",
              "      <td>0.18737</td>\n",
              "      <td>-0.42959</td>\n",
              "      <td>0.96039</td>\n",
              "      <td>0.139720</td>\n",
              "      <td>-1.07810</td>\n",
              "      <td>0.40518</td>\n",
              "      <td>0.505390</td>\n",
              "      <td>-0.550640</td>\n",
              "      <td>0.48440</td>\n",
              "      <td>0.380440</td>\n",
              "      <td>-0.002906</td>\n",
              "      <td>-0.349420</td>\n",
              "      <td>-0.099696</td>\n",
              "      <td>-0.78368</td>\n",
              "      <td>1.03630</td>\n",
              "      <td>-0.231400</td>\n",
              "      <td>-0.471210</td>\n",
              "      <td>0.57126</td>\n",
              "      <td>-0.21454</td>\n",
              "      <td>0.359580</td>\n",
              "      <td>-0.48319</td>\n",
              "      <td>1.087500</td>\n",
              "      <td>0.28524</td>\n",
              "      <td>0.12447</td>\n",
              "      <td>-0.039248</td>\n",
              "      <td>-0.076732</td>\n",
              "      <td>...</td>\n",
              "      <td>-0.34780</td>\n",
              "      <td>0.51621</td>\n",
              "      <td>-0.433870</td>\n",
              "      <td>0.36852</td>\n",
              "      <td>0.74573</td>\n",
              "      <td>0.072102</td>\n",
              "      <td>0.279310</td>\n",
              "      <td>0.925690</td>\n",
              "      <td>-0.050336</td>\n",
              "      <td>-0.858560</td>\n",
              "      <td>-0.135800</td>\n",
              "      <td>-0.92551</td>\n",
              "      <td>-0.339910</td>\n",
              "      <td>-1.039400</td>\n",
              "      <td>-0.067203</td>\n",
              "      <td>-0.213790</td>\n",
              "      <td>-0.476900</td>\n",
              "      <td>0.213770</td>\n",
              "      <td>-0.84008</td>\n",
              "      <td>0.052536</td>\n",
              "      <td>0.59298</td>\n",
              "      <td>0.296040</td>\n",
              "      <td>-0.67644</td>\n",
              "      <td>0.13916</td>\n",
              "      <td>-1.5504</td>\n",
              "      <td>-0.20765</td>\n",
              "      <td>0.722200</td>\n",
              "      <td>0.520560</td>\n",
              "      <td>-0.076221</td>\n",
              "      <td>-0.15194</td>\n",
              "      <td>-0.131340</td>\n",
              "      <td>0.058617</td>\n",
              "      <td>-0.318690</td>\n",
              "      <td>-0.61419</td>\n",
              "      <td>-0.62393</td>\n",
              "      <td>-0.41548</td>\n",
              "      <td>-0.038175</td>\n",
              "      <td>-0.39804</td>\n",
              "      <td>0.47647</td>\n",
              "      <td>-0.159830</td>\n",
              "    </tr>\n",
              "  </tbody>\n",
              "</table>\n",
              "<p>5 rows × 100 columns</p>\n",
              "</div>"
            ],
            "text/plain": [
              "          1         2        3    ...      98       99        100\n",
              "0                                 ...                            \n",
              "the -0.038194 -0.244870  0.72812  ... -0.14590  0.82780  0.270620\n",
              ",   -0.107670  0.110530  0.59812  ... -0.83155  0.45293  0.082577\n",
              ".   -0.339790  0.209410  0.46348  ... -0.23394  0.47298 -0.028803\n",
              "of  -0.152900 -0.242790  0.89837  ... -0.59100  1.00390  0.206640\n",
              "to  -0.189700  0.050024  0.19084  ... -0.39804  0.47647 -0.159830\n",
              "\n",
              "[5 rows x 100 columns]"
            ]
          },
          "metadata": {
            "tags": []
          },
          "execution_count": 37
        }
      ]
    },
    {
      "cell_type": "code",
      "metadata": {
        "id": "gXz84rmTZgks"
      },
      "source": [
        "text=\"I am happy\""
      ],
      "execution_count": null,
      "outputs": []
    },
    {
      "cell_type": "code",
      "metadata": {
        "id": "4y6WcKySZmbD"
      },
      "source": [
        ""
      ],
      "execution_count": null,
      "outputs": []
    },
    {
      "cell_type": "code",
      "metadata": {
        "id": "Jy68PbuSVpt9",
        "colab": {
          "base_uri": "https://localhost:8080/",
          "height": 326
        },
        "outputId": "7c5892d1-5edb-4b84-e8c1-21f1c386a762"
      },
      "source": [
        "!pip install gensim"
      ],
      "execution_count": null,
      "outputs": [
        {
          "output_type": "stream",
          "text": [
            "Requirement already satisfied: gensim in /usr/local/lib/python3.6/dist-packages (3.6.0)\n",
            "Requirement already satisfied: six>=1.5.0 in /usr/local/lib/python3.6/dist-packages (from gensim) (1.15.0)\n",
            "Requirement already satisfied: numpy>=1.11.3 in /usr/local/lib/python3.6/dist-packages (from gensim) (1.18.5)\n",
            "Requirement already satisfied: scipy>=0.18.1 in /usr/local/lib/python3.6/dist-packages (from gensim) (1.4.1)\n",
            "Requirement already satisfied: smart-open>=1.2.1 in /usr/local/lib/python3.6/dist-packages (from gensim) (2.1.0)\n",
            "Requirement already satisfied: boto in /usr/local/lib/python3.6/dist-packages (from smart-open>=1.2.1->gensim) (2.49.0)\n",
            "Requirement already satisfied: boto3 in /usr/local/lib/python3.6/dist-packages (from smart-open>=1.2.1->gensim) (1.14.37)\n",
            "Requirement already satisfied: requests in /usr/local/lib/python3.6/dist-packages (from smart-open>=1.2.1->gensim) (2.23.0)\n",
            "Requirement already satisfied: botocore<1.18.0,>=1.17.37 in /usr/local/lib/python3.6/dist-packages (from boto3->smart-open>=1.2.1->gensim) (1.17.37)\n",
            "Requirement already satisfied: jmespath<1.0.0,>=0.7.1 in /usr/local/lib/python3.6/dist-packages (from boto3->smart-open>=1.2.1->gensim) (0.10.0)\n",
            "Requirement already satisfied: s3transfer<0.4.0,>=0.3.0 in /usr/local/lib/python3.6/dist-packages (from boto3->smart-open>=1.2.1->gensim) (0.3.3)\n",
            "Requirement already satisfied: certifi>=2017.4.17 in /usr/local/lib/python3.6/dist-packages (from requests->smart-open>=1.2.1->gensim) (2020.6.20)\n",
            "Requirement already satisfied: idna<3,>=2.5 in /usr/local/lib/python3.6/dist-packages (from requests->smart-open>=1.2.1->gensim) (2.10)\n",
            "Requirement already satisfied: urllib3!=1.25.0,!=1.25.1,<1.26,>=1.21.1 in /usr/local/lib/python3.6/dist-packages (from requests->smart-open>=1.2.1->gensim) (1.24.3)\n",
            "Requirement already satisfied: chardet<4,>=3.0.2 in /usr/local/lib/python3.6/dist-packages (from requests->smart-open>=1.2.1->gensim) (3.0.4)\n",
            "Requirement already satisfied: python-dateutil<3.0.0,>=2.1 in /usr/local/lib/python3.6/dist-packages (from botocore<1.18.0,>=1.17.37->boto3->smart-open>=1.2.1->gensim) (2.8.1)\n",
            "Requirement already satisfied: docutils<0.16,>=0.10 in /usr/local/lib/python3.6/dist-packages (from botocore<1.18.0,>=1.17.37->boto3->smart-open>=1.2.1->gensim) (0.15.2)\n"
          ],
          "name": "stdout"
        }
      ]
    },
    {
      "cell_type": "code",
      "metadata": {
        "id": "iZMKnVA60MS0"
      },
      "source": [
        "import gensim.downloader as api"
      ],
      "execution_count": null,
      "outputs": []
    },
    {
      "cell_type": "code",
      "metadata": {
        "id": "DMnUCfYjVmhs"
      },
      "source": [
        "from gensim.models.word2vec import Word2Vec"
      ],
      "execution_count": null,
      "outputs": []
    },
    {
      "cell_type": "code",
      "metadata": {
        "id": "i5uAWn3QWdHx"
      },
      "source": [
        ""
      ],
      "execution_count": null,
      "outputs": []
    }
  ]
}