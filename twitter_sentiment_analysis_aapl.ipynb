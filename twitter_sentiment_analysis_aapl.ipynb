{
  "nbformat": 4,
  "nbformat_minor": 0,
  "metadata": {
    "colab": {
      "name": "twitter_sentiment_analysis_aapl.ipynb",
      "provenance": []
    },
    "kernelspec": {
      "name": "python3",
      "display_name": "Python 3"
    }
  },
  "cells": [
    {
      "cell_type": "markdown",
      "metadata": {
        "id": "lzvAwcGaxCG6"
      },
      "source": [
        "https://www.earthdatascience.org/courses/use-data-open-source-python/intro-to-apis/analyze-tweet-sentiment-in-python/"
      ]
    },
    {
      "cell_type": "markdown",
      "metadata": {
        "id": "bnrnjKihL0C-"
      },
      "source": [
        "https://medium.com/analytics-vidhya/simplifying-social-media-sentiment-analysis-using-vader-in-python-f9e6ec6fc52f\n"
      ]
    },
    {
      "cell_type": "markdown",
      "metadata": {
        "id": "tGusPSRiJ3_K"
      },
      "source": [
        "In this notebook we will use python package textblob and VADER sentiment analyzer for sentiment analysis of particular stock. Textblob gives sentiment score in range -1 to 1. values closer to 1 indicate more positive while closer to -1 indicate more negative sentiment.\n",
        "\n",
        "VADER Sentiment Analysis. VADER (Valence Aware Dictionary and sEntiment Reasoner) is a lexicon and rule-based sentiment analysis tool that is specifically attuned to sentiments expressed in social media. The Positive, Negative and Neutral scores represent the proportion of text that falls in these categories. Compound score is used for detrmining tweet as positive negative or neutral.\n",
        "1. positive sentiment: compound score >= 0.05\n",
        "2. neutral sentiment: (compound score > -0.05) and (compound score < 0.05)\n",
        "3. negative sentiment: compound score <= -0.05\n"
      ]
    },
    {
      "cell_type": "markdown",
      "metadata": {
        "id": "pGH9fv6xk7Rc"
      },
      "source": [
        "* Twitter API Limittion\n",
        "\n",
        "Twitter api gives limited access to 6-9 days of historical tweets, 18,000 tweets per API call and also to 100 requests per hour, per account."
      ]
    },
    {
      "cell_type": "code",
      "metadata": {
        "id": "GbU_0WztI0yR",
        "colab": {
          "base_uri": "https://localhost:8080/",
          "height": 88
        },
        "outputId": "d8086cd4-db78-43e7-e789-c6a740fa38e6"
      },
      "source": [
        "import numpy as np\n",
        "import pandas as pd\n",
        "import matplotlib.pyplot as plt\n",
        "from textblob import TextBlob\n",
        "import re\n",
        "import tweepy\n",
        "import copy\n",
        "import nltk\n",
        "nltk.download('vader_lexicon')\n",
        "from nltk.sentiment.vader import SentimentIntensityAnalyzer\n",
        "%matplotlib inline\n",
        "plt.style.use('dark_background')"
      ],
      "execution_count": null,
      "outputs": [
        {
          "output_type": "stream",
          "text": [
            "[nltk_data] Downloading package vader_lexicon to /root/nltk_data...\n"
          ],
          "name": "stdout"
        },
        {
          "output_type": "stream",
          "text": [
            "/usr/local/lib/python3.6/dist-packages/nltk/twitter/__init__.py:20: UserWarning: The twython library has not been installed. Some functionality from the twitter package will not be available.\n",
            "  warnings.warn(\"The twython library has not been installed. \"\n"
          ],
          "name": "stderr"
        }
      ]
    },
    {
      "cell_type": "markdown",
      "metadata": {
        "id": "GHmUYQruYXoV"
      },
      "source": [
        "Set up Twitter api"
      ]
    },
    {
      "cell_type": "code",
      "metadata": {
        "id": "LQ5Lj8M_JEKX"
      },
      "source": [
        "#keys and tokens from Twitter Dev Console\n",
        "consumer_key=\"p04j9bOCPHmi3X74wmwKHYETw\"\n",
        "consumer_secret=\"JGpyS8h7vDeq9R6o0HlbUFKz5Z54TQJiP95JoSgAad6wVOX7Hp\"\n",
        "access_token=\"1294181443950665729-aSeFe0FZHLxtFt9cfOipAQHpjAsQCs\"\n",
        "access_token_secret=\"fvtqdoyaQh26BFQh17409lqHVSg3M3H6viYiXvHHZBojM\"\n"
      ],
      "execution_count": null,
      "outputs": []
    },
    {
      "cell_type": "code",
      "metadata": {
        "id": "Q08QnK4JJsrD"
      },
      "source": [
        "auth=tweepy.OAuthHandler(consumer_key,consumer_secret)\n",
        "auth.set_access_token(access_token,access_token_secret)\n",
        "api=tweepy.API(auth,wait_on_rate_limit=True)\n"
      ],
      "execution_count": null,
      "outputs": []
    },
    {
      "cell_type": "markdown",
      "metadata": {
        "id": "w_kdpR1CYVem"
      },
      "source": [
        "Grab and clean tweets"
      ]
    },
    {
      "cell_type": "code",
      "metadata": {
        "id": "CRYm2MRWYcL9"
      },
      "source": [
        "def clean_tweet(tweet):\n",
        "    \"claen tweets using regex by removing links,handles\"\n",
        "    return ' '.join(re.sub(\"@[A-Za-z0-9]+|([^0-9A-Za-z \\t])|(\\w+:\\/\\/\\S+)\",\" \",tweet).split())"
      ],
      "execution_count": null,
      "outputs": []
    },
    {
      "cell_type": "markdown",
      "metadata": {
        "id": "-ifyf46Nnmau"
      },
      "source": [
        "Search recent tweets that use the #AAPL hashtag. We will use the .Cursor method to get an object containing tweets containing the hashtag #AAPL."
      ]
    },
    {
      "cell_type": "code",
      "metadata": {
        "id": "ldIhx2JZZv5F"
      },
      "source": [
        "# create a custom search term and define number of tweets\n",
        "search_term=\"#AAPL -filter:retweets \"\n",
        "tweets=tweepy.Cursor(api.search,q=search_term,lang='en').items(10)\n",
        "tweets_copy=copy.deepcopy(tweets)\n",
        "raw_tweets=[tweet.text for tweet in tweets]\n",
        "# cleaned_tweets\n",
        "cleaned_tweets=[clean_tweet(tweet.text) for tweet in tweets_copy]"
      ],
      "execution_count": null,
      "outputs": []
    },
    {
      "cell_type": "code",
      "metadata": {
        "id": "44JS_zJRjN7_",
        "colab": {
          "base_uri": "https://localhost:8080/",
          "height": 54
        },
        "outputId": "14426836-3e8f-4836-e78a-32b2046656bb"
      },
      "source": [
        "raw_tweets[0]"
      ],
      "execution_count": null,
      "outputs": [
        {
          "output_type": "execute_result",
          "data": {
            "application/vnd.google.colaboratory.intrinsic+json": {
              "type": "string"
            },
            "text/plain": [
              "'#APeekIntoTheMarkets #AAPL A Peek Into The Markets: US Stock Futures Edge Higher Ahead Of Economic Data, Fed Speake… https://t.co/kp58b9NisR'"
            ]
          },
          "metadata": {
            "tags": []
          },
          "execution_count": 10
        }
      ]
    },
    {
      "cell_type": "code",
      "metadata": {
        "id": "TAJjvPhF1NI8",
        "colab": {
          "base_uri": "https://localhost:8080/",
          "height": 37
        },
        "outputId": "0c7a12ba-9f64-4f0a-90b8-52e548cbbfa7"
      },
      "source": [
        "cleaned_tweets[0]"
      ],
      "execution_count": null,
      "outputs": [
        {
          "output_type": "execute_result",
          "data": {
            "application/vnd.google.colaboratory.intrinsic+json": {
              "type": "string"
            },
            "text/plain": [
              "'APeekIntoTheMarkets AAPL A Peek Into The Markets US Stock Futures Edge Higher Ahead Of Economic Data Fed Speake'"
            ]
          },
          "metadata": {
            "tags": []
          },
          "execution_count": 11
        }
      ]
    },
    {
      "cell_type": "code",
      "metadata": {
        "id": "u3F7KqXoiaFn"
      },
      "source": [
        "#cleaned_tweets"
      ],
      "execution_count": null,
      "outputs": []
    },
    {
      "cell_type": "markdown",
      "metadata": {
        "id": "Roa1hjNQqBUJ"
      },
      "source": [
        "Analyze Sentiments in tweets"
      ]
    },
    {
      "cell_type": "code",
      "metadata": {
        "id": "ZetnCYEnueUI",
        "colab": {
          "base_uri": "https://localhost:8080/",
          "height": 34
        },
        "outputId": "cd5027ab-0ec8-4030-fab6-e28de97820d4"
      },
      "source": [
        "#using vader sentiment analysis\n",
        "analyser = SentimentIntensityAnalyzer()\n",
        "analyser.polarity_scores(cleaned_tweets[0])\n"
      ],
      "execution_count": null,
      "outputs": [
        {
          "output_type": "execute_result",
          "data": {
            "text/plain": [
              "{'compound': 0.0, 'neg': 0.0, 'neu': 1.0, 'pos': 0.0}"
            ]
          },
          "metadata": {
            "tags": []
          },
          "execution_count": 15
        }
      ]
    },
    {
      "cell_type": "markdown",
      "metadata": {
        "id": "0XrZEOcXu52O"
      },
      "source": [
        ""
      ]
    },
    {
      "cell_type": "code",
      "metadata": {
        "id": "Rf1qc6Biiy3i"
      },
      "source": [
        "# create textblob objects for tweets\n",
        "sentiment_objects=[TextBlob(tweet) for tweet in cleaned_tweets]\n",
        "# VADER sentiment \n",
        "analyser = SentimentIntensityAnalyzer()\n",
        "# create list of polarity values and tweet text\n",
        "sentiment_values=[[str(tweet),tweet.sentiment.polarity, analyser.polarity_scores(str(tweet))['compound']] for tweet in sentiment_objects]\n",
        "\n",
        "# create df\n",
        "sentiment_df=pd.DataFrame(sentiment_values,columns=['tweet','polarity_textblob','polarity_vader'])\n"
      ],
      "execution_count": null,
      "outputs": []
    },
    {
      "cell_type": "code",
      "metadata": {
        "id": "E4W242odvsSi",
        "colab": {
          "base_uri": "https://localhost:8080/",
          "height": 359
        },
        "outputId": "77afc969-4f30-4fdf-a276-75546386d4b4"
      },
      "source": [
        "sentiment_df"
      ],
      "execution_count": null,
      "outputs": [
        {
          "output_type": "execute_result",
          "data": {
            "text/html": [
              "<div>\n",
              "<style scoped>\n",
              "    .dataframe tbody tr th:only-of-type {\n",
              "        vertical-align: middle;\n",
              "    }\n",
              "\n",
              "    .dataframe tbody tr th {\n",
              "        vertical-align: top;\n",
              "    }\n",
              "\n",
              "    .dataframe thead th {\n",
              "        text-align: right;\n",
              "    }\n",
              "</style>\n",
              "<table border=\"1\" class=\"dataframe\">\n",
              "  <thead>\n",
              "    <tr style=\"text-align: right;\">\n",
              "      <th></th>\n",
              "      <th>tweet</th>\n",
              "      <th>polarity_textblob</th>\n",
              "      <th>polarity_vader</th>\n",
              "    </tr>\n",
              "  </thead>\n",
              "  <tbody>\n",
              "    <tr>\n",
              "      <th>0</th>\n",
              "      <td>APeekIntoTheMarkets AAPL A Peek Into The Marke...</td>\n",
              "      <td>0.225000</td>\n",
              "      <td>0.0000</td>\n",
              "    </tr>\n",
              "    <tr>\n",
              "      <th>1</th>\n",
              "      <td>AAPL AAPL that applefitnessplus bundle just ma...</td>\n",
              "      <td>-0.200000</td>\n",
              "      <td>0.4019</td>\n",
              "    </tr>\n",
              "    <tr>\n",
              "      <th>2</th>\n",
              "      <td>NASDAQ dropped to its worst in 5 days as inves...</td>\n",
              "      <td>-1.000000</td>\n",
              "      <td>-0.5267</td>\n",
              "    </tr>\n",
              "    <tr>\n",
              "      <th>3</th>\n",
              "      <td>AAPL BillGates Is Elon Musk The New Steve Jobs...</td>\n",
              "      <td>0.136364</td>\n",
              "      <td>-0.2960</td>\n",
              "    </tr>\n",
              "    <tr>\n",
              "      <th>4</th>\n",
              "      <td>I currently have positions in AAPL nvda HomeDe...</td>\n",
              "      <td>0.000000</td>\n",
              "      <td>-0.1027</td>\n",
              "    </tr>\n",
              "    <tr>\n",
              "      <th>5</th>\n",
              "      <td>Here are some stocks in the Dow Jones near or ...</td>\n",
              "      <td>0.100000</td>\n",
              "      <td>0.2023</td>\n",
              "    </tr>\n",
              "    <tr>\n",
              "      <th>6</th>\n",
              "      <td>Trending alts blueprotocol Low total supply to...</td>\n",
              "      <td>0.000000</td>\n",
              "      <td>-0.4019</td>\n",
              "    </tr>\n",
              "    <tr>\n",
              "      <th>7</th>\n",
              "      <td>AAPL cloudcomputingsoftwareasaservice Salesfor...</td>\n",
              "      <td>0.000000</td>\n",
              "      <td>-0.3400</td>\n",
              "    </tr>\n",
              "    <tr>\n",
              "      <th>8</th>\n",
              "      <td>After 20 years will launch its online store in...</td>\n",
              "      <td>0.000000</td>\n",
              "      <td>0.0000</td>\n",
              "    </tr>\n",
              "    <tr>\n",
              "      <th>9</th>\n",
              "      <td>tomorrow morning will be beautiful tsla aapl spy</td>\n",
              "      <td>0.850000</td>\n",
              "      <td>0.5994</td>\n",
              "    </tr>\n",
              "  </tbody>\n",
              "</table>\n",
              "</div>"
            ],
            "text/plain": [
              "                                               tweet  ...  polarity_vader\n",
              "0  APeekIntoTheMarkets AAPL A Peek Into The Marke...  ...          0.0000\n",
              "1  AAPL AAPL that applefitnessplus bundle just ma...  ...          0.4019\n",
              "2  NASDAQ dropped to its worst in 5 days as inves...  ...         -0.5267\n",
              "3  AAPL BillGates Is Elon Musk The New Steve Jobs...  ...         -0.2960\n",
              "4  I currently have positions in AAPL nvda HomeDe...  ...         -0.1027\n",
              "5  Here are some stocks in the Dow Jones near or ...  ...          0.2023\n",
              "6  Trending alts blueprotocol Low total supply to...  ...         -0.4019\n",
              "7  AAPL cloudcomputingsoftwareasaservice Salesfor...  ...         -0.3400\n",
              "8  After 20 years will launch its online store in...  ...          0.0000\n",
              "9   tomorrow morning will be beautiful tsla aapl spy  ...          0.5994\n",
              "\n",
              "[10 rows x 3 columns]"
            ]
          },
          "metadata": {
            "tags": []
          },
          "execution_count": 17
        }
      ]
    },
    {
      "cell_type": "code",
      "metadata": {
        "id": "da_D9UbDsk6r",
        "colab": {
          "base_uri": "https://localhost:8080/",
          "height": 37
        },
        "outputId": "b7649566-3d91-4557-cc96-c0f62c9a2474"
      },
      "source": [
        "cleaned_tweets[6]"
      ],
      "execution_count": null,
      "outputs": [
        {
          "output_type": "execute_result",
          "data": {
            "application/vnd.google.colaboratory.intrinsic+json": {
              "type": "string"
            },
            "text/plain": [
              "'Trending alts blueprotocol Low total supply token only 42mil just got listed in uniswap don t miss the train'"
            ]
          },
          "metadata": {
            "tags": []
          },
          "execution_count": 18
        }
      ]
    },
    {
      "cell_type": "markdown",
      "metadata": {
        "id": "MjwfF2C0qsJx"
      },
      "source": [
        "* Pull tweets every one hour assign time \n",
        "* correlated with lagged index\n"
      ]
    },
    {
      "cell_type": "code",
      "metadata": {
        "id": "3CS-LUp4t7hY",
        "colab": {
          "base_uri": "https://localhost:8080/",
          "height": 374
        },
        "outputId": "821b7292-322f-4542-f775-37d861615cef"
      },
      "source": [
        "# Remove polarity values equal to zero\n",
        "sentiment_df_1 = sentiment_df['polarity_textblob'][sentiment_df.polarity_textblob != 0]\n",
        "fig, ax = plt.subplots(figsize=(8, 6))\n",
        "\n",
        "# Plot histogram with break at zero\n",
        "sentiment_df_1.hist(\n",
        "             ax=ax,\n",
        "             color=\"purple\")\n",
        "\n",
        "#plt.title(\"Sentiments from Tweets on AAPL\")\n",
        "plt.show()"
      ],
      "execution_count": null,
      "outputs": [
        {
          "output_type": "display_data",
          "data": {
            "image/png": "[encoded data removed]",
            "text/plain": [
              "<Figure size 576x432 with 1 Axes>"
            ]
          },
          "metadata": {
            "tags": [],
            "needs_background": "dark"
          }
        }
      ]
    },
    {
      "cell_type": "code",
      "metadata": {
        "id": "bMpiKTWRxbwv",
        "colab": {
          "base_uri": "https://localhost:8080/",
          "height": 374
        },
        "outputId": "dc0ac0f5-3193-472a-a852-64a1633d1dd5"
      },
      "source": [
        "# Remove polarity values equal to zero\n",
        "sentiment_df_1 = sentiment_df['polarity_vader'][sentiment_df.polarity_vader != 0]\n",
        "fig, ax = plt.subplots(figsize=(8, 6))\n",
        "\n",
        "# Plot histogram with break at zero\n",
        "sentiment_df_1.hist(\n",
        "             ax=ax,\n",
        "             color=\"purple\")\n",
        "\n",
        "#plt.title(\"Sentiments from Tweets on AAPL\")\n",
        "plt.show()"
      ],
      "execution_count": null,
      "outputs": [
        {
          "output_type": "display_data",
          "data": {
            "image/png": "[encoded data removed]",
            "text/plain": [
              "<Figure size 576x432 with 1 Axes>"
            ]
          },
          "metadata": {
            "tags": [],
            "needs_background": "dark"
          }
        }
      ]
    },
    {
      "cell_type": "code",
      "metadata": {
        "id": "miDjBwpqzZHz"
      },
      "source": [
        ""
      ],
      "execution_count": null,
      "outputs": []
    }
  ]
}